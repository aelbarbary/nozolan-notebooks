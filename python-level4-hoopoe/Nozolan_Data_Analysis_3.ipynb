{
 "cells": [
  {
   "cell_type": "markdown",
   "id": "fb6d32ef",
   "metadata": {},
   "source": [
    "## Recap on last session (Organizing and Cleaning Data)\n",
    "- Here’s a code snippet from the last session — but it has a few hidden mistakes. Can you find and fix them?"
   ]
  },
  {
   "cell_type": "code",
   "execution_count": 19,
   "id": "9bf8cabb",
   "metadata": {},
   "outputs": [],
   "source": [
    "# Create the data with a dictionary\n",
    "data = {\n",
    "    \"Country\": [\"Egypt\", \"Saudi Arabia\", \"Indonesia\", \"Pakistan\", \"Turkey\", \"Malaysia\", \"Egypt\", \"Morocco\"],\n",
    "    \"Population\": [104.12, 35.01, 273.52, 220.89, None, 32.37, 36.91, 104.12, 206.14],\n",
    "    \"Area\": [1002, 2149, 1913, 881, 783.6, 330.8, 446.6, 1002, 923.8]\n",
    "}"
   ]
  },
  {
   "cell_type": "code",
   "execution_count": null,
   "id": "8e41be8d",
   "metadata": {},
   "outputs": [],
   "source": [
    "# turn the dictionary into a dataframe\n",
    "import pandas as pd\n",
    "islamic_countries_df = pd.DataFrame(data)\n",
    "\n",
    "# instructor note: there is a missing value in the Country.. add \"Nigeria\" at the end."
   ]
  },
  {
   "cell_type": "code",
   "execution_count": null,
   "id": "c653c694",
   "metadata": {},
   "outputs": [],
   "source": [
    "# Remove the duplicated rows\n",
    "islamic_countries_df.drop_duplicate(inplace=True)\n",
    "\n",
    "# instructor note: add the \"s\" .. (drop_duplicate) --> (.drop_duplicates)"
   ]
  },
  {
   "cell_type": "code",
   "execution_count": 15,
   "id": "68865589",
   "metadata": {},
   "outputs": [],
   "source": [
    "# Add the missing value for the Population of Turkey\n",
    "islamic_countries_df.loc[islamic_countries_df[\"Country\"] == \"Turkey\"] = 85.04 \n",
    "\n",
    "# instructor note: this will change all the values in that row!! \n",
    "# --> specify the \"Population\" column to be edited\n",
    "# --> islamic_countries_df.loc[islamic_countries_df[\"Country\"] == \"Turkey\", \"Population\"] = 85.04 "
   ]
  },
  {
   "cell_type": "code",
   "execution_count": 16,
   "id": "87ea60f9",
   "metadata": {},
   "outputs": [
    {
     "name": "stdout",
     "output_type": "stream",
     "text": [
      "        Country  Population     Area\n",
      "0         Egypt      104.12  1002.00\n",
      "1  Saudi Arabia       35.01  2149.00\n",
      "2     Indonesia      273.52  1913.00\n",
      "3      Pakistan      220.89   881.00\n",
      "4         85.04       85.04    85.04\n",
      "5         Egypt       32.37   330.80\n",
      "6      Malaysia       36.91   446.60\n",
      "7       Morocco      206.14   923.80\n"
     ]
    }
   ],
   "source": [
    "print(islamic_countries_df)"
   ]
  },
  {
   "cell_type": "markdown",
   "id": "96fd270c",
   "metadata": {},
   "source": [
    "*******\n",
    "*******\n",
    "# Session 3: Exploring Data - Discovering Stories Within Numbers\n",
    "<img src=\"3 data exploration.png\" alt=\"Drawing\" style=\"width: 800px;\"/>\n",
    "\n",
    "*******\n",
    "*******"
   ]
  },
  {
   "cell_type": "markdown",
   "id": "0c542330",
   "metadata": {},
   "source": [
    "## `1- Exploring Our Dataset`\n",
    "\n",
    "`We’ll explore a dataset about Islamic Scientists and Their Discoveries. Let’s see what stories we can uncover!`"
   ]
  },
  {
   "cell_type": "markdown",
   "id": "b6ae45d2",
   "metadata": {},
   "source": [
    "> #### 1.1 Import Necessary Libraries\n",
    "- Here we will import important libraries `[pandas - numpy]` which will help us **deal with tapular data** better. \n",
    "- Also import `[matplotlib]` to be able to **visualize this data** later."
   ]
  },
  {
   "cell_type": "code",
   "execution_count": 1,
   "id": "88c498a9",
   "metadata": {},
   "outputs": [],
   "source": [
    "import pandas as pd\n",
    "import matplotlib.pyplot as plt"
   ]
  },
  {
   "cell_type": "markdown",
   "id": "7ed77e68",
   "metadata": {},
   "source": [
    "> #### 1.2 Create the dataset\n",
    "- Let’s create a dictionary with information about great Muslim scientists and their amazing discoveries! \n",
    "- It will include their names, fields of contribution, discoveries, and years of the discovery."
   ]
  },
  {
   "cell_type": "code",
   "execution_count": 2,
   "id": "9bcfde29",
   "metadata": {},
   "outputs": [],
   "source": [
    "data = {\n",
    "    \"Scientist\": [\"Al-Zahrawi\", \"Ibn Sina\", \"Al-Khwarizmi\", \"Al-Battani\", \"Ibn Al-Haytham\", \"Al-Farabi\", \"Ibn Rushd\", \"Al-Razi\", \"Ibn Khaldun\", \"Ibn Al-Nafis\"],\n",
    "    \n",
    "    \"Field\": [\"Medicine\", \"Philosophy\", \"Mathematics\", \"Astronomy\", \"Optics\", \"Music\", \"Philosophy\", \"Chemistry\", \"Sociology\", \"Medicine\"],\n",
    "    \n",
    "    \"Discovery\": [\"Surgical Tools\", \"Canon of Medicine\", \"Algebra\", \"Astronomical Tables\", \"Camera Obscura\", \"Musical Notation\", \"Aristotelian Philosophy\", \"Distillation\", \"Historical Analysis\", \"Pulmonary Circulation\"],\n",
    "   \n",
    "    \"Year\": [1000, 980, 830, 877, 1021, 872, 1126, 865, 1332, 1242]\n",
    "}"
   ]
  },
  {
   "cell_type": "markdown",
   "id": "51ba07f2",
   "metadata": {},
   "source": [
    "> #### 1.3 Transform the dataset from `dictionary` to `dataframe`\n",
    "- The Pandas library will be used to do this."
   ]
  },
  {
   "cell_type": "code",
   "execution_count": 3,
   "id": "2e14e01a",
   "metadata": {},
   "outputs": [],
   "source": [
    "scientists_df = pd.DataFrame(data)"
   ]
  },
  {
   "cell_type": "markdown",
   "id": "0aad84b6",
   "metadata": {},
   "source": [
    "> #### 1.4 View the new dataset `dataframe`\n",
    "- The print() statement will be used to do this."
   ]
  },
  {
   "cell_type": "code",
   "execution_count": 4,
   "id": "ffa17cc6",
   "metadata": {},
   "outputs": [
    {
     "name": "stdout",
     "output_type": "stream",
     "text": [
      "        Scientist        Field                Discovery  Year\n",
      "0      Al-Zahrawi     Medicine           Surgical Tools  1000\n",
      "1        Ibn Sina   Philosophy        Canon of Medicine   980\n",
      "2    Al-Khwarizmi  Mathematics                  Algebra   830\n",
      "3      Al-Battani    Astronomy      Astronomical Tables   877\n",
      "4  Ibn Al-Haytham       Optics           Camera Obscura  1021\n",
      "5       Al-Farabi        Music         Musical Notation   872\n",
      "6       Ibn Rushd   Philosophy  Aristotelian Philosophy  1126\n",
      "7         Al-Razi    Chemistry             Distillation   865\n",
      "8     Ibn Khaldun    Sociology      Historical Analysis  1332\n",
      "9    Ibn Al-Nafis     Medicine    Pulmonary Circulation  1242\n"
     ]
    }
   ],
   "source": [
    "print(scientists_df)"
   ]
  },
  {
   "cell_type": "markdown",
   "id": "77647ae0",
   "metadata": {},
   "source": [
    "*******\n",
    "*******\n",
    "## `2- let's answer some questions through exploring our dataset`\n",
    "\n",
    "   `1- How many scientists are in our dataset?`\n",
    "\n",
    "   `2- Which field has the most contributions?`\n",
    "\n",
    "   `3- What’s the oldest discovery?`\n",
    "\n",
    "   `4- Which discovery is the most recent?`"
   ]
  },
  {
   "cell_type": "markdown",
   "id": "4e5e3f5f",
   "metadata": {},
   "source": [
    "> #### 2.1 How many scientists are in our dataset?\n",
    "- We can use the len() function to find out the total number of scientists in our dataset."
   ]
  },
  {
   "cell_type": "code",
   "execution_count": 5,
   "id": "666ef0df",
   "metadata": {
    "scrolled": true
   },
   "outputs": [
    {
     "name": "stdout",
     "output_type": "stream",
     "text": [
      "Scientists: 10\n"
     ]
    }
   ],
   "source": [
    "number = len(scientists_df)\n",
    "\n",
    "print(f\"Scientists: {number}\")"
   ]
  },
  {
   "cell_type": "markdown",
   "id": "daa50a20",
   "metadata": {},
   "source": [
    "> #### 2.2 Which field has the most contributions?\n",
    "- We will use the value_counts() method to find out the total count of each field in our dataset."
   ]
  },
  {
   "cell_type": "code",
   "execution_count": 6,
   "id": "ed2e12a2",
   "metadata": {},
   "outputs": [
    {
     "data": {
      "text/plain": [
       "Medicine       2\n",
       "Philosophy     2\n",
       "Mathematics    1\n",
       "Astronomy      1\n",
       "Optics         1\n",
       "Music          1\n",
       "Chemistry      1\n",
       "Sociology      1\n",
       "Name: Field, dtype: int64"
      ]
     },
     "execution_count": 6,
     "metadata": {},
     "output_type": "execute_result"
    }
   ],
   "source": [
    "scientists_df['Field'].value_counts()"
   ]
  },
  {
   "cell_type": "code",
   "execution_count": 7,
   "id": "26e5c61c",
   "metadata": {},
   "outputs": [
    {
     "name": "stdout",
     "output_type": "stream",
     "text": [
      "top field: Medicine\n"
     ]
    }
   ],
   "source": [
    "most_contrib_field = scientists_df['Field'].value_counts().idxmax()\n",
    "\n",
    "print(f\"top field: {most_contrib_field}\")"
   ]
  },
  {
   "cell_type": "markdown",
   "id": "36f1857d",
   "metadata": {},
   "source": [
    "- **df['Field']:** This selects the \"Field\" column in your DataFrame.\n",
    "<br>\n",
    "\n",
    "- **value_counts():** Counts the occurrences of each unique value in the \"Field\" column.\n",
    "<br>\n",
    "- **idxmax():** Returns the index (field) that has the highest count."
   ]
  },
  {
   "cell_type": "markdown",
   "id": "015cba14",
   "metadata": {},
   "source": [
    "> #### 2.3 What’s the oldest discovery?\n",
    "- We will use the value_counts() method to find out the total count of each field in our dataset."
   ]
  },
  {
   "cell_type": "code",
   "execution_count": 8,
   "id": "e07c0a81",
   "metadata": {},
   "outputs": [
    {
     "name": "stdout",
     "output_type": "stream",
     "text": [
      "Oldest Discovery: Algebra\n"
     ]
    }
   ],
   "source": [
    "oldest = scientists_df.loc[scientists_df['Year'].idxmin(), 'Discovery']\n",
    "\n",
    "print(f\"Oldest Discovery: {oldest}\")"
   ]
  },
  {
   "cell_type": "markdown",
   "id": "47c0cdf1",
   "metadata": {},
   "source": [
    "- **scientists_df['Year']:** This selects the \"Year\" column in the scientists_df DataFrame, which contains the years of discovery for each scientist.\n",
    "<br>\n",
    "\n",
    "- **idxmin():** idxmin() returns the index (position) of the minimum value in the \"Year\" column, which means it will give you the row where the earliest year (oldest) is located. In this context, it's finding the scientist with the oldest discovery year.\n",
    "<br>\n",
    "- **scientists_df.loc[...]:** loc[] is used to select specific rows and columns in the DataFrame. It takes two arguments: the row index (in this case, the index found by idxmin()) and the column(s) you want to access (here, 'Discovery').\n",
    "<br>\n",
    "- **'Discovery':** This specifies the column from which to retrieve the data, in this case, the \"Discovery\" column. After identifying the index of the earliest year, .loc[] fetches the corresponding discovery for that scientist."
   ]
  },
  {
   "cell_type": "markdown",
   "id": "52ddcacb",
   "metadata": {},
   "source": [
    "> #### 2.4 Which discovery is the most recent?\n",
    "- Take a moment to think... Can you find what is the most recent discovery?"
   ]
  },
  {
   "cell_type": "code",
   "execution_count": 9,
   "id": "e9bf060d",
   "metadata": {},
   "outputs": [
    {
     "name": "stdout",
     "output_type": "stream",
     "text": [
      "Most Recent Discovery: Historical Analysis\n"
     ]
    }
   ],
   "source": [
    "\n",
    "\n",
    "# recent = scientists_df.loc[scientists_df['Year'].idxmax(), 'Discovery']\n",
    "# print(f\"Most Recent Discovery: {recent}\")"
   ]
  },
  {
   "cell_type": "markdown",
   "id": "cc7e495e",
   "metadata": {},
   "source": [
    "*******\n",
    "*******\n",
    "\n",
    "## `3- Adding New Insights`\n",
    "\n",
    "   `Let’s make things even more exciting by adding a brand new column to our dataset that will supercharge our analysis!`\n",
    "\n",
    "Let’s calculate how many years have passed since each discovery."
   ]
  },
  {
   "cell_type": "markdown",
   "id": "7cea4bd0",
   "metadata": {},
   "source": [
    "> #### 3.1 Let’s figure out how many years have passed since each discovery!\n",
    "- We’ll calculate the years since each discovery .. then add the results to our new column."
   ]
  },
  {
   "cell_type": "code",
   "execution_count": 10,
   "id": "846e4a8f",
   "metadata": {},
   "outputs": [
    {
     "name": "stdout",
     "output_type": "stream",
     "text": [
      "        Scientist        Field                Discovery  Year  Years Since\n",
      "0      Al-Zahrawi     Medicine           Surgical Tools  1000         1025\n",
      "1        Ibn Sina   Philosophy        Canon of Medicine   980         1045\n",
      "2    Al-Khwarizmi  Mathematics                  Algebra   830         1195\n",
      "3      Al-Battani    Astronomy      Astronomical Tables   877         1148\n",
      "4  Ibn Al-Haytham       Optics           Camera Obscura  1021         1004\n",
      "5       Al-Farabi        Music         Musical Notation   872         1153\n",
      "6       Ibn Rushd   Philosophy  Aristotelian Philosophy  1126          899\n",
      "7         Al-Razi    Chemistry             Distillation   865         1160\n",
      "8     Ibn Khaldun    Sociology      Historical Analysis  1332          693\n",
      "9    Ibn Al-Nafis     Medicine    Pulmonary Circulation  1242          783\n"
     ]
    }
   ],
   "source": [
    "scientists_df[\"Years Since\"] = 2025 - scientists_df[\"Year\"]\n",
    "\n",
    "print(scientists_df)"
   ]
  },
  {
   "cell_type": "markdown",
   "id": "8925d414",
   "metadata": {},
   "source": [
    "- **scientists_df[\"Year\"]:** This selects the \"Year\" column in the scientists_df DataFrame, which contains the year each scientist made their discovery.\n",
    "<br>\n",
    "\n",
    "- **2025 - scientists_df[\"Year\"]:** This subtracts the \"Year\" (discovery year) from 2025, which tells us how many years have passed since that discovery. For example, if a discovery was made in 1900, the result would be 2025 - 1900 = 125 years since the discovery.\n",
    "<br>\n",
    "- **scientists_df[\"Years Since\"] = ...:** This creates a new column in the DataFrame called \"Years Since\" and assigns the calculated number of years since each discovery."
   ]
  },
  {
   "cell_type": "markdown",
   "id": "ad2bcf6b",
   "metadata": {},
   "source": [
    "******\n",
    "******\n",
    "## `4- Visualization: Bar Chart vs. Histogram 📊`\n",
    "\n",
    "`Let’s create a Histogram to see which year ranges have the most discoveries! It’s going to be fun to see the patterns!`"
   ]
  },
  {
   "cell_type": "code",
   "execution_count": 11,
   "id": "689624f5",
   "metadata": {
    "scrolled": false
   },
   "outputs": [
    {
     "data": {
      "image/png": "[encoded data removed]",
      "text/plain": [
       "<Figure size 640x480 with 1 Axes>"
      ]
     },
     "metadata": {},
     "output_type": "display_data"
    }
   ],
   "source": [
    "# Set the chart type to Histogram.\n",
    "# Use the (Year) column for the x-axis (horizontal)\n",
    "# bins=10: --> Divides the years into 10 groups (bins).\n",
    "# edgecolor='black' --> Adds black borders to the bars for clarity.\n",
    "plt.hist(scientists_df['Year'], bins=10, edgecolor='black')\n",
    "\n",
    "# Now, let’s add a title to the entire bar chart to describe what it shows.\n",
    "plt.title(\"Distribution of Discoveries by Year\")\n",
    "\n",
    "# Set a label for the x-axis to describe the Countries.\n",
    "# Set a label for the y-axis to represent the Population in Millions.plt.xlabel(\"Year\")\n",
    "plt.ylabel(\"Frequency\")\n",
    "\n",
    "# Finally, show the chart.\n",
    "plt.show()"
   ]
  },
  {
   "cell_type": "markdown",
   "id": "b09865b9",
   "metadata": {},
   "source": [
    "- **bins=10:** This divides the data into 10 intervals (bins). Each bin will represent a range of years, and the histogram will show how many discoveries fall into each range. You can adjust the number of bins to change the width of the year ranges."
   ]
  },
  {
   "cell_type": "markdown",
   "id": "08e93264",
   "metadata": {},
   "source": [
    "******\n",
    "******\n",
    "# 📚 Reflection\n",
    "\n",
    "`Today, we learned that:`\n",
    "\n",
    ">Data exploration helps uncover hidden stories in numbers.\n",
    "\n",
    ">Asking the right questions leads to meaningful insights.\n",
    "\n",
    ">Visualizing data makes it easier to understand patterns and trends.\n",
    "\n",
    "`Think About It:`\n",
    "\n",
    ">Why is it important to explore data before making decisions?\n",
    "\n",
    ">How can exploring data help us in our daily lives?\n",
    "\n",
    ">What new questions would you ask if you had more data?"
   ]
  },
  {
   "cell_type": "markdown",
   "id": "0adf4749",
   "metadata": {},
   "source": [
    "******\n",
    "******\n",
    "# 📝 Quiz Time! (Multiple Choice Questions)\n",
    "\n",
    "1. Which scientist is known for Algebra?<br>\n",
    "    `A) Ibn Sina`<br>\n",
    "    `B) Al-Zahrawi`<br>\n",
    "    `C) Al-Khwarizmi`<br>\n",
    "    `D) Al-Razi`<br><br>\n",
    "\n",
    "2. What is the oldest discovery in our dataset?<br>\n",
    "    `A) Surgical Tools`<br>\n",
    "    `B) Algebra`<br>\n",
    "    `C) Pulmonary Circulation`<br>\n",
    "    `D) Canon of Medicine`<br><br>\n",
    "\n",
    "3. Why is data exploration important?<br>\n",
    "    `A) It helps us visualize data`<br>\n",
    "    `B) It uncovers hidden patterns`<br>\n",
    "    `C) It makes data more colorful`<br>\n",
    "    `D) It’s not important`<br><br>\n",
    "\n",
    "4. Which field has the most contributions in our dataset?<br>\n",
    "    `A) Medicine`<br>\n",
    "    `B) Mathematics`<br>\n",
    "    `C) Philosophy`<br>\n",
    "    `D) Astronomy`<br><br>\n",
    "\n",
    "5. What type of chart shows the distribution of data over time?<br>\n",
    "    `A) Bar Chart`<br>\n",
    "    `B) Pie Chart`<br>\n",
    "    `C) Line Chart`<br>\n",
    "    `D) Histogram`"
   ]
  },
  {
   "cell_type": "markdown",
   "id": "5270b0c9",
   "metadata": {},
   "source": [
    "******\n",
    "******\n",
    "# 🏡 Homework\n",
    " Explore a New Dataset!\n",
    "\n",
    "1. **Find/create a dataset** on a topic you love (e.g., animals, sports, history). \n",
    "<br>\n",
    "\n",
    "2. **Ask three questions** you’d like to answer using the data.\n",
    "<br>\n",
    "3. **Create a bar chart and a histogram** to visualize your findings.\n",
    "<br>\n",
    "4. **Share your insights** with your classmates!"
   ]
  }
 ],
 "metadata": {
  "kernelspec": {
   "display_name": "Python 3 (ipykernel)",
   "language": "python",
   "name": "python3"
  },
  "language_info": {
   "codemirror_mode": {
    "name": "ipython",
    "version": 3
   },
   "file_extension": ".py",
   "mimetype": "text/x-python",
   "name": "python",
   "nbconvert_exporter": "python",
   "pygments_lexer": "ipython3",
   "version": "3.11.4"
  }
 },
 "nbformat": 4,
 "nbformat_minor": 5
}
