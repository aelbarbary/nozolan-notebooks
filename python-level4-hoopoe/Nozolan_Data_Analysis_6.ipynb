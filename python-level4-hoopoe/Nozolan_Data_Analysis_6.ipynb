{
 "cells": [
  {
   "cell_type": "markdown",
   "id": "bd2e2c6a",
   "metadata": {},
   "source": [
    "## Recap on last session (Advanced Data Analysis)\n",
    "- Here’s a code snippet from the last session — but it has a few hidden mistakes. Can you find and fix them?"
   ]
  },
  {
   "cell_type": "markdown",
   "id": "236b9291",
   "metadata": {},
   "source": [
    "> #### 0.1 Grouping data\n",
    "- group donations by country and sum them up to see totals!"
   ]
  },
  {
   "cell_type": "code",
   "execution_count": 2,
   "id": "47a3e8ef",
   "metadata": {},
   "outputs": [],
   "source": [
    "# create a dictionary with our data.\n",
    "zakat_data = {\n",
    "    \"Country\": [\"Yemen\", \"Somalia\", \"Bangladesh\", \"Yemen\", \"Somalia\", \"Bangladesh\"],\n",
    "    \"Year\": [2020, 2020, 2020, 2023, 2023, 2023],\n",
    "    \"Zakat Collected (USD)\": [50000, 30000, 80000, 75000, 45000, 120000]\n",
    "}"
   ]
  },
  {
   "cell_type": "code",
   "execution_count": 9,
   "id": "3e2827e6",
   "metadata": {},
   "outputs": [
    {
     "name": "stdout",
     "output_type": "stream",
     "text": [
      "      Country  Year  Zakat Collected (USD)\n",
      "0       Yemen  2020                  50000\n",
      "1     Somalia  2020                  30000\n",
      "2  Bangladesh  2020                  80000\n",
      "3       Yemen  2023                  75000\n",
      "4     Somalia  2023                  45000\n",
      "5  Bangladesh  2023                 120000\n"
     ]
    }
   ],
   "source": [
    "# turn the dictionary into a dataframe\n",
    "import pandas as pd\n",
    "import matplotlib.pyplot as plt\n",
    "\n",
    "zakat_df = pd.DataFrame(zakat_data)\n",
    "\n",
    "print(zakat_df)"
   ]
  },
  {
   "cell_type": "code",
   "execution_count": 23,
   "id": "df5c4b76",
   "metadata": {},
   "outputs": [],
   "source": [
    "# Group donations by country and calculate totals\n",
    "grouped = zakat_df.groupby(\"Country\")[\"Zakat Collected (USD)\"]\n",
    "\n",
    "# instructor note: zakat_df.groupby(\"Country\")[\"Zakat Collected (USD)\"].sum().reset_index()"
   ]
  },
  {
   "cell_type": "code",
   "execution_count": 24,
   "id": "acca8268",
   "metadata": {},
   "outputs": [
    {
     "name": "stdout",
     "output_type": "stream",
     "text": [
      "      Country  Zakat Collected (USD)\n",
      "0  Bangladesh                 200000\n",
      "1     Somalia                  75000\n",
      "2       Yemen                 125000\n"
     ]
    }
   ],
   "source": [
    "# Let's verify what we have got after grouping the data.\n",
    "print(grouped)"
   ]
  },
  {
   "cell_type": "markdown",
   "id": "0e1f936b",
   "metadata": {},
   "source": [
    "> #### 0.2 Grouping data\n",
    "- Does fasting hours correlate with latitude?"
   ]
  },
  {
   "cell_type": "code",
   "execution_count": 12,
   "id": "ee69f21b",
   "metadata": {},
   "outputs": [],
   "source": [
    "ramadan_data = {\n",
    "    \"City\": [\"Makkah\", \"Jakarta\", \"Istanbul\", \"London\", \"Cape Town\"],\n",
    "    \"Fasting Hours\": [14, 13, 15, 17, 12],\n",
    "    \"Latitude\": [21.4, -6.2, 41.0, 51.5, -33.9]  # Latitude values in degrees\n",
    "}"
   ]
  },
  {
   "cell_type": "code",
   "execution_count": 13,
   "id": "a1156b8f",
   "metadata": {},
   "outputs": [
    {
     "name": "stdout",
     "output_type": "stream",
     "text": [
      "        City  Fasting Hours  Latitude\n",
      "0     Makkah             14      21.4\n",
      "1    Jakarta             13      -6.2\n",
      "2   Istanbul             15      41.0\n",
      "3     London             17      51.5\n",
      "4  Cape Town             12     -33.9\n"
     ]
    }
   ],
   "source": [
    "# convert the dictionary into a pandas DataFrame.\n",
    "ramadan_df = pd.DataFrame(ramadan_data)\n",
    "print(ramadan_df)"
   ]
  },
  {
   "cell_type": "code",
   "execution_count": 26,
   "id": "7b4e1cd7",
   "metadata": {},
   "outputs": [
    {
     "data": {
      "image/png": "[encoded data removed]",
      "text/plain": [
       "<Figure size 500x300 with 1 Axes>"
      ]
     },
     "metadata": {},
     "output_type": "display_data"
    }
   ],
   "source": [
    "plt.figure(figsize=(5, 3))\n",
    "plt._______(ramadan_df[\"Latitude\"], ramadan_df[\"Fasting Hours\"], s=50, c=\"purple\", alpha=0.8)\n",
    "plt.title(\"Fasting Hours vs. Latitude\", fontsize=10)\n",
    "plt.xlabel(\"Latitude (Degrees)\", fontsize=9)\n",
    "plt.ylabel(\"Fasting Hours\", fontsize=9)\n",
    "plt.grid(True, linestyle=\"--\")\n",
    "plt.show()\n",
    "\n",
    "# instructor note: plt.scatter"
   ]
  },
  {
   "cell_type": "markdown",
   "id": "69fdb45b",
   "metadata": {},
   "source": [
    "*******\n",
    "*******\n",
    "# Session 6: Islamic Microfinance Impact Analysis – Lifting Communities with Data\n",
    "<img src=\"6 Final project.jpg\" alt=\"Drawing\" style=\"width: 800px;\"/>\n",
    "\n",
    "*******\n",
    "*******"
   ]
  },
  {
   "cell_type": "markdown",
   "id": "0ed69a82",
   "metadata": {},
   "source": [
    "## `1- Introduction to the Dataset`\n",
    "\n",
    "`In this session, we’ll analyze how Islamic microfinance (interest-free loans) lifts Muslim communities out of poverty.`\n",
    "\n",
    "`Let’s make a real-world impact with data!` <br>\n",
    "\n",
    "\n",
    "**🌍 Where Do the Funds Come From?**\n",
    "**Source:** `Islamic banks, NGOs, and Zakat organizations within Muslim-majority countries.`\n",
    "\n",
    "**Quranic Basis:** `“Who will lend Allah a good loan?” (2:245) – these loans are acts of worship!`\n",
    "\n",
    "**Goal:** `Use data to advise Islamic charities on where to invest for maximum poverty reduction.`"
   ]
  },
  {
   "cell_type": "markdown",
   "id": "2de2219c",
   "metadata": {},
   "source": [
    "> #### 1.1 Create the dataset\n",
    "- First, let’s import the necessary libraries.\n",
    "- Next, we’ll create a dictionary with our data.\n",
    "- Finally, we’ll turn that dictionary into a pandas DataFrame."
   ]
  },
  {
   "cell_type": "code",
   "execution_count": 28,
   "id": "581740c9",
   "metadata": {},
   "outputs": [],
   "source": [
    "import pandas as pd  \n",
    "import matplotlib.pyplot as plt  \n",
    "\n",
    "# Islamic Microfinance Dataset (simulated data)  \n",
    "data = {  \n",
    "    \"Country\": [\"Indonesia\", \"Pakistan\", \"Nigeria\", \"Bangladesh\", \"Egypt\", \"Yemen\", \"Indonesia\", \"Pakistan\", \"Nigeria\", \"Bangladesh\"],  \n",
    "    \"LoansIssued\": [5000000, 2500000, 3200000, 1800000, 4500000, 800000, 6200000, 3000000, 2000000, 1800000],  \n",
    "    \"PovertyRateChange\": [-8.2, -4.5, None, -6.1, -7.8, -2.1, -9.5, -5.0, -3.7, -6.1],  \n",
    "    \"SectorsFunded\": [\"Agriculture\", \"Tech Startups\", \"Education\", \"Agriculture\", \"Healthcare\", \"Agriculture\", \"Education\", \"Agriculture\", \"Tech Startups\", \"Agriculture\"],  \n",
    "    \"Year\": [2020, 2021, 2021, 2022, 2023, 2020, 2023, 2022, 2023, 2022]  \n",
    "}  "
   ]
  },
  {
   "cell_type": "code",
   "execution_count": 29,
   "id": "713f5bd0",
   "metadata": {},
   "outputs": [],
   "source": [
    "microfinance_df = pd.DataFrame(data)  "
   ]
  },
  {
   "cell_type": "code",
   "execution_count": 30,
   "id": "432c6d2f",
   "metadata": {
    "scrolled": true
   },
   "outputs": [
    {
     "name": "stdout",
     "output_type": "stream",
     "text": [
      "📊 Islamic Microfinance Impact Dataset:\n",
      "      Country  LoansIssued  PovertyRateChange  SectorsFunded  Year\n",
      "0   Indonesia      5000000               -8.2    Agriculture  2020\n",
      "1    Pakistan      2500000               -4.5  Tech Startups  2021\n",
      "2     Nigeria      3200000                NaN      Education  2021\n",
      "3  Bangladesh      1800000               -6.1    Agriculture  2022\n",
      "4       Egypt      4500000               -7.8     Healthcare  2023\n",
      "5       Yemen       800000               -2.1    Agriculture  2020\n",
      "6   Indonesia      6200000               -9.5      Education  2023\n",
      "7    Pakistan      3000000               -5.0    Agriculture  2022\n",
      "8     Nigeria      2000000               -3.7  Tech Startups  2023\n",
      "9  Bangladesh      1800000               -6.1    Agriculture  2022\n"
     ]
    }
   ],
   "source": [
    "print(\"📊 Islamic Microfinance Impact Dataset:\")  \n",
    "print(microfinance_df.head(10))  "
   ]
  },
  {
   "cell_type": "markdown",
   "id": "db0f21fb",
   "metadata": {},
   "source": [
    "*******\n",
    "*******\n",
    "## `2- Task 1: Data Cleaning`\n",
    "\n",
    "**Reminder: In Session 2** \n",
    "- `we fixed missing values in the Islamic Countries dataset by using  .dropna()`\n",
    "- `and removed duplicates with  .drop_duplicates() . Let’s apply the same skills here!`\n",
    "\n",
    "**Question 1:** How many rows have missing poverty data?"
   ]
  },
  {
   "cell_type": "code",
   "execution_count": null,
   "id": "89035bc9",
   "metadata": {},
   "outputs": [],
   "source": [
    "# Count missing values in 'PovertyRateChange'  \n",
    "missing_values = microfinance_df[\"PovertyRateChange\"].________  \n",
    "print(f\"Missing values: {missing_values}\")  \n",
    "\n",
    "\n",
    "# Instructor's note: Use .isna().sum()  "
   ]
  },
  {
   "cell_type": "markdown",
   "id": "0f6fbc43",
   "metadata": {},
   "source": [
    "**Question 2:** Remove duplicates for the same country and year."
   ]
  },
  {
   "cell_type": "code",
   "execution_count": null,
   "id": "70a184b2",
   "metadata": {},
   "outputs": [],
   "source": [
    "# Remove duplicate rows  \n",
    "microfinance_df.________(subset=[\"Country\", \"Year\"], inplace=True)  \n",
    "\n",
    "\n",
    "# Instructor's note: Use drop_duplicates()  "
   ]
  },
  {
   "cell_type": "markdown",
   "id": "cbfdecf3",
   "metadata": {},
   "source": [
    "> **Fun Fact: 🤔** Nigeria’s missing data could mean no survey was done – not that loans failed!"
   ]
  },
  {
   "cell_type": "markdown",
   "id": "d915bcf8",
   "metadata": {},
   "source": [
    "*******\n",
    "*******\n",
    "## `3- Task 2: Data Analysis`\n",
    "\n",
    "**Reminder: In Session 3** \n",
    "\n",
    "`we grouped data to find patterns, like the average verses in Meccan/Medinan Surahs. Let’s apply grouping here to find sector impacts!`\n",
    "\n",
    "**Question 1:** Which sector has the highest average poverty reduction?"
   ]
  },
  {
   "cell_type": "code",
   "execution_count": null,
   "id": "063a4b55",
   "metadata": {},
   "outputs": [],
   "source": [
    "# Group by sector and calculate mean  \n",
    "sector_impact = microfinance_df.________(by=\"SectorsFunded\")[\"PovertyRateChange\"].mean()  \n",
    "print(sector_impact)  \n",
    "\n",
    "\n",
    "# Instructor's note: Use groupby()  "
   ]
  },
  {
   "cell_type": "markdown",
   "id": "65166a8a",
   "metadata": {},
   "source": [
    "**Question 2:** What’s the total loans issued to Agriculture vs. Tech?"
   ]
  },
  {
   "cell_type": "code",
   "execution_count": 37,
   "id": "3a28cc92",
   "metadata": {},
   "outputs": [
    {
     "name": "stdout",
     "output_type": "stream",
     "text": [
      "12400000\n"
     ]
    }
   ],
   "source": [
    "# Filter and sum loans for Agriculture  \n",
    "agriculture_loans = microfinance_df[microfinance_df[\"SectorsFunded\"] == \"________\"][\"LoansIssued\"].sum()  \n",
    "print(agriculture_loans) \n",
    "\n",
    "\n",
    "# Instructor's note: Filter for \"Agriculture\" and sum  "
   ]
  },
  {
   "cell_type": "code",
   "execution_count": 36,
   "id": "1b436896",
   "metadata": {},
   "outputs": [
    {
     "name": "stdout",
     "output_type": "stream",
     "text": [
      "4500000\n"
     ]
    }
   ],
   "source": [
    "# Filter and sum loans for Tech  \n",
    "tech_loans = microfinance_df[microfinance_df[\"SectorsFunded\"] == \"________\"][\"LoansIssued\"].sum()  \n",
    "print(tech_loans) \n",
    "\n",
    "\n",
    "# Instructor's note: Filter for \"Tech Startups\" and sum  "
   ]
  },
  {
   "cell_type": "markdown",
   "id": "5b0e0f59",
   "metadata": {},
   "source": [
    "> **Fun Fact: 🤔** Agriculture loans reduce poverty 2x faster than tech – Allah rewards those who support farmers!"
   ]
  },
  {
   "cell_type": "markdown",
   "id": "5d7dc797",
   "metadata": {},
   "source": [
    "*******\n",
    "*******\n",
    "## `4- Task 3: Data Visualization`\n",
    "\n",
    "**Reminder: In Session 4** \n",
    "\n",
    "`we made bar charts for languages and line charts for population growth. Let’s visualize our microfinance findings!`\n",
    "\n",
    "**Question 1:** Create a bar chart showing poverty reduction by sector."
   ]
  },
  {
   "cell_type": "code",
   "execution_count": 60,
   "id": "3eea8581",
   "metadata": {},
   "outputs": [
    {
     "name": "stdout",
     "output_type": "stream",
     "text": [
      "   SectorsFunded  PovertyRateChange\n",
      "0    Agriculture               -5.5\n",
      "1      Education               -9.5\n",
      "2     Healthcare               -7.8\n",
      "3  Tech Startups               -4.1\n"
     ]
    }
   ],
   "source": [
    "# First, group the data by sector and calculate the mean  \n",
    "sector_impact = microfinance_df.groupby(\"________\")[\"PovertyRateChange\"].________().reset_index()  \n",
    "print(sector_impact)\n",
    "\n",
    "# Instructor's note: Use \"SectorsFunded\" & mean()  "
   ]
  },
  {
   "cell_type": "code",
   "execution_count": 48,
   "id": "62e695f9",
   "metadata": {},
   "outputs": [
    {
     "data": {
      "image/png": "[encoded data removed]",
      "text/plain": [
       "<Figure size 640x480 with 1 Axes>"
      ]
     },
     "metadata": {},
     "output_type": "display_data"
    }
   ],
   "source": [
    "# Create the bar chart  \n",
    "plt.________(sector_impact[\"SectorsFunded\"], sector_impact[\"PovertyRateChange\"],  \n",
    "        color=[\"green\", \"blue\", \"gold\", \"silver\"])  \n",
    "plt.title(\"Poverty Reduction by Sector\")  \n",
    "plt.xlabel(\"Sector\")  \n",
    "plt.ylabel(\"Average Reduction (%)\")  \n",
    "plt.show()  \n",
    "\n",
    "\n",
    "# Instructor's note: Use plt.bar()  "
   ]
  },
  {
   "cell_type": "markdown",
   "id": "30e1eea4",
   "metadata": {},
   "source": [
    "**Question 2:** Add a horizontal line showing the overall average poverty reduction."
   ]
  },
  {
   "cell_type": "code",
   "execution_count": 59,
   "id": "44f855c2",
   "metadata": {},
   "outputs": [
    {
     "name": "stdout",
     "output_type": "stream",
     "text": [
      "-5.888888888888889\n"
     ]
    }
   ],
   "source": [
    "# Calculate the overall average AFTER cleaning data  \n",
    "overall_avg = microfinance_df[\"PovertyRateChange\"].________()\n",
    "print(overall_avg)\n",
    "\n",
    "# Instructor's note: Use .mean()  "
   ]
  },
  {
   "cell_type": "code",
   "execution_count": 44,
   "id": "f1975d22",
   "metadata": {},
   "outputs": [
    {
     "data": {
      "image/png": "[encoded data removed]",
      "text/plain": [
       "<Figure size 640x480 with 1 Axes>"
      ]
     },
     "metadata": {},
     "output_type": "display_data"
    }
   ],
   "source": [
    "# Recreate the bar chart and add the line  \n",
    "plt.bar(sector_impact[\"SectorsFunded\"], sector_impact[\"PovertyRateChange\"],  \n",
    "        color=[\"green\", \"blue\", \"gold\", \"silver\"])  \n",
    "plt.axhline(_______, color=\"red\", linestyle=\"--\", label=\"Overall Average\")  \n",
    "\n",
    "plt.title(\"Poverty Reduction vs. Overall Average\")  \n",
    "plt.legend()  \n",
    "plt.show()  \n",
    "\n",
    "\n",
    "# Instructor's note: Use 'overall_avg'"
   ]
  },
  {
   "cell_type": "markdown",
   "id": "ad6bd61f",
   "metadata": {},
   "source": [
    "> **Reflection: 🤔** How can clear visuals help Islamic charities make ethical decisions?"
   ]
  },
  {
   "cell_type": "markdown",
   "id": "e49bb273",
   "metadata": {},
   "source": [
    "*******\n",
    "*******\n",
    "## `5- Task 4: AI Integration`\n",
    "\n",
    "`Let’s ask AI to deepen our analysis while keeping Islamic ethics in mind!`\n",
    "\n",
    "**Question 1:** Why might agriculture loans reduce poverty more than tech in Muslim countries?"
   ]
  },
  {
   "cell_type": "markdown",
   "id": "8b059bb2",
   "metadata": {},
   "source": [
    "**write here the answer you get:**\n",
    "\n",
    "'___________________________'"
   ]
  },
  {
   "cell_type": "markdown",
   "id": "2c41658c",
   "metadata": {},
   "source": [
    "**Question 2:** Analyze year-over-year loan growth and predict future trends using a line chart."
   ]
  },
  {
   "cell_type": "markdown",
   "id": "020b129a",
   "metadata": {},
   "source": [
    "**write here the answer you get:**\n",
    "\n",
    "'___________________________'"
   ]
  },
  {
   "cell_type": "code",
   "execution_count": 50,
   "id": "b9296098",
   "metadata": {},
   "outputs": [
    {
     "data": {
      "image/png": "[encoded data removed]",
      "text/plain": [
       "<Figure size 640x480 with 1 Axes>"
      ]
     },
     "metadata": {},
     "output_type": "display_data"
    }
   ],
   "source": [
    "# # Example AI-generated code:  \n",
    "# yearly_loans = microfinance_df.groupby(\"Year\")[\"LoansIssued\"].sum()  \n",
    "# plt.plot(yearly_loans.index, yearly_loans.values, marker=\"o\")  \n",
    "# plt.title(\"Yearly Loan Growth\")  \n",
    "# plt.show()  "
   ]
  },
  {
   "cell_type": "markdown",
   "id": "4865dfef",
   "metadata": {},
   "source": [
    "> **Fun Fact: 🤔** AI can process 1,000 rows in seconds – but YOU decide if it’s ethical!"
   ]
  },
  {
   "cell_type": "markdown",
   "id": "bcc7c12d",
   "metadata": {},
   "source": [
    "*******\n",
    "*******\n",
    "## `5- Independent Challenge`\n",
    "\n",
    "`Prove your skills! No hints – but you’ve got this! 💪`\n",
    "\n",
    "**Task 1: Group & Sum** Calculate the total loans issued to each sector (Agriculture, Tech, etc.)."
   ]
  },
  {
   "cell_type": "code",
   "execution_count": 55,
   "id": "17670e20",
   "metadata": {},
   "outputs": [
    {
     "name": "stdout",
     "output_type": "stream",
     "text": [
      "   SectorsFunded  LoansIssued\n",
      "0    Agriculture     12400000\n",
      "1      Education      9400000\n",
      "2     Healthcare      4500000\n",
      "3  Tech Startups      4500000\n"
     ]
    }
   ],
   "source": [
    "# # Example code:\n",
    "\n",
    "# # Group loans by sector and sum  \n",
    "# sector_loans = microfinance_df.groupby(\"SectorsFunded\")[\"LoansIssued\"].sum().reset_index() \n",
    "\n",
    "# print(sector_loans)"
   ]
  },
  {
   "cell_type": "markdown",
   "id": "dcc757f8",
   "metadata": {},
   "source": [
    "**Task 2: Visualize** Create a bar chart showing total loans per sector.\n",
    "\n",
    "- Use green for Agriculture, blue for Education,  gold for Healthcare, and silver for Tech Startups.\n",
    "- Add a title: “Total Loans by Sector”.\n",
    "- name the xlabel: \"Sector\".\n",
    "- name the ylabel: \"Total Loans (USD)\"."
   ]
  },
  {
   "cell_type": "code",
   "execution_count": 58,
   "id": "8053cd2f",
   "metadata": {},
   "outputs": [
    {
     "data": {
      "image/png": "[encoded data removed]",
      "text/plain": [
       "<Figure size 640x480 with 1 Axes>"
      ]
     },
     "metadata": {},
     "output_type": "display_data"
    }
   ],
   "source": [
    "# # Example code:\n",
    "\n",
    "# # Group loans by sector and sum  \n",
    "# plt.bar(sector_loans[\"SectorsFunded\"], sector_loans[\"LoansIssued\"],  \n",
    "#         color=[\"green\", \"blue\", \"gold\", \"silver\"])  \n",
    "# plt.title(\"Total Loans by Sector\")  \n",
    "# plt.xlabel(\"Sector\")  \n",
    "# plt.ylabel(\"Total Loans (USD)\")  \n",
    "# plt.show()"
   ]
  },
  {
   "cell_type": "markdown",
   "id": "7269c894",
   "metadata": {},
   "source": [
    "******\n",
    "******\n",
    "\n",
    "# 📚 Reflection\n",
    "**Data for Good:**\n",
    "\n",
    "- How can your analysis help Islamic charities like Islamic Relief?\n",
    "\n",
    "**AI Ethics:**\n",
    "\n",
    "- Should AI decide where loans go? Why/why not?\n",
    "\n",
    "**Quranic Link:**\n",
    "- How does ‘giving a good loan’ (2:245) relate to your work today?"
   ]
  },
  {
   "cell_type": "markdown",
   "id": "b79f2ab6",
   "metadata": {},
   "source": [
    "******\n",
    "******\n",
    "\n",
    "# 📝 Quiz\n",
    "1. Which function removes duplicates?<br>\n",
    "`a) dropna()`<br>\n",
    "`b) drop_duplicates()`<br>\n",
    "`c) remove()`<br><br>\n",
    "\n",
    "2. Which sector had the highest poverty reduction?<br>\n",
    "`a) Tech`<br>\n",
    "`b) Agriculture`<br>\n",
    "`c) Education`<br><br>\n",
    "\n",
    "3. What Quranic value does data cleaning align with?<br>\n",
    "`a) Honesty`<br>\n",
    "`b) Patience`<br>\n",
    "`c) Prayer`<br><br>\n",
    "\n",
    "4. What command verifies AI answers?<br>\n",
    "`a) Trust everything`<br>\n",
    "`b) Verify with Quran/scholars`<br>\n",
    "`c) Ask AI again`<br>"
   ]
  },
  {
   "cell_type": "markdown",
   "id": "9a2cad93",
   "metadata": {},
   "source": [
    "******\n",
    "******\n",
    "\n",
    "#  💭 Final Message \n",
    "You are now Superstar Analysts! 🎉\n",
    "\n",
    "MashaAllah, look how far you’ve come! From your first bar chart in Session 1 to today’s AI-powered insights – **YOU’VE DONE IT ALL! 🚀**\n",
    "\n",
    "You’re now `Islamic Data Detectives 🔍✨`:\n",
    "\n",
    "- You’ve decoded the Quran’s patterns.\n",
    "\n",
    "- You’ve healed messy data with honesty (Quran 17:36 style!).\n",
    "\n",
    "- You’ve even teamed up with AI to fight poverty – like true heroes! 🦸♂️🦸♀️\n",
    "<br> <br> <br>\n",
    "\n",
    "\n",
    "**Remember:** Every chart you make, every line of code you write, is a *Sadaqah Jariyah* – a gift of knowledge that keeps giving. \n",
    "\n",
    "The Prophet (ﷺ) said, `“The best of people are those who bring most benefit to others.”` YOU are those people!\n",
    "<br> <br> <br>\n",
    " \n",
    "**What’s next?**\n",
    "- Keep asking “why?” like Ibn Sina asked about medicine.\n",
    "\n",
    "- Keep visualizing like Al-Khwarizmi calculated the stars. 🌌\n",
    "\n",
    "- And always, always use data for good – because you are the Ummah’s future problem-solvers!\n",
    "<br>\n",
    "\n",
    "**Thank you for being amazing. Now go out there and make the data Speak! 🎤📊**"
   ]
  }
 ],
 "metadata": {
  "kernelspec": {
   "display_name": "Python 3 (ipykernel)",
   "language": "python",
   "name": "python3"
  },
  "language_info": {
   "codemirror_mode": {
    "name": "ipython",
    "version": 3
   },
   "file_extension": ".py",
   "mimetype": "text/x-python",
   "name": "python",
   "nbconvert_exporter": "python",
   "pygments_lexer": "ipython3",
   "version": "3.11.4"
  }
 },
 "nbformat": 4,
 "nbformat_minor": 5
}
