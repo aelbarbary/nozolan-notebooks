{
 "cells": [
  {
   "cell_type": "markdown",
   "metadata": {
    "id": "EYb69h63Qcvd"
   },
   "source": [
    "# Session 1: Introduction to Data Analysis\n",
    "*******\n",
    "*******"
   ]
  },
  {
   "cell_type": "markdown",
   "metadata": {},
   "source": [
    "<img src=\"1 Data Analysis.png\" alt=\"Drawing\" style=\"width: 600px;\"/>"
   ]
  },
  {
   "cell_type": "markdown",
   "metadata": {},
   "source": [
    "## `1- Let's start quick and take our first step in the world of Data Analysis 🔢`\n",
    "\n",
    "`Create a dataset to hold your data to be able to analyse it.`"
   ]
  },
  {
   "cell_type": "markdown",
   "metadata": {},
   "source": [
    "> #### 1.1 Import Necessary Libraries\n",
    "- Here we will import important libraries `[pandas - numpy]` which will help us **deal with tapular data** better. \n",
    "- Also import `[matplotlib]` to be able to **visualize this data** later."
   ]
  },
  {
   "cell_type": "code",
   "execution_count": 1,
   "metadata": {},
   "outputs": [],
   "source": [
    "import pandas as pd\n",
    "import numpy as np\n",
    "import matplotlib.pyplot as plt"
   ]
  },
  {
   "cell_type": "markdown",
   "metadata": {},
   "source": [
    "> #### 1.2 Create the dataset\n",
    "- Make a dictionary containing the names & verses's count for the Surahs."
   ]
  },
  {
   "cell_type": "code",
   "execution_count": 2,
   "metadata": {
    "id": "cElfIfelcbkA",
    "scrolled": true
   },
   "outputs": [],
   "source": [
    "data = {\n",
    "    \"Surah\": [\"Al-Fatiha\", \"Al-Baqarah\", \"Al-Imran\", \"An-Nisa\", \"Al-Ma'idah\", \"Al-An'am\", \"Al-A'raf\", \"Al-Anfal\", \"At-Tawbah\"],\n",
    "    \"Verses\": [7, 286, 200, 176, 120, 165, 206, 75, 129]\n",
    "        }"
   ]
  },
  {
   "cell_type": "markdown",
   "metadata": {},
   "source": [
    "> #### 1.3 Transform the dataset from `dictionary` to `dataframe`\n",
    "- The Pandas library will be used to do this."
   ]
  },
  {
   "cell_type": "code",
   "execution_count": 3,
   "metadata": {},
   "outputs": [],
   "source": [
    "quran_df = pd.DataFrame(data)"
   ]
  },
  {
   "cell_type": "markdown",
   "metadata": {},
   "source": [
    "> #### 1.4 View the new dataset `dataframe`\n",
    "- The print() statement will be used to do this."
   ]
  },
  {
   "cell_type": "code",
   "execution_count": 4,
   "metadata": {},
   "outputs": [
    {
     "name": "stdout",
     "output_type": "stream",
     "text": [
      "Here is our dataset about some Quranic surahs:\n",
      "\n",
      "        Surah  Verses\n",
      "0   Al-Fatiha       7\n",
      "1  Al-Baqarah     286\n",
      "2    Al-Imran     200\n",
      "3     An-Nisa     176\n",
      "4  Al-Ma'idah     120\n",
      "5    Al-An'am     165\n",
      "6    Al-A'raf     206\n",
      "7    Al-Anfal      75\n",
      "8   At-Tawbah     129\n"
     ]
    }
   ],
   "source": [
    "print(\"Here is our dataset about some Quranic surahs:\")\n",
    "print()\n",
    "print(quran_df)"
   ]
  },
  {
   "cell_type": "markdown",
   "metadata": {},
   "source": [
    "************\n",
    "************\n",
    "## `2- Adding New Data 💻`\n",
    "\n",
    "`Let’s add a new surah to our dataset! Can you think of a surah and its number of verses? Let’s input it together.`"
   ]
  },
  {
   "cell_type": "markdown",
   "metadata": {},
   "source": [
    "> #### 2.1 Write the new Surah's name & verse's count\n",
    "- Change the value of the following 2 variables."
   ]
  },
  {
   "cell_type": "code",
   "execution_count": 5,
   "metadata": {
    "id": "ahpkzJsPccdn",
    "scrolled": true
   },
   "outputs": [],
   "source": [
    "# insert here the name of the Surah\n",
    "surah_name = \"Surah Example\"  \n",
    "\n",
    "# insert here the number of verses in the Surah\n",
    "verses_count = 10  "
   ]
  },
  {
   "cell_type": "code",
   "execution_count": 6,
   "metadata": {},
   "outputs": [
    {
     "name": "stdout",
     "output_type": "stream",
     "text": [
      "Adding Surah: Surah Example with 10 verses.\n"
     ]
    }
   ],
   "source": [
    "# Let's print what we had accomplished\n",
    "print(f\"Adding Surah: {surah_name} with {verses_count} verses.\")"
   ]
  },
  {
   "cell_type": "markdown",
   "metadata": {},
   "source": [
    "> #### 2.2 Update the dataset with the new Surah\n",
    "- Add the Surah's name to the **\"Surah\"** column, and the verses' count to the **\"Verses\"** column."
   ]
  },
  {
   "cell_type": "code",
   "execution_count": 7,
   "metadata": {},
   "outputs": [],
   "source": [
    "# Adding the new data\n",
    "new_data = pd.DataFrame( {\"Surah\": [surah_name] , \"Verses\": [verses_count]} )"
   ]
  },
  {
   "cell_type": "code",
   "execution_count": 8,
   "metadata": {},
   "outputs": [],
   "source": [
    "# Concat (join) the dataset with the new row\n",
    "quran_df = pd.concat(  [quran_df, new_data]  , ignore_index=True)"
   ]
  },
  {
   "cell_type": "code",
   "execution_count": 9,
   "metadata": {
    "scrolled": true
   },
   "outputs": [
    {
     "name": "stdout",
     "output_type": "stream",
     "text": [
      "Updated dataset:\n",
      "           Surah  Verses\n",
      "0      Al-Fatiha       7\n",
      "1     Al-Baqarah     286\n",
      "2       Al-Imran     200\n",
      "3        An-Nisa     176\n",
      "4     Al-Ma'idah     120\n",
      "5       Al-An'am     165\n",
      "6       Al-A'raf     206\n",
      "7       Al-Anfal      75\n",
      "8      At-Tawbah     129\n",
      "9  Surah Example      10\n"
     ]
    }
   ],
   "source": [
    "# Let's view the dataset after the update\n",
    "print(\"Updated dataset:\")\n",
    "print(quran_df)"
   ]
  },
  {
   "cell_type": "markdown",
   "metadata": {},
   "source": [
    "**********\n",
    "**********"
   ]
  },
  {
   "cell_type": "markdown",
   "metadata": {},
   "source": [
    "## `3- Finding the Longest and Shortest Surahs`\n",
    "\n",
    "`Let’s find out which surah has the most verses and which has the fewest.`"
   ]
  },
  {
   "cell_type": "markdown",
   "metadata": {},
   "source": [
    "> **3.1 This is how to find a specific Surah using the number of verses**\n",
    "- specify that we want from **quran_df** the row where **Verses == 75**"
   ]
  },
  {
   "cell_type": "code",
   "execution_count": 10,
   "metadata": {},
   "outputs": [
    {
     "name": "stdout",
     "output_type": "stream",
     "text": [
      "      Surah  Verses\n",
      "7  Al-Anfal      75\n"
     ]
    }
   ],
   "source": [
    "surah = quran_df[quran_df[\"Verses\"] == 75]\n",
    "\n",
    "print(surah)"
   ]
  },
  {
   "cell_type": "markdown",
   "metadata": {},
   "source": [
    "> **3.2 Let's build on that and find the surah with the highest count of verses in our dataset**\n",
    "- instead of specifying the number of verses .. We search for the max value."
   ]
  },
  {
   "cell_type": "code",
   "execution_count": 11,
   "metadata": {
    "id": "8WLIDCjBcuxV",
    "scrolled": true
   },
   "outputs": [],
   "source": [
    "longest_surah = quran_df[quran_df[\"Verses\"] == quran_df[\"Verses\"].max()]"
   ]
  },
  {
   "cell_type": "code",
   "execution_count": 12,
   "metadata": {},
   "outputs": [
    {
     "name": "stdout",
     "output_type": "stream",
     "text": [
      "The longest surah in our dataset is:\n",
      "        Surah  Verses\n",
      "1  Al-Baqarah     286\n"
     ]
    }
   ],
   "source": [
    "print(\"The longest surah in our dataset is:\")\n",
    "print(longest_surah)"
   ]
  },
  {
   "cell_type": "markdown",
   "metadata": {},
   "source": [
    "> **3.3 Take a moment to think... Can you find the surah with the fewest verses?**\n",
    "- How can we modify the code above to find the shortest? "
   ]
  },
  {
   "cell_type": "code",
   "execution_count": 13,
   "metadata": {},
   "outputs": [],
   "source": [
    "\n",
    "\n",
    "# shortest_surah = quran_df[quran_df[\"Verses\"] == quran_df[\"Verses\"].min()]"
   ]
  },
  {
   "cell_type": "code",
   "execution_count": 14,
   "metadata": {},
   "outputs": [
    {
     "name": "stdout",
     "output_type": "stream",
     "text": [
      "The shortest surah in our dataset is:\n",
      "       Surah  Verses\n",
      "0  Al-Fatiha       7\n"
     ]
    }
   ],
   "source": [
    "print(\"The shortest surah in our dataset is:\")\n",
    "print(shortest_surah)"
   ]
  },
  {
   "cell_type": "markdown",
   "metadata": {},
   "source": [
    "> **3.4 Pause and reflect... Can you figure out the average number of verses across all the surahs in our dataset?**\n",
    "- How can we modify the code above to find the average? "
   ]
  },
  {
   "cell_type": "code",
   "execution_count": 15,
   "metadata": {
    "id": "gN7D_y1IcumL",
    "scrolled": true
   },
   "outputs": [],
   "source": [
    "\n",
    "\n",
    "# average_verses = quran_df[\"Verses\"].mean()"
   ]
  },
  {
   "cell_type": "code",
   "execution_count": 16,
   "metadata": {},
   "outputs": [
    {
     "name": "stdout",
     "output_type": "stream",
     "text": [
      "The average number of verses in the surahs is: 137.4\n"
     ]
    }
   ],
   "source": [
    "print(f\"The average number of verses in the surahs is: {average_verses}\")"
   ]
  },
  {
   "cell_type": "markdown",
   "metadata": {},
   "source": [
    "**********\n",
    "**********"
   ]
  },
  {
   "cell_type": "markdown",
   "metadata": {},
   "source": [
    "## `4- Visualizing the Data 📊`\n",
    "\n",
    "`Let’s create a bar chart to visualize the number of verses in each surah.`"
   ]
  },
  {
   "cell_type": "markdown",
   "metadata": {},
   "source": [
    "> **4.1 Let’s create a bar chart to visualize our Surahs' dataset**\n",
    "- We’ll use Matplotlib to build it."
   ]
  },
  {
   "cell_type": "code",
   "execution_count": 17,
   "metadata": {
    "id": "KbYXBD-ycubl",
    "scrolled": false
   },
   "outputs": [
    {
     "data": {
      "image/png": "[encoded data removed]",
      "text/plain": [
       "<Figure size 600x500 with 1 Axes>"
      ]
     },
     "metadata": {},
     "output_type": "display_data"
    }
   ],
   "source": [
    "# First, let’s create the figure by setting its width and height.\n",
    "plt.figure(figsize=(6, 5))\n",
    "\n",
    "\n",
    "# Set the chart type to bar.\n",
    "# Use the (Surah) column for the x-axis (horizontal) .. \n",
    "# .. and use the (Verses) column for the y-axis (vertical)\n",
    "plt.bar(quran_df[\"Surah\"], quran_df[\"Verses\"])\n",
    "\n",
    "\n",
    "# Now, let’s add a title to the entire bar chart to describe what it shows.\n",
    "plt.title(\"Number of Verses in Quranic Surahs\")\n",
    "\n",
    "\n",
    "# Let’s label the axes to make the chart easier to understand:\n",
    "# – Set a label for the x-axis to describe the Surahs.\n",
    "# – Set a label for the y-axis to represent the number of verses.\n",
    "plt.xlabel(\"Surah\")\n",
    "plt.ylabel(\"Number of Verses\")\n",
    "\n",
    "\n",
    "# Let’s make the chart more readable:\n",
    "#– Rotate the x-axis labels slightly so they don’t overlap.\n",
    "#– Use tight_layout() to automatically adjust spacing and prevent any clipping.\n",
    "plt.xticks(rotation=45)\n",
    "plt.tight_layout()\n",
    "\n",
    "# Finally, show the chart.\n",
    "plt.show()"
   ]
  },
  {
   "cell_type": "markdown",
   "metadata": {},
   "source": [
    "********\n",
    "********"
   ]
  },
  {
   "cell_type": "markdown",
   "metadata": {},
   "source": [
    "# Conclusion about Data Analysis Process\n",
    "let's reflect on what we have gone through and explain the **`Data Analysis Process`**\n",
    "<img src=\"1 data analysis steps.png\" alt=\"Drawing\" style=\"width: 700px;\"/>"
   ]
  },
  {
   "cell_type": "markdown",
   "metadata": {
    "id": "xLpCw4wkct3q"
   },
   "source": [
    "********\n",
    "********\n",
    "# 📚 Reflection Activity\n",
    "\n",
    "- **Why are some surahs longer than others?** Allah has organized the Quran in a way full of wisdom. Can you think of why some surahs are longer than others?\n",
    "- **How can data analysis help us appreciate the Quran more?** Let’s explore together some statistics and facts about the Quran on this website: [Quran Analysis](https://qurananalysis.com/analysis/basic-statistics.php)."
   ]
  },
  {
   "cell_type": "markdown",
   "metadata": {},
   "source": [
    "********\n",
    "********"
   ]
  },
  {
   "cell_type": "markdown",
   "metadata": {
    "id": "dIAu4JwkctvL"
   },
   "source": [
    "# 📝 Quiz\n",
    "Let's take a short quiz to see what you've learned so far!\n",
    "\n",
    "1. What is data analysis?<br>\n",
    "    `a) Collecting random numbers`<br>\n",
    "    `b) The process of finding patterns and insights in data`<br>\n",
    "    `c) Writing stories about data`<br>\n",
    "    `d) Ignoring data`<br><br>\n",
    "\n",
    "2. Can you name one real-life example of data analysis?<br>\n",
    "   `a) Predicting weather patterns`<br>\n",
    "   `b) Counting stars in the sky`<br>\n",
    "    `c) Observing animals without taking notes`<br>\n",
    "    `d) Forgetting about data`<br><br>\n",
    "\n",
    "3. Which surah has the most verses in our dataset?<br>\n",
    "    `a) Surah Al-Fatiha`<br>\n",
    "    `b) Surah Al-Baqarah`<br>\n",
    "    `c) Surah Al-Kahf`<br>\n",
    "    `d) Surah Al-Nas`<br><br>\n",
    "\n",
    "4. What is the average number of verses in the surahs?<br>\n",
    "    `a) 151`<br>\n",
    "    `b) 123`<br>\n",
    "    `c) 150`<br>\n",
    "    `d) 137`<br><br>\n",
    "\n",
    "5. Why do you think visualizing data is important?<br>\n",
    "    `a) To make data more colorful`<br>\n",
    "    `b) To understand data patterns quickly and clearly`<br>\n",
    "    `c) To make data look complicated`<br>\n",
    "    `d) To confuse others with graphs`<br>"
   ]
  },
  {
   "cell_type": "markdown",
   "metadata": {},
   "source": [
    "********\n",
    "********"
   ]
  },
  {
   "cell_type": "markdown",
   "metadata": {
    "id": "GCuJeL7Vcta3"
   },
   "source": [
    "# 🏡 Homework\n",
    "\n",
    "1. **Research and Add Data**: Find 5 more surahs and their number of verses to add to our dataset.\n",
    "<br>\n",
    "\n",
    "2. **Create a Bar Chart**: Use Python to visualize the new dataset with the added surahs.\n",
    "<br>\n",
    "3. **Find Statistics**: Calculate the mean, max, and min for the number of verses in the new dataset.\n",
    "<br>\n",
    "4. **Write a Paragraph**: Write a short paragraph with an example of how data analysis can help us understand the Quran better."
   ]
  }
 ],
 "metadata": {
  "colab": {
   "provenance": []
  },
  "kernelspec": {
   "display_name": "Python 3 (ipykernel)",
   "language": "python",
   "name": "python3"
  },
  "language_info": {
   "codemirror_mode": {
    "name": "ipython",
    "version": 3
   },
   "file_extension": ".py",
   "mimetype": "text/x-python",
   "name": "python",
   "nbconvert_exporter": "python",
   "pygments_lexer": "ipython3",
   "version": "3.11.4"
  }
 },
 "nbformat": 4,
 "nbformat_minor": 1
}
