{
 "cells": [
  {
   "cell_type": "markdown",
   "id": "291b154d",
   "metadata": {},
   "source": [
    "## Recap on last session (Introduction to Data Analysis)\n",
    "- Here’s a code snippet that creates a DataFrame of Surahs and their verse counts—but it has a few hidden mistakes. Can you find and fix them?"
   ]
  },
  {
   "cell_type": "code",
   "execution_count": 6,
   "id": "dac112d5",
   "metadata": {},
   "outputs": [],
   "source": [
    "# Create the data with a dictionary\n",
    "data = {\n",
    "    \"Surah\": [\"Al-Fatiha\", \"Al-Anfal\", \"At-Tawbah\"],\n",
    "    \"Verses\": [\"7\", \"75\", \"129\"]\n",
    "        }\n",
    "\n",
    "\n",
    "# instrutor note: remove the quotes from the numbers"
   ]
  },
  {
   "cell_type": "code",
   "execution_count": 7,
   "id": "3476616d",
   "metadata": {},
   "outputs": [],
   "source": [
    "# turn the dictionary into a dataframe\n",
    "quran_df = pd.dataframe(data)\n",
    "\n",
    "\n",
    "# instrutor note: we need to import pandas first\n",
    "# instrutor note: write (DataFrame) instead of (dataframe)"
   ]
  },
  {
   "cell_type": "code",
   "execution_count": null,
   "id": "dbe814bc",
   "metadata": {},
   "outputs": [],
   "source": [
    "# find and print the longest Surah\n",
    "longest_surah = quran_df[quran_df[\"Verses\"].max()]\n",
    "\n",
    "print(longest_surah)\n",
    "\n",
    "\n",
    "# instrutor note: longest_surah = quran_df[quran_df[\"Verses\"] == quran_df[\"Verses\"].max()]"
   ]
  },
  {
   "cell_type": "markdown",
   "id": "322c2380",
   "metadata": {},
   "source": [
    "*******\n",
    "*******\n",
    "\n",
    "# Session 2: Organizing and Cleaning Data\n",
    "<img src=\"2 Data Preparation.png\" alt=\"Drawing\" style=\"width: 700px;\"/>\n",
    "\n",
    "*******\n",
    "*******"
   ]
  },
  {
   "cell_type": "markdown",
   "id": "47ac4008",
   "metadata": {},
   "source": [
    "## `1- Islamic Countries Dataset`\n",
    "\n",
    "`Create a dataset to hold your data to be able to clean and analyse it.`"
   ]
  },
  {
   "cell_type": "markdown",
   "id": "8a9361f8",
   "metadata": {},
   "source": [
    "> #### 1.1 Import Necessary Libraries\n",
    "- Here we will import important libraries `[pandas - numpy]` which will help us **deal with tapular data** better. \n",
    "- Also import `[matplotlib]` to be able to **visualize this data** later."
   ]
  },
  {
   "cell_type": "code",
   "execution_count": 1,
   "id": "b963bd05",
   "metadata": {},
   "outputs": [],
   "source": [
    "import pandas as pd\n",
    "import numpy as np\n",
    "import matplotlib.pyplot as plt"
   ]
  },
  {
   "cell_type": "markdown",
   "id": "6c072a15",
   "metadata": {},
   "source": [
    "> #### 1.2 Create the dataset\n",
    "- Make a dictionary containing the names & verses's count for the Surahs."
   ]
  },
  {
   "cell_type": "code",
   "execution_count": 2,
   "id": "2c5b1f12",
   "metadata": {},
   "outputs": [],
   "source": [
    "data = {\n",
    "    \"Country\": [\"Egypt\", \"Saudi Arabia\", \"Indonesia\", \"Pakistan\", \"Turkey\", \"Egypt\", \"Malaysia\", \"Morocco\", \"Nigeria\", \"Pakistan\"],\n",
    "    \"Population\": [104.12, 35.01, 273.52, 220.89, None, 104.12, 32.37, 36.91, 206.14, 220.89],\n",
    "    \"Area\": [1002, 2149, None, 881, 783.6, 1002, 330.8, 446.6, 923.8, 881]\n",
    "}"
   ]
  },
  {
   "cell_type": "markdown",
   "id": "685d0231",
   "metadata": {},
   "source": [
    "> #### 1.3 Transform the dataset from `dictionary` to `dataframe`\n",
    "- The Pandas library will be used to do this."
   ]
  },
  {
   "cell_type": "code",
   "execution_count": 3,
   "id": "cbb31898",
   "metadata": {},
   "outputs": [],
   "source": [
    "islamic_countries_df = pd.DataFrame(data)"
   ]
  },
  {
   "cell_type": "markdown",
   "id": "59e4fd39",
   "metadata": {},
   "source": [
    "> #### 1.4 View the new dataset `dataframe`\n",
    "- The print() statement will be used to do this."
   ]
  },
  {
   "cell_type": "code",
   "execution_count": 4,
   "id": "69b53b82",
   "metadata": {
    "scrolled": false
   },
   "outputs": [
    {
     "name": "stdout",
     "output_type": "stream",
     "text": [
      "        Country  Population    Area\n",
      "0         Egypt      104.12  1002.0\n",
      "1  Saudi Arabia       35.01  2149.0\n",
      "2     Indonesia      273.52     NaN\n",
      "3      Pakistan      220.89   881.0\n",
      "4        Turkey         NaN   783.6\n",
      "5         Egypt      104.12  1002.0\n",
      "6      Malaysia       32.37   330.8\n",
      "7       Morocco       36.91   446.6\n",
      "8       Nigeria      206.14   923.8\n",
      "9      Pakistan      220.89   881.0\n"
     ]
    }
   ],
   "source": [
    "print(islamic_countries_df)"
   ]
  },
  {
   "cell_type": "markdown",
   "id": "463f6c7a",
   "metadata": {},
   "source": [
    "> **`Check this dataset.. what problems can you Identify in it??`**"
   ]
  },
  {
   "cell_type": "markdown",
   "id": "dc34a315",
   "metadata": {},
   "source": [
    "************\n",
    "************\n",
    "## `2- Fixing the Missing Data 💻`\n",
    "\n",
    "`Awesome job spotting those issues! Now let's add them together to get our dataset ready for some cool analysis!`"
   ]
  },
  {
   "cell_type": "markdown",
   "id": "08f8b414",
   "metadata": {},
   "source": [
    "> #### 2.1 Get the values for the Missing Data\n",
    "- For missing values, we will research and fill in real-world estimates."
   ]
  },
  {
   "cell_type": "code",
   "execution_count": 5,
   "id": "c6281568",
   "metadata": {
    "scrolled": true
   },
   "outputs": [],
   "source": [
    "# insert here Turkey's population in millions\n",
    "real_population = 85.04  \n",
    "\n",
    "# insert here Indonesia's area in km^2 thousands\n",
    "real_area = 1913"
   ]
  },
  {
   "cell_type": "markdown",
   "id": "f1bbda62",
   "metadata": {},
   "source": [
    "> #### 2.2 Add the new values\n",
    "- Find the right spot in the DataFrame and update it with the new data."
   ]
  },
  {
   "cell_type": "code",
   "execution_count": 6,
   "id": "5914e31e",
   "metadata": {},
   "outputs": [],
   "source": [
    "islamic_countries_df.loc[islamic_countries_df[\"Country\"] == \"Turkey\", \"Population\"] = real_population"
   ]
  },
  {
   "cell_type": "markdown",
   "id": "2955b6a0",
   "metadata": {},
   "source": [
    "- **islamic_countries_df:** This is the DataFrame that holds the data for several countries, including information like the country name and population. \n",
    "<br>\n",
    "\n",
    "- **.loc[]:** This is a pandas method used to access a specific part of the DataFrame. It is being used here to find the row corresponding to Turkey.\n",
    "<br>\n",
    "\n",
    "- **islamic_countries_df[\"Country\"] == \"Turkey\":** This checks each row of the DataFrame to find the row where the \"Country\" column has the value \"Turkey\".\n",
    "<br>\n",
    "\n",
    "- **\"Population\":** After finding Turkey, this part specifies that we want to update the \"Population\" column for Turkey.\n",
    "<br>\n",
    "\n",
    "- **= real_population:** This part assigns the value of real_population (85.04) to the \"Population\" column for Turkey."
   ]
  },
  {
   "cell_type": "markdown",
   "id": "cb1e7d9a",
   "metadata": {},
   "source": [
    "> **2.3 Take a moment to think... Can you add the area for Indonesia?**\n",
    "- How can we modify the code above to add the area for Indonesia? "
   ]
  },
  {
   "cell_type": "code",
   "execution_count": 7,
   "id": "a3fe7328",
   "metadata": {},
   "outputs": [],
   "source": [
    "\n",
    "\n",
    "# islamic_countries_df.loc[islamic_countries_df[\"Country\"] == \"Indonesia\", \"Area\"] = real_area"
   ]
  },
  {
   "cell_type": "markdown",
   "id": "55743546",
   "metadata": {},
   "source": [
    "> #### 2.4 View the updated dataset `dataframe`\n",
    "- The print() statement will be used to do this."
   ]
  },
  {
   "cell_type": "code",
   "execution_count": 8,
   "id": "f83ed1ac",
   "metadata": {
    "scrolled": true
   },
   "outputs": [
    {
     "name": "stdout",
     "output_type": "stream",
     "text": [
      "Updated dataset with missing values filled:\n",
      "\n",
      "        Country  Population    Area\n",
      "0         Egypt      104.12  1002.0\n",
      "1  Saudi Arabia       35.01  2149.0\n",
      "2     Indonesia      273.52  1913.0\n",
      "3      Pakistan      220.89   881.0\n",
      "4        Turkey       85.04   783.6\n",
      "5         Egypt      104.12  1002.0\n",
      "6      Malaysia       32.37   330.8\n",
      "7       Morocco       36.91   446.6\n",
      "8       Nigeria      206.14   923.8\n",
      "9      Pakistan      220.89   881.0\n"
     ]
    }
   ],
   "source": [
    "print(\"Updated dataset with missing values filled:\")\n",
    "print()\n",
    "print(islamic_countries_df)"
   ]
  },
  {
   "cell_type": "markdown",
   "id": "783f10ff",
   "metadata": {},
   "source": [
    "******\n",
    "******\n",
    "## `3- Fixing the Duplicated Data 💻`\n",
    "\n",
    "`Great job so far, we have filled all the missing data! Now, let’s handle duplicate data.`"
   ]
  },
  {
   "cell_type": "markdown",
   "id": "20e1f624",
   "metadata": {},
   "source": [
    "> #### 3.1 Drop the duplicated rows\n",
    "- Use the .drop_duplicates() method to get the job done!"
   ]
  },
  {
   "cell_type": "code",
   "execution_count": 9,
   "id": "ec4b1e16",
   "metadata": {
    "scrolled": false
   },
   "outputs": [],
   "source": [
    "islamic_countries_df.drop_duplicates(inplace=True)"
   ]
  },
  {
   "cell_type": "markdown",
   "id": "7660e757",
   "metadata": {},
   "source": [
    "- **(inplace=True) parameter** means that the operation will modify the original DataFrame directly, without needing to create a new one."
   ]
  },
  {
   "cell_type": "markdown",
   "id": "5d2c8fb6",
   "metadata": {},
   "source": [
    "> #### 3.2 View the updated dataset `dataframe`"
   ]
  },
  {
   "cell_type": "code",
   "execution_count": 10,
   "id": "eb5bf105",
   "metadata": {
    "scrolled": true
   },
   "outputs": [
    {
     "name": "stdout",
     "output_type": "stream",
     "text": [
      "Dataset after removing duplicates:\n",
      "\n",
      "        Country  Population    Area\n",
      "0         Egypt      104.12  1002.0\n",
      "1  Saudi Arabia       35.01  2149.0\n",
      "2     Indonesia      273.52  1913.0\n",
      "3      Pakistan      220.89   881.0\n",
      "4        Turkey       85.04   783.6\n",
      "6      Malaysia       32.37   330.8\n",
      "7       Morocco       36.91   446.6\n",
      "8       Nigeria      206.14   923.8\n"
     ]
    }
   ],
   "source": [
    "print(\"Dataset after removing duplicates:\")\n",
    "print()\n",
    "print(islamic_countries_df)"
   ]
  },
  {
   "cell_type": "markdown",
   "id": "bbe5cafa",
   "metadata": {},
   "source": [
    "> **`Great job! You’ve successfully removed all the duplicated rows.`** <br>\n",
    "> **`But wait, there’s a new issue. Can you spot it?`**<br>\n",
    "> **`The index still needs to be reset.`**"
   ]
  },
  {
   "cell_type": "markdown",
   "id": "f28d082f",
   "metadata": {},
   "source": [
    "******\n",
    "******\n",
    "## `4- Fixing the Index 🔢`\n",
    "\n",
    "`let’s reset that Index together.`"
   ]
  },
  {
   "cell_type": "markdown",
   "id": "ed62945f",
   "metadata": {},
   "source": [
    "> #### 4.1 Reset the Index\n",
    "- Use the .reset_index() method to get the job done!"
   ]
  },
  {
   "cell_type": "code",
   "execution_count": 11,
   "id": "34ae4884",
   "metadata": {},
   "outputs": [],
   "source": [
    "islamic_countries_df.reset_index(drop=True, inplace=True)"
   ]
  },
  {
   "cell_type": "markdown",
   "id": "cdae1751",
   "metadata": {},
   "source": [
    "- **reset_index():** This method resets the index of the DataFrame.\n",
    "<br> \n",
    "\n",
    "- **drop=True:** Ensures that the old index is not added as a new column.\n",
    "<br>\n",
    "- **inplace=True:** Modifies the DataFrame in place, so you don't need to assign the result to a new variable."
   ]
  },
  {
   "cell_type": "markdown",
   "id": "2fa8ceaa",
   "metadata": {},
   "source": [
    "> #### 4.2 View the updated dataset `dataframe`"
   ]
  },
  {
   "cell_type": "code",
   "execution_count": 12,
   "id": "9c91ea7e",
   "metadata": {
    "scrolled": true
   },
   "outputs": [
    {
     "name": "stdout",
     "output_type": "stream",
     "text": [
      "Dataset after reseting the index:\n",
      "\n",
      "        Country  Population    Area\n",
      "0         Egypt      104.12  1002.0\n",
      "1  Saudi Arabia       35.01  2149.0\n",
      "2     Indonesia      273.52  1913.0\n",
      "3      Pakistan      220.89   881.0\n",
      "4        Turkey       85.04   783.6\n",
      "5      Malaysia       32.37   330.8\n",
      "6       Morocco       36.91   446.6\n",
      "7       Nigeria      206.14   923.8\n"
     ]
    }
   ],
   "source": [
    "print(\"Dataset after reseting the index:\")\n",
    "print()\n",
    "print(islamic_countries_df)"
   ]
  },
  {
   "cell_type": "markdown",
   "id": "959ba65f",
   "metadata": {},
   "source": [
    "******\n",
    "******\n",
    "## `5- Rename the columns 🅰 🅱 🅲`\n",
    "\n",
    "`Let’s give the columns new names to make them clearer and easier to understand!`"
   ]
  },
  {
   "cell_type": "markdown",
   "id": "1271b0c3",
   "metadata": {},
   "source": [
    "> #### 5.1 Rename the columns\n",
    "- Use the .rename() method to get the job done!"
   ]
  },
  {
   "cell_type": "code",
   "execution_count": 13,
   "id": "8776f6a6",
   "metadata": {
    "scrolled": true
   },
   "outputs": [],
   "source": [
    "islamic_countries_df.rename(columns={\"Population\": \"Population_Millions\"},\n",
    "                            inplace=True)"
   ]
  },
  {
   "cell_type": "markdown",
   "id": "39c450b7",
   "metadata": {},
   "source": [
    "> **5.2 Pause and reflect... Can you figure out how to change the `Area` column to be `Area_km2`**\n",
    "- How can we modify the code above to do that task? "
   ]
  },
  {
   "cell_type": "code",
   "execution_count": 14,
   "id": "d1452384",
   "metadata": {},
   "outputs": [],
   "source": [
    "\n",
    "\n",
    "\n",
    "# islamic_countries_df.rename(columns={\"Area\": \"Area_km2\"},\n",
    "#                             inplace=True)"
   ]
  },
  {
   "cell_type": "markdown",
   "id": "7e5a908e",
   "metadata": {},
   "source": [
    "> #### 5.3 View the updated dataset `dataframe`"
   ]
  },
  {
   "cell_type": "code",
   "execution_count": 15,
   "id": "87815604",
   "metadata": {},
   "outputs": [
    {
     "name": "stdout",
     "output_type": "stream",
     "text": [
      "Dataset after renaming the columns:\n",
      "\n",
      "        Country  Population_Millions  Area_km2\n",
      "0         Egypt               104.12    1002.0\n",
      "1  Saudi Arabia                35.01    2149.0\n",
      "2     Indonesia               273.52    1913.0\n",
      "3      Pakistan               220.89     881.0\n",
      "4        Turkey                85.04     783.6\n",
      "5      Malaysia                32.37     330.8\n",
      "6       Morocco                36.91     446.6\n",
      "7       Nigeria               206.14     923.8\n"
     ]
    }
   ],
   "source": [
    "print(\"Dataset after renaming the columns:\")\n",
    "print()\n",
    "print(islamic_countries_df)"
   ]
  },
  {
   "cell_type": "markdown",
   "id": "043ced34",
   "metadata": {},
   "source": [
    "******\n",
    "******\n",
    "## `5- Visualization 📊`\n",
    "\n",
    "`Let’s create a bar chart to visualize the data! This will help us see the distribution of the areas and populations more clearly.`"
   ]
  },
  {
   "cell_type": "markdown",
   "id": "c4e66213",
   "metadata": {},
   "source": [
    "> **5.1 Let’s create a bar chart to visualize our dataset**\n",
    "- We’ll use Matplotlib to build it."
   ]
  },
  {
   "cell_type": "code",
   "execution_count": 16,
   "id": "b7f17634",
   "metadata": {
    "scrolled": true
   },
   "outputs": [
    {
     "data": {
      "image/png": "[encoded data removed]",
      "text/plain": [
       "<Figure size 640x480 with 1 Axes>"
      ]
     },
     "metadata": {},
     "output_type": "display_data"
    }
   ],
   "source": [
    "# Set the chart type to bar.\n",
    "# Use the (Country) column for the x-axis (horizontal) .. \n",
    "# .. and use the (Population_Millions) column for the y-axis (vertical)\n",
    "plt.bar(islamic_countries_df[\"Country\"], islamic_countries_df[\"Population_Millions\"])\n",
    "\n",
    "\n",
    "# Now, let’s add a title to the entire bar chart to describe what it shows.\n",
    "plt.title(\"Population of Islamic Countries\")\n",
    "\n",
    "# Let’s label the axes to make the chart easier to understand:\n",
    "# – Set a label for the x-axis to describe the Countries.\n",
    "# – Set a label for the y-axis to represent the Population in Millions.\n",
    "plt.xlabel(\"Country\")\n",
    "plt.ylabel(\"Population (Millions)\")\n",
    "\n",
    "# Let’s make the chart more readable:\n",
    "#– Rotate the x-axis labels slightly so they don’t overlap.\n",
    "#– Use tight_layout() to automatically adjust spacing and prevent any clipping.\n",
    "plt.xticks(rotation=45)\n",
    "plt.tight_layout()\n",
    "\n",
    "# Finally, show the chart.\n",
    "plt.show()"
   ]
  },
  {
   "cell_type": "markdown",
   "id": "19f6d050",
   "metadata": {
    "scrolled": false
   },
   "source": [
    "> **5.2 Take a moment to think... Can you create another chart for the Areas?**\n",
    "- How can we modify the code above to create another chart? "
   ]
  },
  {
   "cell_type": "code",
   "execution_count": 17,
   "id": "eabb940e",
   "metadata": {},
   "outputs": [
    {
     "data": {
      "image/png": "[encoded data removed]",
      "text/plain": [
       "<Figure size 640x480 with 1 Axes>"
      ]
     },
     "metadata": {},
     "output_type": "display_data"
    }
   ],
   "source": [
    "\n",
    "\n",
    "\n",
    "# plt.bar(islamic_countries_df[\"Country\"], islamic_countries_df[\"Area_km2\"])\n",
    "\n",
    "# plt.title(\"Population of Islamic Countries\")\n",
    "\n",
    "# plt.xlabel(\"Country\")\n",
    "# plt.ylabel(\"Area (km2)\")\n",
    "\n",
    "# plt.xticks(rotation=45)\n",
    "# plt.tight_layout()\n",
    "\n",
    "# plt.show()"
   ]
  },
  {
   "cell_type": "markdown",
   "id": "73e3e712",
   "metadata": {},
   "source": [
    "# 📚 Reflection Activity\n",
    "\n",
    "- Did you notice how missing data affected our dataset? \n",
    "> Imagine if a doctor missed important data in a patient's report! \n",
    "<br> <br>\n",
    "- How did filling in the missing values improve our dataset?  \n",
    "> It makes our analysis more accurate.\n",
    "<br> <br>\n",
    "- What would happen if we didn’t clean our data before analysis?  \n",
    "> The results would be incorrect or misleading.\n",
    "<br> <br>\n",
    "- Why do you think removing duplicate entries is important?  \n",
    "> It helps in avoiding wrong conclusions.\n",
    "<br> <br>\n",
    "- Can you think of other ways data can be messy?  \n",
    "> Like wrong spelling, incorrect formatting, or outdated values."
   ]
  },
  {
   "cell_type": "markdown",
   "id": "fbdcc043",
   "metadata": {},
   "source": [
    "********\n",
    "********\n",
    "# 📝 Quiz\n",
    "Quiz Time! Let's have some fun together!\n",
    "\n",
    "\n",
    "1. Why is it important to clean and organize data? <br>\n",
    "        `A. To make data look pretty\"` <br>\n",
    "        `B. To ensure accurate analysis\"` <br>\n",
    "        `C. To make data harder to read\"` <br> <br>\n",
    "\n",
    "2. Which country in our dataset had missing population data? <br>\n",
    "        `A. Egypt` <br>\n",
    "        `B. Turkey` <br>\n",
    "        `C. Pakistan` <br> <br>\n",
    "\n",
    "3. What method did we use to fill missing values? <br>\n",
    "        `A. Guessing` <br>\n",
    "        `B. Research and replace` <br>\n",
    "        `C. Ignoring them` <br> <br>\n",
    "\n",
    "4. What did we do to handle duplicate data? <br>\n",
    "        `A. We added more duplicates` <br>\n",
    "        `B. We ignored duplicates` <br>\n",
    "        `C. We removed duplicate rows` <br> <br>\n",
    "\n",
    "5. Why should we rename columns? <br>\n",
    "        `A. To make them easier to understand` <br>\n",
    "        `B. To make them longer` <br>\n",
    "        `C. To confuse others`"
   ]
  },
  {
   "cell_type": "markdown",
   "id": "1bc48984",
   "metadata": {},
   "source": [
    "********\n",
    "********\n",
    "#  🏡 Homework\n",
    "\n",
    "1. **Research and find** the population and area of two more Islamic countries to add to the dataset.\n",
    "<br>\n",
    "\n",
    "2. **Create a Python script** to calculate the total population of all the countries in the dataset.\n",
    "<br>\n",
    "3. **Find or create a dataset** with some duplicate values and write a Python script to remove those duplicates.\n",
    "<br>\n",
    "4. **Revise the cleaned dataset from Session 1** to ensure there are no missing values. Check for any incorrect or duplicate data."
   ]
  }
 ],
 "metadata": {
  "kernelspec": {
   "display_name": "Python 3 (ipykernel)",
   "language": "python",
   "name": "python3"
  },
  "language_info": {
   "codemirror_mode": {
    "name": "ipython",
    "version": 3
   },
   "file_extension": ".py",
   "mimetype": "text/x-python",
   "name": "python",
   "nbconvert_exporter": "python",
   "pygments_lexer": "ipython3",
   "version": "3.11.4"
  }
 },
 "nbformat": 4,
 "nbformat_minor": 5
}
