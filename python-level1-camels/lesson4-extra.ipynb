{
 "cells": [
  {
   "cell_type": "markdown",
   "metadata": {},
   "source": [
    "<div style=\"display: flex; align-items: center;\">\n",
    "  <img src=\"https://school-media.s3.amazonaws.com/school/logo.png\" width=\"50\" style=\"margin-right: 10px;\">\n",
    "  <h1 style=\"margin: 0;\">Lesson 4 - Conditions </h1>\n",
    "</div>\n"
   ]
  },
  {
   "cell_type": "markdown",
   "metadata": {},
   "source": [
    "---"
   ]
  },
  {
   "cell_type": "markdown",
   "metadata": {},
   "source": [
    "## **Lesson: Conditions in Python**  \n",
    "*\"Allah does not burden a soul beyond its capacity.\"* (Quran 2:286)"
   ]
  },
  {
   "cell_type": "markdown",
   "metadata": {},
   "source": [
    "### **Question 1 (Basic `if`)**  \n",
    "**Task:** Print \"MashaAllah!\" if `deed` is \"good\".  "
   ]
  },
  {
   "cell_type": "code",
   "execution_count": null,
   "metadata": {},
   "outputs": [],
   "source": [
    "deed = \"good\"\n",
    "# your code here"
   ]
  },
  {
   "cell_type": "markdown",
   "metadata": {},
   "source": [
    "**Hint:** Use `if deed == \"good\":`."
   ]
  },
  {
   "cell_type": "markdown",
   "metadata": {},
   "source": [
    "### **Question 2 (`if-else`)**  \n",
    "**Task:** Print \"Prayer time!\" if `time` is \"Fajr\", else print \"Not Fajr yet.\"  "
   ]
  },
  {
   "cell_type": "code",
   "execution_count": null,
   "metadata": {},
   "outputs": [],
   "source": [
    "time = \"Dhuhr\"\n",
    "# your code here"
   ]
  },
  {
   "cell_type": "markdown",
   "metadata": {},
   "source": [
    "**Hint:** Use `else` after `if`."
   ]
  },
  {
   "cell_type": "markdown",
   "metadata": {},
   "source": [
    "### **Question 3 (`if-elif-else`)**  \n",
    "**Task:** Check `ayah_number` and print:  \n",
    "- \"Ayatul Kursi!\" if it’s 255.  \n",
    "- \"Surah Al-Fatihah\" if it’s 1.  \n",
    "- \"Other ayah\" otherwise.  "
   ]
  },
  {
   "cell_type": "code",
   "execution_count": null,
   "metadata": {},
   "outputs": [],
   "source": [
    "ayah_number = 255\n",
    "# your code here"
   ]
  },
  {
   "cell_type": "markdown",
   "metadata": {},
   "source": [
    "**Hint:** Use `elif` between `if` and `else`."
   ]
  },
  {
   "cell_type": "markdown",
   "metadata": {},
   "source": [
    "### **Question 4 (Logical `and`)**  \n",
    "**Task:** Print \"Eid Mubarak!\" if `month` is \"Shawwal\" **and** `day` is 1.  "
   ]
  },
  {
   "cell_type": "code",
   "execution_count": null,
   "metadata": {},
   "outputs": [],
   "source": [
    "month = \"Shawwal\"\n",
    "day = 1\n",
    "# your code here"
   ]
  },
  {
   "cell_type": "markdown",
   "metadata": {},
   "source": [
    "**Hint:** Combine conditions with `and`."
   ]
  },
  {
   "cell_type": "markdown",
   "metadata": {},
   "source": [
    "### **Question 5 (Find the Mistake)**  \n",
    "**Task:** Fix the error so it prints \"Sunnah\" if `action` is \"Miswak\".  "
   ]
  },
  {
   "cell_type": "code",
   "execution_count": null,
   "metadata": {},
   "outputs": [],
   "source": [
    "action = \"Miswak\"\n",
    "if action = \"Miswak\":\n",
    "    print(\"Sunnah\")"
   ]
  },
  {
   "cell_type": "markdown",
   "metadata": {},
   "source": [
    "**Hint:** Use `==` for comparison."
   ]
  },
  {
   "cell_type": "markdown",
   "metadata": {},
   "source": [
    "### **Question 6 (Nested `if`)**  \n",
    "**Task:** Print \"Tahajjud time!\" if `is_night` is `True` **and** `hour` > 12.  "
   ]
  },
  {
   "cell_type": "code",
   "execution_count": null,
   "metadata": {},
   "outputs": [],
   "source": [
    "is_night = True\n",
    "hour = 3\n",
    "# your code here"
   ]
  },
  {
   "cell_type": "markdown",
   "metadata": {},
   "source": [
    "**Hint:** Nest `if` inside another `if`."
   ]
  },
  {
   "cell_type": "markdown",
   "metadata": {},
   "source": [
    "### **Question 7 (Predict Output)**  \n",
    "**Task:** What will this print? Guess before running!  "
   ]
  },
  {
   "cell_type": "code",
   "execution_count": null,
   "metadata": {},
   "outputs": [],
   "source": [
    "salah = \"Asr\"\n",
    "if salah == \"Fajr\":\n",
    "    print(\"Wake up early!\")\n",
    "elif salah == \"Asr\":\n",
    "    print(\"Middle of the day.\")\n",
    "else:\n",
    "    print(\"Other prayer.\")"
   ]
  },
  {
   "cell_type": "markdown",
   "metadata": {},
   "source": [
    "**Answer:** \"Middle of the day.\""
   ]
  },
  {
   "cell_type": "markdown",
   "metadata": {},
   "source": [
    "---\n",
    "## **Conclusion**  \n",
    "*\"And whoever fears Allah, He will make a way out for him.\"* (Quran 65:2)  \n",
    "\n",
    "Well done! 👏 Practice daily, and remember: Coding is like Salah—consistency is key!"
   ]
  }
 ],
 "metadata": {
  "kernelspec": {
   "display_name": "Python 3",
   "language": "python",
   "name": "python3"
  },
  "language_info": {
   "codemirror_mode": {
    "name": "ipython",
    "version": 3
   },
   "file_extension": ".py",
   "mimetype": "text/x-python",
   "name": "python",
   "nbconvert_exporter": "python",
   "pygments_lexer": "ipython3",
   "version": "3.8.5"
  }
 },
 "nbformat": 4,
 "nbformat_minor": 4
}
