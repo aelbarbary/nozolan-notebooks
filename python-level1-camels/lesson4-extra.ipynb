{
 "cells": [
  {
   "cell_type": "markdown",
   "metadata": {},
   "source": [
    "<div style=\"display: flex; align-items: center;\">\n",
    "  <img src=\"https://school-media.s3.amazonaws.com/school/logo.png\" width=\"50\" style=\"margin-right: 10px;\">\n",
    "  <h1 style=\"margin: 0;\">Lesson 4 - Conditional Statements</h1>\n",
    "</div>\n",
    "\n",
    "### 1. Ask the user to enter a number. If it's 5, print 'High Five!'; if 10, print 'Perfect Ten!'; else print 'Try Again!'\n",
    "*\"Actions are judged by intentions.\" – Hadith*"
   ]
  },
  {
   "cell_type": "code",
   "execution_count": null,
   "metadata": {},
   "outputs": [],
   "source": [
    "# Write your solution here"
   ]
  },
  {
   "cell_type": "markdown",
   "metadata": {},
   "source": [
    "---\n",
    "### 2. Check if a person's age is less than 10: print 'Still young'; if between 10-16: 'Teenager'; else: 'Grown up'.\n",
    "*Islam encourages us to use our time wisely.*"
   ]
  },
  {
   "cell_type": "code",
   "execution_count": null,
   "metadata": {},
   "outputs": [],
   "source": [
    "# Write your solution here"
   ]
  },
  {
   "cell_type": "markdown",
   "metadata": {},
   "source": [
    "---\n",
    "### 3. Create a program that checks if it's prayer time. If it's Fajr time, print 'Wake up for Fajr!'.\n",
    "*\"Prayer is better than sleep.\" – Adhan*"
   ]
  },
  {
   "cell_type": "code",
   "execution_count": null,
   "metadata": {},
   "outputs": [],
   "source": [
    "# Write your solution here"
   ]
  },
  {
   "cell_type": "markdown",
   "metadata": {},
   "source": [
    "---\n",
    "### 4. Ask if today is Friday. If yes, print 'Jumu'ah Mubarak!'; else: 'Prepare for Jumu'ah!'\n",
    "*\"The best day the sun rises on is Friday.\" – Hadith*"
   ]
  },
  {
   "cell_type": "code",
   "execution_count": null,
   "metadata": {},
   "outputs": [],
   "source": [
    "# Write your solution here"
   ]
  },
  {
   "cell_type": "markdown",
   "metadata": {},
   "source": [
    "---\n",
    "### 5. Ask for a fasting day: If 'Monday' or 'Thursday', print 'Sunnah Fast'; else 'Not a Sunnah Fast'.\n",
    "*\"Deeds are shown on Mondays and Thursdays.\" – Hadith*"
   ]
  },
  {
   "cell_type": "code",
   "execution_count": null,
   "metadata": {},
   "outputs": [],
   "source": [
    "# Write your solution here"
   ]
  },
  {
   "cell_type": "markdown",
   "metadata": {},
   "source": [
    "---\n",
    "### 6. Check a student's score. If >=90: 'Excellent'; 70-89: 'Good'; else: 'Keep Trying!'\n",
    "*\"Allah loves excellence in all things.\"*"
   ]
  },
  {
   "cell_type": "code",
   "execution_count": null,
   "metadata": {},
   "outputs": [],
   "source": [
    "# Write your solution here"
   ]
  },
  {
   "cell_type": "markdown",
   "metadata": {},
   "source": [
    "---\n",
    "### 7. Ask the user if they said Bismillah before eating. If yes: 'Well done!'; else: 'Remember next time!'\n",
    "*Saying Bismillah brings barakah.*"
   ]
  },
  {
   "cell_type": "code",
   "execution_count": null,
   "metadata": {},
   "outputs": [],
   "source": [
    "# Write your solution here"
   ]
  },
  {
   "cell_type": "markdown",
   "metadata": {},
   "source": [
    "---\n",
    "### 8. Create a program to check salah count. If 5: 'MashaAllah!'; 3-4: 'Keep it up!'; <3: 'Try harder!'\n",
    "*\"The first thing questioned on the Day of Judgement is prayer.\"*"
   ]
  },
  {
   "cell_type": "code",
   "execution_count": null,
   "metadata": {},
   "outputs": [],
   "source": [
    "# Write your solution here"
   ]
  },
  {
   "cell_type": "markdown",
   "metadata": {},
   "source": [
    "---\n",
    "### 9. Ask for a time of day. If morning: 'Start with gratitude'; afternoon: 'Work hard'; night: 'Time to reflect.'\n",
    "*\"The believer balances his day with purpose.\"*"
   ]
  },
  {
   "cell_type": "code",
   "execution_count": null,
   "metadata": {},
   "outputs": [],
   "source": [
    "# Write your solution here"
   ]
  },
  {
   "cell_type": "markdown",
   "metadata": {},
   "source": [
    "---\n",
    "### 10. Input the name of a prophet. If it's Musa: 'He parted the sea!'; Isa: 'He healed the sick!'; else: 'Great Prophet!'\n",
    "*Learning about the prophets increases our Iman.*"
   ]
  },
  {
   "cell_type": "code",
   "execution_count": null,
   "metadata": {},
   "outputs": [],
   "source": [
    "# Write your solution here"
   ]
  },
  {
   "cell_type": "markdown",
   "metadata": {},
   "source": [
    "---\n",
    "### 11. Check if today is Ramadan. If yes: 'Fast & reflect'; else: 'Prepare your heart.'\n",
    "*Ramadan is the month of mercy.*"
   ]
  },
  {
   "cell_type": "code",
   "execution_count": null,
   "metadata": {},
   "outputs": [],
   "source": [
    "# Write your solution here"
   ]
  },
  {
   "cell_type": "markdown",
   "metadata": {},
   "source": [
    "---\n",
    "### 12. Input a food name. If 'dates': 'Sunnah food!'; if 'milk': 'Healthy choice'; else: 'Eat in moderation.'\n",
    "*The Prophet ﷺ loved dates and milk.*"
   ]
  },
  {
   "cell_type": "code",
   "execution_count": null,
   "metadata": {},
   "outputs": [],
   "source": [
    "# Write your solution here"
   ]
  },
  {
   "cell_type": "markdown",
   "metadata": {},
   "source": [
    "---\n",
    "### 13. Ask the user for the number of rak'ahs. If 2: 'Could be Fajr!'; if 4: 'Maybe Dhuhr, Asr, or Isha'; else: 'Could be Maghrib?'\n",
    "*Know your daily prayers!*"
   ]
  },
  {
   "cell_type": "code",
   "execution_count": null,
   "metadata": {},
   "outputs": [],
   "source": [
    "# Write your solution here"
   ]
  },
  {
   "cell_type": "markdown",
   "metadata": {},
   "source": [
    "---\n",
    "### 14. Input a language. If Arabic: 'Language of the Quran!'; English: 'Use it wisely!'; else: 'Every language is a gift.'\n",
    "*\"Learn Arabic, it strengthens the mind and the deen.\"*"
   ]
  },
  {
   "cell_type": "code",
   "execution_count": null,
   "metadata": {},
   "outputs": [],
   "source": [
    "# Write your solution here"
   ]
  },
  {
   "cell_type": "markdown",
   "metadata": {},
   "source": [
    "---\n",
    "### 15. Check if a person gave charity. If yes: 'May Allah bless you'; else: 'Try to give something today.'\n",
    "*\"Charity does not decrease wealth.\" – Hadith*"
   ]
  },
  {
   "cell_type": "code",
   "execution_count": null,
   "metadata": {},
   "outputs": [],
   "source": [
    "# Write your solution here"
   ]
  },
  {
   "cell_type": "markdown",
   "metadata": {},
   "source": [
    "---\n",
    "### 16. Ask for wudu steps. If complete: 'You're ready for salah!'; if missing: 'Try again!'\n",
    "*\"No salah without wudu.\"*"
   ]
  },
  {
   "cell_type": "code",
   "execution_count": null,
   "metadata": {},
   "outputs": [],
   "source": [
    "# Write your solution here"
   ]
  },
  {
   "cell_type": "markdown",
   "metadata": {},
   "source": [
    "---\n",
    "### 17. Ask what month it is. If Ramadan: 'Time for fasting!'; Dhul-Hijjah: 'Hajj season!'; else: 'Keep worshipping!'\n",
    "*Every month has its blessings.*"
   ]
  },
  {
   "cell_type": "code",
   "execution_count": null,
   "metadata": {},
   "outputs": [],
   "source": [
    "# Write your solution here"
   ]
  },
  {
   "cell_type": "markdown",
   "metadata": {},
   "source": [
    "---\n",
    "### 18. Ask for a good deed. If 'kindness': 'Beautiful akhlaq!'; if 'smiling': 'It's a charity!'; else: 'Every good deed counts!'\n",
    "*\"Even a smile is charity.\" – Hadith*"
   ]
  },
  {
   "cell_type": "code",
   "execution_count": null,
   "metadata": {},
   "outputs": [],
   "source": [
    "# Write your solution here"
   ]
  },
  {
   "cell_type": "markdown",
   "metadata": {},
   "source": [
    "---\n",
    "### 19. Input salah name. If 'Fajr': 'Wake early!'; 'Maghrib': 'Time to break fast!'; else: 'Every prayer is important!'\n",
    "*Never miss your salah.*"
   ]
  },
  {
   "cell_type": "code",
   "execution_count": null,
   "metadata": {},
   "outputs": [],
   "source": [
    "# Write your solution here"
   ]
  },
  {
   "cell_type": "markdown",
   "metadata": {},
   "source": [
    "---\n",
    "### 20. Input a time of day. If night: 'Make dua before sleep'; if dawn: 'Pray Fajr'; else: 'Use your time wisely.'\n",
    "*\"The night prayer is a sign of a believer.\"*"
   ]
  },
  {
   "cell_type": "code",
   "execution_count": null,
   "metadata": {},
   "outputs": [],
   "source": [
    "# Write your solution here"
   ]
  }
 ],
 "metadata": {
  "language_info": {
   "name": "python"
  }
 },
 "nbformat": 4,
 "nbformat_minor": 2
}
