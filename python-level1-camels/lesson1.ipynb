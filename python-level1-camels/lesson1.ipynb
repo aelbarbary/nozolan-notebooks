{
 "cells": [
  {
   "cell_type": "markdown",
   "id": "13656931",
   "metadata": {},
   "source": [
    "<div style=\"display: flex; align-items: center;\">\n",
    "  <img src=\"https://school-media.s3.amazonaws.com/school/logo.png\" width=\"50\" style=\"margin-right: 10px;\">\n",
    "  <h1 style=\"margin: 0;\">Lesson 1 - Python Print Statement</h1>\n",
    "</div>\n",
    "\n",
    "Welcome! Today we'll learn how to use Python's `print()` statement to display messages and even draw pictures!\n",
    "\n",
    "## 1. Print Statement"
   ]
  },
  {
   "cell_type": "code",
   "execution_count": 8,
   "id": "2564dc94",
   "metadata": {},
   "outputs": [
    {
     "name": "stdout",
     "output_type": "stream",
     "text": [
      "Hello World\n"
     ]
    }
   ],
   "source": [
    "\n",
    "print('Hello World')  "
   ]
  },
  {
   "cell_type": "markdown",
   "id": "cbee2c62",
   "metadata": {},
   "source": [
    "### 1.1 Coding Challenge: Greet Someone! 🏆🎯💎\n",
    "Change the greeting in the next cell. Maybe print your name or a greeting to your friend.\n",
    "Click the play button to see your message!\n"
   ]
  },
  {
   "cell_type": "code",
   "execution_count": 2,
   "id": "76bfbb39",
   "metadata": {},
   "outputs": [],
   "source": [
    "# Challenge 1: Write your greeting!\n"
   ]
  },
  {
   "cell_type": "markdown",
   "id": "fbf90b9d",
   "metadata": {},
   "source": [
    "___"
   ]
  },
  {
   "cell_type": "markdown",
   "id": "ec4ed5a9",
   "metadata": {},
   "source": [
    "## 2. Words are Powerful!\n",
    "In Islam, Allah (SWT) says: 'Speak good or remain silent.' (Hadith)\n"
   ]
  },
  {
   "cell_type": "code",
   "execution_count": null,
   "id": "3dc55739",
   "metadata": {},
   "outputs": [],
   "source": [
    "print('Alhamdulillah for everything!')"
   ]
  },
  {
   "cell_type": "markdown",
   "id": "40ae57c1",
   "metadata": {},
   "source": [
    "### 2.1 Coding Challenge: Gratitude List 🏆🎯💎\n",
    "Write 3 things you're grateful for. Use 3 `print()` statements, one for each thing.\n",
    "Example:\n",
    "```python\n",
    "print('Alhamdulillah for my health!')\n",
    "\n",
    "```"
   ]
  },
  {
   "cell_type": "code",
   "execution_count": null,
   "id": "fa061cb8",
   "metadata": {},
   "outputs": [],
   "source": [
    "# Your code here\n"
   ]
  },
  {
   "cell_type": "markdown",
   "id": "f2f44c36",
   "metadata": {},
   "source": [
    "_____"
   ]
  },
  {
   "cell_type": "markdown",
   "id": "90ecfb82",
   "metadata": {},
   "source": [
    "## 3. Drawing Shapes with Python!\n",
    "Now, let's get creative and use Python to draw shapes!\n",
    "You can use `print()` to create patterns, like a triangle, square, or even a smiley face!\n",
    "\n"
   ]
  },
  {
   "cell_type": "code",
   "execution_count": null,
   "id": "b681f7db",
   "metadata": {},
   "outputs": [
    {
     "ename": "",
     "evalue": "",
     "output_type": "error",
     "traceback": [
      "\u001b[1;31mRunning cells with 'Python 3.10.11' requires the ipykernel package.\n",
      "\u001b[1;31mRun the following command to install 'ipykernel' into the Python environment. \n",
      "\u001b[1;31mCommand: '/usr/local/bin/python3 -m pip install ipykernel -U --user --force-reinstall'"
     ]
    }
   ],
   "source": [
    "print(\"  /\\\\\")\n",
    "print(\" /  \\\\\")\n",
    "print(\"/____\\\\\")"
   ]
  },
  {
   "cell_type": "markdown",
   "id": "51ccae4c",
   "metadata": {},
   "source": [
    "### 3.1 Coding Challenge: Make the triangle bigger 🏆🎯💎"
   ]
  },
  {
   "cell_type": "code",
   "execution_count": null,
   "id": "f62f2c4b",
   "metadata": {},
   "outputs": [],
   "source": [
    "# Change this code to make the triangle bigger\n",
    "print(\"  /\\\\\")\n",
    "print(\" /  \\\\\")\n",
    "print(\"/____\\\\\")"
   ]
  },
  {
   "cell_type": "markdown",
   "id": "e6d6935b",
   "metadata": {},
   "source": [
    "____"
   ]
  },
  {
   "cell_type": "markdown",
   "id": "af272716",
   "metadata": {},
   "source": [
    "### Homework 1: Draw a Square\n",
    "Now, let's draw a square! You can print a square using 4 lines of stars like this:\n",
    "\n",
    "Try drawing your square in the next cell! <br/>\n",
    "<img src=\"images/square.png\" width=\"100\"/>\n"
   ]
  },
  {
   "cell_type": "code",
   "execution_count": null,
   "id": "02688489",
   "metadata": {},
   "outputs": [],
   "source": [
    "# Your code here"
   ]
  },
  {
   "cell_type": "markdown",
   "id": "588da023",
   "metadata": {},
   "source": [
    "### Challenge 6: Draw a Smiley Face\n",
    "Let's have some fun! Use the `print()` function to draw a smiley face:\n",
    "\n",
    "<img src=\"images/smiley-face.png\" width=\"150\"/>\n",
    "\n",
    "Go ahead, try drawing your own smiley face in the next cell!"
   ]
  },
  {
   "cell_type": "code",
   "execution_count": null,
   "id": "8c66bd5d",
   "metadata": {},
   "outputs": [],
   "source": [
    "# Your code here\n"
   ]
  },
  {
   "cell_type": "markdown",
   "id": "63cf0921",
   "metadata": {},
   "source": [
    "_____"
   ]
  }
 ],
 "metadata": {
  "kernelspec": {
   "display_name": "Python 3",
   "language": "python",
   "name": "python3"
  },
  "language_info": {
   "codemirror_mode": {
    "name": "ipython",
    "version": 3
   },
   "mimetype": "text/x-python",
   "name": "python",
   "nbconvert_exporter": "python",
   "version": "3.10.11"
  }
 },
 "nbformat": 4,
 "nbformat_minor": 5
}
