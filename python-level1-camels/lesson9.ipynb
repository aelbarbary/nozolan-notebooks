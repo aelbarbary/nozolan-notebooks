{
 "cells": [
  {
   "cell_type": "markdown",
   "metadata": {},
   "source": [
    "# Zakat Calculation Notebook for Students\n",
    "\n",
    "## Introduction\n",
    "Zakat is one of the five pillars of Islam, and it is an obligatory form of charity\n",
    "that Muslims are required to give annually. Zakat is calculated as 2.5% (1/40th) of one's\n",
    "wealth that has been in possession for one lunar year.\n",
    "\n",
    "In this notebook, we will learn how to calculate zakat based on different types of assets\n",
    "like cash, stocks, gold, money owed to you, and debts.\n",
    "\n",
    "## Assets Considered in Zakat Calculation\n",
    "\n",
    "1. **Cash**: All the cash you have on hand or in your bank accounts.\n",
    "2. **Stocks & Investments**: The market value of any stocks or shares you hold.\n",
    "3. **Gold and Silver**: The market value of gold, silver, and jewelry you possess.\n",
    "4. **Money You Are Owed**: Any money that others owe you.\n",
    "5. **Debts**: Subtract any short-term debts that are due for payment.\n",
    "\n",
    "## The Goal\n",
    "Our task is to write a Python program that calculates Zakat based on these assets."
   ]
  },
  {
   "cell_type": "code",
   "execution_count": 1,
   "metadata": {},
   "outputs": [],
   "source": [
    "# Function to calculate Zakat\n",
    "def calculate_zakat(cash, stocks, gold, money_owed, debts):\n",
    "    \"\"\"\n",
    "    This function calculates Zakat based on the user's assets.\n",
    "    \n",
    "    Parameters:\n",
    "    - cash: The amount of cash you own\n",
    "    - stocks: The value of stocks or investments you own\n",
    "    - gold: The value of gold and silver you possess\n",
    "    - money_owed: The total money owed to you\n",
    "    - debts: Any debts you owe\n",
    "    \n",
    "    Returns:\n",
    "    - zakat: The calculated Zakat to be paid (2.5% of total assets minus debts)\n",
    "    \"\"\"\n",
    "    # Calculate total wealth\n",
    "    total_assets = cash + stocks + gold + money_owed\n",
    "\n",
    "    # Subtract any debts\n",
    "    net_wealth = total_assets - debts\n",
    "\n",
    "    # Zakat is 2.5% of the net wealth\n",
    "    zakat = net_wealth * 0.025\n",
    "    return zakat\n",
    "\n",
    "# Example usage\n",
    "cash = 5000\n",
    "stocks = 3000\n",
    "gold = 2000\n",
    "money_owed = 1000\n",
    "debts = 1500\n",
    "\n",
    "zakat = calculate_zakat(cash, stocks, gold, money_owed, debts)\n",
    "print(f\"The Zakat you need to pay is: ${zakat:.2f}\")"
   ]
  },
  {
   "cell_type": "markdown",
   "metadata": {},
   "source": [
    "## Exercise for Students\n",
    "\n",
    "### Problem Statement:\n",
    "Your task is to create a Python program that calculates Zakat based on the following inputs:\n",
    "- Cash you own\n",
    "- Stocks & Investments you own\n",
    "- Gold & Silver you possess\n",
    "- Money owed to you\n",
    "- Debts you owe\n",
    "\n",
    "Write a Python function `calculate_zakat(cash, stocks, gold, money_owed, debts)` that:\n",
    "1. Takes the above inputs.\n",
    "2. Calculates the total assets by adding cash, stocks, gold, and money owed.\n",
    "3. Subtracts the debts.\n",
    "4. Calculates 2.5% of the resulting net wealth as Zakat.\n",
    "5. Returns the Zakat to be paid.\n",
    "\n",
    "### Example Calculation:\n",
    "For example, if:\n",
    "- Cash: $5000\n",
    "- Stocks: $3000\n",
    "- Gold: $2000\n",
    "- Money owed to you: $1000\n",
    "- Debts: $1500\n",
    "\n",
    "The Zakat would be calculated as follows:\n",
    "- Total assets = $5000 + $3000 + $2000 + $1000 = $11,000\n",
    "- Debts = $1500\n",
    "- Net wealth = $11,000 - $1500 = $9,500\n",
    "- Zakat = 2.5% of $9,500 = $237.50\n",
    "\n",
    "**Expected Output**:\n",
    "The function should return `Zakat = $237.50`.\n",
    "\n",
    "### Instructions:\n",
    "1. Write the Python function.\n",
    "2. Test it with different values for `cash`, `stocks`, `gold`, `money_owed`, and `debts`.\n",
    "3. Print the Zakat you need to pay.\n",
    "\n",
    "You can also test the program by changing the values of cash, stocks, and debts to match different scenarios."
   ]
  },
  {
   "cell_type": "code",
   "execution_count": 2,
   "metadata": {},
   "outputs": [
    {
     "name": "stdout",
     "output_type": "stream",
     "text": [
      "The Zakat you need to pay is: $237.50\n"
     ]
    }
   ],
   "source": [
    "# Example: Testing the function with different inputs\n",
    "\n",
    "# Test Case 1\n",
    "cash = 12000\n",
    "stocks = 5000\n",
    "gold = 4000\n",
    "money_owed = 3000\n",
    "debts = 2000\n",
    "zakat = calculate_zakat(cash, stocks, gold, money_owed, debts)\n",
    "print(f\"Test Case 1: The Zakat you need to pay is: ${zakat:.2f}\")\n",
    "\n",
    "# Test Case 2\n",
    "cash = 8000\n",
    "stocks = 2000\n",
    "gold = 1000\n",
    "money_owed = 500\n",
    "debts = 3000\n",
    "zakat = calculate_zakat(cash, stocks, gold, money_owed, debts)\n",
    "print(f\"Test Case 2: The Zakat you need to pay is: ${zakat:.2f}\")\n",
    "\n",
    "# Test Case 3\n",
    "cash = 15000\n",
    "stocks = 8000\n",
    "gold = 3000\n",
    "money_owed = 6000\n",
    "debts = 4000\n",
    "zakat = calculate_zakat(cash, stocks, gold, money_owed, debts)\n",
    "print(f\"Test Case 3: The Zakat you need to pay is: ${zakat:.2f}\")"
   ]
  },
  {
   "cell_type": "markdown",
   "metadata": {},
   "source": [
    "### Conclusion:\n",
    "This notebook provides a simple example of how to calculate Zakat based on different assets you may own. You can now experiment with different values and test the function to see how it works. Remember, Zakat is a way of purifying wealth, so it is important to calculate it correctly and pay it to those in need."
   ]
  }
 ],
 "metadata": {
  "kernelspec": {
   "display_name": "Python 3",
   "language": "python",
   "name": "python3"
  },
  "language_info": {
   "codemirror_mode": {
    "name": "ipython",
    "version": 3
   },
   "file_extension": ".py",
   "mimetype": "text/x-python",
   "name": "python",
   "nbconvert_exporter": "python",
   "version": "3.8.5"
  }
 },
 "nbformat": 4,
 "nbformat_minor": 5
}
