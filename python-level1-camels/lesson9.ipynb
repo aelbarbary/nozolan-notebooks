{
 "cells": [
  {
   "cell_type": "markdown",
   "id": "aeb4c396",
   "metadata": {},
   "source": [
    "\n",
    "# 🟣 Python Level 1 Final Project\n",
    "**Goal:** Build 4 small functions and a tiny demo using Pythonز\n",
    "\n",
    "> ✨ Remember: write clean code, small steps, and test often."
   ]
  },
  {
   "cell_type": "markdown",
   "id": "d1b4ff02",
   "metadata": {},
   "source": [
    "\n",
    "## What you'll build\n",
    "You will create **four functions**.\n",
    "We gave you **function names and comments**, but **no solutions** — that part is **your job** 🎯\n",
    "\n",
    "1. `rakat_count(prayer_name)` → return the number of **farḍ rakaʿāt** (obligatory units) for a prayer.\n",
    "2. `calculate_zakat(savings)` → basic 2.5% on savings if above **nisab**.\n",
    "3. `days_until_ramadan_2026()` → how many days from *today* until **Ramadan 2026** (estimated date).\n",
    "4. `random_verse_or_hadith()` → pick a random short **ayah** or **hadith** from a list.\n",
    "\n",
    "> 💡 Keep it simple! You can add extra features after you pass the basic tests.\n"
   ]
  },
  {
   "cell_type": "markdown",
   "id": "fbfa3c3c",
   "metadata": {},
   "source": [
    "\n",
    "## Friendly ground rules\n",
    "- Use **simple variable names** and **clear comments**.\n",
    "- Test your code with small examples.\n",
    "- If you get an error, **read it slowly** and fix one thing at a time.\n",
    "- Ask for help if you get stuck — that's how real engineers learn.\n"
   ]
  },
  {
   "cell_type": "markdown",
   "id": "aa74fbb5",
   "metadata": {},
   "source": [
    "\n",
    "## Tasks Overview\n",
    "### Task 1 — Rakaʿāt Function\n",
    "- Input: `\"fajr\"`, `\"dhuhr\"`, `\"asr\"`, `\"maghrib\"`, `\"isha\"` (any case: Fajr/fajr)\n",
    "- Output: **integer** of farḍ rakaʿāt only (2, 4, 4, 3, 4)\n",
    "- Handle bad input kindly (e.g., return `None` or print a helpful message).\n",
    "\n",
    "### Task 2 — Zakāt Function\n",
    "- Input: `savings` (number), `nisab` (number), `rate` (default 0.025)\n",
    "- Output: **number** of zakat due (0 if below nisab)\n",
    "- Non‑negative numbers only.\n",
    "\n",
    "### Task 3 — Days Until Ramadan 2026\n",
    "- Ramadan begins after **moon‑sighting**, but we’ll use a class **estimate**.\n",
    "- Teacher can set: `ESTIMATED_RAMADAN_2026_START = date(2026, 2, 18)` (or change if needed).\n",
    "- Output: **integer** days (can be negative if the date already passed).\n",
    "\n",
    "### Task 4 — Random Ayah/Hadith\n",
    "- Make two short lists: `AYAT`, `AHADITH` with tiny quotes + references.\n",
    "- Pick **one at random** and return **what it is** (`\"ayah\"` or `\"hadith\"`) **and** the text.\n"
   ]
  },
  {
   "cell_type": "code",
   "execution_count": null,
   "id": "bcc23026",
   "metadata": {},
   "outputs": [],
   "source": [
    "\n",
    "# ✅ Starter imports (DON'T remove)\n",
    "import random\n",
    "from datetime import date\n",
    "\n",
    "# You can change this if your class picks a different estimated date.\n",
    "ESTIMATED_RAMADAN_2026_START = date(2026, 2, 18)\n",
    "\n",
    "# Add your short quotes here later in Task 4.\n",
    "AYAT = [\n",
    "    # (\"text here\", \"Qur'an X:Y\"),\n",
    "]\n",
    "\n",
    "AHADITH = [\n",
    "    # (\"text here\", \"Bukhari/Muslim/Tirmidhi ...\"),\n",
    "]\n",
    "\n",
    "def rakat_count(prayer_name: str):\n",
    "    # TODO: Implement this function.\n",
    "    pass\n",
    "\n",
    "def calculate_zakat(saving: float):\n",
    "    # TODO: Implement this function.\n",
    "    pass\n",
    "\n",
    "def days_until_ramadan_2026():\n",
    "    # TODO: write your code here\n",
    "    pass\n",
    "\n",
    "def random_verse_or_hadith():\n",
    "    # TODO: write your code here\n",
    "    pass\n",
    "\n",
    "\n",
    "# calling rakat_count to get the number of rakats for each prayer\n",
    "rakat_count(\"Fajr\")\n",
    "rakat_count(\"Dhuhr\")\n",
    "rakat_count(\"Asr\")\n",
    "rakat_count(\"Maghrib\")\n",
    "rakat_count(\"Isha\")\n",
    "\n",
    "# calling calculate_zakat to get the zakat\n",
    "calculate_zakat(1000)\n",
    "\n",
    "# calling days_until_ramadan_2026 to get the number of days until Ramadan 2026\n",
    "days_until_ramadan_2026()\n",
    "\n",
    "# calling random_verse_or_hadith to get a random verse or hadith\n",
    "random_verse_or_hadith()\n",
    "random_verse_or_hadith()\n"
   ]
  }
 ],
 "metadata": {
  "kernelspec": {
   "display_name": "Python 3",
   "language": "python",
   "name": "python3"
  },
  "language_info": {
   "codemirror_mode": {
    "name": "ipython",
    "version": 3
   },
   "file_extension": ".py",
   "mimetype": "text/x-python",
   "name": "python",
   "nbconvert_exporter": "python",
   "version": "3.8.5"
  }
 },
 "nbformat": 4,
 "nbformat_minor": 5
}
