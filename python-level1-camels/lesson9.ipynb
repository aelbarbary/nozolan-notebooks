{
 "cells": [
  {
   "cell_type": "markdown",
   "id": "9fe7bf80",
   "metadata": {},
   "source": [
    "<div style=\"display: flex; align-items: center;\">\n",
    "  <img src=\"https://school-media.s3.amazonaws.com/school/logo.png\" width=\"50\" style=\"margin-right: 10px;\">\n",
    "  <h1 style=\"margin: 0;\">Lesson 9 - Calculating Zakat</h1>\n",
    "</div>\n",
    "\n",
    "## Introduction\n",
    "Zakat is one of the five pillars of Islam, and it is an obligatory form of charity\n",
    "that Muslims are required to give annually. Zakat is calculated as 2.5% (1/40th) of one's\n",
    "wealth that has been in possession for one lunar year.\n",
    "\n",
    "In this notebook, we will learn how to calculate zakat based on different types of assets\n",
    "like cash, stocks, gold, money owed to you, and debts.\n",
    "\n",
    "## Assets Considered in Zakat Calculation\n",
    "\n",
    "1. **Cash**: All the cash you have on hand or in your bank accounts.\n",
    "2. **Stocks & Investments**: The market value of any stocks or shares you hold.\n",
    "3. **Gold and Silver**: The market value of gold, silver, and jewelry you possess.\n",
    "4. **Money You Are Owed**: Any money that others owe you.\n",
    "5. **Debts**: Subtract any short-term debts that are due for payment.\n",
    "\n",
    "## The Goal\n",
    "Our task is to write a Python program that calculates Zakat based on these assets."
   ]
  },
  {
   "cell_type": "code",
   "execution_count": null,
   "id": "1d5949c5",
   "metadata": {},
   "outputs": [],
   "source": [
    "# Function to calculate Zakat\n",
    "def calculate_zakat(cash, stocks, gold, money_owed, debts):\n",
    "    # Calculate total wealth\n",
    "    \n",
    "\n",
    "    # Subtract any debts\n",
    "    \n",
    "\n",
    "    # Zakat is 2.5% of the net wealth\n",
    "    zakat - 0 # calculate zakat here\n",
    "    return zakat\n",
    "\n",
    "# Example usage\n",
    "cash = 5000\n",
    "stocks = 3000\n",
    "gold = 2000\n",
    "money_owed = 1000\n",
    "debts = 1500\n",
    "\n",
    "zakat = calculate_zakat(cash, stocks, gold, money_owed, debts)\n",
    "print(f\"The Zakat you need to pay is: ${zakat:.2f}\")"
   ]
  },
  {
   "cell_type": "code",
   "execution_count": null,
   "id": "0ae821ae",
   "metadata": {},
   "outputs": [],
   "source": []
  }
 ],
 "metadata": {
  "kernelspec": {
   "display_name": "Python 3",
   "language": "python",
   "name": "python3"
  },
  "language_info": {
   "codemirror_mode": {
    "name": "ipython",
    "version": 3
   },
   "file_extension": ".py",
   "mimetype": "text/x-python",
   "name": "python",
   "nbconvert_exporter": "python",
   "version": "3.8.5"
  }
 },
 "nbformat": 4,
 "nbformat_minor": 5
}
