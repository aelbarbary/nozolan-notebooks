{
  "cells": [
    {
      "cell_type": "markdown",
      "id": "282b251f",
      "metadata": {},
      "source": [
        "<div style=\"display: flex; align-items: center;\">\n",
        "  <img src=\"https://school-media.s3.amazonaws.com/school/logo.png\" width=\"50\" style=\"margin-right: 10px;\">\n",
        "  <h1 style=\"margin: 0;\">Lesson 2 - Variables and Data types</h1>\n",
        "</div>\n",
        "\n",
        "## 1. Refresher: Print Statement 🏆🎯💎\n",
        "\n",
        "Can you print your name, age, and what you like to do on the weekend?\n"
      ]
    },
    {
      "cell_type": "code",
      "execution_count": null,
      "id": "8082a528",
      "metadata": {},
      "outputs": [],
      "source": [
        "# yout code here"
      ]
    },
    {
      "cell_type": "markdown",
      "id": "5560bd93",
      "metadata": {},
      "source": [
        "_____"
      ]
    },
    {
      "cell_type": "markdown",
      "id": "b31bb74d",
      "metadata": {},
      "source": [
        "## 2- Variables\n",
        "\n",
        "Variables are like containers that store values. "
      ]
    },
    {
      "cell_type": "code",
      "execution_count": null,
      "id": "8e73e61e",
      "metadata": {},
      "outputs": [
        {
          "name": "stdout",
          "output_type": "stream",
          "text": [
            "10\n"
          ]
        }
      ],
      "source": [
        "age = 10  \n",
        "\n",
        "print(age)"
      ]
    },
    {
      "cell_type": "markdown",
      "id": "51a45ec2",
      "metadata": {},
      "source": [
        "🎮 **Variables can store different kinds of data!** We can also store text, called **strings**, in a variable.\n",
        "\n",
        "Let's create a new variable to store a word (a string) and print it!"
      ]
    },
    {
      "cell_type": "code",
      "execution_count": 2,
      "id": "608939bf",
      "metadata": {},
      "outputs": [
        {
          "name": "stdout",
          "output_type": "stream",
          "text": [
            "Ahmed\n"
          ]
        }
      ],
      "source": [
        "name = \"Ahmed\" \n",
        "\n",
        "print(name) "
      ]
    },
    {
      "cell_type": "markdown",
      "id": "f43e98de",
      "metadata": {},
      "source": [
        "### 2.1 Coding Challenge 🏆🎯💎\n",
        "\n",
        "Create two variables one for your name and the other one for your favorite color and print both on the screen\n"
      ]
    },
    {
      "cell_type": "code",
      "execution_count": null,
      "id": "ee928317",
      "metadata": {},
      "outputs": [],
      "source": [
        "# Your code here"
      ]
    },
    {
      "cell_type": "markdown",
      "id": "3c13ae4a",
      "metadata": {},
      "source": [
        "_____"
      ]
    },
    {
      "cell_type": "markdown",
      "id": "b31bb74d",
      "metadata": {},
      "source": [
        "## 3- Data Types\n",
        "\n",
        "1. Integer (Whole numbers)\n",
        "  2. Float (Numbers with decimals)\n",
        "  3. String (Text)\n",
        "  4. Boolean (True or False)"
      ]
    },
    {
      "cell_type": "code",
      "execution_count": 3,
      "id": "8e73e61e",
      "metadata": {},
      "outputs": [
        {
          "name": "stdout",
          "output_type": "stream",
          "text": [
            "Age: 10\n",
            "Height: 1.5\n",
            "Greeting: Assalamo Alaykom\n",
            "Is student: True\n",
            "Is teacher: False\n"
          ]
        }
      ],
      "source": [
        "age = 10  # Integer because it's a whole number.\n",
        "print(\"Age:\", age) \n",
        "\n",
        "height = 1.5  # Float because it has a decimal point.\n",
        "print(\"Height:\", height)  \n",
        "\n",
        "greeting = \"Assalamo Alaykom\"  # This is a string (a sequence of characters).\n",
        "print(\"Greeting:\", greeting)  \n",
        "\n",
        "is_student = True  # Boolean value (True or False).\n",
        "is_teacher = False  # Another Boolean value.\n",
        "print(\"Is student:\", is_student)  \n",
        "print(\"Is teacher:\", is_teacher) "
      ]
    },
    {
      "cell_type": "markdown",
      "id": "16e2429a",
      "metadata": {},
      "source": [
        "____\n",
        "## 4- Adding two numeric variables"
      ]
    },
    {
      "cell_type": "code",
      "execution_count": null,
      "id": "92646147",
      "metadata": {},
      "outputs": [
        {
          "name": "stdout",
          "output_type": "stream",
          "text": [
            "Total (saving1 + saving2): 30\n",
            "My name is Ahmed and I am 10 years old.\n"
          ]
        }
      ],
      "source": [
        "saving1 = 10\n",
        "saving2 = 20\n",
        "\n",
        "total = saving1 + saving2 \n",
        "print(\"Total: \", total)  "
      ]
    },
    {
      "cell_type": "markdown",
      "id": "0dab2ad5",
      "metadata": {},
      "source": [
        "_____"
      ]
    },
    {
      "cell_type": "markdown",
      "id": "b8aad283",
      "metadata": {},
      "source": [
        "## 5- Coding Challenge 🏆🎯💎\n",
        "Can you create the following variables and print them out?\n",
        "\n",
        "1. A variable to store your **height** (a float).\n",
        "2. A variable to store whether you're a **student** or not (a boolean).\n",
        "3. A variable to store your **city** (a string).\n",
        "\n",
        "Then, print a sentence that includes all the information, like this:\n",
        "I am [height] meters tall, I live in [city], and it is [True/False] that I am a student.\n",
        "\n",
        "Try it below!"
      ]
    },
    {
      "cell_type": "code",
      "execution_count": null,
      "id": "b56960e2",
      "metadata": {},
      "outputs": [],
      "source": [
        "# yout code here"
      ]
    },
    {
      "cell_type": "markdown",
      "id": "33a6ade2",
      "metadata": {},
      "source": [
        "_____"
      ]
    },
    {
      "cell_type": "markdown",
      "id": "8e67740c",
      "metadata": {},
      "source": [
        "## 6- Homework:\n",
        "Create variables for your name, your age, and whether you prayed Fajr today. Use print statements to display each variable.\n",
        "\n",
        "Example: Name: Ahmed Age: 10 Prayed Fajr Today: True\n",
        "\n",
        "Print Statements: \"My name is Ahmed\" \"I am 10 years old\" \"I prayed Fajr today: True\""
      ]
    },
    {
      "cell_type": "code",
      "execution_count": 12,
      "id": "a5bfd1a9",
      "metadata": {},
      "outputs": [],
      "source": [
        "# yout code here"
      ]
    }
  ],
  "metadata": {
    "kernelspec": {
      "display_name": "Python 3",
      "language": "python",
      "name": "python3"
    },
    "language_info": {
      "codemirror_mode": {
        "name": "ipython",
        "version": 3
      },
      "file_extension": ".py",
      "mimetype": "text/x-python",
      "name": "python",
      "nbconvert_exporter": "python",
      "pygments_lexer": "ipython3",
      "version": "3.12.5"
    }
  },
  "nbformat": 4,
  "nbformat_minor": 5
}
