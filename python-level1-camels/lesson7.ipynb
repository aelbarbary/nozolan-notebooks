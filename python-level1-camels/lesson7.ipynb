{
 "cells": [
  {
   "cell_type": "markdown",
   "id": "a97c3e32",
   "metadata": {},
   "source": [
    "<div style=\"display: flex; align-items: center;\">\n",
    "  <img src=\"https://school-media.s3.amazonaws.com/school/logo.png\" width=\"50\" style=\"margin-right: 10px;\">\n",
    "  <h1 style=\"margin: 0;\">Lesson 7 - Lists & Dictionaries</h1>\n",
    "</div>\n",
    "\n",
    "> Keep adab: treat names with respect. These examples are for learning code only.\n"
   ]
  },
  {
   "cell_type": "markdown",
   "id": "daaec747",
   "metadata": {},
   "source": [
    "\n",
    "## 1) Quick Refresher (1 minute)\n",
    "Run the code and predict what will print.\n"
   ]
  },
  {
   "cell_type": "code",
   "execution_count": null,
   "id": "a4d891b7",
   "metadata": {},
   "outputs": [],
   "source": [
    "\n",
    "# Example\n",
    "age = 13\n",
    "if age >= 18:\n",
    "    print(\"You are an adult.\")\n",
    "else:\n",
    "    print(\"You are a minor.\")\n"
   ]
  },
  {
   "cell_type": "markdown",
   "id": "ff90c66d",
   "metadata": {},
   "source": [
    "\n",
    "**Mini‑Challenge:** Change `age` to 18, then to 8. What prints each time?\n"
   ]
  },
  {
   "cell_type": "markdown",
   "id": "047c7829",
   "metadata": {},
   "source": [
    "\n",
    "## 2) Lists — ordered groups\n",
    "\n",
    "A **list** keeps items in order and uses square brackets `[]`.\n"
   ]
  },
  {
   "cell_type": "code",
   "execution_count": null,
   "id": "3f28d503",
   "metadata": {},
   "outputs": [],
   "source": [
    "\n",
    "# Example: a list of prophets' names (peace be upon them all)\n",
    "prophets = [\"Nuh\", \"Ibrahim\", \"Musa\", \"Isa\", \"Muhammad\"]\n",
    "print(prophets)          # whole list\n",
    "print(prophets[0])       # first item\n",
    "print(prophets[-1])      # last item\n",
    "print(len(prophets))     # how many items\n"
   ]
  },
  {
   "cell_type": "markdown",
   "id": "ae745025",
   "metadata": {},
   "source": [
    "\n",
    "**Mini‑Challenge:**  \n",
    "1) Print the second and third names using indexes.  \n",
    "2) Print the first **three** names using a slice.\n"
   ]
  },
  {
   "cell_type": "markdown",
   "id": "f8ccbec7",
   "metadata": {},
   "source": [
    "\n",
    "### Add, change, and remove items\n"
   ]
  },
  {
   "cell_type": "code",
   "execution_count": null,
   "id": "93da995b",
   "metadata": {},
   "outputs": [
    {
     "name": "stdout",
     "output_type": "stream",
     "text": [
      "After adding: ['Nuh', 'Hud', 'Ibrahim', 'Musa', 'Isa', 'Muhammad', 'Yusuf']\n",
      "After updating: ['Nuh', 'Hud', 'Ismail', 'Musa', 'Isa', 'Muhammad', 'Yusuf']\n",
      "Removed: Yusuf\n",
      "Now: ['Nuh', 'Hud', 'Ismail', 'Musa', 'Isa', 'Muhammad']\n",
      "After remove: ['Nuh', 'Ismail', 'Musa', 'Isa', 'Muhammad']\n"
     ]
    }
   ],
   "source": [
    "\n",
    "# Example\n",
    "prophets = [\"Nuh\", \"Ibrahim\", \"Musa\", \"Isa\", \"Muhammad\"]\n",
    "\n",
    "prophets.append(\"Yusuf\")      # add to the end\n",
    "prophets.insert(1, \"Hud\")     # add at position 1\n",
    "print(\"After adding:\", prophets)\n",
    "\n",
    "prophets[2] = \"Ismail\"        # update an item\n",
    "print(\"After updating:\", prophets)\n",
    "\n",
    "removed = prophets.pop()      # remove last and return it\n",
    "print(\"Removed:\", removed)\n",
    "print(\"Now:\", prophets)\n",
    "\n",
    "prophets.remove(\"Hud\")        # remove by value (first match)\n",
    "print(\"After remove:\", prophets)\n"
   ]
  },
  {
   "cell_type": "markdown",
   "id": "7b9cfc48",
   "metadata": {},
   "source": [
    "\n",
    "**Mini‑Challenge:**  \n",
    "- Start with `friends = [\"Ali\", \"Fatimah\", \"Maryam\"]`.  \n",
    "- Add one more friend to the **front** of the list.  \n",
    "- Change the last friend to `\"Zayd\"`.  \n",
    "- Remove `\"Ali\"` by value.  \n",
    "- Print the final list.\n"
   ]
  },
  {
   "cell_type": "markdown",
   "id": "de12ea05",
   "metadata": {},
   "source": [
    "\n",
    "### Looping through a list\n"
   ]
  },
  {
   "cell_type": "code",
   "execution_count": null,
   "id": "ee591626",
   "metadata": {},
   "outputs": [
    {
     "name": "stdout",
     "output_type": "stream",
     "text": [
      "0: Prophet Nuh (peace be upon him)\n",
      "1: Prophet Ibrahim (peace be upon him)\n",
      "2: Prophet Musa (peace be upon him)\n",
      "3: Prophet Isa (peace be upon him)\n",
      "4: Prophet Muhammad (peace be upon him)\n"
     ]
    }
   ],
   "source": [
    "\n",
    "# Example: print each name with a nice message\n",
    "prophets = [\"Nuh\", \"Ibrahim\", \"Musa\", \"Isa\", \"Muhammad\"]\n",
    "for name in prophets:\n",
    "    print(f\"Prophet {name} (peace be upon him)\")\n"
   ]
  },
  {
   "cell_type": "markdown",
   "id": "e78f029d",
   "metadata": {},
   "source": [
    "\n",
    "**Mini‑Challenge:**  \n",
    "Use a `for` loop to print the **index** and the **name** like:  \n",
    "`0: Nuh`, `1: Ibrahim`, ...\n",
    "(Hint: try `enumerate(prophets)`)\n"
   ]
  },
  {
   "cell_type": "markdown",
   "id": "99b6106c",
   "metadata": {},
   "source": [
    "\n",
    "## 3) Dictionaries — labeled data\n",
    "\n",
    "A **dictionary** maps **keys** to **values** and uses curly braces `{}`.\n"
   ]
  },
  {
   "cell_type": "code",
   "execution_count": null,
   "id": "ad66aa9f",
   "metadata": {},
   "outputs": [
    {
     "name": "stdout",
     "output_type": "stream",
     "text": [
      "Iraq\n",
      "Keys: ['Nuh', 'Musa', 'Muhammad', 'Isa']\n",
      "Values: ['Iraq', 'Egypt', 'Saudi Arabia', 'Palestine']\n",
      "Items: [('Nuh', 'Iraq'), ('Musa', 'Egypt'), ('Muhammad', 'Saudi Arabia'), ('Isa', 'Palestine')]\n"
     ]
    }
   ],
   "source": [
    "\n",
    "# Example: dictionary of years of prophethood (traditional figures, for coding practice only)\n",
    "prophet_country = {\n",
    "    \"Nuh\": \"Iraq\",\n",
    "    \"Musa\": \"Egypt\",\n",
    "    \"Muhammad\": \"Saudi Arabia\",\n",
    "    \"Isa\": \"Palestine\"\n",
    "}\n",
    "\n",
    "print(prophet_country[\"Nuh\"])       # access by key\n",
    "print(\"Keys:\", list(prophet_country.keys()))\n",
    "print(\"Values:\", list(prophet_country.values()))\n",
    "print(\"Items:\", list(prophet_country.items()))\n"
   ]
  },
  {
   "cell_type": "markdown",
   "id": "55523f15",
   "metadata": {},
   "source": [
    "\n",
    "**Mini‑Challenge:**  \n",
    "- Add `\"Ibrahim\" to the prophets list.  \n",
    "- Print how many entries are in the dictionary using `len(...)`."
   ]
  },
  {
   "cell_type": "markdown",
   "id": "e2789a51",
   "metadata": {},
   "source": [
    "\n",
    "### Safe access, add, update, delete\n"
   ]
  },
  {
   "cell_type": "code",
   "execution_count": null,
   "id": "306dde1c",
   "metadata": {},
   "outputs": [
    {
     "name": "stdout",
     "output_type": "stream",
     "text": [
      "None\n",
      "Not found\n",
      "After add/update: {'Nuh': 'Iraq', 'Musa': 'Egypt', 'Muhammad': 'Saudi Arabia', 'Isa': 'Palestine', 'Ibrahim': 'Iraq'}\n",
      "After delete: {'Nuh': 'Iraq', 'Musa': 'Egypt', 'Isa': 'Palestine', 'Ibrahim': 'Iraq'}\n"
     ]
    }
   ],
   "source": [
    "\n",
    "prophet_country = {\n",
    "    \"Nuh\": \"Iraq\",\n",
    "    \"Musa\": \"Egypt\",\n",
    "    \"Muhammad\": \"Saudi Arabia\",\n",
    "    \"Isa\": \"Palestine\"\n",
    "}\n",
    "\n",
    "print(prophet_country.get(\"Ibrahim\"))      # None if missing\n",
    "print(prophet_country.get(\"Ibrahim\", \"Not found\"))  # default message\n",
    "\n",
    "prophet_country[\"Ibrahim\"] = \"Iraq\"            # add new key\n",
    "prophet_country[\"Musa\"] = \"Egypt\"               # update existing key (same value here)\n",
    "print(\"After add/update:\", prophet_country)\n",
    "\n",
    "del prophet_country[\"Muhammad\"]            # delete a key\n",
    "print(\"After delete:\", prophet_country)\n"
   ]
  },
  {
   "cell_type": "markdown",
   "id": "910458e8",
   "metadata": {},
   "source": [
    "\n",
    "## 4) Quiz — What prints? (10 questions)\n",
    "\n",
    "Write the **exact output** you expect for each snippet.\n"
   ]
  },
  {
   "cell_type": "markdown",
   "id": "6c10ab74",
   "metadata": {},
   "source": [
    "**Question 1:**"
   ]
  },
  {
   "cell_type": "code",
   "execution_count": null,
   "id": "6ba8fba3",
   "metadata": {},
   "outputs": [
    {
     "name": "stdout",
     "output_type": "stream",
     "text": [
      "A\n",
      "D\n"
     ]
    }
   ],
   "source": [
    "\n",
    "# Q1\n",
    "a = [\"A\", \"B\", \"C\"]\n",
    "a.append(\"D\")\n",
    "print(a[0])\n",
    "print(a[-1])\n"
   ]
  },
  {
   "cell_type": "markdown",
   "id": "5d61c541",
   "metadata": {},
   "source": [
    "**Question 2:**"
   ]
  },
  {
   "cell_type": "code",
   "execution_count": null,
   "id": "0a44d1fd",
   "metadata": {},
   "outputs": [
    {
     "name": "stdout",
     "output_type": "stream",
     "text": [
      "4\n",
      "['Ibrahim', 'Musa']\n"
     ]
    }
   ],
   "source": [
    "\n",
    "# Q2\n",
    "names = [\"Nuh\", \"Ibrahim\", \"Musa\", \"Isa\"]\n",
    "print(len(names))\n",
    "print(names[1:3])\n"
   ]
  },
  {
   "cell_type": "markdown",
   "id": "bcfac5a0",
   "metadata": {},
   "source": [
    "**Question 3:**"
   ]
  },
  {
   "cell_type": "code",
   "execution_count": null,
   "id": "25e2e999",
   "metadata": {},
   "outputs": [
    {
     "name": "stdout",
     "output_type": "stream",
     "text": [
      "8\n",
      "[2, 4, 6]\n"
     ]
    }
   ],
   "source": [
    "\n",
    "# Q3\n",
    "nums = [2, 4, 6, 8]\n",
    "x = nums.pop()\n",
    "print(x)\n",
    "print(nums)\n"
   ]
  },
  {
   "cell_type": "markdown",
   "id": "569bdea0",
   "metadata": {},
   "source": [
    "**Question 4:**"
   ]
  },
  {
   "cell_type": "code",
   "execution_count": null,
   "id": "25808305",
   "metadata": {},
   "outputs": [
    {
     "name": "stdout",
     "output_type": "stream",
     "text": [
      "True\n",
      "False\n"
     ]
    }
   ],
   "source": [
    "\n",
    "# Q4\n",
    "p = {\"Nuh\": 950, \"Musa\": 40}\n",
    "print(\"Nuh\" in p)\n",
    "print(\"Isa\" in p)\n"
   ]
  },
  {
   "cell_type": "markdown",
   "id": "ea15d5dd",
   "metadata": {},
   "source": [
    "**Question 5:**"
   ]
  },
  {
   "cell_type": "code",
   "execution_count": null,
   "id": "89493fd0",
   "metadata": {},
   "outputs": [
    {
     "name": "stdout",
     "output_type": "stream",
     "text": [
      "Missing\n",
      "23\n"
     ]
    }
   ],
   "source": [
    "\n",
    "# Q5\n",
    "p = {\"Muhammad\": 23, \"Isa\": 33}\n",
    "print(p.get(\"Musa\", \"Missing\"))\n",
    "print(p.get(\"Muhammad\", \"Missing\"))\n"
   ]
  },
  {
   "cell_type": "markdown",
   "id": "49e23bf8",
   "metadata": {},
   "source": [
    "**Question 6:**"
   ]
  },
  {
   "cell_type": "code",
   "execution_count": null,
   "id": "16bcb5e2",
   "metadata": {},
   "outputs": [
    {
     "name": "stdout",
     "output_type": "stream",
     "text": [
      "['pencil', 'pen', 'notebook', 'bag']\n"
     ]
    }
   ],
   "source": [
    "\n",
    "# Q6\n",
    "items = [\"pen\", \"book\", \"bag\"]\n",
    "items.insert(0, \"pencil\")\n",
    "items[2] = \"notebook\"\n",
    "print(items)\n"
   ]
  },
  {
   "cell_type": "markdown",
   "id": "b666b233",
   "metadata": {},
   "source": [
    "**Question 7:**"
   ]
  },
  {
   "cell_type": "code",
   "execution_count": null,
   "id": "db3543bc",
   "metadata": {},
   "outputs": [
    {
     "name": "stdout",
     "output_type": "stream",
     "text": [
      "3\n",
      "3\n"
     ]
    }
   ],
   "source": [
    "\n",
    "# Q7\n",
    "d = {\"a\": 1, \"b\": 2}\n",
    "d[\"c\"] = d[\"a\"] + d[\"b\"]\n",
    "print(len(d))\n",
    "print(d[\"c\"])\n"
   ]
  },
  {
   "cell_type": "markdown",
   "id": "416c6868",
   "metadata": {},
   "source": [
    "**Question 8:**"
   ]
  },
  {
   "cell_type": "code",
   "execution_count": null,
   "id": "04c4af04",
   "metadata": {},
   "outputs": [
    {
     "name": "stdout",
     "output_type": "stream",
     "text": [
      "Ibrahim\n"
     ]
    }
   ],
   "source": [
    "\n",
    "# Q8\n",
    "prophets = [\"Nuh\", \"Ibrahim\", \"Musa\"]\n",
    "for i, name in enumerate(prophets):\n",
    "    if i == 1:\n",
    "        print(name)\n"
   ]
  },
  {
   "cell_type": "markdown",
   "id": "9f0642bb",
   "metadata": {},
   "source": [
    "**Question 9:**"
   ]
  },
  {
   "cell_type": "code",
   "execution_count": null,
   "id": "7c3a2cbe",
   "metadata": {},
   "outputs": [
    {
     "name": "stdout",
     "output_type": "stream",
     "text": [
      "['x', 'z']\n"
     ]
    }
   ],
   "source": [
    "\n",
    "# Q9\n",
    "d = {\"x\": 10, \"y\": 20, \"z\": 30}\n",
    "del d[\"y\"]\n",
    "print(sorted(d.keys()))\n"
   ]
  },
  {
   "cell_type": "markdown",
   "id": "f3ee8712",
   "metadata": {},
   "source": [
    "**Question 10:**"
   ]
  },
  {
   "cell_type": "code",
   "execution_count": null,
   "id": "725a7f3d",
   "metadata": {},
   "outputs": [
    {
     "name": "stdout",
     "output_type": "stream",
     "text": [
      "10\n"
     ]
    }
   ],
   "source": [
    "\n",
    "# Q10\n",
    "scores = {\"Ali\": 7, \"Zayd\": 9}\n",
    "scores[\"Ali\"] += 3\n",
    "print(scores[\"Ali\"])\n"
   ]
  }
 ],
 "metadata": {
  "kernelspec": {
   "display_name": "Python 3",
   "language": "python",
   "name": "python3"
  },
  "language_info": {
   "codemirror_mode": {
    "name": "ipython",
    "version": 3
   },
   "file_extension": ".py",
   "mimetype": "text/x-python",
   "name": "python",
   "nbconvert_exporter": "python",
   "pygments_lexer": "ipython3",
   "version": "3.12.5"
  }
 },
 "nbformat": 4,
 "nbformat_minor": 5
}
