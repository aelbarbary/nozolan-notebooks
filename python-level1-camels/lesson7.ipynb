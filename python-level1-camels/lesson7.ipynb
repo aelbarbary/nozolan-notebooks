{
 "cells": [
  {
   "cell_type": "markdown",
   "id": "4d866457",
   "metadata": {},
   "source": [
    "# Lesson 7 - List and Dictionary\n",
    "\n",
    "## 1. Refresher\n",
    "Write a Python program that defines a function called check_age. The function should take one argument, age, and:\n",
    "\n",
    "If age is 18 or older, print \"You are an adult.\"\n",
    "If age is less than 18, print \"You are a minor.\""
   ]
  },
  {
   "cell_type": "code",
   "execution_count": null,
   "id": "f7d06d99",
   "metadata": {},
   "outputs": [
    {
     "name": "stdout",
     "output_type": "stream",
     "text": [
      "You are an adult.\n"
     ]
    }
   ],
   "source": [
    "# your code here"
   ]
  },
  {
   "cell_type": "markdown",
   "id": "c99d95f6",
   "metadata": {},
   "source": [
    "----"
   ]
  },
  {
   "cell_type": "markdown",
   "id": "d15a78fc",
   "metadata": {},
   "source": [
    "## 2. List\n",
    "\n",
    "A list in Python is an ordered collection of items. Lists are created using square brackets [].\n"
   ]
  },
  {
   "cell_type": "code",
   "execution_count": 7,
   "id": "aecc61e3",
   "metadata": {},
   "outputs": [
    {
     "name": "stdout",
     "output_type": "stream",
     "text": [
      "['apple', 'banana', 'cherry']\n",
      "apple\n",
      "banana\n",
      "cherry\n"
     ]
    }
   ],
   "source": [
    "fruits = [\"apple\", \"banana\", \"cherry\"]\n",
    "\n",
    "print(fruits)\n",
    "print(fruits[0])\n",
    "print(fruits[1])\n",
    "print(fruits[2])\n"
   ]
  },
  {
   "cell_type": "markdown",
   "id": "5ed86816",
   "metadata": {},
   "source": [
    "---"
   ]
  },
  {
   "cell_type": "markdown",
   "id": "adc8a514",
   "metadata": {},
   "source": [
    "## 3. Adding an item to a List\n"
   ]
  },
  {
   "cell_type": "code",
   "execution_count": 9,
   "id": "b45d8d1a",
   "metadata": {},
   "outputs": [
    {
     "name": "stdout",
     "output_type": "stream",
     "text": [
      "After adding: ['apple', 'banana', 'cherry', 'orange']\n"
     ]
    }
   ],
   "source": [
    "\n",
    "fruits = [\"apple\", \"banana\", \"cherry\"]\n",
    "\n",
    "fruits.append(\"orange\") \n",
    "print(\"After adding:\", fruits)"
   ]
  },
  {
   "cell_type": "markdown",
   "id": "c73b521c",
   "metadata": {},
   "source": [
    "------"
   ]
  },
  {
   "cell_type": "markdown",
   "id": "0e082f0d",
   "metadata": {},
   "source": [
    "## 4. Updating an item in a list"
   ]
  },
  {
   "cell_type": "code",
   "execution_count": 10,
   "id": "ec16a9c9",
   "metadata": {},
   "outputs": [
    {
     "name": "stdout",
     "output_type": "stream",
     "text": [
      "After updating: ['apple', 'blueberry', 'cherry', 'orange']\n"
     ]
    }
   ],
   "source": [
    "fruits[1] = \"blueberry\" \n",
    "print(\"After updating:\", fruits)"
   ]
  },
  {
   "cell_type": "markdown",
   "id": "f4b4a43d",
   "metadata": {},
   "source": [
    "-----"
   ]
  },
  {
   "cell_type": "markdown",
   "id": "5e794dcf",
   "metadata": {},
   "source": [
    "## 5. Deleting an item in a list"
   ]
  },
  {
   "cell_type": "code",
   "execution_count": 11,
   "id": "5afadafc",
   "metadata": {},
   "outputs": [
    {
     "name": "stdout",
     "output_type": "stream",
     "text": [
      "After deleting: ['apple', 'blueberry', 'orange']\n"
     ]
    }
   ],
   "source": [
    "fruits.remove(\"cherry\")  \n",
    "print(\"After deleting:\", fruits)"
   ]
  },
  {
   "cell_type": "markdown",
   "id": "90574a1f",
   "metadata": {},
   "source": [
    "-----"
   ]
  },
  {
   "cell_type": "markdown",
   "id": "e6d94bb2",
   "metadata": {},
   "source": [
    "## 6 Quiz\n",
    "What will be the output of the following code?\n",
    "\n",
    "```\n",
    "fruits = [\"apple\", \"banana\", \"cherry\"]\n",
    "fruits.append(\"orange\")\n",
    "print(fruits)\n",
    "```\n",
    "\n",
    "1. ['apple', 'banana', 'cherry']\n",
    "2. ['apple', 'banana', 'cherry', 'orange']\n",
    "3. ['banana', 'cherry', 'orange']\n",
    "4.  ['apple', 'banana', 'orange']"
   ]
  },
  {
   "cell_type": "code",
   "execution_count": 12,
   "id": "ee83eb4e",
   "metadata": {},
   "outputs": [
    {
     "name": "stdout",
     "output_type": "stream",
     "text": [
      "['apple', 'banana', 'cherry', 'orange']\n"
     ]
    }
   ],
   "source": [
    "# try it here\n",
    "fruits = [\"apple\", \"banana\", \"cherry\"]\n",
    "fruits.append(\"orange\")\n",
    "print(fruits)"
   ]
  },
  {
   "cell_type": "markdown",
   "id": "40a65ebb",
   "metadata": {},
   "source": [
    "-----"
   ]
  },
  {
   "cell_type": "markdown",
   "id": "5b37bc5a",
   "metadata": {},
   "source": [
    "## 7 Dictionary \n",
    "\n",
    "A dictionary in Python is like a closet where each shelf (key) has a label, and inside each shelf, there are different items (values) like shirts, pants, or shoes."
   ]
  },
  {
   "cell_type": "markdown",
   "id": "226f32bb",
   "metadata": {},
   "source": []
  },
  {
   "cell_type": "code",
   "execution_count": 15,
   "id": "4fb88a15",
   "metadata": {},
   "outputs": [
    {
     "name": "stdout",
     "output_type": "stream",
     "text": [
      "['Red Shirt', 'Blue Shirt', 'White Shirt']\n"
     ]
    }
   ],
   "source": [
    "closet = {\n",
    "    \"Shirts\": [\"Red Shirt\", \"Blue Shirt\", \"White Shirt\"],\n",
    "    \"Shorts\": [\"Black Shorts\", \"Grey Shorts\"],\n",
    "    \"Pants\": [\"Jeans\", \"Khakis\"]\n",
    "}\n",
    "\n",
    "print(closet[\"Shirts\"])"
   ]
  },
  {
   "cell_type": "markdown",
   "id": "beeb152c",
   "metadata": {},
   "source": [
    "----"
   ]
  },
  {
   "cell_type": "markdown",
   "id": "87fb7d30",
   "metadata": {},
   "source": [
    "## 8 Add to Dictionary\n"
   ]
  },
  {
   "cell_type": "code",
   "execution_count": 17,
   "id": "ed27737f",
   "metadata": {},
   "outputs": [
    {
     "name": "stdout",
     "output_type": "stream",
     "text": [
      "['Red Shirt', 'Blue Shirt', 'White Shirt']\n",
      "['Red Shirt', 'Blue Shirt', 'White Shirt', 'Green Shirt']\n"
     ]
    }
   ],
   "source": [
    "closet = {\n",
    "    \"Shirts\": [\"Red Shirt\", \"Blue Shirt\", \"White Shirt\"],\n",
    "    \"Shorts\": [\"Black Shorts\", \"Grey Shorts\"],\n",
    "    \"Pants\": [\"Jeans\", \"Khakis\"]\n",
    "}\n",
    "\n",
    "print(closet[\"Shirts\"]) \n",
    "\n",
    "closet[\"Shirts\"].append(\"Green Shirt\")\n",
    "print(closet[\"Shirts\"])  "
   ]
  },
  {
   "cell_type": "markdown",
   "id": "35de1408",
   "metadata": {},
   "source": [
    "----"
   ]
  },
  {
   "cell_type": "code",
   "execution_count": 18,
   "id": "5047fed5",
   "metadata": {},
   "outputs": [],
   "source": [
    "## 9 Update item in a Dictionary"
   ]
  },
  {
   "cell_type": "code",
   "execution_count": 21,
   "id": "1595321d",
   "metadata": {},
   "outputs": [
    {
     "name": "stdout",
     "output_type": "stream",
     "text": [
      "['Red Shirt', 'Black Shirt', 'White Shirt']\n"
     ]
    }
   ],
   "source": [
    "closet = {\n",
    "    \"Shirts\": [\"Red Shirt\", \"Blue Shirt\", \"White Shirt\"],\n",
    "    \"Shorts\": [\"Black Shorts\", \"Grey Shorts\"],\n",
    "    \"Pants\": [\"Jeans\", \"Khakis\"]\n",
    "}\n",
    "\n",
    "\n",
    "closet[\"Shirts\"][1] = \"Black Shirt\"\n",
    "print(closet[\"Shirts\"]) "
   ]
  },
  {
   "cell_type": "markdown",
   "id": "7363f1d2",
   "metadata": {},
   "source": [
    "----"
   ]
  },
  {
   "cell_type": "markdown",
   "id": "095b1644",
   "metadata": {},
   "source": [
    "## Quiz\n",
    "\n",
    "What will be the output?\n",
    "\n",
    "```\n",
    "person = {\"Name\": \"Alice\", \"Age\": 25}\n",
    "print(person[\"Name\"])\n",
    "```\n",
    "\n",
    "1. \"Alice\"\n",
    "2. 25\n",
    "3. KeyError"
   ]
  },
  {
   "cell_type": "markdown",
   "id": "368aa68b",
   "metadata": {},
   "source": []
  }
 ],
 "metadata": {
  "kernelspec": {
   "display_name": "Python 3",
   "language": "python",
   "name": "python3"
  },
  "language_info": {
   "codemirror_mode": {
    "name": "ipython",
    "version": 3
   },
   "file_extension": ".py",
   "mimetype": "text/x-python",
   "name": "python",
   "nbconvert_exporter": "python",
   "pygments_lexer": "ipython3",
   "version": "3.12.5"
  }
 },
 "nbformat": 4,
 "nbformat_minor": 5
}
