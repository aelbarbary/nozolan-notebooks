{
 "cells": [
  {
   "cell_type": "markdown",
   "id": "cb961312",
   "metadata": {},
   "source": [
    "# Lesson 8 - Libraries\n",
    "\n",
    "## 1. Refresher\n",
    "Write a Python program that defines a list of the Wilful Five prophets and then write a loop to print their names\n"
   ]
  },
  {
   "cell_type": "code",
   "execution_count": null,
   "id": "f5c5f88b",
   "metadata": {},
   "outputs": [],
   "source": [
    "# your code here"
   ]
  },
  {
   "cell_type": "markdown",
   "id": "3dd7f4d2",
   "metadata": {},
   "source": [
    "----"
   ]
  },
  {
   "cell_type": "markdown",
   "id": "5bf18b23",
   "metadata": {},
   "source": [
    "## 2. Turtle\n",
    "Turtle Python is a fun tool in Python that lets you draw pictures and designs on the computer using a \"turtle.\" You can tell the turtle what to do, like moving forward, turning, or drawing shapes, and it will do it on the screen. It's a great way for kids to learn coding by making cool drawings while having fun!\n"
   ]
  },
  {
   "cell_type": "markdown",
   "id": "624c8dba",
   "metadata": {},
   "source": [
    "___"
   ]
  },
  {
   "cell_type": "markdown",
   "id": "b9a24b0b",
   "metadata": {},
   "source": [
    "# 3. Exercise: Drawing a Line\n",
    "\n",
    "Copy the code below and paste it into the Turtle Python Compiler to see the result.\n",
    "https://pythonsandbox.com/turtle"
   ]
  },
  {
   "cell_type": "code",
   "execution_count": null,
   "id": "175fd7ed",
   "metadata": {},
   "outputs": [],
   "source": [
    "\n",
    "import turtle\n",
    "\n",
    "t = turtle.Turtle()\n",
    "\n",
    "t.forward(100)  \n",
    "\n",
    "turtle.done()\n"
   ]
  },
  {
   "cell_type": "markdown",
   "id": "9acb93e8",
   "metadata": {},
   "source": [
    "## 3.1 Quiz 📝\n",
    "\n",
    "Change the code to draw a longer line (e.g., 200 units)."
   ]
  },
  {
   "cell_type": "markdown",
   "id": "2e7544ed",
   "metadata": {},
   "source": [
    "____"
   ]
  },
  {
   "cell_type": "markdown",
   "id": "cf52e354",
   "metadata": {},
   "source": [
    "# 4. Exercise- Drawing a Square\n"
   ]
  },
  {
   "cell_type": "code",
   "execution_count": null,
   "id": "bfd36ba0",
   "metadata": {},
   "outputs": [],
   "source": [
    "import turtle\n",
    "\n",
    "\n",
    "t = turtle.Turtle()\n",
    "\n",
    "for _ in range(4):\n",
    "    t.forward(100)\n",
    "    t.left(90)\n",
    "\n",
    "turtle.done()"
   ]
  },
  {
   "cell_type": "markdown",
   "id": "36be5f0a",
   "metadata": {},
   "source": [
    "## 4.1 Quiz 📝\n",
    "\n",
    "- Change the code to draw a triangle instead of a square.\n",
    "- How many sides should the turtle move, and what angle should it turn?"
   ]
  },
  {
   "cell_type": "markdown",
   "id": "7be66bd3",
   "metadata": {},
   "source": [
    "----"
   ]
  },
  {
   "cell_type": "markdown",
   "id": "5f95d7fe",
   "metadata": {},
   "source": [
    "# 5. Exercise- Changing the Color of the Turtle's Path\n"
   ]
  },
  {
   "cell_type": "code",
   "execution_count": null,
   "id": "fea563bf",
   "metadata": {},
   "outputs": [],
   "source": [
    "import turtle\n",
    "\n",
    "t = turtle.Turtle()\n",
    "\n",
    "\n",
    "t.pencolor(\"blue\")\n",
    "\n",
    "\n",
    "for _ in range(4):\n",
    "    t.forward(100)\n",
    "    t.left(90)\n",
    "\n",
    "\n",
    "turtle.done()\n"
   ]
  },
  {
   "cell_type": "markdown",
   "id": "3f923730",
   "metadata": {},
   "source": [
    "## 5.1 Quiz 📝\n",
    "\n",
    "- Change the pen color to red.\n",
    "- What other colors can you try for the turtle's path?\n",
    "____"
   ]
  },
  {
   "cell_type": "markdown",
   "id": "11ee560a",
   "metadata": {},
   "source": [
    "# 6. Exercise: Drawing Multiple Squares"
   ]
  },
  {
   "cell_type": "code",
   "execution_count": null,
   "id": "1c438197",
   "metadata": {},
   "outputs": [],
   "source": [
    "import turtle\n",
    "\n",
    "t = turtle.Turtle()\n",
    "\n",
    "\n",
    "for _ in range(4):\n",
    "    for _ in range(4):\n",
    "        t.forward(100)\n",
    "        t.left(90)\n",
    "    t.left(45) \n",
    "\n",
    "turtle.done()\n"
   ]
  },
  {
   "cell_type": "markdown",
   "id": "3ab5189b",
   "metadata": {},
   "source": [
    "## 6.1 Quiz 📝\n",
    "\n",
    "- Change the code to draw six squares instead of four.\n",
    "- What happens if you change the rotation angle from 45 to 30?\n",
    "____"
   ]
  },
  {
   "cell_type": "markdown",
   "id": "0e35aa0e",
   "metadata": {},
   "source": [
    "# 7. Exercise: Drawing a Star"
   ]
  },
  {
   "cell_type": "code",
   "execution_count": null,
   "id": "31fe2dce",
   "metadata": {},
   "outputs": [],
   "source": [
    "import turtle\n",
    "\n",
    "t = turtle.Turtle()\n",
    "\n",
    "\n",
    "for _ in range(5):\n",
    "    t.forward(100)\n",
    "    t.right(144) \n",
    "\n",
    "\n",
    "turtle.done()\n"
   ]
  },
  {
   "cell_type": "markdown",
   "id": "0b2edde3",
   "metadata": {},
   "source": [
    "## 7.1 Quiz 📝\n",
    "\n",
    "- Change the star so that it has more points (e.g., 8-pointed star). What happens if you change the angle from 144 to another number?\n",
    "- Can you draw a star with different sized lines?\n",
    "____\n",
    "\n"
   ]
  },
  {
   "cell_type": "markdown",
   "id": "c9fdfe17",
   "metadata": {},
   "source": [
    "# 8. Exercise: Spirograph Pattern"
   ]
  },
  {
   "cell_type": "code",
   "execution_count": null,
   "id": "120e8448",
   "metadata": {},
   "outputs": [],
   "source": [
    "import turtle\n",
    "\n",
    "\n",
    "t = turtle.Turtle()\n",
    "\n",
    "t.speed(10)\n",
    "\n",
    "for _ in range(36):\n",
    "    t.circle(100)\n",
    "    t.left(10)\n",
    "\n",
    "\n",
    "turtle.done()\n"
   ]
  },
  {
   "cell_type": "markdown",
   "id": "be77b2b2",
   "metadata": {},
   "source": [
    "## 8.1 Quiz 📝\n",
    "\n",
    "- Change the circle radius to 50 and observe how the pattern changes.\n",
    "- Experiment with the angle and the number of loops (e.g., change 36 to another number). How does the pattern change?\n",
    "____\n",
    "\n"
   ]
  },
  {
   "cell_type": "markdown",
   "id": "98739cf8",
   "metadata": {},
   "source": [
    "# 8. Exercise: Drawing a Colorful Pattern"
   ]
  },
  {
   "cell_type": "code",
   "execution_count": null,
   "id": "0c6a67a3",
   "metadata": {},
   "outputs": [],
   "source": [
    "import turtle\n",
    "\n",
    "screen = turtle.Screen()\n",
    "screen.bgcolor(\"black\")\n",
    "\n",
    "t = turtle.Turtle()\n",
    "\n",
    "t.speed(0)\n",
    "\n",
    "colors = [\"cyan\", \"magenta\", \"yellow\", \"lime\", \"orange\", \"pink\"]\n",
    "\n",
    "for i in range(200):\n",
    "    t.pencolor(colors[i % 6])  \n",
    "    t.forward(i) \n",
    "    t.left(50)  \n",
    "\n",
    "turtle.done()\n"
   ]
  },
  {
   "cell_type": "code",
   "execution_count": null,
   "id": "6981145e",
   "metadata": {},
   "outputs": [],
   "source": []
  }
 ],
 "metadata": {
  "kernelspec": {
   "display_name": "Python 3",
   "language": "python",
   "name": "python3"
  },
  "language_info": {
   "codemirror_mode": {
    "name": "ipython",
    "version": 3
   },
   "file_extension": ".py",
   "mimetype": "text/x-python",
   "name": "python",
   "nbconvert_exporter": "python",
   "pygments_lexer": "ipython3",
   "version": "3.12.5"
  }
 },
 "nbformat": 4,
 "nbformat_minor": 5
}
