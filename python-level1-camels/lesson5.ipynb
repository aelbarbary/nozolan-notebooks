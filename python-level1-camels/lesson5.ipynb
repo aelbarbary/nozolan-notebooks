{
 "cells": [
  {
   "cell_type": "markdown",
   "id": "6a92836d",
   "metadata": {},
   "source": [
    "<div style=\"display: flex; align-items: center;\">\n",
    "  <img src=\"https://school-media.s3.amazonaws.com/school/logo.png\" width=\"50\" style=\"margin-right: 10px;\">\n",
    "  <h1 style=\"margin: 0;\">Lesson 5 - Loops</h1>\n",
    "</div>\n",
    "\n",
    "## 1. Refresher\n",
    "\n",
    "Create a simple number guessing game where the program picks a random number, and the player has to guess it. The program will give hints like \"Too high\" or \"Too low\" until the player guesses the correct number.\n",
    "\n",
    "Steps:\n",
    "- Use input() to ask the player for their guess.\n",
    "- Use a variable to store the secret number (you can start with a fixed number, e.g., 7).\n",
    "- Use if-elif-else conditions to check if the guess is correct, too high, or too low.\n",
    "- Use print() to give feedback to the player."
   ]
  },
  {
   "cell_type": "code",
   "execution_count": null,
   "id": "5b9acfd0",
   "metadata": {},
   "outputs": [],
   "source": [
    "# your code here\n"
   ]
  },
  {
   "cell_type": "markdown",
   "id": "9f94025b",
   "metadata": {},
   "source": [
    "----"
   ]
  },
  {
   "cell_type": "markdown",
   "id": "07d8424e",
   "metadata": {},
   "source": [
    "# 2. For Loops \n",
    "\n",
    "A loop is like a magic trick in programming that lets you do the same thing over and over again without having to write the same instructions many times. It’s like telling a robot, \"Do this task 10 times,\" instead of saying the same thing 10 times in a row.\n",
    "\n",
    "\n",
    "Try it Out:\n"
   ]
  },
  {
   "cell_type": "code",
   "execution_count": null,
   "id": "db3ee517",
   "metadata": {},
   "outputs": [],
   "source": [
    "# Your code here\n",
    "for i in range(5):\n",
    "    print(\"Alhamdolelah\")"
   ]
  },
  {
   "cell_type": "markdown",
   "id": "a7c681b3",
   "metadata": {},
   "source": [
    "---"
   ]
  },
  {
   "cell_type": "markdown",
   "id": "ff2dd449",
   "metadata": {},
   "source": [
    "# 3. Quiz #1\n",
    "\n",
    "Complete this code to print the numbers from 1 to 10\n",
    "\n"
   ]
  },
  {
   "cell_type": "code",
   "execution_count": null,
   "id": "8e630e3c",
   "metadata": {},
   "outputs": [],
   "source": [
    "for i in range(1,11):\n",
    "   # your code here"
   ]
  },
  {
   "cell_type": "markdown",
   "id": "e5883cc3",
   "metadata": {},
   "source": [
    "------"
   ]
  },
  {
   "cell_type": "markdown",
   "id": "19ee6557",
   "metadata": {},
   "source": [
    "## 4. Quiz #2\n",
    "What is the output of this function"
   ]
  },
  {
   "cell_type": "code",
   "execution_count": null,
   "id": "db98885d",
   "metadata": {},
   "outputs": [],
   "source": [
    "for i in range(1,10):\n",
    "    print(i * \"*\")    "
   ]
  },
  {
   "cell_type": "markdown",
   "id": "2dc86a1e",
   "metadata": {},
   "source": [
    "-----"
   ]
  },
  {
   "cell_type": "markdown",
   "id": "5e24e1c9",
   "metadata": {},
   "source": [
    "## 5. For loop to print Prayers Names\n"
   ]
  },
  {
   "cell_type": "code",
   "execution_count": null,
   "id": "dc4d6a92",
   "metadata": {},
   "outputs": [],
   "source": [
    "prayers = [\"Fajr\", \"Zuhr\", \"Asr\", \"Maghrib\", \"Ishaa\"]\n",
    "\n",
    "for prayer in prayers:\n",
    "    print(prayer)"
   ]
  },
  {
   "cell_type": "markdown",
   "id": "9d2f68e2",
   "metadata": {},
   "source": [
    "---"
   ]
  },
  {
   "cell_type": "markdown",
   "id": "8aa47aa8",
   "metadata": {},
   "source": [
    "# 6. Difference Between For and While Loops\n",
    "\n",
    "## For Loop\n",
    "A for loop is like saying, \"Do this task for each item in a list or a range.\" It’s great when you know exactly how many times you want to repeat something."
   ]
  },
  {
   "cell_type": "code",
   "execution_count": null,
   "id": "27557dd7",
   "metadata": {},
   "outputs": [],
   "source": [
    "for number in range(1, 6): \n",
    "    print(\"Counting:\", number)"
   ]
  },
  {
   "cell_type": "markdown",
   "id": "0a6bd40d",
   "metadata": {},
   "source": [
    "## While Loop\n",
    "A while loop is like saying, \"Keep doing this task until something happens.\" It’s great when you don’t know how many times you need to repeat something."
   ]
  },
  {
   "cell_type": "code",
   "execution_count": 54,
   "id": "8e766f1d",
   "metadata": {},
   "outputs": [
    {
     "name": "stdout",
     "output_type": "stream",
     "text": [
      "I keep memorizing for the iteration 1\n",
      "I keep memorizing for the iteration 2\n",
      "I keep memorizing for the iteration 3\n",
      "I keep memorizing for the iteration 4\n",
      "I keep memorizing for the iteration 5\n",
      "I keep memorizing for the iteration 6\n",
      "I keep memorizing for the iteration 7\n",
      "I keep memorizing for the iteration 8\n",
      "I keep memorizing for the iteration 9\n",
      "I keep memorizing for the iteration 10\n"
     ]
    }
   ],
   "source": [
    "memorized_my_quran = False\n",
    "number = 1 \n",
    "\n",
    "while not memorized_my_quran:  \n",
    "    print(\"I keep memorizing for the iteration\", number)\n",
    "    number += 1\n",
    "\n",
    "    # Imagine you memorized your quran homework aftrer the 10 iteration, set memorized_my_quran to true\n",
    "    if number > 10:  \n",
    "        memorized_my_quran = True"
   ]
  },
  {
   "cell_type": "markdown",
   "id": "8050c175",
   "metadata": {},
   "source": [
    "---"
   ]
  },
  {
   "cell_type": "markdown",
   "id": "bbd6bcd1",
   "metadata": {},
   "source": [
    "# 7. The Break Statement\n",
    "\n",
    "The break statement is like a \"stop button\" for loops. When you use break inside a loop, it immediately stops the loop, even if the loop isn’t finished yet. It’s like saying, \"Okay, we’re done here—let’s move on!\""
   ]
  },
  {
   "cell_type": "code",
   "execution_count": 55,
   "id": "1170fd82",
   "metadata": {},
   "outputs": [
    {
     "name": "stdout",
     "output_type": "stream",
     "text": [
      "1\n",
      "2\n",
      "3\n",
      "4\n",
      "5\n"
     ]
    }
   ],
   "source": [
    "for i in range(1, 10):\n",
    "    print(i)\n",
    "    if i == 5:\n",
    "        break"
   ]
  },
  {
   "cell_type": "markdown",
   "id": "26c11b82",
   "metadata": {},
   "source": [
    "----"
   ]
  },
  {
   "cell_type": "markdown",
   "id": "f48775aa",
   "metadata": {},
   "source": [
    "# 8. The Continue Statement\n",
    "The continue statement in Python is like a skip button in a game. When Python sees continue, it jumps over the current loop step and moves to the next one."
   ]
  },
  {
   "cell_type": "code",
   "execution_count": 58,
   "id": "0bb627cd",
   "metadata": {},
   "outputs": [
    {
     "name": "stdout",
     "output_type": "stream",
     "text": [
      "1\n",
      "2\n",
      "4\n",
      "5\n",
      "6\n",
      "7\n",
      "8\n",
      "9\n"
     ]
    }
   ],
   "source": [
    "for i in range(1, 10):  \n",
    "    if i == 3:\n",
    "        continue  \n",
    "    print(i)"
   ]
  },
  {
   "cell_type": "markdown",
   "id": "d6f82c99",
   "metadata": {},
   "source": [
    "----"
   ]
  },
  {
   "cell_type": "markdown",
   "id": "c80f809f",
   "metadata": {},
   "source": [
    "# 9. The Nested Loop\n",
    "\n",
    "A nested loop is when you put a loop inside another loop—just like a clock has a big hand for minutes and a small hand for hours! The outer loop runs first, and for each time it runs, the inner loop runs completely."
   ]
  },
  {
   "cell_type": "code",
   "execution_count": 71,
   "id": "ad055c9c",
   "metadata": {},
   "outputs": [
    {
     "name": "stdout",
     "output_type": "stream",
     "text": [
      "Student 1 is counting:\n",
      "0 1 2 3 4 5 6 7 8 9 10 \n",
      "\n",
      "Student 2 is counting:\n",
      "0 1 2 3 4 5 6 7 8 9 10 \n",
      "\n",
      "Student 3 is counting:\n",
      "0 1 2 3 4 5 6 7 8 9 10 \n",
      "\n",
      "Student 4 is counting:\n",
      "0 1 2 3 4 5 6 7 8 9 10 \n",
      "\n"
     ]
    }
   ],
   "source": [
    "for student in range(1, 5):  \n",
    "    print(f\"Student {student} is counting:\")\n",
    "\n",
    "    for number in range(11):  \n",
    "        print(number, end = \" \") \n",
    "    \n",
    "    print(\"\\n\") # new line"
   ]
  },
  {
   "cell_type": "markdown",
   "id": "f70495b9",
   "metadata": {},
   "source": [
    "___"
   ]
  },
  {
   "cell_type": "markdown",
   "id": "ffe67c00",
   "metadata": {},
   "source": [
    "# 10. Homework\n",
    "\n",
    "Create a python code to print the multiplication table from 1 to 10"
   ]
  },
  {
   "cell_type": "code",
   "execution_count": null,
   "id": "05103113",
   "metadata": {},
   "outputs": [
    {
     "name": "stdout",
     "output_type": "stream",
     "text": [
      " 1  2  3  4  5  6  7  8  9 10 \n",
      "\n",
      " 2  4  6  8 10 12 14 16 18 20 \n",
      "\n",
      " 3  6  9 12 15 18 21 24 27 30 \n",
      "\n",
      " 4  8 12 16 20 24 28 32 36 40 \n",
      "\n",
      " 5 10 15 20 25 30 35 40 45 50 \n",
      "\n",
      " 6 12 18 24 30 36 42 48 54 60 \n",
      "\n",
      " 7 14 21 28 35 42 49 56 63 70 \n",
      "\n",
      " 8 16 24 32 40 48 56 64 72 80 \n",
      "\n",
      " 9 18 27 36 45 54 63 72 81 90 \n",
      "\n",
      "10 20 30 40 50 60 70 80 90 100 \n",
      "\n"
     ]
    }
   ],
   "source": [
    "\n",
    "for i in range(1, 11): \n",
    "    for j in range(1, 11):  \n",
    "        result = i * j\n",
    "        print(f\"{result:2}\", end = \" \") \n",
    "    print(\"\\n\") "
   ]
  }
 ],
 "metadata": {
  "kernelspec": {
   "display_name": "Python 3",
   "language": "python",
   "name": "python3"
  },
  "language_info": {
   "codemirror_mode": {
    "name": "ipython",
    "version": 3
   },
   "file_extension": ".py",
   "mimetype": "text/x-python",
   "name": "python",
   "nbconvert_exporter": "python",
   "pygments_lexer": "ipython3",
   "version": "3.12.5"
  }
 },
 "nbformat": 4,
 "nbformat_minor": 5
}
