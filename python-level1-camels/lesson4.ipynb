{
 "cells": [
  {
   "cell_type": "markdown",
   "id": "8acd7489",
   "metadata": {},
   "source": [
    "<div style=\"display: flex; align-items: center;\">\n",
    "  <img src=\"https://school-media.s3.amazonaws.com/school/logo.png\" width=\"50\" style=\"margin-right: 10px;\">\n",
    "  <h1 style=\"margin: 0;\">Lesson 4 - Conditioal Statements</h1>\n",
    "</div>\n",
    "\n",
    "## 1. Refresher\n",
    "\n",
    "You will create a simple Python program that:\n",
    "\n",
    "- Asks the user for their name\n",
    "- Asks what meal they are about to eat\n",
    "- Prints a reminder to say \"Bismillah\" before eating: ex:\n",
    "\"Salam Ahmed. Don't forget to say Bismillah before eating Breakfast\""
   ]
  },
  {
   "cell_type": "code",
   "execution_count": null,
   "id": "bddc20ec",
   "metadata": {},
   "outputs": [],
   "source": [
    "# your code here"
   ]
  },
  {
   "cell_type": "markdown",
   "id": "0aa91ef2",
   "metadata": {},
   "source": [
    "----"
   ]
  },
  {
   "cell_type": "markdown",
   "id": "d7c31c8a",
   "metadata": {},
   "source": [
    "## 2. If Statements\n",
    "\n",
    "An if statement is like asking a question in Python. If the answer is \"Yes\" (True), the program does something. If the answer is \"No\" (False), the program does something else (or nothing).\n",
    "\n",
    "Here’s how it works:\n",
    "\n",
    "\n",
    "Try it Out:\n"
   ]
  },
  {
   "cell_type": "code",
   "execution_count": null,
   "id": "6cf9bbf7",
   "metadata": {},
   "outputs": [
    {
     "data": {
      "text/plain": [
       "It's Ramadan! You need to fast. 🌚\n"
      ]
     },
     "metadata": {},
     "output_type": "display_data"
    }
   ],
   "source": [
    "is_ramadan = True  \n",
    "\n",
    "if is_ramadan:\n",
    "    print(\"It's Ramadan! You need to fast. 🌚\")\n",
    "else:\n",
    "    print(\"It's not Ramadan. Enjoy your food! 🌽\")"
   ]
  },
  {
   "cell_type": "markdown",
   "id": "c7154d01",
   "metadata": {},
   "source": [
    "---"
   ]
  },
  {
   "cell_type": "markdown",
   "id": "7c5613fd",
   "metadata": {},
   "source": [
    "## 3. If, elif, and else Statements\n",
    "\n",
    "## 1. If\n",
    "Think of it like asking a question. If the answer is \"Yes\" (True), then do something.\n",
    "\n",
    "Example:"
   ]
  },
  {
   "cell_type": "code",
   "execution_count": null,
   "id": "13ab9970",
   "metadata": {},
   "outputs": [
    {
     "data": {
      "text/plain": [
       "You don't need to fast in Ramadan\n"
      ]
     },
     "metadata": {},
     "output_type": "display_data"
    }
   ],
   "source": [
    "age = 4\n",
    "\n",
    "if age < 6:\n",
    "    print(\"You don't need to fast in Ramadan\")"
   ]
  },
  {
   "cell_type": "markdown",
   "id": "396486bf",
   "metadata": {},
   "source": [
    "## 2. Elif\n",
    "Short for \"else if\". It’s like asking another question if the first answer was \"No\".\n",
    "\n",
    "Example:"
   ]
  },
  {
   "cell_type": "code",
   "execution_count": null,
   "id": "ea285979",
   "metadata": {},
   "outputs": [
    {
     "data": {
      "text/plain": [
       "You might try to fast half day during ramadan.\n"
      ]
     },
     "metadata": {},
     "output_type": "display_data"
    }
   ],
   "source": [
    "age = 7\n",
    "\n",
    "if age < 6:\n",
    "    print(\"You don't need to fast in Ramadan\")\n",
    "elif age > 6 and age < 10:\n",
    "    print(\"You might try to fast half day during ramadan.\")"
   ]
  },
  {
   "cell_type": "markdown",
   "id": "6f3d7410",
   "metadata": {},
   "source": [
    "## 3. Else\n",
    "This is for everything else. If all the answers are \"No\", then do this.\n",
    "\n",
    "Example:"
   ]
  },
  {
   "cell_type": "code",
   "execution_count": null,
   "id": "b27a307e",
   "metadata": {},
   "outputs": [
    {
     "data": {
      "text/plain": [
       "You are growing up! Try fasting for half a day to practice. 🌙\n"
      ]
     },
     "metadata": {},
     "output_type": "display_data"
    }
   ],
   "source": [
    "age = 7\n",
    "\n",
    "if age < 6:\n",
    "    print(\"You are still very young. Focus on praying and learning about Ramadan! 😊\")\n",
    "elif 6 <= age < 10:\n",
    "    print(\"You are growing up! Try fasting for half a day to practice. 🌙\")\n",
    "else:\n",
    "    print(\"MashaAllah! You are old enough to fast the whole day in Ramadan. 🕌\")"
   ]
  },
  {
   "cell_type": "markdown",
   "id": "c73f4711",
   "metadata": {},
   "source": [
    "---"
   ]
  },
  {
   "cell_type": "markdown",
   "id": "759f2658",
   "metadata": {},
   "source": [
    "## 4. Coding Challenge 🏆🎯💎\n",
    "\n",
    "Write a python program to ask the user to enter their age. and then print which age category they fall into.\n",
    "\n",
    "- Baby from 0 to 2 years\n",
    "- Toddler from 3 to 6 years\n",
    "- Kid from 7 to 12 years\n",
    "- Teenager from 13 to 18 years \n",
    "- Adult from 19 to 64 years\n",
    "\n"
   ]
  },
  {
   "cell_type": "code",
   "execution_count": null,
   "id": "585e6601",
   "metadata": {},
   "outputs": [],
   "source": [
    "# your code here"
   ]
  },
  {
   "cell_type": "markdown",
   "id": "8e3e190f",
   "metadata": {},
   "source": [
    "----"
   ]
  },
  {
   "cell_type": "markdown",
   "id": "bbc52a3c",
   "metadata": {},
   "source": [
    "## 5. Conditions \n",
    "\n",
    "A condition is a question the computer checks to decide if something is True or False.\n"
   ]
  },
  {
   "cell_type": "code",
   "execution_count": null,
   "id": "791489d8",
   "metadata": {},
   "outputs": [
    {
     "data": {
      "text/plain": [
       "False\n",
       "True\n",
       "True\n",
       "False\n",
       "True\n",
       "False\n"
      ]
     },
     "metadata": {},
     "output_type": "display_data"
    }
   ],
   "source": [
    "# your code here\n",
    "a = 10  \n",
    "b = 5  \n",
    "\n",
    "print(a == b)   \n",
    "print(a != b)   \n",
    "print(a > b)    \n",
    "print(a < b)    \n",
    "print(a >= b)   \n",
    "print(a <= b)   "
   ]
  },
  {
   "cell_type": "markdown",
   "id": "9e432b3c",
   "metadata": {},
   "source": [
    "_____"
   ]
  },
  {
   "cell_type": "markdown",
   "id": "3e670bc4",
   "metadata": {},
   "source": [
    "## 6. Coding Challenge\n",
    "\n",
    "Write a python program that takes prayer name as input and prints the number of Raktaat."
   ]
  },
  {
   "cell_type": "code",
   "execution_count": null,
   "id": "d8b6f408",
   "metadata": {},
   "outputs": [],
   "source": [
    "# your code below\n"
   ]
  },
  {
   "cell_type": "markdown",
   "id": "2218f138",
   "metadata": {},
   "source": [
    "______"
   ]
  },
  {
   "cell_type": "markdown",
   "id": "4c5b804e",
   "metadata": {},
   "source": [
    "# 7- Homework\n"
   ]
  },
  {
   "cell_type": "markdown",
   "id": "e0a165d3",
   "metadata": {},
   "source": [
    "🔹 Write a Python program that:\n",
    "\n",
    "- Asks the user for their name\n",
    "- Asks them to guess the secret word\n",
    "- Checks if their guess is correct\n",
    "- If they enter the correct word, print \"Congratulations, [name]! The door is open! 🚪\"\n",
    "- If they enter the wrong word, print \"Sorry, [name]. That's not the right word. Try again next time! ❌\""
   ]
  },
  {
   "cell_type": "code",
   "execution_count": null,
   "id": "01ae6e88",
   "metadata": {},
   "outputs": [],
   "source": []
  }
 ],
 "metadata": {
  "kernelspec": {
   "display_name": "Python 3",
   "language": "python",
   "name": "python3"
  },
  "language_info": {
   "codemirror_mode": {
    "name": "ipython",
    "version": 3
   },
   "file_extension": ".py",
   "mimetype": "text/x-python",
   "name": "python",
   "nbconvert_exporter": "python",
   "pygments_lexer": "ipython3",
   "version": "3.12.5"
  }
 },
 "nbformat": 4,
 "nbformat_minor": 5
}
