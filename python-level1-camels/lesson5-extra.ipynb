{
 "cells": [
  {
   "cell_type": "markdown",
   "metadata": {},
   "source": [
    "<div style=\"display: flex; align-items: center;\">\n",
    "  <img src=\"https://school-media.s3.amazonaws.com/school/logo.png\" width=\"50\" style=\"margin-right: 10px;\">\n",
    "  <h1 style=\"margin: 0;\">Lesson 5 - For Loop</h1>\n",
    "</div>\n",
    "\n",
    "### 1. Print Bismillah 5 times using a for loop.\n",
    "*“Start every good thing with Bismillah!”*\n",
    "\n",
    "```python\n",
    "# Your code here\n",
    "\n",
    "```\n",
    "\n",
    "---"
   ]
  },
  {
   "cell_type": "markdown",
   "metadata": {},
   "source": [
    "### 2. Print all even numbers from 2 to 20 using a for loop.\n",
    "*“Allah loves those who are balanced.”*\n",
    "\n",
    "```python\n",
    "# Your code here\n",
    "\n",
    "```\n",
    "\n",
    "---"
   ]
  },
  {
   "cell_type": "markdown",
   "metadata": {},
   "source": [
    "### 3. Create a for loop to print the 5 daily prayers: Fajr, Dhuhr, Asr, Maghrib, Isha.\n",
    "*“Establish the prayer, for it prevents wrongdoing.” – Quran*\n",
    "\n",
    "```python\n",
    "# Your code here\n",
    "\n",
    "```\n",
    "\n",
    "---"
   ]
  },
  {
   "cell_type": "markdown",
   "metadata": {},
   "source": [
    "### 4. Print numbers 1 to 10 and say ‘Alhamdulillah’ for each.\n",
    "*“If you are grateful, I will give you more.” – Quran*\n",
    "\n",
    "```python\n",
    "# Your code here\n",
    "\n",
    "```\n",
    "\n",
    "---"
   ]
  },
  {
   "cell_type": "markdown",
   "metadata": {},
   "source": [
    "### 5. Use a for loop to print the name of Allah 10 times.\n",
    "*“And remember your Lord much.” – Quran*\n",
    "\n",
    "```python\n",
    "# Your code here\n",
    "\n",
    "```\n",
    "\n",
    "---"
   ]
  },
  {
   "cell_type": "markdown",
   "metadata": {},
   "source": [
    "### 6. Loop through a list of prophets' names and print each one.\n",
    "*Prophets: Adam, Nuh, Ibrahim, Musa, Isa, Muhammad ﷺ*\n",
    "\n",
    "```python\n",
    "# Your code here\n",
    "\n",
    "```\n",
    "\n",
    "---"
   ]
  },
  {
   "cell_type": "markdown",
   "metadata": {},
   "source": [
    "### 7. Print all odd numbers from 1 to 15 and say ‘SubhanAllah’.\n",
    "*“Glory be to Allah!”*\n",
    "\n",
    "```python\n",
    "# Your code here\n",
    "\n",
    "```\n",
    "\n",
    "---"
   ]
  },
  {
   "cell_type": "markdown",
   "metadata": {},
   "source": [
    "### 8. Create a loop that prints 'Fast on Monday and Thursday' five times.\n",
    "*“Deeds are presented on Monday and Thursday.” – Hadith*\n",
    "\n",
    "```python\n",
    "# Your code here\n",
    "\n",
    "```\n",
    "\n",
    "---"
   ]
  },
  {
   "cell_type": "markdown",
   "metadata": {},
   "source": [
    "### 9. Print numbers 1 to 10 with a note: ‘Be honest like Prophet Muhammad ﷺ’\n",
    "*“The Prophet ﷺ was known as Al-Ameen (The Trustworthy).”*\n",
    "\n",
    "```python\n",
    "# Your code here\n",
    "\n",
    "```\n",
    "\n",
    "---"
   ]
  },
  {
   "cell_type": "markdown",
   "metadata": {},
   "source": [
    "### 10. Use a loop to print the Arabic word for peace: سلام five times.\n",
    "*“Spread peace among you.” – Hadith*\n",
    "\n",
    "```python\n",
    "# Your code here\n",
    "\n",
    "```\n",
    "\n",
    "---"
   ]
  },
  {
   "cell_type": "markdown",
   "metadata": {},
   "source": [
    "### 11. Loop through a list of Islamic months and print each one.\n",
    "*Try: Muharram, Safar, Rabi al-Awwal, ...*\n",
    "\n",
    "```python\n",
    "# Your code here\n",
    "\n",
    "```\n",
    "\n",
    "---"
   ]
  },
  {
   "cell_type": "markdown",
   "metadata": {},
   "source": [
    "### 12. Use a loop to print Surah numbers from 1 to 10.\n",
    "*There are 114 Surahs in the Quran.*\n",
    "\n",
    "```python\n",
    "# Your code here\n",
    "\n",
    "```\n",
    "\n",
    "---"
   ]
  },
  {
   "cell_type": "markdown",
   "metadata": {},
   "source": [
    "### 13. Print a countdown from 5 to 1 before starting prayer.\n",
    "*“Prepare your heart for Salah.”*\n",
    "\n",
    "```python\n",
    "# Your code here\n",
    "\n",
    "```\n",
    "\n",
    "---"
   ]
  },
  {
   "cell_type": "markdown",
   "metadata": {},
   "source": [
    "### 14. Make a list of good deeds and print each with a number.\n",
    "*E.g. helping others, saying Salam, smiling, etc.*\n",
    "\n",
    "```python\n",
    "# Your code here\n",
    "\n",
    "```\n",
    "\n",
    "---"
   ]
  },
  {
   "cell_type": "markdown",
   "metadata": {},
   "source": [
    "### 15. Print ‘Read Quran’ 7 times using a for loop.\n",
    "*“The best of you are those who learn and teach the Quran.” – Hadith*\n",
    "\n",
    "```python\n",
    "# Your code here\n",
    "\n",
    "```\n",
    "\n",
    "---"
   ]
  },
  {
   "cell_type": "markdown",
   "metadata": {},
   "source": [
    "### 16. Use a for loop to print the 6 pillars of Iman.\n",
    "*Faith in Allah, Angels, Books, Prophets, Day of Judgment, Divine Decree*\n",
    "\n",
    "```python\n",
    "# Your code here\n",
    "\n",
    "```\n",
    "\n",
    "---"
   ]
  },
  {
   "cell_type": "markdown",
   "metadata": {},
   "source": [
    "### 17. Create a list of Islamic greetings and print them all.\n",
    "*Try: Assalamu Alaikum, Wa Alaikum Assalam, JazakAllah Khair*\n",
    "\n",
    "```python\n",
    "# Your code here\n",
    "\n",
    "```\n",
    "\n",
    "---"
   ]
  },
  {
   "cell_type": "markdown",
   "metadata": {},
   "source": [
    "### 18. Print the number of Rak‘ahs for each prayer in a day.\n",
    "*Fajr (2), Dhuhr (4), Asr (4), Maghrib (3), Isha (4)*\n",
    "\n",
    "```python\n",
    "# Your code here\n",
    "\n",
    "```\n",
    "\n",
    "---"
   ]
  },
  {
   "cell_type": "markdown",
   "metadata": {},
   "source": [
    "### 19. Use a loop to repeat the dua ‘Rabbighfir li’ 10 times.\n",
    "*“My Lord, forgive me.” – A simple powerful dua*\n",
    "\n",
    "```python\n",
    "# Your code here\n",
    "\n",
    "```\n",
    "\n",
    "---"
   ]
  },
  {
   "cell_type": "markdown",
   "metadata": {},
   "source": [
    "### 20. Print 10 facts about Islam using a loop.\n",
    "*E.g., 5 Pillars, Quran, Masjid, Kaaba, etc.*\n",
    "\n",
    "```python\n",
    "# Your code here\n",
    "\n",
    "```\n",
    "\n",
    "---"
   ]
  }
 ],
 "metadata": {
  "kernelspec": {
   "display_name": "Python 3",
   "language": "python",
   "name": "python3"
  },
  "language_info": {
   "codemirror_mode": {
    "name": "ipython",
    "version": 3
   },
   "file_extension": ".py",
   "mimetype": "text/x-python",
   "name": "python",
   "nbconvert_exporter": "python",
   "pygments_lexer": "ipython3",
   "version": "3.8.5"
  }
 },
 "nbformat": 4,
 "nbformat_minor": 4
}
