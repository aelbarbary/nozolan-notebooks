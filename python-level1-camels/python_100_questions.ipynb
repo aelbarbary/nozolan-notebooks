{
 "cells": [
  {
   "cell_type": "markdown",
   "metadata": {},
   "source": [
    "# Python Coding Questions for Kids (Ages 8-12)\n",
    "\n",
    "This notebook contains 100 Python coding questions organized by lesson, ranging from easy to hard difficulty levels. The questions include multiple choice (with 3 options), coding challenges, and free-form questions."
   ]
  },
  {
   "cell_type": "markdown",
   "metadata": {},
   "source": [
    "## Lesson 1: Introduction to Python\n",
    "\n",
    "### What is Python? Why learn Python? Setting up Python on your computer. Your first Python program: \"Hello, World!\""
   ]
  },
  {
   "cell_type": "markdown",
   "metadata": {},
   "source": [
    "### Question 1.1 (Easy - Multiple Choice)\n",
    "What is Python?\n",
    "\n",
    "A) A type of snake\n",
    "B) A programming language\n",
    "C) A computer game"
   ]
  },
  {
   "cell_type": "markdown",
   "metadata": {},
   "source": [
    "**Answer:** B) A programming language"
   ]
  },
  {
   "cell_type": "markdown",
   "metadata": {},
   "source": [
    "### Question 1.2 (Easy - Multiple Choice)\n",
    "Why do many people learn Python as their first programming language?\n",
    "\n",
    "A) Because it has simple, easy-to-understand syntax\n",
    "B) Because it's the only programming language that exists\n",
    "C) Because you need to know Python to use the internet"
   ]
  },
  {
   "cell_type": "markdown",
   "metadata": {},
   "source": [
    "**Answer:** A) Because it has simple, easy-to-understand syntax"
   ]
  },
  {
   "cell_type": "markdown",
   "metadata": {},
   "source": [
    "### Question 1.3 (Easy - Coding)\n",
    "Write a Python program that prints \"Hello, World!\" to the screen."
   ]
  },
  {
   "cell_type": "code",
   "execution_count": null,
   "metadata": {},
   "outputs": [],
   "source": [
    "# Your code here\n"
   ]
  },
  {
   "cell_type": "markdown",
   "metadata": {},
   "source": [
    "**Answer:**\n",
    "```python\n",
    "print(\"Hello, World!\")\n",
    "```"
   ]
  },
  {
   "cell_type": "markdown",
   "metadata": {},
   "source": [
    "### Question 1.4 (Easy - Multiple Choice)\n",
    "What symbol is used in Python to add comments to your code?\n",
    "\n",
    "A) #\n",
    "B) $\n",
    "C) @"
   ]
  },
  {
   "cell_type": "markdown",
   "metadata": {},
   "source": [
    "**Answer:** A) #"
   ]
  },
  {
   "cell_type": "markdown",
   "metadata": {},
   "source": [
    "### Question 1.5 (Easy - Coding)\n",
    "Write a Python program that prints your name and age on separate lines."
   ]
  },
  {
   "cell_type": "code",
   "execution_count": null,
   "metadata": {},
   "outputs": [],
   "source": [
    "# Your code here\n"
   ]
  },
  {
   "cell_type": "markdown",
   "metadata": {},
   "source": [
    "**Answer:**\n",
    "```python\n",
    "print(\"Your Name\")\n",
    "print(\"Your Age\")\n",
    "```"
   ]
  },
  {
   "cell_type": "markdown",
   "metadata": {},
   "source": [
    "### Question 1.6 (Medium - Multiple Choice)\n",
    "What happens when you run a Python program with an error in it?\n",
    "\n",
    "A) The computer will fix the error automatically\n",
    "B) Python will show an error message\n",
    "C) The computer will crash and need to be restarted"
   ]
  },
  {
   "cell_type": "markdown",
   "metadata": {},
   "source": [
    "**Answer:** B) Python will show an error message"
   ]
  },
  {
   "cell_type": "markdown",
   "metadata": {},
   "source": [
    "### Question 1.7 (Medium - Coding)\n",
    "Fix the error in this Python program:\n",
    "\n",
    "```python\n",
    "print(\"Hello)\n",
    "```"
   ]
  },
  {
   "cell_type": "code",
   "execution_count": null,
   "metadata": {},
   "outputs": [],
   "source": [
    "# Your code here\n"
   ]
  },
  {
   "cell_type": "markdown",
   "metadata": {},
   "source": [
    "**Answer:**\n",
    "```python\n",
    "print(\"Hello\")\n",
    "```"
   ]
  },
  {
   "cell_type": "markdown",
   "metadata": {},
   "source": [
    "### Question 1.8 (Medium - Free Question)\n",
    "Name three things you can create or do with Python programming."
   ]
  },
  {
   "cell_type": "markdown",
   "metadata": {},
   "source": [
    "**Sample Answer:** With Python, you can create games, build websites, analyze data, control robots, make art, solve math problems, and much more!"
   ]
  },
  {
   "cell_type": "markdown",
   "metadata": {},
   "source": [
    "### Question 1.9 (Medium - Coding)\n",
    "Write a Python program that prints a smiley face using text characters."
   ]
  },
  {
   "cell_type": "code",
   "execution_count": null,
   "metadata": {},
   "outputs": [],
   "source": [
    "# Your code here\n"
   ]
  },
  {
   "cell_type": "markdown",
   "metadata": {},
   "source": [
    "**Answer:**\n",
    "```python\n",
    "print(\":-)\")\n",
    "# or a more complex one\n",
    "print(\"  ****  \")\n",
    "print(\" *    * \")\n",
    "print(\"*  **  *\")\n",
    "print(\"*      *\")\n",
    "print(\" * ** * \")\n",
    "print(\"  ****  \")\n",
    "```"
   ]
  },
  {
   "cell_type": "markdown",
   "metadata": {},
   "source": [
    "### Question 1.10 (Hard - Multiple Choice)\n",
    "Which of these is NOT a common use for Python?\n",
    "\n",
    "A) Creating websites\n",
    "B) Replacing your computer's operating system\n",
    "C) Analyzing data"
   ]
  },
  {
   "cell_type": "markdown",
   "metadata": {},
   "source": [
    "**Answer:** B) Replacing your computer's operating system"
   ]
  },
  {
   "cell_type": "markdown",
   "metadata": {},
   "source": [
    "### Question 1.11 (Hard - Coding)\n",
    "Write a Python program that prints the following pattern:\n",
    "```\n",
    "*\n",
    "**\n",
    "***\n",
    "```"
   ]
  },
  {
   "cell_type": "code",
   "execution_count": null,
   "metadata": {},
   "outputs": [],
   "source": [
    "# Your code here\n"
   ]
  },
  {
   "cell_type": "markdown",
   "metadata": {},
   "source": [
    "**Answer:**\n",
    "```python\n",
    "print(\"*\")\n",
    "print(\"**\")\n",
    "print(\"***\")\n",
    "```"
   ]
  },
  {
   "cell_type": "markdown",
   "metadata": {},
   "source": [
    "### Question 1.12 (Hard - Free Question)\n",
    "Explain what happens when you run a Python program, from the moment you press run until you see the output."
   ]
  },
  {
   "cell_type": "markdown",
   "metadata": {},
   "source": [
    "**Sample Answer:** When you run a Python program, the Python interpreter reads your code line by line. It checks for errors first. If there are no errors, it executes each instruction in order, from top to bottom. When it reaches a print statement, it displays that output on the screen. After executing all the lines of code, the program finishes running."
   ]
  },
  {
   "cell_type": "markdown",
   "metadata": {},
   "source": [
    "## Lesson 2: Variables and Data Types\n",
    "\n",
    "### What are variables? Different data types (numbers, strings, and booleans)"
   ]
  },
  {
   "cell_type": "markdown",
   "metadata": {},
   "source": [
    "### Question 2.1 (Easy - Multiple Choice)\n",
    "What is a variable in Python?\n",
    "\n",
    "A) A container that stores data\n",
    "B) A type of math problem\n",
    "C) A special keyboard button"
   ]
  },
  {
   "cell_type": "markdown",
   "metadata": {},
   "source": [
    "**Answer:** A) A container that stores data"
   ]
  },
  {
   "cell_type": "markdown",
   "metadata": {},
   "source": [
    "### Question 2.2 (Easy - Coding)\n",
    "Create a variable called `name` and store your name in it. Then print the variable."
   ]
  },
  {
   "cell_type": "code",
   "execution_count": null,
   "metadata": {},
   "outputs": [],
   "source": [
    "# Your code here\n"
   ]
  },
  {
   "cell_type": "markdown",
   "metadata": {},
   "source": [
    "**Answer:**\n",
    "```python\n",
    "name = \"Your Name\"\n",
    "print(name)\n",
    "```"
   ]
  },
  {
   "cell_type": "markdown",
   "metadata": {},
   "source": [
    "### Question 2.3 (Easy - Multiple Choice)\n",
    "Which of these is a string data type in Python?\n",
    "\n",
    "A) 42\n",
    "B) \"Hello\"\n",
    "C) True"
   ]
  },
  {
   "cell_type": "markdown",
   "metadata": {},
   "source": [
    "**Answer:** B) \"Hello\""
   ]
  },
  {
   "cell_type": "markdown",
   "metadata": {},
   "source": [
    "### Question 2.4 (Easy - Coding)\n",
    "Create a variable called `age` and store your age as a number. Then print the variable."
   ]
  },
  {
   "cell_type": "code",
   "execution_count": null,
   "metadata": {},
   "outputs": [],
   "source": [
    "# Your code here\n"
   ]
  },
  {
   "cell_type": "markdown",
   "metadata": {},
   "source": [
    "**Answer:**\n",
    "```python\n",
    "age = 10\n",
    "print(age)\n",
    "```"
   ]
  },
  {
   "cell_type": "markdown",
   "metadata": {},
   "source": [
    "### Question 2.5 (Medium - Multiple Choice)\n",
    "What data type is the value `False` in Python?\n",
    "\n",
    "A) String\n",
    "B) Number\n",
    "C) Boolean"
   ]
  },
  {
   "cell_type": "markdown",
   "metadata": {},
   "source": [
    "**Answer:** C) Boolean"
   ]
  },
  {
   "cell_type": "markdown",
   "metadata": {},
   "source": [
    "### Question 2.6 (Medium - Coding)\n",
    "Create three variables: one with a string, one with a number, and one with a boolean value. Then print all three."
   ]
  },
  {
   "cell_type": "code",
   "execution_count": null,
   "metadata": {},
   "outputs": [],
   "source": [
    "# Your code here\n"
   ]
  },
  {
   "cell_type": "markdown",
   "metadata": {},
   "source": [
    "**Answer:**\n",
    "```python\n",
    "my_string = \"Python is fun\"\n",
    "my_number = 42\n",
    "my_boolean = True\n",
    "print(my_string)\n",
    "print(my_number)\n",
    "print(my_boolean)\n",
    "```"
   ]
  },
  {
   "cell_type": "markdown",
   "metadata": {},
   "source": [
    "### Question 2.7 (Medium - Free Question)\n",
    "Explain the difference between an integer and a string that contains a number (like \"42\")."
   ]
  },
  {
   "cell_type": "markdown",
   "metadata": {},
   "source": [
    "**Sample Answer:** An integer is a number that you can use in math operations (like addition or multiplication). A string that contains a number is treated as text, not as a number. You can't do math with it directly. For example, 5 + 5 equals 10, but \"5\" + \"5\" would equal \"55\" because it joins the text together instead of adding the numbers."
   ]
  },
  {
   "cell_type": "markdown",
   "metadata": {},
   "source": [
    "### Question 2.8 (Medium - Coding)\n",
    "Create a variable called `favorite_number` with your favorite number. Then create another variable called `message` that combines a string and your favorite number to say \"My favorite number is X\". Print the message."
   ]
  },
  {
   "cell_type": "code",
   "execution_count": null,
   "metadata": {},
   "outputs": [],
   "source": [
    "# Your code here\n"
   ]
  },
  {
   "cell_type": "markdown",
   "metadata": {},
   "source": [
    "**Answer:**\n",
    "```python\n",
    "favorite_number = 7\n",
    "message = \"My favorite number is \" + str(favorite_number)\n",
    "print(message)\n",
    "# Or using f-strings\n",
    "message = f\"My favorite number is {favorite_number}\"\n",
    "print(message)\n",
    "```"
   ]
  },
  {
   "cell_type": "markdown",
   "metadata": {},
   "source": [
    "### Question 2.9 (Hard - Multiple Choice)\n",
    "What happens if you try to add a number and a string in Python?\n",
    "\n",
    "A) Python will convert the string to a number and add them\n",
    "B) Python will show an error message\n",
    "C) Python will convert the number to a string and join them together"
   ]
  },
  {
   "cell_type": "markdown",
   "metadata": {},
   "source": [
    "**Answer:** B) Python will show an error message"
   ]
  },
  {
   "cell_type": "markdown",
   "metadata": {},
   "source": [
    "### Question 2.10 (Hard - Coding)\n",
    "Fix the error in this code:\n",
    "\n",
    "```python\n",
    "age = 10\n",
    "message = \"I am \" + age + \" years old.\"\n",
    "print(message)\n",
    "```"
   ]
  },
  {
   "cell_type": "code",
   "execution_count": null,
   "metadata": {},
   "outputs": [],
   "source": [
    "# Your code here\n"
   ]
  },
  {
   "cell_type": "markdown",
   "metadata": {},
   "source": [
    "**Answer:**\n",
    "```python\n",
    "age = 10\n",
    "message = \"I am \" + str(age) + \" years old.\"\n",
    "print(message)\n",
    "# Or using f-strings\n",
    "message = f\"I am {age} years old.\"\n",
    "print(message)\n",
    "```"
   ]
  },
  {
   "cell_type": "markdown",
   "metadata": {},
   "source": [
    "### Question 2.11 (Hard - Free Question)\n",
    "What are three rules for naming variables in Python?"
   ]
  },
  {
   "cell_type": "markdown",
   "metadata": {},
   "source": [
    "**Sample Answer:** 1) Variable names can only contain letters, numbers, and underscores. 2) Variable names cannot start with a number. 3) Variable names cannot be Python keywords (like print, if, for, etc.). Also, variable names are case-sensitive, so 'name' and 'Name' would be different variables."
   ]
  },
  {
   "cell_type": "markdown",
   "metadata": {},
   "source": [
    "## Lesson 3: Basic Input and Output\n",
    "\n",
    "### How to get input from users. Displaying output to users."
   ]
  },
  {
   "cell_type": "markdown",
   "metadata": {},
   "source": [
    "### Question 3.1 (Easy - Multiple Choice)\n",
    "Which function is used to display output to the user in Python?\n",
    "\n",
    "A) input()\n",
    "B) print()\n",
    "C) display()"
   ]
  },
  {
   "cell_type": "markdown",
   "metadata": {},
   "source": [
    "**Answer:** B) print()"
   ]
  },
  {
   "cell_type": "markdown",
   "metadata": {},
   "source": [
    "### Question 3.2 (Easy - Multiple Choice)\n",
    "Which function is used to get input from the user in Python?\n",
    "\n",
    "A) input()\n",
    "B) get()\n",
    "C) ask()"
   ]
  },
  {
   "cell_type": "markdown",
   "metadata": {},
   "source": [
    "**Answer:** A) input()"
   ]
  },
  {
   "cell_type": "markdown",
   "metadata": {},
   "source": [
    "### Question 3.3 (Easy - Coding)\n",
    "Write a program that asks the user for their name and then prints \"Hello\" followed by their name."
   ]
  },
  {
   "cell_type": "code",
   "execution_count": null,
   "metadata": {},
   "outputs": [],
   "source": [
    "# Your code here\n"
   ]
  },
  {
   "cell_type": "markdown",
   "metadata": {},
   "source": [
    "**Answer:**\n",
    "```python\n",
    "name = input(\"What is your name? \")\n",
    "print(\"Hello \" + name)\n",
    "```"
   ]
  },
  {
   "cell_type": "markdown",
   "metadata": {},
   "source": [
    "### Question 3.4 (Medium - Multiple Choice)\n",
    "What data type does the `input()` function return in Python?\n",
    "\n",
    "A) Integer\n",
    "B) String\n",
    "C) Boolean"
   ]
  },
  {
   "cell_type": "markdown",
   "metadata": {},
   "source": [
    "**Answer:** B) String"
   ]
  },
  {
   "cell_type": "markdown",
   "metadata": {},
   "source": [
    "### Question 3.5 (Medium - Coding)\n",
    "Write a program that asks the user for their age, then prints \"In 5 years, you will be X years old\" where X is their current age plus 5."
   ]
  },
  {
   "cell_type": "code",
   "execution_count": null,
   "metadata": {},
   "outputs": [],
   "source": [
    "# Your code here\n"
   ]
  },
  {
   "cell_type": "markdown",
   "metadata": {},
   "source": [
    "**Answer:**\n",
    "```python\n",
    "age = input(\"How old are you? \")\n",
    "future_age = int(age) + 5\n",
    "print(\"In 5 years, you will be \" + str(future_age) + \" years old\")\n",
    "# Or using f-strings\n",
    "print(f\"In 5 years, you will be {future_age} years old\")\n",
    "```"
   ]
  },
  {
   "cell_type": "markdown",
   "metadata": {},
   "source": [
    "### Question 3.6 (Medium - Free Question)\n",
    "Why do we need to convert the input from the user to an integer when we want to use it in math operations?"
   ]
  },
  {
   "cell_type": "markdown",
   "metadata": {},
   "source": [
    "**Sample Answer:** The input() function always returns a string, even if the user types a number. We can't do math operations with strings directly. So, we need to convert the string to an integer using the int() function before we can add, subtract, multiply, or divide it."
   ]
  },
  {
   "cell_type": "markdown",
   "metadata": {},
   "source": [
    "### Question 3.7 (Medium - Coding)\n",
    "Write a program that asks the user for two numbers, then prints their sum."
   ]
  },
  {
   "cell_type": "code",
   "execution_count": null,
   "metadata": {},
   "outputs": [],
   "source": [
    "# Your code here\n"
   ]
  },
  {
   "cell_type": "markdown",
   "metadata": {},
   "source": [
    "**Answer:**\n",
    "```python\n",
    "num1 = input(\"Enter the first number: \")\n",
    "num2 = input(\"Enter the second number: \")\n",
    "sum_result = int(num1) + int(num2)\n",
    "print(\"The sum is: \" + str(sum_result))\n",
    "# Or using f-strings\n",
    "print(f\"The sum is: {sum_result}\")\n",
    "```"
   ]
  },
  {
   "cell_type": "markdown",
   "metadata": {},
   "source": [
    "### Question 3.8 (Hard - Multiple Choice)\n",
    "What happens if a user enters \"hello\" when your program tries to convert their input to an integer?\n",
    "\n",
    "A) The program will convert \"hello\" to 0\n",
    "B) The program will show an error message\n",
    "C) The program will ignore the input and continue"
   ]
  },
  {
   "cell_type": "markdown",
   "metadata": {},
   "source": [
    "**Answer:** B) The program will show an error message"
   ]
  },
  {
   "cell_type": "markdown",
   "metadata": {},
   "source": [
    "### Question 3.9 (Hard - Coding)\n",
    "Write a program that asks the user for their name and age, then prints a message saying \"Hello [name], you were born around [year]\" (calculate the approximate birth year based on the current year and their age)."
   ]
  },
  {
   "cell_type": "code",
   "execution_count": null,
   "metadata": {},
   "outputs": [],
   "source": [
    "# Your code here\n"
   ]
  },
  {
   "cell_type": "markdown",
   "metadata": {},
   "source": [
    "**Answer:**\n",
    "```python\n",
    "name = input(\"What is your name? \")\n",
    "age = input(\"How old are you? \")\n",
    "current_year = 2025  # Update this to the current year\n",
    "birth_year = current_year - int(age)\n",
    "print(f\"Hello {name}, you were born around {birth_year}\")\n",
    "```"
   ]
  },
  {
   "cell_type": "markdown",
   "metadata": {},
   "source": [
    "### Question 3.10 (Hard - Free Question)\n",
    "Explain the difference between the print() function and the input() function in Python."
   ]
  },
  {
   "cell_type": "markdown",
   "metadata": {},
   "source": [
    "**Sample Answer:** The print() function is used to display information to the user on the screen. It sends data from the program to the user. The input() function is used to get information from the user. It waits for the user to type something and press Enter, then it returns what the user typed as a string. So print() is for output (from program to user) and input() is for input (from user to program)."
   ]
  },
  {
   "cell_type": "markdown",
   "metadata": {},
   "source": [
    "## Lesson 4: Conditionals\n",
    "\n",
    "### How to make your Python programs think and make decisions using if statements"
   ]
  },
  {
   "cell_type": "markdown",
   "metadata": {},
   "source": [
    "### Question 4.1 (Easy - Multiple Choice)\n",
    "What is a conditional statement in Python?\n",
    "\n",
    "A) A way to repeat code multiple times\n",
    "B) A way to make decisions in code based on conditions\n",
    "C) A way to get input from users"
   ]
  },
  {
   "cell_type": "markdown",
   "metadata": {},
   "source": [
    "**Answer:** B) A way to make decisions in code based on conditions"
   ]
  },
  {
   "cell_type": "markdown",
   "metadata": {},
   "source": [
    "### Question 4.2 (Easy - Multiple Choice)\n",
    "Which keyword is used to start a conditional statement in Python?\n",
    "\n",
    "A) for\n",
    "B) if\n",
    "C) when"
   ]
  },
  {
   "cell_type": "markdown",
   "metadata": {},
   "source": [
    "**Answer:** B) if"
   ]
  },
  {
   "cell_type": "markdown",
   "metadata": {},
   "source": [
    "### Question 4.3 (Easy - Coding)\n",
    "Write a program that asks the user for their age and prints \"You are a child\" if their age is less than 13."
   ]
  },
  {
   "cell_type": "code",
   "execution_count": null,
   "metadata": {},
   "outputs": [],
   "source": [
    "# Your code here\n"
   ]
  },
  {
   "cell_type": "markdown",
   "metadata": {},
   "source": [
    "**Answer:**\n",
    "```python\n",
    "age = int(input(\"How old are you? \"))\n",
    "if age < 13:\n",
    "    print(\"You are a child\")\n",
    "```"
   ]
  },
  {
   "cell_type": "markdown",
   "metadata": {},
   "source": [
    "### Question 4.4 (Medium - Multiple Choice)\n",
    "Which symbol is used to check if two values are equal in Python?\n",
    "\n",
    "A) =\n",
    "B) ==\n",
    "C) ==="
   ]
  },
  {
   "cell_type": "markdown",
   "metadata": {},
   "source": [
    "**Answer:** B) =="
   ]
  },
  {
   "cell_type": "markdown",
   "metadata": {},
   "source": [
    "### Question 4.5 (Medium - Coding)\n",
    "Write a program that asks the user for a number and prints \"Even\" if the number is even, and \"Odd\" if the number is odd."
   ]
  },
  {
   "cell_type": "code",
   "execution_count": null,
   "metadata": {},
   "outputs": [],
   "source": [
    "# Your code here\n"
   ]
  },
  {
   "cell_type": "markdown",
   "metadata": {},
   "source": [
    "**Answer:**\n",
    "```python\n",
    "number = int(input(\"Enter a number: \"))\n",
    "if number % 2 == 0:\n",
    "    print(\"Even\")\n",
    "else:\n",
    "    print(\"Odd\")\n",
    "```"
   ]
  },
  {
   "cell_type": "markdown",
   "metadata": {},
   "source": [
    "### Question 4.6 (Medium - Multiple Choice)\n",
    "What does the `else` keyword do in Python?\n",
    "\n",
    "A) It ends the program\n",
    "B) It runs code if the condition in the if statement is False\n",
    "C) It repeats the code in the if statement"
   ]
  },
  {
   "cell_type": "markdown",
   "metadata": {},
   "source": [
    "**Answer:** B) It runs code if the condition in the if statement is False"
   ]
  },
  {
   "cell_type": "markdown",
   "metadata": {},
   "source": [
    "### Question 4.7 (Medium - Coding)\n",
    "Write a program that asks the user for their score (0-100) and prints \"Pass\" if the score is 60 or higher, and \"Fail\" if it's lower than 60."
   ]
  },
  {
   "cell_type": "code",
   "execution_count": null,
   "metadata": {},
   "outputs": [],
   "source": [
    "# Your code here\n"
   ]
  },
  {
   "cell_type": "markdown",
   "metadata": {},
   "source": [
    "**Answer:**\n",
    "```python\n",
    "score = int(input(\"Enter your score (0-100): \"))\n",
    "if score >= 60:\n",
    "    print(\"Pass\")\n",
    "else:\n",
    "    print(\"Fail\")\n",
    "```"
   ]
  },
  {
   "cell_type": "markdown",
   "metadata": {},
   "source": [
    "### Question 4.8 (Medium - Free Question)\n",
    "What is the difference between the = operator and the == operator in Python?"
   ]
  },
  {
   "cell_type": "markdown",
   "metadata": {},
   "source": [
    "**Sample Answer:** The = operator is used to assign a value to a variable (like x = 5). The == operator is used to compare two values to see if they are equal (like if x == 5). The = is for assignment, while == is for comparison."
   ]
  },
  {
   "cell_type": "markdown",
   "metadata": {},
   "source": [
    "### Question 4.9 (Hard - Multiple Choice)\n",
    "What does the `elif` keyword do in Python?\n",
    "\n",
    "A) It checks another condition if the previous condition was False\n",
    "B) It ends the if statement\n",
    "C) It runs code regardless of the condition"
   ]
  },
  {
   "cell_type": "markdown",
   "metadata": {},
   "source": [
    "**Answer:** A) It checks another condition if the previous condition was False"
   ]
  },
  {
   "cell_type": "markdown",
   "metadata": {},
   "source": [
    "### Question 4.10 (Hard - Coding)\n",
    "Write a program that asks the user for their score (0-100) and prints \"A\" for scores 90-100, \"B\" for scores 80-89, \"C\" for scores 70-79, \"D\" for scores 60-69, and \"F\" for scores below 60."
   ]
  },
  {
   "cell_type": "code",
   "execution_count": null,
   "metadata": {},
   "outputs": [],
   "source": [
    "# Your code here\n"
   ]
  },
  {
   "cell_type": "markdown",
   "metadata": {},
   "source": [
    "**Answer:**\n",
    "```python\n",
    "score = int(input(\"Enter your score (0-100): \"))\n",
    "if score >= 90:\n",
    "    print(\"A\")\n",
    "elif score >= 80:\n",
    "    print(\"B\")\n",
    "elif score >= 70:\n",
    "    print(\"C\")\n",
    "elif score >= 60:\n",
    "    print(\"D\")\n",
    "else:\n",
    "    print(\"F\")\n",
    "```"
   ]
  },
  {
   "cell_type": "markdown",
   "metadata": {},
   "source": [
    "### Question 4.11 (Hard - Coding)\n",
    "Write a program that asks the user for a password. If the password is \"python123\", print \"Access granted\". Otherwise, print \"Access denied\"."
   ]
  },
  {
   "cell_type": "code",
   "execution_count": null,
   "metadata": {},
   "outputs": [],
   "source": [
    "# Your code here\n"
   ]
  },
  {
   "cell_type": "markdown",
   "metadata": {},
   "source": [
    "**Answer:**\n",
    "```python\n",
    "password = input(\"Enter the password: \")\n",
    "if password == \"python123\":\n",
    "    print(\"Access granted\")\n",
    "else:\n",
    "    print(\"Access denied\")\n",
    "```"
   ]
  },
  {
   "cell_type": "markdown",
   "metadata": {},
   "source": [
    "## Lesson 5: Loops\n",
    "\n",
    "### Learn about for loops in python"
   ]
  },
  {
   "cell_type": "markdown",
   "metadata": {},
   "source": [
    "### Question 5.1 (Easy - Multiple Choice)\n",
    "What is a loop in Python?\n",
    "\n",
    "A) A way to repeat code multiple times\n",
    "B) A way to make decisions in code\n",
    "C) A way to create variables"
   ]
  },
  {
   "cell_type": "markdown",
   "metadata": {},
   "source": [
    "**Answer:** A) A way to repeat code multiple times"
   ]
  },
  {
   "cell_type": "markdown",
   "metadata": {},
   "source": [
    "### Question 5.2 (Easy - Multiple Choice)\n",
    "Which keyword is used to create a for loop in Python?\n",
    "\n",
    "A) loop\n",
    "B) for\n",
    "C) repeat"
   ]
  },
  {
   "cell_type": "markdown",
   "metadata": {},
   "source": [
    "**Answer:** B) for"
   ]
  },
  {
   "cell_type": "markdown",
   "metadata": {},
   "source": [
    "### Question 5.3 (Easy - Coding)\n",
    "Write a program that uses a for loop to print the numbers 1 to 5."
   ]
  },
  {
   "cell_type": "code",
   "execution_count": null,
   "metadata": {},
   "outputs": [],
   "source": [
    "# Your code here\n"
   ]
  },
  {
   "cell_type": "markdown",
   "metadata": {},
   "source": [
    "**Answer:**\n",
    "```python\n",
    "for i in range(1, 6):\n",
    "    print(i)\n",
    "```"
   ]
  },
  {
   "cell_type": "markdown",
   "metadata": {},
   "source": [
    "### Question 5.4 (Medium - Multiple Choice)\n",
    "What does the `range()` function do in Python?\n",
    "\n",
    "A) It creates a list of numbers\n",
    "B) It measures the size of a variable\n",
    "C) It checks if a condition is true"
   ]
  },
  {
   "cell_type": "markdown",
   "metadata": {},
   "source": [
    "**Answer:** A) It creates a list of numbers"
   ]
  },
  {
   "cell_type": "markdown",
   "metadata": {},
   "source": [
    "### Question 5.5 (Medium - Coding)\n",
    "Write a program that uses a for loop to print the even numbers from 2 to 10."
   ]
  },
  {
   "cell_type": "code",
   "execution_count": null,
   "metadata": {},
   "outputs": [],
   "source": [
    "# Your code here\n"
   ]
  },
  {
   "cell_type": "markdown",
   "metadata": {},
   "source": [
    "**Answer:**\n",
    "```python\n",
    "for i in range(2, 11, 2):\n",
    "    print(i)\n",
    "```"
   ]
  },
  {
   "cell_type": "markdown",
   "metadata": {},
   "source": [
    "### Question 5.6 (Medium - Free Question)\n",
    "Explain what the third parameter in the range() function does. For example, in range(1, 10, 2)."
   ]
  },
  {
   "cell_type": "markdown",
   "metadata": {},
   "source": [
    "**Sample Answer:** The third parameter in the range() function is the step value. It determines how much to increase (or decrease) the value each time through the loop. For example, range(1, 10, 2) will generate the numbers 1, 3, 5, 7, 9 because it starts at 1, increases by 2 each time, and stops before reaching 10."
   ]
  },
  {
   "cell_type": "markdown",
   "metadata": {},
   "source": [
    "### Question 5.7 (Medium - Coding)\n",
    "Write a program that uses a for loop to print the numbers from 10 down to 1 (in descending order)."
   ]
  },
  {
   "cell_type": "code",
   "execution_count": null,
   "metadata": {},
   "outputs": [],
   "source": [
    "# Your code here\n"
   ]
  },
  {
   "cell_type": "markdown",
   "metadata": {},
   "source": [
    "**Answer:**\n",
    "```python\n",
    "for i in range(10, 0, -1):\n",
    "    print(i)\n",
    "```"
   ]
  },
  {
   "cell_type": "markdown",
   "metadata": {},
   "source": [
    "### Question 5.8 (Hard - Multiple Choice)\n",
    "What will the following code print?\n",
    "```python\n",
    "for i in range(3):\n",
    "    print(\"Hello\")\n",
    "```\n",
    "\n",
    "A) Hello\n",
    "B) Hello Hello Hello\n",
    "C) Hello (printed 3 times on separate lines)"
   ]
  },
  {
   "cell_type": "markdown",
   "metadata": {},
   "source": [
    "**Answer:** C) Hello (printed 3 times on separate lines)"
   ]
  },
  {
   "cell_type": "markdown",
   "metadata": {},
   "source": [
    "### Question 5.9 (Hard - Coding)\n",
    "Write a program that calculates and prints the sum of all numbers from 1 to 10 using a for loop."
   ]
  },
  {
   "cell_type": "code",
   "execution_count": null,
   "metadata": {},
   "outputs": [],
   "source": [
    "# Your code here\n"
   ]
  },
  {
   "cell_type": "markdown",
   "metadata": {},
   "source": [
    "**Answer:**\n",
    "```python\n",
    "sum_result = 0\n",
    "for i in range(1, 11):\n",
    "    sum_result = sum_result + i\n",
    "print(\"The sum is:\", sum_result)\n",
    "```"
   ]
  },
  {
   "cell_type": "markdown",
   "metadata": {},
   "source": [
    "### Question 5.10 (Hard - Coding)\n",
    "Write a program that uses a for loop to print a multiplication table for the number 5 (5 times 1 through 5)."
   ]
  },
  {
   "cell_type": "code",
   "execution_count": null,
   "metadata": {},
   "outputs": [],
   "source": [
    "# Your code here\n"
   ]
  },
  {
   "cell_type": "markdown",
   "metadata": {},
   "source": [
    "**Answer:**\n",
    "```python\n",
    "for i in range(1, 6):\n",
    "    result = 5 * i\n",
    "    print(f\"5 x {i} = {result}\")\n",
    "```"
   ]
  },
  {
   "cell_type": "markdown",
   "metadata": {},
   "source": [
    "## Lesson 6: Functions\n",
    "\n",
    "### What are functions in python? Creating and using functions"
   ]
  },
  {
   "cell_type": "markdown",
   "metadata": {},
   "source": [
    "### Question 6.1 (Easy - Multiple Choice)\n",
    "What is a function in Python?\n",
    "\n",
    "A) A type of variable\n",
    "B) A reusable block of code that performs a specific task\n",
    "C) A way to create loops"
   ]
  },
  {
   "cell_type": "markdown",
   "metadata": {},
   "source": [
    "**Answer:** B) A reusable block of code that performs a specific task"
   ]
  },
  {
   "cell_type": "markdown",
   "metadata": {},
   "source": [
    "### Question 6.2 (Easy - Multiple Choice)\n",
    "Which keyword is used to define a function in Python?\n",
    "\n",
    "A) function\n",
    "B) def\n",
    "C) create"
   ]
  },
  {
   "cell_type": "markdown",
   "metadata": {},
   "source": [
    "**Answer:** B) def"
   ]
  },
  {
   "cell_type": "markdown",
   "metadata": {},
   "source": [
    "### Question 6.3 (Easy - Coding)\n",
    "Write a function called `say_hello` that prints \"Hello, World!\" when called."
   ]
  },
  {
   "cell_type": "code",
   "execution_count": null,
   "metadata": {},
   "outputs": [],
   "source": [
    "# Your code here\n"
   ]
  },
  {
   "cell_type": "markdown",
   "metadata": {},
   "source": [
    "**Answer:**\n",
    "```python\n",
    "def say_hello():\n",
    "    print(\"Hello, World!\")\n",
    "    \n",
    "# Call the function\n",
    "say_hello()\n",
    "```"
   ]
  },
  {
   "cell_type": "markdown",
   "metadata": {},
   "source": [
    "### Question 6.4 (Medium - Multiple Choice)\n",
    "What are parameters in a function?\n",
    "\n",
    "A) The values that a function returns\n",
    "B) The values that are passed into a function when it is called\n",
    "C) The name of the function"
   ]
  },
  {
   "cell_type": "markdown",
   "metadata": {},
   "source": [
    "**Answer:** B) The values that are passed into a function when it is called"
   ]
  },
  {
   "cell_type": "markdown",
   "metadata": {},
   "source": [
    "### Question 6.5 (Medium - Coding)\n",
    "Write a function called `greet` that takes a name as a parameter and prints \"Hello, [name]!\"."
   ]
  },
  {
   "cell_type": "code",
   "execution_count": null,
   "metadata": {},
   "outputs": [],
   "source": [
    "# Your code here\n"
   ]
  },
  {
   "cell_type": "markdown",
   "metadata": {},
   "source": [
    "**Answer:**\n",
    "```python\n",
    "def greet(name):\n",
    "    print(f\"Hello, {name}!\")\n",
    "    \n",
    "# Call the function\n",
    "greet(\"Alice\")\n",
    "```"
   ]
  },
  {
   "cell_type": "markdown",
   "metadata": {},
   "source": [
    "### Question 6.6 (Medium - Free Question)\n",
    "What is the difference between a function that has a return statement and one that doesn't?"
   ]
  },
  {
   "cell_type": "markdown",
   "metadata": {},
   "source": [
    "**Sample Answer:** A function with a return statement gives back a value that can be used later in your code. For example, a function that returns the sum of two numbers allows you to store that sum in a variable. A function without a return statement performs actions (like printing something) but doesn't give back a value that you can use later. If you try to store the result of a function with no return statement, you'll get None."
   ]
  },
  {
   "cell_type": "markdown",
   "metadata": {},
   "source": [
    "### Question 6.7 (Medium - Coding)\n",
    "Write a function called `add_numbers` that takes two parameters and returns their sum."
   ]
  },
  {
   "cell_type": "code",
   "execution_count": null,
   "metadata": {},
   "outputs": [],
   "source": [
    "# Your code here\n"
   ]
  },
  {
   "cell_type": "markdown",
   "metadata": {},
   "source": [
    "**Answer:**\n",
    "```python\n",
    "def add_numbers(a, b):\n",
    "    return a + b\n",
    "    \n",
    "# Call the function\n",
    "result = add_numbers(5, 3)\n",
    "print(result)  # Should print 8\n",
    "```"
   ]
  },
  {
   "cell_type": "markdown",
   "metadata": {},
   "source": [
    "### Question 6.8 (Hard - Multiple Choice)\n",
    "What will the following code print?\n",
    "```python\n",
    "def double(x):\n",
    "    return x * 2\n",
    "\n",
    "result = double(5)\n",
    "print(result)\n",
    "```\n",
    "\n",
    "A) 5\n",
    "B) 10\n",
    "C) None"
   ]
  },
  {
   "cell_type": "markdown",
   "metadata": {},
   "source": [
    "**Answer:** B) 10"
   ]
  },
  {
   "cell_type": "markdown",
   "metadata": {},
   "source": [
    "### Question 6.9 (Hard - Coding)\n",
    "Write a function called `is_even` that takes a number as a parameter and returns True if the number is even, and False if it's odd."
   ]
  },
  {
   "cell_type": "code",
   "execution_count": null,
   "metadata": {},
   "outputs": [],
   "source": [
    "# Your code here\n"
   ]
  },
  {
   "cell_type": "markdown",
   "metadata": {},
   "source": [
    "**Answer:**\n",
    "```python\n",
    "def is_even(number):\n",
    "    if number % 2 == 0:\n",
    "        return True\n",
    "    else:\n",
    "        return False\n",
    "    \n",
    "# A more concise version\n",
    "def is_even(number):\n",
    "    return number % 2 == 0\n",
    "    \n",
    "# Call the function\n",
    "print(is_even(4))  # Should print True\n",
    "print(is_even(7))  # Should print False\n",
    "```"
   ]
  },
  {
   "cell_type": "markdown",
   "metadata": {},
   "source": [
    "### Question 6.10 (Hard - Coding)\n",
    "Write a function called `calculate_area` that calculates and returns the area of a rectangle. The function should take two parameters: length and width."
   ]
  },
  {
   "cell_type": "code",
   "execution_count": null,
   "metadata": {},
   "outputs": [],
   "source": [
    "# Your code here\n"
   ]
  },
  {
   "cell_type": "markdown",
   "metadata": {},
   "source": [
    "**Answer:**\n",
    "```python\n",
    "def calculate_area(length, width):\n",
    "    area = length * width\n",
    "    return area\n",
    "    \n",
    "# Call the function\n",
    "rectangle_area = calculate_area(5, 3)\n",
    "print(f\"The area of the rectangle is {rectangle_area} square units\")\n",
    "```"
   ]
  },
  {
   "cell_type": "markdown",
   "metadata": {},
   "source": [
    "## Lesson 7: Lists and Dictionaries\n",
    "\n",
    "### What are lists and dictionaries in python? Accessing and modifying list and dictionary items"
   ]
  },
  {
   "cell_type": "markdown",
   "metadata": {},
   "source": [
    "### Question 7.1 (Easy - Multiple Choice)\n",
    "What is a list in Python?\n",
    "\n",
    "A) A collection of items in a specific order\n",
    "B) A way to create functions\n",
    "C) A type of loop"
   ]
  },
  {
   "cell_type": "markdown",
   "metadata": {},
   "source": [
    "**Answer:** A) A collection of items in a specific order"
   ]
  },
  {
   "cell_type": "markdown",
   "metadata": {},
   "source": [
    "### Question 7.2 (Easy - Multiple Choice)\n",
    "How do you create an empty list in Python?\n",
    "\n",
    "A) list = ()\n",
    "B) list = []\n",
    "C) list = {}"
   ]
  },
  {
   "cell_type": "markdown",
   "metadata": {},
   "source": [
    "**Answer:** B) list = []"
   ]
  },
  {
   "cell_type": "markdown",
   "metadata": {},
   "source": [
    "### Question 7.3 (Easy - Coding)\n",
    "Create a list called `fruits` that contains the following items: \"apple\", \"banana\", and \"cherry\"."
   ]
  },
  {
   "cell_type": "code",
   "execution_count": null,
   "metadata": {},
   "outputs": [],
   "source": [
    "# Your code here\n"
   ]
  },
  {
   "cell_type": "markdown",
   "metadata": {},
   "source": [
    "**Answer:**\n",
    "```python\n",
    "fruits = [\"apple\", \"banana\", \"cherry\"]\n",
    "print(fruits)\n",
    "```"
   ]
  },
  {
   "cell_type": "markdown",
   "metadata": {},
   "source": [
    "### Question 7.4 (Medium - Multiple Choice)\n",
    "How do you access the first item in a list called `my_list`?\n",
    "\n",
    "A) my_list(1)\n",
    "B) my_list[0]\n",
    "C) my_list[1]"
   ]
  },
  {
   "cell_type": "markdown",
   "metadata": {},
   "source": [
    "**Answer:** B) my_list[0]"
   ]
  },
  {
   "cell_type": "markdown",
   "metadata": {},
   "source": [
    "### Question 7.5 (Medium - Coding)\n",
    "Create a list of numbers from 1 to 5, then print the third item in the list."
   ]
  },
  {
   "cell_type": "code",
   "execution_count": null,
   "metadata": {},
   "outputs": [],
   "source": [
    "# Your code here\n"
   ]
  },
  {
   "cell_type": "markdown",
   "metadata": {},
   "source": [
    "**Answer:**\n",
    "```python\n",
    "numbers = [1, 2, 3, 4, 5]\n",
    "print(numbers[2])  # Remember, indexing starts at 0, so the third item is at index 2\n",
    "```"
   ]
  },
  {
   "cell_type": "markdown",
   "metadata": {},
   "source": [
    "### Question 7.6 (Medium - Multiple Choice)\n",
    "What is a dictionary in Python?\n",
    "\n",
    "A) A book that contains word definitions\n",
    "B) A collection of key-value pairs\n",
    "C) A type of function"
   ]
  },
  {
   "cell_type": "markdown",
   "metadata": {},
   "source": [
    "**Answer:** B) A collection of key-value pairs"
   ]
  },
  {
   "cell_type": "markdown",
   "metadata": {},
   "source": [
    "### Question 7.7 (Medium - Coding)\n",
    "Create a dictionary called `student` with the following key-value pairs: \"name\" is \"Alex\", \"age\" is 10, and \"grade\" is 5."
   ]
  },
  {
   "cell_type": "code",
   "execution_count": null,
   "metadata": {},
   "outputs": [],
   "source": [
    "# Your code here\n"
   ]
  },
  {
   "cell_type": "markdown",
   "metadata": {},
   "source": [
    "**Answer:**\n",
    "```python\n",
    "student = {\"name\": \"Alex\", \"age\": 10, \"grade\": 5}\n",
    "print(student)\n",
    "```"
   ]
  },
  {
   "cell_type": "markdown",
   "metadata": {},
   "source": [
    "### Question 7.8 (Medium - Free Question)\n",
    "What is the main difference between a list and a dictionary in Python?"
   ]
  },
  {
   "cell_type": "markdown",
   "metadata": {},
   "source": [
    "**Sample Answer:** A list is an ordered collection of items that are accessed by their position (index) in the list. A dictionary is a collection of key-value pairs where you access values using their associated keys, not by position. Lists use square brackets [] and dictionaries use curly braces {}. Lists are great for storing items in a specific order, while dictionaries are useful when you want to associate values with specific keys."
   ]
  },
  {
   "cell_type": "markdown",
   "metadata": {},
   "source": [
    "### Question 7.9 (Hard - Multiple Choice)\n",
    "How do you add a new item to the end of a list in Python?\n",
    "\n",
    "A) list.add(item)\n",
    "B) list.append(item)\n",
    "C) list.insert(item)"
   ]
  },
  {
   "cell_type": "markdown",
   "metadata": {},
   "source": [
    "**Answer:** B) list.append(item)"
   ]
  },
  {
   "cell_type": "markdown",
   "metadata": {},
   "source": [
    "### Question 7.10 (Hard - Coding)\n",
    "Create a list of your favorite colors. Then add a new color to the list and print the updated list."
   ]
  },
  {
   "cell_type": "code",
   "execution_count": null,
   "metadata": {},
   "outputs": [],
   "source": [
    "# Your code here\n"
   ]
  },
  {
   "cell_type": "markdown",
   "metadata": {},
   "source": [
    "**Answer:**\n",
    "```python\n",
    "colors = [\"blue\", \"red\", \"green\"]\n",
    "colors.append(\"purple\")\n",
    "print(colors)\n",
    "```"
   ]
  },
  {
   "cell_type": "markdown",
   "metadata": {},
   "source": [
    "### Question 7.11 (Hard - Coding)\n",
    "Create a dictionary for a pet with keys for \"type\", \"name\", and \"age\". Then update the age of the pet and print the updated dictionary."
   ]
  },
  {
   "cell_type": "code",
   "execution_count": null,
   "metadata": {},
   "outputs": [],
   "source": [
    "# Your code here\n"
   ]
  },
  {
   "cell_type": "markdown",
   "metadata": {},
   "source": [
    "**Answer:**\n",
    "```python\n",
    "pet = {\"type\": \"dog\", \"name\": \"Buddy\", \"age\": 3}\n",
    "pet[\"age\"] = 4\n",
    "print(pet)\n",
    "```"
   ]
  },
  {
   "cell_type": "markdown",
   "metadata": {},
   "source": [
    "## Lesson 8: Introduction to Libraries\n",
    "\n",
    "### What are libraries in python? Using the Turtle library to draw shapes"
   ]
  },
  {
   "cell_type": "markdown",
   "metadata": {},
   "source": [
    "### Question 8.1 (Easy - Multiple Choice)\n",
    "What is a library in Python?\n",
    "\n",
    "A) A building where you can borrow books\n",
    "B) A collection of pre-written code that you can use in your programs\n",
    "C) A type of variable"
   ]
  },
  {
   "cell_type": "markdown",
   "metadata": {},
   "source": [
    "**Answer:** B) A collection of pre-written code that you can use in your programs"
   ]
  },
  {
   "cell_type": "markdown",
   "metadata": {},
   "source": [
    "### Question 8.2 (Easy - Multiple Choice)\n",
    "Which keyword is used to import a library in Python?\n",
    "\n",
    "A) include\n",
    "B) import\n",
    "C) library"
   ]
  },
  {
   "cell_type": "markdown",
   "metadata": {},
   "source": [
    "**Answer:** B) import"
   ]
  },
  {
   "cell_type": "markdown",
   "metadata": {},
   "source": [
    "### Question 8.3 (Easy - Coding)\n",
    "Write code to import the Turtle library."
   ]
  },
  {
   "cell_type": "code",
   "execution_count": null,
   "metadata": {},
   "outputs": [],
   "source": [
    "# Your code here\n"
   ]
  },
  {
   "cell_type": "markdown",
   "metadata": {},
   "source": [
    "**Answer:**\n",
    "```python\n",
    "import turtle\n",
    "```"
   ]
  },
  {
   "cell_type": "markdown",
   "metadata": {},
   "source": [
    "### Question 8.4 (Medium - Multiple Choice)\n",
    "What does the Turtle library in Python allow you to do?\n",
    "\n",
    "A) Create games\n",
    "B) Draw graphics and shapes\n",
    "C) Connect to the internet"
   ]
  },
  {
   "cell_type": "markdown",
   "metadata": {},
   "source": [
    "**Answer:** B) Draw graphics and shapes"
   ]
  },
  {
   "cell_type": "markdown",
   "metadata": {},
   "source": [
    "### Question 8.5 (Medium - Coding)\n",
    "Write code to create a turtle and make it move forward by 100 units."
   ]
  },
  {
   "cell_type": "code",
   "execution_count": null,
   "metadata": {},
   "outputs": [],
   "source": [
    "# Your code here\n"
   ]
  },
  {
   "cell_type": "markdown",
   "metadata": {},
   "source": [
    "**Answer:**\n",
    "```python\n",
    "import turtle\n",
    "\n",
    "t = turtle.Turtle()\n",
    "t.forward(100)\n",
    "```"
   ]
  },
  {
   "cell_type": "markdown",
   "metadata": {},
   "source": [
    "### Question 8.6 (Medium - Free Question)\n",
    "Name three different libraries in Python and what they are used for."
   ]
  },
  {
   "cell_type": "markdown",
   "metadata": {},
   "source": [
    "**Sample Answer:** 1) Turtle - for drawing graphics and shapes. 2) Random - for generating random numbers and making random choices. 3) Math - for performing mathematical operations like square roots and trigonometry. Other examples include Time (for working with dates and times), Pygame (for creating games), and Tkinter (for creating graphical user interfaces)."
   ]
  },
  {
   "cell_type": "markdown",
   "metadata": {},
   "source": [
    "### Question 8.7 (Medium - Coding)\n",
    "Write code to create a turtle and make it draw a square with sides of length 50."
   ]
  },
  {
   "cell_type": "code",
   "execution_count": null,
   "metadata": {},
   "outputs": [],
   "source": [
    "# Your code here\n"
   ]
  },
  {
   "cell_type": "markdown",
   "metadata": {},
   "source": [
    "**Answer:**\n",
    "```python\n",
    "import turtle\n",
    "\n",
    "t = turtle.Turtle()\n",
    "for i in range(4):\n",
    "    t.forward(50)\n",
    "    t.right(90)\n",
    "```"
   ]
  },
  {
   "cell_type": "markdown",
   "metadata": {},
   "source": [
    "### Question 8.8 (Hard - Multiple Choice)\n",
    "What will the following code draw?\n",
    "```python\n",
    "import turtle\n",
    "t = turtle.Turtle()\n",
    "for i in range(3):\n",
    "    t.forward(100)\n",
    "    t.right(120)\n",
    "```\n",
    "\n",
    "A) A square\n",
    "B) A triangle\n",
    "C) A circle"
   ]
  },
  {
   "cell_type": "markdown",
   "metadata": {},
   "source": [
    "**Answer:** B) A triangle"
   ]
  },
  {
   "cell_type": "markdown",
   "metadata": {},
   "source": [
    "### Question 8.9 (Hard - Coding)\n",
    "Write code to create a turtle and make it draw a circle with a radius of 50."
   ]
  },
  {
   "cell_type": "code",
   "execution_count": null,
   "metadata": {},
   "outputs": [],
   "source": [
    "# Your code here\n"
   ]
  },
  {
   "cell_type": "markdown",
   "metadata": {},
   "source": [
    "**Answer:**\n",
    "```python\n",
    "import turtle\n",
    "\n",
    "t = turtle.Turtle()\n",
    "t.circle(50)\n",
    "```"
   ]
  },
  {
   "cell_type": "markdown",
   "metadata": {},
   "source": [
    "### Question 8.10 (Hard - Coding)\n",
    "Write code to create a turtle, set its color to red, and make it draw a star."
   ]
  },
  {
   "cell_type": "code",
   "execution_count": null,
   "metadata": {},
   "outputs": [],
   "source": [
    "# Your code here\n"
   ]
  },
  {
   "cell_type": "markdown",
   "metadata": {},
   "source": [
    "**Answer:**\n",
    "```python\n",
    "import turtle\n",
    "\n",
    "t = turtle.Turtle()\n",
    "t.color(\"red\")\n",
    "\n",
    "for i in range(5):\n",
    "    t.forward(100)\n",
    "    t.right(144)\n",
    "```"
   ]
  },
  {
   "cell_type": "markdown",
   "metadata": {},
   "source": [
    "## Lesson 9: Review and Final Project\n",
    "\n",
    "### Review of print statements, taking input from users, variables and data types, if conditions, for loops, lists, dictionaries, and Turtle graphics libraries."
   ]
  },
  {
   "cell_type": "markdown",
   "metadata": {},
   "source": [
    "### Question 9.1 (Easy - Multiple Choice)\n",
    "Which of these is NOT a data type in Python?\n",
    "\n",
    "A) String\n",
    "B) Loop\n",
    "C) Boolean"
   ]
  },
  {
   "cell_type": "markdown",
   "metadata": {},
   "source": [
    "**Answer:** B) Loop"
   ]
  },
  {
   "cell_type": "markdown",
   "metadata": {},
   "source": [
    "### Question 9.2 (Easy - Coding)\n",
    "Write a program that asks the user for their name and favorite color, then prints \"[Name]'s favorite color is [Color]\"."
   ]
  },
  {
   "cell_type": "code",
   "execution_count": null,
   "metadata": {},
   "outputs": [],
   "source": [
    "# Your code here\n"
   ]
  },
  {
   "cell_type": "markdown",
   "metadata": {},
   "source": [
    "**Answer:**\n",
    "```python\n",
    "name = input(\"What is your name? \")\n",
    "color = input(\"What is your favorite color? \")\n",
    "print(f\"{name}'s favorite color is {color}\")\n",
    "```"
   ]
  },
  {
   "cell_type": "markdown",
   "metadata": {},
   "source": [
    "### Question 9.3 (Medium - Multiple Choice)\n",
    "What will the following code print?\n",
    "```python\n",
    "x = 5\n",
    "if x > 10:\n",
    "    print(\"Big number\")\n",
    "else:\n",
    "    print(\"Small number\")\n",
    "```\n",
    "\n",
    "A) Big number\n",
    "B) Small number\n",
    "C) Nothing"
   ]
  },
  {
   "cell_type": "markdown",
   "metadata": {},
   "source": [
    "**Answer:** B) Small number"
   ]
  },
  {
   "cell_type": "markdown",
   "metadata": {},
   "source": [
    "### Question 9.4 (Medium - Coding)\n",
    "Write a program that creates a list of numbers from 1 to 10, then prints only the even numbers in the list."
   ]
  },
  {
   "cell_type": "code",
   "execution_count": null,
   "metadata": {},
   "outputs": [],
   "source": [
    "# Your code here\n"
   ]
  },
  {
   "cell_type": "markdown",
   "metadata": {},
   "source": [
    "**Answer:**\n",
    "```python\n",
    "numbers = [1, 2, 3, 4, 5, 6, 7, 8, 9, 10]\n",
    "for num in numbers:\n",
    "    if num % 2 == 0:\n",
    "        print(num)\n",
    "```"
   ]
  },
  {
   "cell_type": "markdown",
   "metadata": {},
   "source": [
    "### Question 9.5 (Medium - Free Question)\n",
    "Explain how you would use a for loop to print each character in a string."
   ]
  },
  {
   "cell_type": "markdown",
   "metadata": {},
   "source": [
    "**Sample Answer:** To print each character in a string using a for loop, you can iterate directly through the string. For example:\n",
    "```python\n",
    "word = \"Python\"\n",
    "for character in word:\n",
    "    print(character)\n",
    "```\n",
    "This will print each letter of \"Python\" on a separate line. Strings in Python can be treated like lists of characters, so the for loop goes through each character one by one."
   ]
  },
  {
   "cell_type": "markdown",
   "metadata": {},
   "source": [
    "### Question 9.6 (Hard - Coding)\n",
    "Write a program that creates a dictionary with the names of three fruits as keys and their colors as values. Then print each fruit and its color in the format \"The [fruit] is [color]\"."
   ]
  },
  {
   "cell_type": "code",
   "execution_count": null,
   "metadata": {},
   "outputs": [],
   "source": [
    "# Your code here\n"
   ]
  },
  {
   "cell_type": "markdown",
   "metadata": {},
   "source": [
    "**Answer:**\n",
    "```python\n",
    "fruits = {\"apple\": \"red\", \"banana\": \"yellow\", \"grape\": \"purple\"}\n",
    "for fruit, color in fruits.items():\n",
    "    print(f\"The {fruit} is {color}\")\n",
    "```"
   ]
  },
  {
   "cell_type": "markdown",
   "metadata": {},
   "source": [
    "### Question 9.7 (Hard - Coding)\n",
    "Write a program that asks the user for a number, then creates a function to check if that number is prime (only divisible by 1 and itself). Print whether the number is prime or not."
   ]
  },
  {
   "cell_type": "code",
   "execution_count": null,
   "metadata": {},
   "outputs": [],
   "source": [
    "# Your code here\n"
   ]
  },
  {
   "cell_type": "markdown",
   "metadata": {},
   "source": [
    "**Answer:**\n",
    "```python\n",
    "def is_prime(num):\n",
    "    if num <= 1:\n",
    "        return False\n",
    "    for i in range(2, num):\n",
    "        if num % i == 0:\n",
    "            return False\n",
    "    return True\n",
    "\n",
    "number = int(input(\"Enter a number: \"))\n",
    "if is_prime(number):\n",
    "    print(f\"{number} is a prime number\")\n",
    "else:\n",
    "    print(f\"{number} is not a prime number\")\n",
    "```"
   ]
  },
  {
   "cell_type": "markdown",
   "metadata": {},
   "source": [
    "### Question 9.8 (Hard - Coding)\n",
    "Write a program that uses the Turtle library to draw a simple house (a square with a triangle on top)."
   ]
  },
  {
   "cell_type": "code",
   "execution_count": null,
   "metadata": {},
   "outputs": [],
   "source": [
    "# Your code here\n"
   ]
  },
  {
   "cell_type": "markdown",
   "metadata": {},
   "source": [
    "**Answer:**\n",
    "```python\n",
    "import turtle\n",
    "\n",
    "t = turtle.Turtle()\n",
    "\n",
    "# Draw the square (house base)\n",
    "for i in range(4):\n",
    "    t.forward(100)\n",
    "    t.right(90)\n",
    "    \n",
    "# Position for the roof\n",
    "t.left(90)\n",
    "t.forward(100)\n",
    "t.right(90)\n",
    "\n",
    "# Draw the triangle (roof)\n",
    "t.right(30)\n",
    "t.forward(100)\n",
    "t.right(120)\n",
    "t.forward(100)\n",
    "```"
   ]
  },
  {
   "cell_type": "markdown",
   "metadata": {},
   "source": [
    "### Question 9.9 (Hard - Free Question)\n",
    "Design a simple Python project that combines at least three concepts you've learned (e.g., variables, loops, conditionals, functions, lists, etc.). Describe what the project does and outline the code you would write."
   ]
  },
  {
   "cell_type": "markdown",
   "metadata": {},
   "source": [
    "**Sample Answer:** \n",
    "\n",
    "Project: Number Guessing Game\n",
    "\n",
    "This project combines variables, loops, conditionals, functions, and user input. The program will:\n",
    "1. Generate a random number between 1 and 100\n",
    "2. Ask the player to guess the number\n",
    "3. Tell the player if their guess is too high or too low\n",
    "4. Count how many guesses the player takes\n",
    "5. End when the player guesses correctly\n",
    "\n",
    "Code outline:\n",
    "```python\n",
    "import random\n",
    "\n",
    "def play_game():\n",
    "    secret_number = random.randint(1, 100)\n",
    "    guesses = 0\n",
    "    \n",
    "    print(\"I'm thinking of a number between 1 and 100.\")\n",
    "    \n",
    "    while True:\n",
    "        guess = int(input(\"What's your guess? \"))\n",
    "        guesses += 1\n",
    "        \n",
    "        if guess < secret_number:\n",
    "            print(\"Too low!\")\n",
    "        elif guess > secret_number:\n",
    "            print(\"Too high!\")\n",
    "        else:\n",
    "            print(f\"You got it! The number was {secret_number}.\")\n",
    "            print(f\"It took you {guesses} guesses.\")\n",
    "            break\n",
    "\n",
    "play_game()\n",
    "```"
   ]
  },
  {
   "cell_type": "markdown",
   "metadata": {},
   "source": [
    "### Question 9.10 (Hard - Coding)\n",
    "Create a simple calculator program that asks the user for two numbers and an operation (add, subtract, multiply, or divide), then performs the calculation and prints the result."
   ]
  },
  {
   "cell_type": "code",
   "execution_count": null,
   "metadata": {},
   "outputs": [],
   "source": [
    "# Your code here\n"
   ]
  },
  {
   "cell_type": "markdown",
   "metadata": {},
   "source": [
    "**Answer:**\n",
    "```python\n",
    "def calculate(num1, num2, operation):\n",
    "    if operation == \"add\":\n",
    "        return num1 + num2\n",
    "    elif operation == \"subtract\":\n",
    "        return num1 - num2\n",
    "    elif operation == \"multiply\":\n",
    "        return num1 * num2\n",
    "    elif operation == \"divide\":\n",
    "        if num2 == 0:\n",
    "            return \"Error: Cannot divide by zero\"\n",
    "        return num1 / num2\n",
    "    else:\n",
    "        return \"Error: Invalid operation\"\n",
    "\n",
    "num1 = float(input(\"Enter the first number: \"))\n",
    "num2 = float(input(\"Enter the second number: \"))\n",
    "operation = input(\"Enter the operation (add, subtract, multiply, or divide): \")\n",
    "\n",
    "result = calculate(num1, num2, operation)\n",
    "print(f\"The result is: {result}\")\n",
    "```"
   ]
  }
 ],
 "metadata": {
  "kernelspec": {
   "display_name": "Python 3",
   "language": "python",
   "name": "python3"
  },
  "language_info": {
   "codemirror_mode": {
    "name": "ipython",
    "version": 3
   },
   "file_extension": ".py",
   "mimetype": "text/x-python",
   "name": "python",
   "nbconvert_exporter": "python",
   "pygments_lexer": "ipython3",
   "version": "3.10.12"
  }
 },
 "nbformat": 4,
 "nbformat_minor": 4
}
