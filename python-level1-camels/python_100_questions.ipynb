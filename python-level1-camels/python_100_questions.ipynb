{
 "cells": [
  {
   "cell_type": "markdown",
   "metadata": {},
   "source": [
    "# Python Coding Questions for Kids (Ages 8-12)\n",
    "\n",
    "This notebook contains 100 Python coding questions organized by lesson, ranging from easy to hard difficulty levels. The questions include multiple choice, coding challenges, and free-form questions."
   ]
  },
  {
   "cell_type": "markdown",
   "metadata": {},
   "source": [
    "## Lesson 1: Introduction to Python\n",
    "\n",
    "### What is Python? Why learn Python? Setting up Python on your computer. Your first Python program: \"Hello, World!\""
   ]
  },
  {
   "cell_type": "markdown",
   "metadata": {},
   "source": [
    "### Question 1.1\n",
    "What is Python?\n",
    "\n",
    "A) A type of snake\n",
    "\n",
    "B) A programming language\n",
    "\n",
    "C) A computer game\n",
    "\n",
    "---"
   ]
  },
  {
   "cell_type": "markdown",
   "metadata": {},
   "source": [
    "### Question 1.2\n",
    "Why do many people learn Python as their first programming language?\n",
    "\n",
    "A) Because it has simple, easy-to-understand syntax\n",
    "\n",
    "B) Because it's the only programming language that exists\n",
    "\n",
    "C) Because you need to know Python to use the internet\n",
    "\n",
    "---"
   ]
  },
  {
   "cell_type": "markdown",
   "metadata": {},
   "source": [
    "### Question 1.3\n",
    "Write a Python program that prints \"Hello, World!\" to the screen.\n",
    "\n",
    "---"
   ]
  },
  {
   "cell_type": "code",
   "execution_count": null,
   "metadata": {},
   "outputs": [],
   "source": [
    "# Your code here\n"
   ]
  },
  {
   "cell_type": "markdown",
   "metadata": {},
   "source": [
    "### Question 1.4\n",
    "What symbol is used in Python to add comments to your code?\n",
    "\n",
    "A) #\n",
    "\n",
    "B) $\n",
    "\n",
    "C) @\n",
    "\n",
    "---"
   ]
  },
  {
   "cell_type": "markdown",
   "metadata": {},
   "source": [
    "### Question 1.5\n",
    "Write a Python program that prints your name and age on separate lines.\n",
    "\n",
    "---"
   ]
  },
  {
   "cell_type": "code",
   "execution_count": null,
   "metadata": {},
   "outputs": [],
   "source": [
    "# Your code here\n"
   ]
  },
  {
   "cell_type": "markdown",
   "metadata": {},
   "source": [
    "### Question 1.6\n",
    "What happens when you run a Python program with an error in it?\n",
    "\n",
    "A) The computer will fix the error automatically\n",
    "\n",
    "B) Python will show an error message\n",
    "\n",
    "C) The computer will crash and need to be restarted\n",
    "\n",
    "---"
   ]
  },
  {
   "cell_type": "markdown",
   "metadata": {},
   "source": [
    "### Question 1.7\n",
    "Fix the error in this Python program:\n",
    "\n",
    "```python\n",
    "print(\"Hello)\n",
    "```\n",
    "\n",
    "---"
   ]
  },
  {
   "cell_type": "code",
   "execution_count": null,
   "metadata": {},
   "outputs": [],
   "source": [
    "# Your code here\n"
   ]
  },
  {
   "cell_type": "markdown",
   "metadata": {},
   "source": [
    "### Question 1.8\n",
    "Name three things you can create or do with Python programming.\n",
    "\n",
    "---"
   ]
  },
  {
   "cell_type": "markdown",
   "metadata": {},
   "source": [
    "### Question 1.9\n",
    "Write a Python program that prints a smiley face using text characters.\n",
    "\n",
    "---"
   ]
  },
  {
   "cell_type": "code",
   "execution_count": null,
   "metadata": {},
   "outputs": [],
   "source": [
    "# Your code here\n"
   ]
  },
  {
   "cell_type": "markdown",
   "metadata": {},
   "source": [
    "### Question 1.10\n",
    "Which of these is NOT a common use for Python?\n",
    "\n",
    "A) Creating websites\n",
    "\n",
    "B) Replacing your computer's operating system\n",
    "\n",
    "C) Analyzing data\n",
    "\n",
    "---"
   ]
  },
  {
   "cell_type": "markdown",
   "metadata": {},
   "source": [
    "### Question 1.11\n",
    "Write a Python program that prints the following pattern:\n",
    "```\n",
    "*\n",
    "**\n",
    "***\n",
    "```\n",
    "\n",
    "---"
   ]
  },
  {
   "cell_type": "code",
   "execution_count": null,
   "metadata": {},
   "outputs": [],
   "source": [
    "# Your code here\n"
   ]
  },
  {
   "cell_type": "markdown",
   "metadata": {},
   "source": [
    "### Question 1.12\n",
    "Explain what happens when you run a Python program, from the moment you press run until you see the output.\n",
    "\n",
    "---"
   ]
  },
  {
   "cell_type": "markdown",
   "metadata": {},
   "source": [
    "## Lesson 2: Variables and Data Types\n",
    "\n",
    "### What are variables? Different data types (numbers, strings, and booleans)"
   ]
  },
  {
   "cell_type": "markdown",
   "metadata": {},
   "source": [
    "### Question 2.1\n",
    "What is a variable in Python?\n",
    "\n",
    "A) A container that stores data\n",
    "\n",
    "B) A type of math problem\n",
    "\n",
    "C) A special keyboard button\n",
    "\n",
    "---"
   ]
  },
  {
   "cell_type": "markdown",
   "metadata": {},
   "source": [
    "### Question 2.2\n",
    "Create a variable called `name` and store your name in it. Then print the variable.\n",
    "\n",
    "---"
   ]
  },
  {
   "cell_type": "code",
   "execution_count": null,
   "metadata": {},
   "outputs": [],
   "source": [
    "# Your code here\n"
   ]
  },
  {
   "cell_type": "markdown",
   "metadata": {},
   "source": [
    "### Question 2.3\n",
    "Which of these is a string data type in Python?\n",
    "\n",
    "A) 42\n",
    "\n",
    "B) \"Hello\"\n",
    "\n",
    "C) True\n",
    "\n",
    "---"
   ]
  },
  {
   "cell_type": "markdown",
   "metadata": {},
   "source": [
    "### Question 2.4\n",
    "Create a variable called `age` and store your age as a number. Then print the variable.\n",
    "\n",
    "---"
   ]
  },
  {
   "cell_type": "code",
   "execution_count": null,
   "metadata": {},
   "outputs": [],
   "source": [
    "# Your code here\n"
   ]
  },
  {
   "cell_type": "markdown",
   "metadata": {},
   "source": [
    "### Question 2.5\n",
    "What data type is the value `False` in Python?\n",
    "\n",
    "A) String\n",
    "\n",
    "B) Number\n",
    "\n",
    "C) Boolean\n",
    "\n",
    "---"
   ]
  },
  {
   "cell_type": "markdown",
   "metadata": {},
   "source": [
    "### Question 2.6\n",
    "Create three variables: one with a string, one with a number, and one with a boolean value. Then print all three.\n",
    "\n",
    "---"
   ]
  },
  {
   "cell_type": "code",
   "execution_count": null,
   "metadata": {},
   "outputs": [],
   "source": [
    "# Your code here\n"
   ]
  },
  {
   "cell_type": "markdown",
   "metadata": {},
   "source": [
    "### Question 2.7\n",
    "Explain the difference between an integer and a string that contains a number (like \"42\").\n",
    "\n",
    "---"
   ]
  },
  {
   "cell_type": "markdown",
   "metadata": {},
   "source": [
    "### Question 2.8\n",
    "Create a variable called `favorite_number` with your favorite number. Then create another variable called `message` that combines a string and your favorite number to say \"My favorite number is X\". Print the message.\n",
    "\n",
    "---"
   ]
  },
  {
   "cell_type": "code",
   "execution_count": null,
   "metadata": {},
   "outputs": [],
   "source": [
    "# Your code here\n"
   ]
  },
  {
   "cell_type": "markdown",
   "metadata": {},
   "source": [
    "### Question 2.9\n",
    "What happens if you try to add a number and a string in Python?\n",
    "\n",
    "A) Python will convert the string to a number and add them\n",
    "\n",
    "B) Python will show an error message\n",
    "\n",
    "C) Python will convert the number to a string and join them together\n",
    "\n",
    "---"
   ]
  },
  {
   "cell_type": "markdown",
   "metadata": {},
   "source": [
    "### Question 2.10\n",
    "Fix the error in this code:\n",
    "\n",
    "```python\n",
    "age = 10\n",
    "message = \"I am \" + age + \" years old.\"\n",
    "print(message)\n",
    "```\n",
    "\n",
    "---"
   ]
  },
  {
   "cell_type": "code",
   "execution_count": null,
   "metadata": {},
   "outputs": [],
   "source": [
    "# Your code here\n"
   ]
  },
  {
   "cell_type": "markdown",
   "metadata": {},
   "source": [
    "### Question 2.11\n",
    "What are three rules for naming variables in Python?\n",
    "\n",
    "---"
   ]
  },
  {
   "cell_type": "markdown",
   "metadata": {},
   "source": [
    "## Lesson 3: Basic Input and Output\n",
    "\n",
    "### How to get input from users. Displaying output to users."
   ]
  },
  {
   "cell_type": "markdown",
   "metadata": {},
   "source": [
    "### Question 3.1\n",
    "Which function is used to display output to the user in Python?\n",
    "\n",
    "A) input()\n",
    "\n",
    "B) print()\n",
    "\n",
    "C) display()\n",
    "\n",
    "---"
   ]
  },
  {
   "cell_type": "markdown",
   "metadata": {},
   "source": [
    "### Question 3.2\n",
    "Which function is used to get input from the user in Python?\n",
    "\n",
    "A) input()\n",
    "\n",
    "B) get()\n",
    "\n",
    "C) ask()\n",
    "\n",
    "---"
   ]
  },
  {
   "cell_type": "markdown",
   "metadata": {},
   "source": [
    "### Question 3.3\n",
    "Write a program that asks the user for their name and then prints \"Hello\" followed by their name.\n",
    "\n",
    "---"
   ]
  },
  {
   "cell_type": "code",
   "execution_count": null,
   "metadata": {},
   "outputs": [],
   "source": [
    "# Your code here\n"
   ]
  },
  {
   "cell_type": "markdown",
   "metadata": {},
   "source": [
    "### Question 3.4\n",
    "What data type does the `input()` function return in Python?\n",
    "\n",
    "A) Integer\n",
    "\n",
    "B) String\n",
    "\n",
    "C) Boolean\n",
    "\n",
    "---"
   ]
  },
  {
   "cell_type": "markdown",
   "metadata": {},
   "source": [
    "### Question 3.5\n",
    "Write a program that asks the user for their age, then prints \"In 5 years, you will be X years old\" where X is their current age plus 5.\n",
    "\n",
    "---"
   ]
  },
  {
   "cell_type": "code",
   "execution_count": null,
   "metadata": {},
   "outputs": [],
   "source": [
    "# Your code here\n"
   ]
  },
  {
   "cell_type": "markdown",
   "metadata": {},
   "source": [
    "### Question 3.6\n",
    "Why do we need to convert the input from the user to an integer when we want to use it in math operations?\n",
    "\n",
    "---"
   ]
  },
  {
   "cell_type": "markdown",
   "metadata": {},
   "source": [
    "### Question 3.7\n",
    "Write a program that asks the user for two numbers, then prints their sum.\n",
    "\n",
    "---"
   ]
  },
  {
   "cell_type": "code",
   "execution_count": null,
   "metadata": {},
   "outputs": [],
   "source": [
    "# Your code here\n"
   ]
  },
  {
   "cell_type": "markdown",
   "metadata": {},
   "source": [
    "### Question 3.8\n",
    "What happens if a user enters \"hello\" when your program tries to convert their input to an integer?\n",
    "\n",
    "A) The program will convert \"hello\" to 0\n",
    "\n",
    "B) The program will show an error message\n",
    "\n",
    "C) The program will ignore the input and continue\n",
    "\n",
    "---"
   ]
  },
  {
   "cell_type": "markdown",
   "metadata": {},
   "source": [
    "### Question 3.9\n",
    "Write a program that asks the user for their name and age, then prints a message saying \"Hello [name], you were born around [year]\" (calculate the approximate birth year based on the current year and their age).\n",
    "\n",
    "---"
   ]
  },
  {
   "cell_type": "code",
   "execution_count": null,
   "metadata": {},
   "outputs": [],
   "source": [
    "# Your code here\n"
   ]
  },
  {
   "cell_type": "markdown",
   "metadata": {},
   "source": [
    "### Question 3.10\n",
    "Explain the difference between the print() function and the input() function in Python.\n",
    "\n",
    "---"
   ]
  },
  {
   "cell_type": "markdown",
   "metadata": {},
   "source": [
    "## Lesson 4: Conditionals\n",
    "\n",
    "### How to make your Python programs think and make decisions using if statements"
   ]
  },
  {
   "cell_type": "markdown",
   "metadata": {},
   "source": [
    "### Question 4.1\n",
    "What is a conditional statement in Python?\n",
    "\n",
    "A) A way to repeat code multiple times\n",
    "\n",
    "B) A way to make decisions in code based on conditions\n",
    "\n",
    "C) A way to get input from users\n",
    "\n",
    "---"
   ]
  },
  {
   "cell_type": "markdown",
   "metadata": {},
   "source": [
    "### Question 4.2\n",
    "Which keyword is used to start a conditional statement in Python?\n",
    "\n",
    "A) for\n",
    "\n",
    "B) if\n",
    "\n",
    "C) when\n",
    "\n",
    "---"
   ]
  },
  {
   "cell_type": "markdown",
   "metadata": {},
   "source": [
    "### Question 4.3\n",
    "Write a program that asks the user for their age and prints \"You are a child\" if their age is less than 13.\n",
    "\n",
    "---"
   ]
  },
  {
   "cell_type": "code",
   "execution_count": null,
   "metadata": {},
   "outputs": [],
   "source": [
    "# Your code here\n"
   ]
  },
  {
   "cell_type": "markdown",
   "metadata": {},
   "source": [
    "### Question 4.4\n",
    "Which symbol is used to check if two values are equal in Python?\n",
    "\n",
    "A) =\n",
    "\n",
    "B) ==\n",
    "\n",
    "C) ===\n",
    "\n",
    "---"
   ]
  },
  {
   "cell_type": "markdown",
   "metadata": {},
   "source": [
    "### Question 4.5\n",
    "Write a program that asks the user for a number and prints \"Even\" if the number is even, and \"Odd\" if the number is odd.\n",
    "\n",
    "---"
   ]
  },
  {
   "cell_type": "code",
   "execution_count": null,
   "metadata": {},
   "outputs": [],
   "source": [
    "# Your code here\n"
   ]
  },
  {
   "cell_type": "markdown",
   "metadata": {},
   "source": [
    "### Question 4.6\n",
    "What does the `else` keyword do in Python?\n",
    "\n",
    "A) It ends the program\n",
    "\n",
    "B) It runs code if the condition in the if statement is False\n",
    "\n",
    "C) It repeats the code in the if statement\n",
    "\n",
    "---"
   ]
  },
  {
   "cell_type": "markdown",
   "metadata": {},
   "source": [
    "### Question 4.7\n",
    "Write a program that asks the user for their score (0-100) and prints \"Pass\" if the score is 60 or higher, and \"Fail\" if it's lower than 60.\n",
    "\n",
    "---"
   ]
  },
  {
   "cell_type": "code",
   "execution_count": null,
   "metadata": {},
   "outputs": [],
   "source": [
    "# Your code here\n"
   ]
  },
  {
   "cell_type": "markdown",
   "metadata": {},
   "source": [
    "### Question 4.8\n",
    "What is the difference between the = operator and the == operator in Python?\n",
    "\n",
    "---"
   ]
  },
  {
   "cell_type": "markdown",
   "metadata": {},
   "source": [
    "### Question 4.9\n",
    "What does the `elif` keyword do in Python?\n",
    "\n",
    "A) It checks another condition if the previous condition was False\n",
    "\n",
    "B) It ends the if statement\n",
    "\n",
    "C) It runs code regardless of the condition\n",
    "\n",
    "---"
   ]
  },
  {
   "cell_type": "markdown",
   "metadata": {},
   "source": [
    "### Question 4.10\n",
    "Write a program that asks the user for their score (0-100) and prints \"A\" for scores 90-100, \"B\" for scores 80-89, \"C\" for scores 70-79, \"D\" for scores 60-69, and \"F\" for scores below 60.\n",
    "\n",
    "---"
   ]
  },
  {
   "cell_type": "code",
   "execution_count": null,
   "metadata": {},
   "outputs": [],
   "source": [
    "# Your code here\n"
   ]
  },
  {
   "cell_type": "markdown",
   "metadata": {},
   "source": [
    "### Question 4.11\n",
    "Write a program that asks the user for a password. If the password is \"python123\", print \"Access granted\". Otherwise, print \"Access denied\".\n",
    "\n",
    "---"
   ]
  },
  {
   "cell_type": "code",
   "execution_count": null,
   "metadata": {},
   "outputs": [],
   "source": [
    "# Your code here\n"
   ]
  },
  {
   "cell_type": "markdown",
   "metadata": {},
   "source": [
    "## Lesson 5: Loops\n",
    "\n",
    "### Learn about for loops in python"
   ]
  },
  {
   "cell_type": "markdown",
   "metadata": {},
   "source": [
    "### Question 5.1\n",
    "What is a loop in Python?\n",
    "\n",
    "A) A way to repeat code multiple times\n",
    "\n",
    "B) A way to make decisions in code\n",
    "\n",
    "C) A way to create variables\n",
    "\n",
    "---"
   ]
  },
  {
   "cell_type": "markdown",
   "metadata": {},
   "source": [
    "### Question 5.2\n",
    "Which keyword is used to create a for loop in Python?\n",
    "\n",
    "A) loop\n",
    "\n",
    "B) for\n",
    "\n",
    "C) repeat\n",
    "\n",
    "---"
   ]
  },
  {
   "cell_type": "markdown",
   "metadata": {},
   "source": [
    "### Question 5.3\n",
    "Write a program that uses a for loop to print the numbers 1 to 5.\n",
    "\n",
    "---"
   ]
  },
  {
   "cell_type": "code",
   "execution_count": null,
   "metadata": {},
   "outputs": [],
   "source": [
    "# Your code here\n"
   ]
  },
  {
   "cell_type": "markdown",
   "metadata": {},
   "source": [
    "### Question 5.4\n",
    "What does the `range()` function do in Python?\n",
    "\n",
    "A) It creates a list of numbers\n",
    "\n",
    "B) It measures the size of a variable\n",
    "\n",
    "C) It checks if a condition is true\n",
    "\n",
    "---"
   ]
  },
  {
   "cell_type": "markdown",
   "metadata": {},
   "source": [
    "### Question 5.5\n",
    "Write a program that uses a for loop to print the even numbers from 2 to 10.\n",
    "\n",
    "---"
   ]
  },
  {
   "cell_type": "code",
   "execution_count": null,
   "metadata": {},
   "outputs": [],
   "source": [
    "# Your code here\n"
   ]
  },
  {
   "cell_type": "markdown",
   "metadata": {},
   "source": [
    "### Question 5.6\n",
    "Explain what the third parameter in the range() function does. For example, in range(1, 10, 2).\n",
    "\n",
    "---"
   ]
  },
  {
   "cell_type": "markdown",
   "metadata": {},
   "source": [
    "### Question 5.7\n",
    "Write a program that uses a for loop to print the numbers from 10 down to 1 (in descending order).\n",
    "\n",
    "---"
   ]
  },
  {
   "cell_type": "code",
   "execution_count": null,
   "metadata": {},
   "outputs": [],
   "source": [
    "# Your code here\n"
   ]
  },
  {
   "cell_type": "markdown",
   "metadata": {},
   "source": [
    "### Question 5.8\n",
    "What will the following code print?\n",
    "```python\n",
    "for i in range(3):\n",
    "    print(\"Hello\")\n",
    "```\n",
    "\n",
    "A) Hello\n",
    "\n",
    "B) Hello Hello Hello\n",
    "\n",
    "C) Hello (printed 3 times on separate lines)\n",
    "\n",
    "---"
   ]
  },
  {
   "cell_type": "markdown",
   "metadata": {},
   "source": [
    "### Question 5.9\n",
    "Write a program that calculates and prints the sum of all numbers from 1 to 10 using a for loop.\n",
    "\n",
    "---"
   ]
  },
  {
   "cell_type": "code",
   "execution_count": null,
   "metadata": {},
   "outputs": [],
   "source": [
    "# Your code here\n"
   ]
  },
  {
   "cell_type": "markdown",
   "metadata": {},
   "source": [
    "### Question 5.10\n",
    "Write a program that uses a for loop to print a multiplication table for the number 5 (5 times 1 through 5).\n",
    "\n",
    "---"
   ]
  },
  {
   "cell_type": "code",
   "execution_count": null,
   "metadata": {},
   "outputs": [],
   "source": [
    "# Your code here\n"
   ]
  },
  {
   "cell_type": "markdown",
   "metadata": {},
   "source": [
    "## Lesson 6: Functions\n",
    "\n",
    "### What are functions in python? Creating and using functions"
   ]
  },
  {
   "cell_type": "markdown",
   "metadata": {},
   "source": [
    "### Question 6.1\n",
    "What is a function in Python?\n",
    "\n",
    "A) A type of variable\n",
    "\n",
    "B) A reusable block of code that performs a specific task\n",
    "\n",
    "C) A way to create loops\n",
    "\n",
    "---"
   ]
  },
  {
   "cell_type": "markdown",
   "metadata": {},
   "source": [
    "### Question 6.2\n",
    "Which keyword is used to define a function in Python?\n",
    "\n",
    "A) function\n",
    "\n",
    "B) def\n",
    "\n",
    "C) create\n",
    "\n",
    "---"
   ]
  },
  {
   "cell_type": "markdown",
   "metadata": {},
   "source": [
    "### Question 6.3\n",
    "Write a function called `say_hello` that prints \"Hello, World!\" when called.\n",
    "\n",
    "---"
   ]
  },
  {
   "cell_type": "code",
   "execution_count": null,
   "metadata": {},
   "outputs": [],
   "source": [
    "# Your code here\n"
   ]
  },
  {
   "cell_type": "markdown",
   "metadata": {},
   "source": [
    "### Question 6.4\n",
    "What are parameters in a function?\n",
    "\n",
    "A) The values that a function returns\n",
    "\n",
    "B) The values that are passed into a function when it is called\n",
    "\n",
    "C) The name of the function\n",
    "\n",
    "---"
   ]
  },
  {
   "cell_type": "markdown",
   "metadata": {},
   "source": [
    "### Question 6.5\n",
    "Write a function called `greet` that takes a name as a parameter and prints \"Hello, [name]!\".\n",
    "\n",
    "---"
   ]
  },
  {
   "cell_type": "code",
   "execution_count": null,
   "metadata": {},
   "outputs": [],
   "source": [
    "# Your code here\n"
   ]
  },
  {
   "cell_type": "markdown",
   "metadata": {},
   "source": [
    "### Question 6.6\n",
    "What is the difference between a function that has a return statement and one that doesn't?\n",
    "\n",
    "---"
   ]
  },
  {
   "cell_type": "markdown",
   "metadata": {},
   "source": [
    "### Question 6.7\n",
    "Write a function called `add_numbers` that takes two parameters and returns their sum.\n",
    "\n",
    "---"
   ]
  },
  {
   "cell_type": "code",
   "execution_count": null,
   "metadata": {},
   "outputs": [],
   "source": [
    "# Your code here\n"
   ]
  },
  {
   "cell_type": "markdown",
   "metadata": {},
   "source": [
    "### Question 6.8\n",
    "What will the following code print?\n",
    "```python\n",
    "def double(x):\n",
    "    return x * 2\n",
    "\n",
    "result = double(5)\n",
    "print(result)\n",
    "```\n",
    "\n",
    "A) 5\n",
    "\n",
    "B) 10\n",
    "\n",
    "C) None\n",
    "\n",
    "---"
   ]
  },
  {
   "cell_type": "markdown",
   "metadata": {},
   "source": [
    "### Question 6.9\n",
    "Write a function called `is_even` that takes a number as a parameter and returns True if the number is even, and False if it's odd.\n",
    "\n",
    "---"
   ]
  },
  {
   "cell_type": "code",
   "execution_count": null,
   "metadata": {},
   "outputs": [],
   "source": [
    "# Your code here\n"
   ]
  },
  {
   "cell_type": "markdown",
   "metadata": {},
   "source": [
    "### Question 6.10\n",
    "Write a function called `calculate_area` that calculates and returns the area of a rectangle. The function should take two parameters: length and width.\n",
    "\n",
    "---"
   ]
  },
  {
   "cell_type": "code",
   "execution_count": null,
   "metadata": {},
   "outputs": [],
   "source": [
    "# Your code here\n"
   ]
  },
  {
   "cell_type": "markdown",
   "metadata": {},
   "source": [
    "## Lesson 7: Lists and Dictionaries\n",
    "\n",
    "### What are lists and dictionaries in python? Accessing and modifying list and dictionary items"
   ]
  },
  {
   "cell_type": "markdown",
   "metadata": {},
   "source": [
    "### Question 7.1\n",
    "What is a list in Python?\n",
    "\n",
    "A) A collection of items in a specific order\n",
    "\n",
    "B) A way to create functions\n",
    "\n",
    "C) A type of loop\n",
    "\n",
    "---"
   ]
  },
  {
   "cell_type": "markdown",
   "metadata": {},
   "source": [
    "### Question 7.2\n",
    "How do you create an empty list in Python?\n",
    "\n",
    "A) list = ()\n",
    "\n",
    "B) list = []\n",
    "\n",
    "C) list = {}\n",
    "\n",
    "---"
   ]
  },
  {
   "cell_type": "markdown",
   "metadata": {},
   "source": [
    "### Question 7.3\n",
    "Create a list called `fruits` that contains the following items: \"apple\", \"banana\", and \"cherry\".\n",
    "\n",
    "---"
   ]
  },
  {
   "cell_type": "code",
   "execution_count": null,
   "metadata": {},
   "outputs": [],
   "source": [
    "# Your code here\n"
   ]
  },
  {
   "cell_type": "markdown",
   "metadata": {},
   "source": [
    "### Question 7.4\n",
    "How do you access the first item in a list called `my_list`?\n",
    "\n",
    "A) my_list(1)\n",
    "\n",
    "B) my_list[0]\n",
    "\n",
    "C) my_list[1]\n",
    "\n",
    "---"
   ]
  },
  {
   "cell_type": "markdown",
   "metadata": {},
   "source": [
    "### Question 7.5\n",
    "Create a list of numbers from 1 to 5, then print the third item in the list.\n",
    "\n",
    "---"
   ]
  },
  {
   "cell_type": "code",
   "execution_count": null,
   "metadata": {},
   "outputs": [],
   "source": [
    "# Your code here\n"
   ]
  },
  {
   "cell_type": "markdown",
   "metadata": {},
   "source": [
    "### Question 7.6\n",
    "What is a dictionary in Python?\n",
    "\n",
    "A) A book that contains word definitions\n",
    "\n",
    "B) A collection of key-value pairs\n",
    "\n",
    "C) A type of function\n",
    "\n",
    "---"
   ]
  },
  {
   "cell_type": "markdown",
   "metadata": {},
   "source": [
    "### Question 7.7\n",
    "Create a dictionary called `student` with the following key-value pairs: \"name\" is \"Alex\", \"age\" is 10, and \"grade\" is 5.\n",
    "\n",
    "---"
   ]
  },
  {
   "cell_type": "code",
   "execution_count": null,
   "metadata": {},
   "outputs": [],
   "source": [
    "# Your code here\n"
   ]
  },
  {
   "cell_type": "markdown",
   "metadata": {},
   "source": [
    "### Question 7.8\n",
    "What is the main difference between a list and a dictionary in Python?\n",
    "\n",
    "---"
   ]
  },
  {
   "cell_type": "markdown",
   "metadata": {},
   "source": [
    "### Question 7.9\n",
    "How do you add a new item to the end of a list in Python?\n",
    "\n",
    "A) list.add(item)\n",
    "\n",
    "B) list.append(item)\n",
    "\n",
    "C) list.insert(item)\n",
    "\n",
    "---"
   ]
  },
  {
   "cell_type": "markdown",
   "metadata": {},
   "source": [
    "### Question 7.10\n",
    "Create a list of your favorite colors. Then add a new color to the list and print the updated list.\n",
    "\n",
    "---"
   ]
  },
  {
   "cell_type": "code",
   "execution_count": null,
   "metadata": {},
   "outputs": [],
   "source": [
    "# Your code here\n"
   ]
  },
  {
   "cell_type": "markdown",
   "metadata": {},
   "source": [
    "### Question 7.11\n",
    "Create a dictionary for a pet with keys for \"type\", \"name\", and \"age\". Then update the age of the pet and print the updated dictionary.\n",
    "\n",
    "---"
   ]
  },
  {
   "cell_type": "code",
   "execution_count": null,
   "metadata": {},
   "outputs": [],
   "source": [
    "# Your code here\n"
   ]
  },
  {
   "cell_type": "markdown",
   "metadata": {},
   "source": [
    "## Lesson 8: Introduction to Libraries\n",
    "\n",
    "### What are libraries in python? Using the Turtle library to draw shapes"
   ]
  },
  {
   "cell_type": "markdown",
   "metadata": {},
   "source": [
    "### Question 8.1\n",
    "What is a library in Python?\n",
    "\n",
    "A) A building where you can borrow books\n",
    "\n",
    "B) A collection of pre-written code that you can use in your programs\n",
    "\n",
    "C) A type of variable\n",
    "\n",
    "---"
   ]
  },
  {
   "cell_type": "markdown",
   "metadata": {},
   "source": [
    "### Question 8.2\n",
    "Which keyword is used to import a library in Python?\n",
    "\n",
    "A) include\n",
    "\n",
    "B) import\n",
    "\n",
    "C) library\n",
    "\n",
    "---"
   ]
  },
  {
   "cell_type": "markdown",
   "metadata": {},
   "source": [
    "### Question 8.3\n",
    "Write code to import the Turtle library.\n",
    "\n",
    "---"
   ]
  },
  {
   "cell_type": "code",
   "execution_count": null,
   "metadata": {},
   "outputs": [],
   "source": [
    "# Your code here\n"
   ]
  },
  {
   "cell_type": "markdown",
   "metadata": {},
   "source": [
    "### Question 8.4\n",
    "What does the Turtle library in Python allow you to do?\n",
    "\n",
    "A) Create games\n",
    "\n",
    "B) Draw graphics and shapes\n",
    "\n",
    "C) Connect to the internet\n",
    "\n",
    "---"
   ]
  },
  {
   "cell_type": "markdown",
   "metadata": {},
   "source": [
    "### Question 8.5\n",
    "Write code to create a turtle and make it move forward by 100 units.\n",
    "\n",
    "---"
   ]
  },
  {
   "cell_type": "code",
   "execution_count": null,
   "metadata": {},
   "outputs": [],
   "source": [
    "# Your code here\n"
   ]
  },
  {
   "cell_type": "markdown",
   "metadata": {},
   "source": [
    "### Question 8.6\n",
    "Name three different libraries in Python and what they are used for.\n",
    "\n",
    "---"
   ]
  },
  {
   "cell_type": "markdown",
   "metadata": {},
   "source": [
    "### Question 8.7\n",
    "Write code to create a turtle and make it draw a square with sides of length 50.\n",
    "\n",
    "---"
   ]
  },
  {
   "cell_type": "code",
   "execution_count": null,
   "metadata": {},
   "outputs": [],
   "source": [
    "# Your code here\n"
   ]
  },
  {
   "cell_type": "markdown",
   "metadata": {},
   "source": [
    "### Question 8.8\n",
    "What will the following code draw?\n",
    "```python\n",
    "import turtle\n",
    "t = turtle.Turtle()\n",
    "for i in range(3):\n",
    "    t.forward(100)\n",
    "    t.right(120)\n",
    "```\n",
    "\n",
    "A) A square\n",
    "\n",
    "B) A triangle\n",
    "\n",
    "C) A circle\n",
    "\n",
    "---"
   ]
  },
  {
   "cell_type": "markdown",
   "metadata": {},
   "source": [
    "### Question 8.9\n",
    "Write code to create a turtle and make it draw a circle with a radius of 50.\n",
    "\n",
    "---"
   ]
  },
  {
   "cell_type": "code",
   "execution_count": null,
   "metadata": {},
   "outputs": [],
   "source": [
    "# Your code here\n"
   ]
  },
  {
   "cell_type": "markdown",
   "metadata": {},
   "source": [
    "### Question 8.10\n",
    "Write code to create a turtle, set its color to red, and make it draw a star.\n",
    "\n",
    "---"
   ]
  },
  {
   "cell_type": "code",
   "execution_count": null,
   "metadata": {},
   "outputs": [],
   "source": [
    "# Your code here\n"
   ]
  },
  {
   "cell_type": "markdown",
   "metadata": {},
   "source": [
    "## Lesson 9: Review and Final Project\n",
    "\n",
    "### Review of print statements, taking input from users, variables and data types, if conditions, for loops, lists, dictionaries, and Turtle graphics libraries."
   ]
  },
  {
   "cell_type": "markdown",
   "metadata": {},
   "source": [
    "### Question 9.1\n",
    "Which of these is NOT a data type in Python?\n",
    "\n",
    "A) String\n",
    "\n",
    "B) Loop\n",
    "\n",
    "C) Boolean\n",
    "\n",
    "---"
   ]
  },
  {
   "cell_type": "markdown",
   "metadata": {},
   "source": [
    "### Question 9.2\n",
    "Write a program that asks the user for their name and favorite color, then prints \"[Name]'s favorite color is [Color]\".\n",
    "\n",
    "---"
   ]
  },
  {
   "cell_type": "code",
   "execution_count": null,
   "metadata": {},
   "outputs": [],
   "source": [
    "# Your code here\n"
   ]
  },
  {
   "cell_type": "markdown",
   "metadata": {},
   "source": [
    "### Question 9.3\n",
    "What will the following code print?\n",
    "```python\n",
    "x = 5\n",
    "if x > 10:\n",
    "    print(\"Big number\")\n",
    "else:\n",
    "    print(\"Small number\")\n",
    "```\n",
    "\n",
    "A) Big number\n",
    "\n",
    "B) Small number\n",
    "\n",
    "C) Nothing\n",
    "\n",
    "---"
   ]
  },
  {
   "cell_type": "markdown",
   "metadata": {},
   "source": [
    "### Question 9.4\n",
    "Write a program that creates a list of numbers from 1 to 10, then prints only the even numbers in the list.\n",
    "\n",
    "---"
   ]
  },
  {
   "cell_type": "code",
   "execution_count": null,
   "metadata": {},
   "outputs": [],
   "source": [
    "# Your code here\n"
   ]
  },
  {
   "cell_type": "markdown",
   "metadata": {},
   "source": [
    "### Question 9.5\n",
    "Explain how you would use a for loop to print each character in a string.\n",
    "\n",
    "---"
   ]
  },
  {
   "cell_type": "markdown",
   "metadata": {},
   "source": [
    "### Question 9.6\n",
    "Write a program that creates a dictionary with the names of three fruits as keys and their colors as values. Then print each fruit and its color in the format \"The [fruit] is [color]\".\n",
    "\n",
    "---"
   ]
  },
  {
   "cell_type": "code",
   "execution_count": null,
   "metadata": {},
   "outputs": [],
   "source": [
    "# Your code here\n"
   ]
  },
  {
   "cell_type": "markdown",
   "metadata": {},
   "source": [
    "### Question 9.7\n",
    "Write a program that asks the user for a number, then creates a function to check if that number is prime (only divisible by 1 and itself). Print whether the number is prime or not.\n",
    "\n",
    "---"
   ]
  },
  {
   "cell_type": "code",
   "execution_count": null,
   "metadata": {},
   "outputs": [],
   "source": [
    "# Your code here\n"
   ]
  },
  {
   "cell_type": "markdown",
   "metadata": {},
   "source": [
    "### Question 9.8\n",
    "Write a program that uses the Turtle library to draw a simple house (a square with a triangle on top).\n",
    "\n",
    "---"
   ]
  },
  {
   "cell_type": "code",
   "execution_count": null,
   "metadata": {},
   "outputs": [],
   "source": [
    "# Your code here\n"
   ]
  },
  {
   "cell_type": "markdown",
   "metadata": {},
   "source": [
    "### Question 9.9\n",
    "Design a simple Python project that combines at least three concepts you've learned (e.g., variables, loops, conditionals, functions, lists, etc.). Describe what the project does and outline the code you would write.\n",
    "\n",
    "---"
   ]
  },
  {
   "cell_type": "markdown",
   "metadata": {},
   "source": [
    "### Question 9.10\n",
    "Create a simple calculator program that asks the user for two numbers and an operation (add, subtract, multiply, or divide), then performs the calculation and prints the result.\n",
    "\n",
    "---"
   ]
  },
  {
   "cell_type": "code",
   "execution_count": null,
   "metadata": {},
   "outputs": [],
   "source": [
    "# Your code here\n"
   ]
  }
 ],
 "metadata": {
  "kernelspec": {
   "display_name": "Python 3",
   "language": "python",
   "name": "python3"
  },
  "language_info": {
   "codemirror_mode": {
    "name": "ipython",
    "version": 3
   },
   "file_extension": ".py",
   "mimetype": "text/x-python",
   "name": "python",
   "nbconvert_exporter": "python",
   "pygments_lexer": "ipython3",
   "version": "3.10.12"
  }
 },
 "nbformat": 4,
 "nbformat_minor": 4
}
