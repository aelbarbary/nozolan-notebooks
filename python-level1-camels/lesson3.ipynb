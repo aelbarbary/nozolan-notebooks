{
 "cells": [
  {
   "cell_type": "markdown",
   "id": "282b251f",
   "metadata": {},
   "source": [
    "<div style=\"display: flex; align-items: center;\">\n",
    "  <img src=\"https://school-media.s3.amazonaws.com/school/logo.png\" width=\"50\" style=\"margin-right: 10px;\">\n",
    "  <h1 style=\"margin: 0;\">Lesson 3 - Basic Input and Output</h1>\n",
    "</div>\n",
    "\n",
    "## 1. Refresher\n",
    "\n",
    "- Create three variables: name, age, and favorite_food.\n",
    "- Assign your name, age, and favorite food to these variables.\n",
    "- Use the print() function to display:\n",
    "    - Your name.\n",
    "    - Your age.\n",
    "    - What your favorite food is.\n",
    "Write your code below:"
   ]
  },
  {
   "cell_type": "code",
   "execution_count": 1,
   "id": "c97e6841",
   "metadata": {},
   "outputs": [
    {
     "name": "stdout",
     "output_type": "stream",
     "text": [
      "Your name, age, and favorite food\n"
     ]
    }
   ],
   "source": [
    "# your code here\n"
   ]
  },
  {
   "cell_type": "markdown",
   "id": "6081ef10",
   "metadata": {},
   "source": [
    "____"
   ]
  },
  {
   "cell_type": "markdown",
   "id": "76486099",
   "metadata": {},
   "source": [
    "## 2. Getting Input from the User\n",
    "\n",
    "Sometimes, you might want to ask the user for information. In Python, you can use the `input()` function to do this.\n"
   ]
  },
  {
   "cell_type": "code",
   "execution_count": null,
   "id": "53bc82b6",
   "metadata": {},
   "outputs": [],
   "source": [
    "name = input(\"What is your name? \")\n",
    "print(\"Salam, \" + name + \"!\")"
   ]
  },
  {
   "cell_type": "markdown",
   "id": "e515272f",
   "metadata": {},
   "source": [
    "### 2.1 Challenge: Ask for Name and Age 🏆🎯💎\n",
    "\n",
    "Challenge Instructions:\n",
    "1. Ask the user for their name and store it in a variable called name.\n",
    "2. Ask the user for their age and store it in a variable called age.\n",
    "3. Use the print() function to display a friendly message like:\n",
    "\n",
    "\"Salam, [name]! You are [age] years old.\"\n",
    "\n",
    "Example Output:\n",
    "\n",
    "If the user enters their name as \"Ali\" and age as \"12\", the program should print:\n",
    "`Salam, Ali! You are 12 years old.`\n",
    "\n",
    "Write your code below and try it in the online interpreter:"
   ]
  },
  {
   "cell_type": "code",
   "execution_count": 1,
   "id": "bcf47810",
   "metadata": {},
   "outputs": [],
   "source": [
    "# your code here"
   ]
  },
  {
   "cell_type": "markdown",
   "id": "3132622b",
   "metadata": {},
   "source": [
    "____"
   ]
  },
  {
   "cell_type": "markdown",
   "id": "43e9b454",
   "metadata": {},
   "source": [
    "## 3. Challenge: Ask About God, Messenger, and Book 🏆🎯💎\n",
    "\n",
    "### Challenge Instructions:\n",
    "1. Ask the user for their **Lord** and store it in a variable called `lord`.\n",
    "2. Ask the user for their **Messenger** and store it in a variable called `messenger`.\n",
    "3. Ask the user for their **Book** and store it in a variable called `book`.\n",
    "4. Use the `print()` function to display a meaningful message like:  \n",
    "   `\"Your Lord is [lord], your Messenger is [messenger], and your Book is [book].\"`\n",
    "\n",
    "### Example Output:\n",
    "If the user enters:\n",
    "- Lord: Allah\n",
    "- Messenger: Muhammad (peace be upon him)\n",
    "- Book: The Quran\n",
    "\n",
    "The program should print:  \n",
    "`Your Lord is Allah, your Messenger is Muhammad (peace be upon him), and your Book is The Quran.`"
   ]
  },
  {
   "cell_type": "code",
   "execution_count": 2,
   "id": "e8c25717",
   "metadata": {},
   "outputs": [],
   "source": [
    "# your code below\n"
   ]
  },
  {
   "cell_type": "markdown",
   "id": "ed85fbcc",
   "metadata": {},
   "source": [
    "_____"
   ]
  },
  {
   "cell_type": "markdown",
   "id": "f127e742",
   "metadata": {},
   "source": [
    "## 4. Challenge: Daily Good Deeds Tracker 🏆🎯💎\n",
    "\n",
    "\n",
    "### Challenge Instructions:\n",
    "1. Ask the user to name one **good deed** they did today and store it in a variable called `good_deed`.\n",
    "2. Ask the user how they felt after doing that good deed and store it in a variable called `feeling`.\n",
    "3. Use the `print()` function to display a message like:  \n",
    "   `\"Today, I did a good deed: [good_deed]. You felt [feeling] because of it. May Allah reward you!\"`\n",
    "\n",
    "### Example Output:\n",
    "If the user enters:\n",
    "- Good deed: Helped my parents with chores\n",
    "- Feeling: Happy and peaceful\n",
    "\n",
    "The program should print:  \n",
    "`Today, you did a good deed: Helped my parents with chores. I felt Happy and peaceful because of it. May Allah reward me!`"
   ]
  },
  {
   "cell_type": "code",
   "execution_count": 3,
   "id": "dff5115f",
   "metadata": {},
   "outputs": [],
   "source": [
    "# your code here"
   ]
  },
  {
   "cell_type": "markdown",
   "id": "9e871f45",
   "metadata": {},
   "source": [
    "_____"
   ]
  },
  {
   "cell_type": "markdown",
   "id": "99eccdf2",
   "metadata": {},
   "source": [
    "# 6. Homework: Create Your Own Program\n",
    "\n",
    "### Homework Instructions:\n",
    "Create a Python program that asks the user for the following information:\n",
    "1. Their **name**.\n",
    "2. The **number of times they pray each day**.\n",
    "3. Whether they **fast during Ramadan** (yes or no).\n",
    "\n",
    "### Steps:\n",
    "1. Use the `input()` function to ask the user each question and store their answers in variables.\n",
    "2. Use the `print()` function to display a message that includes all the information provided by the user in a clear and descriptive format.\n",
    "\n",
    "### Example Output:\n",
    "If the user enters:\n",
    "- Name: Aisha\n",
    "- Number of prayers: 5\n",
    "- Fast during Ramadan: Yes\n",
    "\n",
    "Your program should display something like this:\n",
    "`Salam, Aisha! You pray 5 times a day. You said 'Yes' to fasting during Ramadan. May Allah bless you!`"
   ]
  },
  {
   "cell_type": "code",
   "execution_count": 4,
   "id": "869fea32",
   "metadata": {},
   "outputs": [],
   "source": [
    "# your code here\n",
    "\n"
   ]
  }
 ],
 "metadata": {
  "kernelspec": {
   "display_name": "Python 3",
   "language": "python",
   "name": "python3"
  },
  "language_info": {
   "codemirror_mode": {
    "name": "ipython",
    "version": 3
   },
   "file_extension": ".py",
   "mimetype": "text/x-python",
   "name": "python",
   "nbconvert_exporter": "python",
   "pygments_lexer": "ipython3",
   "version": "3.9.0"
  }
 },
 "nbformat": 4,
 "nbformat_minor": 5
}
