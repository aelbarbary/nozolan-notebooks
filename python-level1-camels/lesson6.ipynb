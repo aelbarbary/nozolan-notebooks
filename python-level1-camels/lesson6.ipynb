{
 "cells": [
  {
   "cell_type": "markdown",
   "id": "f5f7bcb3",
   "metadata": {},
   "source": [
    "# Lesson 6 - Functions\n",
    "\n",
    "## 1. Refresher\n",
    "\n",
    "Create a python code to print the multiplication table from 1 to 10"
   ]
  },
  {
   "cell_type": "code",
   "execution_count": null,
   "id": "5702eb6e",
   "metadata": {},
   "outputs": [],
   "source": [
    "# your code here\n"
   ]
  },
  {
   "cell_type": "markdown",
   "id": "bbc202f6",
   "metadata": {},
   "source": [
    "----"
   ]
  },
  {
   "cell_type": "markdown",
   "id": "58716c65",
   "metadata": {},
   "source": [
    "## 2. Functions\n",
    "\n",
    "A function in Python is like a magic recipe that does something when you call it. It takes inputs (ingredients), performs an action, and gives back a result.\n",
    "\n",
    "**Explanation**:\n",
    "\n",
    "- def say_salam(name): Creates a function named greet that takes one input (name).\n",
    "- return f\"Salam, {name}!\": Sends back a greeting message.\n"
   ]
  },
  {
   "cell_type": "code",
   "execution_count": 2,
   "id": "f0169083",
   "metadata": {},
   "outputs": [
    {
     "name": "stdout",
     "output_type": "stream",
     "text": [
      "Salam, Ahmed!\n",
      "Salam, Tarik!\n",
      "Salam, Saif!\n"
     ]
    }
   ],
   "source": [
    "def salam(name): \n",
    "    print(f\"Salam, {name}!\")\n",
    "\n",
    "salam(\"Ahmed\")\n",
    "salam(\"Tarik\")\n",
    "salam(\"Saif\")\n"
   ]
  },
  {
   "cell_type": "markdown",
   "id": "9b57b9ed",
   "metadata": {},
   "source": [
    "---"
   ]
  },
  {
   "cell_type": "markdown",
   "id": "ef2bfc47",
   "metadata": {},
   "source": [
    "## 3. Quiz #1\n",
    "\n",
    "Write a python function that asks the user for name and age and then prints a greetting statement like \"Asslamo Alaykom Ahmed, your are 10 years old\"\n",
    "\n"
   ]
  },
  {
   "cell_type": "code",
   "execution_count": 3,
   "id": "93485254",
   "metadata": {},
   "outputs": [],
   "source": [
    "# Your code here"
   ]
  },
  {
   "cell_type": "markdown",
   "id": "9434fad1",
   "metadata": {},
   "source": [
    "------"
   ]
  },
  {
   "cell_type": "markdown",
   "id": "2f075494",
   "metadata": {},
   "source": [
    "## 4. Quiz #2\n",
    "Write python function \"double\" to ask a user for a number and then returns the number multiplied by two ."
   ]
  },
  {
   "cell_type": "code",
   "execution_count": null,
   "id": "7c4eab4a",
   "metadata": {},
   "outputs": [],
   "source": [
    "def double(number):\n",
    "    # your code here\n",
    "    pass\n",
    "\n",
    "result = double(2) # should return 4"
   ]
  },
  {
   "cell_type": "markdown",
   "id": "4d34ef8d",
   "metadata": {},
   "source": [
    "-----"
   ]
  },
  {
   "cell_type": "markdown",
   "id": "9320f856",
   "metadata": {},
   "source": [
    "## 5. Quiz #3\n",
    "Write python function square that asks the user for a number and returns its square:"
   ]
  },
  {
   "cell_type": "code",
   "execution_count": 4,
   "id": "a80920b4",
   "metadata": {},
   "outputs": [],
   "source": [
    "def square(number):\n",
    "    # your code here\n",
    "    pass\n",
    "\n",
    "result = square(4) # should return 16"
   ]
  },
  {
   "cell_type": "markdown",
   "id": "583d69c4",
   "metadata": {},
   "source": [
    "-----"
   ]
  },
  {
   "cell_type": "markdown",
   "id": "d3dfad8e",
   "metadata": {},
   "source": [
    "## Quiz 4: What Will Print? 🤔 \n",
    "What will this code output?\n",
    "\n",
    "```\n",
    "def fun(x):\n",
    "    return x + x\n",
    "\n",
    "print(fun(\"Hello\"))\n",
    "```\n",
    "\n",
    "- A) HelloHello\n",
    "- B) Error\n",
    "- C) Hello + Hello\n",
    "- D) 0"
   ]
  },
  {
   "cell_type": "code",
   "execution_count": 7,
   "id": "20973682",
   "metadata": {},
   "outputs": [],
   "source": [
    "# try it here\n"
   ]
  },
  {
   "cell_type": "markdown",
   "id": "4c5e940d",
   "metadata": {},
   "source": [
    "-----"
   ]
  },
  {
   "cell_type": "markdown",
   "id": "a779572a",
   "metadata": {},
   "source": [
    "## Quiz 5: Guess the Output! 🧩\n",
    "What will this code print?\n",
    "```\n",
    "def surprise(num):\n",
    "    return num * 2\n",
    "\n",
    "print(surprise(3) + surprise(4))\n",
    "```\n",
    "\n",
    "- A) 14\n",
    "- B) 10\n",
    "- C) 21\n",
    "- D) Error"
   ]
  },
  {
   "cell_type": "code",
   "execution_count": 8,
   "id": "f207d0d5",
   "metadata": {},
   "outputs": [],
   "source": [
    "# try it here"
   ]
  },
  {
   "cell_type": "markdown",
   "id": "42ebdffa",
   "metadata": {},
   "source": []
  }
 ],
 "metadata": {
  "kernelspec": {
   "display_name": "Python 3",
   "language": "python",
   "name": "python3"
  },
  "language_info": {
   "codemirror_mode": {
    "name": "ipython",
    "version": 3
   },
   "file_extension": ".py",
   "mimetype": "text/x-python",
   "name": "python",
   "nbconvert_exporter": "python",
   "pygments_lexer": "ipython3",
   "version": "3.12.5"
  }
 },
 "nbformat": 4,
 "nbformat_minor": 5
}
