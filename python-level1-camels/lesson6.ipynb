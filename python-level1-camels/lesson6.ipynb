{
 "cells": [
  {
   "cell_type": "markdown",
   "id": "4ba49169",
   "metadata": {},
   "source": [
    "# Lesson 6 — Functions\n",
    "\n",
    "*Less text, more code. Each section: example → challenge.*"
   ]
  },
  {
   "cell_type": "markdown",
   "id": "42172b9c",
   "metadata": {},
   "source": [
    "## 1) Defining a Function\n",
    "**Example**\n",
    "\n",
    "Create a simple function and call it multiple times."
   ]
  },
  {
   "cell_type": "code",
   "execution_count": null,
   "id": "1d44e3aa",
   "metadata": {},
   "outputs": [],
   "source": [
    "# Example: say Salam 3 times\n",
    "def salam():\n",
    "    print(\"Salam\")\n",
    "\n",
    "salam()\n",
    "salam()\n",
    "salam()"
   ]
  },
  {
   "cell_type": "markdown",
   "id": "3478ed8a",
   "metadata": {},
   "source": [
    "**1.1 Coding Challenge**\n",
    "\n",
    "Change the function salam to print \"Assalamualaikum\".\n"
   ]
  },
  {
   "cell_type": "code",
   "execution_count": null,
   "id": "cba7460a",
   "metadata": {},
   "outputs": [],
   "source": [
    "# Your turn: define greet(name)\n"
   ]
  },
  {
   "cell_type": "markdown",
   "id": "91503287",
   "metadata": {},
   "source": [
    "## 2) Parameters\n",
    "**Example**\n",
    "\n",
    "A function that takes a number and returns its square."
   ]
  },
  {
   "cell_type": "code",
   "execution_count": null,
   "id": "f242dd62",
   "metadata": {},
   "outputs": [],
   "source": [
    "# Example: square function\n",
    "def square(x):\n",
    "    return x * x\n",
    "\n",
    "print(square(3))   # 9\n",
    "print(square(10))  # 100"
   ]
  },
  {
   "cell_type": "markdown",
   "id": "58a8ba7d",
   "metadata": {},
   "source": [
    "**2.1 Coding Challenge**\n",
    "\n",
    "Create a function `cube(x)` that returns `x * x * x`. Then test it with 2 numbers."
   ]
  },
  {
   "cell_type": "code",
   "execution_count": null,
   "id": "092c2d5d",
   "metadata": {},
   "outputs": [],
   "source": [
    "# Your turn: define cube(x) and test it\n"
   ]
  },
  {
   "cell_type": "markdown",
   "id": "f57e2f64",
   "metadata": {},
   "source": [
    "## 3) Return Values\n",
    "**Example**\n",
    "\n",
    "A function can give back (return) a result."
   ]
  },
  {
   "cell_type": "code",
   "execution_count": null,
   "id": "eb0030ca",
   "metadata": {},
   "outputs": [],
   "source": [
    "# Example: add two numbers and return the result\n",
    "def add(a, b):\n",
    "    return a + b\n",
    "\n",
    "total = add(7, 5)\n",
    "print(total)  # 12"
   ]
  },
  {
   "cell_type": "markdown",
   "id": "25c6aa55",
   "metadata": {},
   "source": [
    "**3.1 Coding Challenge**\n",
    "\n",
    "Create a function `subtract(a, b)` that returns `a - b`. Print the result of `subtract(100, 35)`."
   ]
  },
  {
   "cell_type": "code",
   "execution_count": null,
   "id": "53b2930a",
   "metadata": {},
   "outputs": [],
   "source": [
    "# Your turn: define subtract(a, b)\n"
   ]
  },
  {
   "cell_type": "markdown",
   "id": "27afa7da",
   "metadata": {},
   "source": [
    "## 4) Functions + Loops\n",
    "**Example**\n",
    "\n",
    "A function that prints the multiplication table row for a number."
   ]
  },
  {
   "cell_type": "code",
   "execution_count": 11,
   "id": "3af849b1",
   "metadata": {},
   "outputs": [
    {
     "name": "stdout",
     "output_type": "stream",
     "text": [
      "   1    2    3    4    5    6    7    8    9   10 \n",
      "   2    4    6    8   10   12   14   16   18   20 \n",
      "   3    6    9   12   15   18   21   24   27   30 \n",
      "   4    8   12   16   20   24   28   32   36   40 \n",
      "   5   10   15   20   25   30   35   40   45   50 \n",
      "   6   12   18   24   30   36   42   48   54   60 \n",
      "   7   14   21   28   35   42   49   56   63   70 \n",
      "   8   16   24   32   40   48   56   64   72   80 \n",
      "   9   18   27   36   45   54   63   72   81   90 \n",
      "  10   20   30   40   50   60   70   80   90  100 \n"
     ]
    }
   ],
   "source": [
    "# Example: print a multiplication row for n\n",
    "def print_multiplication_table(n):\n",
    "    for i in range(1, n+1):\n",
    "        for j in range(1, n+1):\n",
    "            print(f\"{i*j: 4}\", end=\" \")\n",
    "        print()\n",
    "        \n",
    "print_multiplication_table(10) "
   ]
  },
  {
   "cell_type": "markdown",
   "id": "c57c613b",
   "metadata": {},
   "source": [
    "**4.1 Coding Challenge**\n",
    "\n",
    "Write a function `even_up_to(n)` that prints only the even numbers from 1 to `n`."
   ]
  },
  {
   "cell_type": "code",
   "execution_count": null,
   "id": "08c2fff0",
   "metadata": {},
   "outputs": [],
   "source": [
    "def even_up_to(n):\n",
    "    # your code here\n",
    "\n",
    "even_up_to(10)"
   ]
  },
  {
   "cell_type": "markdown",
   "id": "d2a3a944",
   "metadata": {},
   "source": [
    "## 5) Functions + Conditionals\n",
    "**Example**\n",
    "\n",
    "Check if a number is even."
   ]
  },
  {
   "cell_type": "code",
   "execution_count": null,
   "id": "40cc70b9",
   "metadata": {},
   "outputs": [],
   "source": [
    "# Example: check if a number is even\n",
    "def is_even(n):\n",
    "    if n % 2 == 0:\n",
    "        return True\n",
    "    return False\n",
    "\n",
    "print(is_even(10))  # True\n",
    "print(is_even(7))   # False"
   ]
  },
  {
   "cell_type": "markdown",
   "id": "2f0e3adb",
   "metadata": {},
   "source": [
    "**5.1 Coding Challenge**\n",
    "\n",
    "Create a function `is_divisible(n, d)` that returns `True` if `n` is divisible by `d`, otherwise `False`. Test it."
   ]
  },
  {
   "cell_type": "code",
   "execution_count": null,
   "id": "713e743d",
   "metadata": {},
   "outputs": [],
   "source": [
    "# Your turn: define is_divisible(n, d)\n"
   ]
  },
  {
   "cell_type": "markdown",
   "id": "031a060e",
   "metadata": {},
   "source": [
    "## 6) Bonus (Optional)\n",
    "**Example**\n",
    "\n",
    "Pick a random greeting from a list."
   ]
  },
  {
   "cell_type": "code",
   "execution_count": null,
   "id": "cc14cfa8",
   "metadata": {},
   "outputs": [],
   "source": [
    "# Example: random greeting\n",
    "import random\n",
    "\n",
    "def random_salam():\n",
    "    greetings = [\"Salam\", \"Assalamu Alaikum\", \"Marhaban\", \"Ahlan!\"]\n",
    "    return random.choice(greetings)\n",
    "\n",
    "print(random_salam())"
   ]
  },
  {
   "cell_type": "markdown",
   "id": "1cb2972a",
   "metadata": {},
   "source": [
    "**6.1 Coding Challenge**\n",
    "\n",
    "Create a function `random_color()` that returns a random color from a list like `['red', 'green', 'blue', 'yellow']`. Print the result 3 times."
   ]
  },
  {
   "cell_type": "code",
   "execution_count": null,
   "id": "392d3771",
   "metadata": {},
   "outputs": [],
   "source": [
    "# Your turn: define random_color()\n"
   ]
  },
  {
   "cell_type": "markdown",
   "id": "739ad016",
   "metadata": {},
   "source": [
    "## End of Class — Quiz\n",
    "Answer in the code cells below.\n",
    "\n",
    "1) **Predict the output**:\n",
    "```python\n",
    "def f(x):\n",
    "    return x + 2\n",
    "print(f(3))\n",
    "```\n",
    "___________\n",
    "2) **Fix the bug** — this should return the area of a rectangle:\n",
    "```python\n",
    "def area(w, h):\n",
    "    return w + h \n",
    "```\n",
    "___________\n",
    "3) **Write a function** `double(n)` that returns `n * 2` and test it with 11.\n",
    "___________\n",
    "4) **Predict the output**:\n",
    "```python\n",
    "def say(name):\n",
    "    print(\"Salam,\", name)\n",
    "\n",
    "x = say(\"Omar\")\n",
    "print(x)\n",
    "```\n",
    "___________\n",
    "5) **Write a function** `max_of_two(a, b)` that returns the bigger number."
   ]
  },
  {
   "cell_type": "code",
   "execution_count": null,
   "id": "81a0916e",
   "metadata": {},
   "outputs": [],
   "source": [
    "# Quiz 1: Predict the output\n"
   ]
  }
 ],
 "metadata": {
  "kernelspec": {
   "display_name": "Python 3",
   "language": "python",
   "name": "python3"
  },
  "language_info": {
   "codemirror_mode": {
    "name": "ipython",
    "version": 3
   },
   "file_extension": ".py",
   "mimetype": "text/x-python",
   "name": "python",
   "nbconvert_exporter": "python",
   "pygments_lexer": "ipython3",
   "version": "3.9.0"
  }
 },
 "nbformat": 4,
 "nbformat_minor": 5
}
