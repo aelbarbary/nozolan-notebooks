{
 "cells": [
  {
   "cell_type": "markdown",
   "id": "b54e2b44",
   "metadata": {},
   "source": [
    "\n",
    "# Lesson 1 — **Flask Blog** \n",
    "\n",
    "---\n",
    "\n",
    "### 🌟 What we’ll build\n",
    "1. A Flask app that says: **\"Hello, welcome to your site\"**\n",
    "2. An **index page** (lists posts)\n",
    "3. A **post page** (shows one post)\n",
    "\n",
    "We will deploy on **PythonAnywhere** — step by step.\n"
   ]
  },
  {
   "cell_type": "markdown",
   "id": "4acc6793",
   "metadata": {},
   "source": [
    "\n",
    "## 🧩 Step 1 — Minimal Flask app (Hello message)\n",
    "\n",
    "**On PythonAnywhere:**\n",
    "\n",
    "1. Sign up or log in → go to **Web** → **Add a new web app** → choose **Flask** → **Python 3.x**.  \n",
    "2. Go to **Files**. Open the file PythonAnywhere created (something like `mysite/flask_app.py`).  \n",
    "3. **Delete everything** inside that file and **paste this code:**"
   ]
  },
  {
   "cell_type": "code",
   "execution_count": null,
   "id": "4cae06f2",
   "metadata": {},
   "outputs": [],
   "source": [
    "from flask import Flask\n",
    "\n",
    "app = Flask(__name__)\n",
    "\n",
    "@app.route(\"/\")\n",
    "def home():\n",
    "    return \"Hello, welcome to your site\""
   ]
  },
  {
   "cell_type": "markdown",
   "id": "a098f112",
   "metadata": {},
   "source": [
    "4. Go back to the **Web** tab and click **Reload**.  \n",
    "5. Open your site URL (top of the Web page). You should see this text:\n",
    "\n",
    "> Hello, welcome to your site"
   ]
  },
  {
   "cell_type": "markdown",
   "id": "3059d743",
   "metadata": {},
   "source": [
    "\n",
    "## 🏠 Step 2 — Add `index.html` and show it\n",
    "\n",
    "**Goal:** Create a real HTML page and make Flask serve it.\n",
    "\n",
    "**On PythonAnywhere (Files tab):**\n",
    "1. In the same folder as `flask_app.py`, create a folder named **`templates`**.  \n",
    "2. Inside `templates`, create a new file named **`index.html`** and paste:"
   ]
  },
  {
   "cell_type": "code",
   "execution_count": 1,
   "id": "68360405",
   "metadata": {},
   "outputs": [
    {
     "data": {
      "text/html": [
       "<!DOCTYPE html>\n",
       "<html lang=\"en\">\n",
       "<head>\n",
       "  <meta charset=\"UTF-8\">\n",
       "  <title>Nozolan Mini Blog</title>\n",
       "</head>\n",
       "<body>\n",
       "  <h1>Nozolan Mini Blog</h1>\n",
       "  <p>Welcome! Click a post below.</p>\n",
       "\n",
       "  <!-- Just titles for now -->\n",
       "  <ul>\n",
       "    <li><a href=\"/post1\">Why I Love Learning</a></li>\n",
       "  </ul>\n",
       "</body>\n",
       "</html>\n"
      ],
      "text/plain": [
       "<IPython.core.display.HTML object>"
      ]
     },
     "metadata": {},
     "output_type": "display_data"
    }
   ],
   "source": [
    "%%html\n",
    "<!DOCTYPE html>\n",
    "<html lang=\"en\">\n",
    "<head>\n",
    "  <meta charset=\"UTF-8\">\n",
    "  <title>Nozolan Mini Blog</title>\n",
    "</head>\n",
    "<body>\n",
    "  <h1>Nozolan Mini Blog</h1>\n",
    "  <p>Welcome! Click a post below.</p>\n",
    "\n",
    "  <!-- Just titles for now -->\n",
    "  <ul>\n",
    "    <li><a href=\"/post1\">Why I Love Learning</a></li>\n",
    "  </ul>\n",
    "</body>\n",
    "</html>"
   ]
  },
  {
   "cell_type": "markdown",
   "id": "44717d48",
   "metadata": {},
   "source": [
    "3. Now open `flask_app.py` again and **replace** everything with this:"
   ]
  },
  {
   "cell_type": "code",
   "execution_count": null,
   "id": "504e5e27",
   "metadata": {},
   "outputs": [],
   "source": [
    "from flask import Flask, render_template\n",
    "\n",
    "app = Flask(__name__)\n",
    "\n",
    "@app.route(\"/\")\n",
    "def home():\n",
    "    return render_template(\"index.html\")"
   ]
  },
  {
   "cell_type": "markdown",
   "id": "b5e5340b",
   "metadata": {},
   "source": [
    "4. Go to the **Web** tab → **Reload** → open your site.  \n",
    "You should now see the **index page** with a link to **Post 1** (it won’t work yet)."
   ]
  },
  {
   "cell_type": "markdown",
   "id": "f50f1775",
   "metadata": {},
   "source": [
    "\n",
    "## 📝 Step 3 — Add `post1.html` and a route\n",
    "\n",
    "**On PythonAnywhere (Files tab):**\n",
    "\n",
    "1. Inside `templates`, create a new file named **`post1.html`** and paste this code:"
   ]
  },
  {
   "cell_type": "code",
   "execution_count": 2,
   "id": "dcfe3ea1",
   "metadata": {},
   "outputs": [
    {
     "ename": "SyntaxError",
     "evalue": "invalid syntax (304044675.py, line 1)",
     "output_type": "error",
     "traceback": [
      "\u001b[0;36m  Cell \u001b[0;32mIn[2], line 1\u001b[0;36m\u001b[0m\n\u001b[0;31m    <!DOCTYPE html>\u001b[0m\n\u001b[0m    ^\u001b[0m\n\u001b[0;31mSyntaxError\u001b[0m\u001b[0;31m:\u001b[0m invalid syntax\n"
     ]
    }
   ],
   "source": [
    "<!DOCTYPE html>\n",
    "<html lang=\"en\">\n",
    "<head>\n",
    "  <meta charset=\"UTF-8\">\n",
    "  <title>Post 1 — Why I Love Learning</title>\n",
    "</head>\n",
    "<body>\n",
    "  <a href=\"/\">← Back to Home</a>\n",
    "  <h1>Why I Love Learning</h1>\n",
    "  <p>Learning helps me grow in knowledge and good manners.\n",
    "     I try to be patient, thank Allah, and use my skills to help others.</p>\n",
    "</body>\n",
    "</html>"
   ]
  },
  {
   "cell_type": "markdown",
   "id": "2411dd6c",
   "metadata": {},
   "source": [
    "2. Open `flask_app.py` again and update it to include a route for `/post1`:"
   ]
  },
  {
   "cell_type": "code",
   "execution_count": null,
   "id": "0776dafe",
   "metadata": {},
   "outputs": [],
   "source": [
    "from flask import Flask, render_template\n",
    "\n",
    "app = Flask(__name__)\n",
    "\n",
    "@app.route(\"/\")\n",
    "def home():\n",
    "    return render_template(\"index.html\")\n",
    "\n",
    "@app.route(\"/post1\")\n",
    "def post1():\n",
    "    return render_template(\"post1.html\")"
   ]
  },
  {
   "cell_type": "markdown",
   "id": "9dce051c",
   "metadata": {},
   "source": [
    "3. Go to **Web** → **Reload** → open your site.  \n",
    "Click **“Why I Love Learning”** → it should open the post page."
   ]
  },
  {
   "cell_type": "markdown",
   "id": "d3593ba0",
   "metadata": {},
   "source": [
    "\n",
    "---\n",
    "\n",
    "## 🎉 You did it!\n",
    "\n",
    "You now have:\n",
    "- `/` → shows `index.html`\n",
    "- `/post1` → shows `post1.html`\n",
    "\n",
    "**Next lesson:**  \n",
    "We’ll add another post and make simple “cards”, then later add CSS to make it pretty.\n",
    "\n",
    "Keep up the great work! 🌙\n"
   ]
  }
 ],
 "metadata": {
  "kernelspec": {
   "display_name": "Python 3",
   "language": "python",
   "name": "python3"
  },
  "language_info": {
   "codemirror_mode": {
    "name": "ipython",
    "version": 3
   },
   "file_extension": ".py",
   "mimetype": "text/x-python",
   "name": "python",
   "nbconvert_exporter": "python",
   "pygments_lexer": "ipython3",
   "version": "3.9.0"
  }
 },
 "nbformat": 4,
 "nbformat_minor": 5
}
