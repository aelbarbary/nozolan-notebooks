{
 "cells": [
  {
   "cell_type": "markdown",
   "metadata": {},
   "source": [
    "# Lesson 1 — Blog HTML Backbone (No Flask Yet)\n",
    "\n",
    "**Goal:** Build a simple multi-page blog prototype using only HTML + CSS.\n",
    "\n",
    "Pages included: **Home (list)**, **Post Detail (view)**, **Delete Confirm**, **Deleted**, **About**.\n",
    "\n",
    "> First preview inside this notebook. Then upload the generated `blog_backbone` folder to PythonAnywhere for static hosting."
   ]
  },
  {
   "cell_type": "markdown",
   "metadata": {},
   "source": [
    "## 1) Create project folders"
   ]
  },
  {
   "cell_type": "code",
   "execution_count": null,
   "metadata": {},
   "outputs": [],
   "source": [
    "from pathlib import Path\n",
    "root = Path('blog_backbone')               # created next to this notebook\n",
    "(root / 'static').mkdir(parents=True, exist_ok=True)\n",
    "(root / 'posts').mkdir(parents=True, exist_ok=True)\n",
    "print('Project folder:', root.resolve())"
   ]
  },
  {
   "cell_type": "markdown",
   "metadata": {},
   "source": [
    "## 2) Base CSS (minimal, clean)"
   ]
  },
  {
   "cell_type": "code",
   "execution_count": null,
   "metadata": {},
   "outputs": [],
   "source": [
    "base_css = \"\"\"\n",
    ":root { font-family: system-ui, -apple-system, Segoe UI, Roboto, Arial, sans-serif; }\n",
    "body { margin: 0; background: #fafafa; color: #222; }\n",
    ".container { max-width: 900px; margin: 0 auto; padding: 20px; }\n",
    ".nav { background: #4f46e5; color: white; padding: 12px 0; }\n",
    ".nav .container { display: flex; justify-content: space-between; align-items: center; }\n",
    "a { color: #4f46e5; text-decoration: none; }\n",
    "a:hover { text-decoration: underline; }\n",
    ".btn { display: inline-block; padding: 8px 12px; border-radius: 8px; background: #4f46e5; color: #fff; }\n",
    ".btn-danger { background: #dc2626; }\n",
    ".card { background: white; border-radius: 12px; padding: 16px; box-shadow: 0 2px 8px rgba(0,0,0,0.06); margin: 12px 0; }\n",
    ".footer { margin-top: 40px; padding: 20px 0; border-top: 1px solid #eee; color: #555; font-size: 14px; }\n",
    ".post-meta { color: #6b7280; font-size: 14px; margin: 4px 0 12px; }\n",
    ".grid { display: grid; grid-template-columns: 1fr; gap: 12px; }\n",
    "@media (min-width: 720px) { .grid { grid-template-columns: 1fr 1fr; } }\n",
    "\"\"\"\n",
    "(root / 'static' / 'style.css').write_text(base_css, encoding='utf-8')\n",
    "print('Wrote', (root / 'static' / 'style.css').resolve())"
   ]
  },
  {
   "cell_type": "markdown",
   "metadata": {},
   "source": [
    "## 3) Home page — `index.html` (lists posts)"
   ]
  },
  {
   "cell_type": "code",
   "execution_count": null,
   "metadata": {},
   "outputs": [],
   "source": [
    "index_html = \"\"\"<!doctype html>\n",
    "<html lang=\\\"en\\\">\n",
    "<head>\n",
    "  <meta charset=\\\"utf-8\\\">\n",
    "  <meta name=\\\"viewport\\\" content=\\\"width=device-width, initial-scale=1\\\" />\n",
    "  <title>My Class Blog — Home</title>\n",
    "  <link rel=\\\"stylesheet\\\" href=\\\"static/style.css\\\" />\n",
    "</head>\n",
    "<body>\n",
    "  <div class=\\\"nav\\\">\n",
    "    <div class=\\\"container\\\">\n",
    "      <strong>My Class Blog</strong>\n",
    "      <div>\n",
    "        <a class=\\\"btn\\\" href=\\\"new.html\\\">New Post</a>\n",
    "        <a class=\\\"btn\\\" href=\\\"about.html\\\" style=\\\"margin-left:6px;\\\">About</a>\n",
    "      </div>\n",
    "    </div>\n",
    "  </div>\n",
    "  <div class=\\\"container\\\">\n",
    "    <h1>All Posts</h1>\n",
    "    <div class=\\\"grid\\\">\n",
    "      <div class=\\\"card\\\">\n",
    "        <h3><a href=\\\"posts/my-first-day.html\\\">My First Day Coding</a></h3>\n",
    "        <div class=\\\"post-meta\\\">by Omar · 2025-10-10</div>\n",
    "        <p>Today I learned about variables and print statements…</p>\n",
    "      </div>\n",
    "      <div class=\\\"card\\\">\n",
    "        <h3><a href=\\\"posts/why-i-like-flask.html\\\">Why I Like Flask</a></h3>\n",
    "        <div class=\\\"post-meta\\\">by Safiya · 2025-10-10</div>\n",
    "        <p>Flask is tiny but powerful. Here are my favorite parts…</p>\n",
    "      </div>\n",
    "    </div>\n",
    "  </div>\n",
    "  <div class=\\\"container footer\\\">© 2025 Nozolan — Be kind, be safe, and benefit others.</div>\n",
    "</body>\n",
    "</html>\"\"\"\n",
    "(root / 'index.html').write_text(index_html, encoding='utf-8')\n",
    "print('Wrote', (root / 'index.html').resolve())"
   ]
  },
  {
   "cell_type": "markdown",
   "metadata": {},
   "source": [
    "## 4) Post detail — `posts/my-first-day.html`"
   ]
  },
  {
   "cell_type": "code",
   "execution_count": null,
   "metadata": {},
   "outputs": [],
   "source": [
    "post_detail = \"\"\"<!doctype html>\n",
    "<html lang=\\\"en\\\">\n",
    "<head>\n",
    "  <meta charset=\\\"utf-8\\\">\n",
    "  <meta name=\\\"viewport\\\" content=\\\"width=device-width, initial-scale=1\\\" />\n",
    "  <title>My First Day Coding</title>\n",
    "  <link rel=\\\"stylesheet\\\" href=\\\"../static/style.css\\\" />\n",
    "</head>\n",
    "<body>\n",
    "  <div class=\\\"nav\\\">\n",
    "    <div class=\\\"container\\\">\n",
    "      <a href=\\\"../index.html\\\" style=\\\"color:white;\\\">← Back</a>\n",
    "      <div><a class=\\\"btn\\\" href=\\\"../index.html\\\">Home</a></div>\n",
    "    </div>\n",
    "  </div>\n",
    "  <div class=\\\"container\\\">\n",
    "    <h1>My First Day Coding</h1>\n",
    "    <div class=\\\"post-meta\\\">by Omar · 2025-10-10</div>\n",
    "    <p>Today I learned about variables, print, and how to think like a problem solver.</p>\n",
    "    <p>Tip: Always try, test, and improve. Small steps win!</p>\n",
    "    <div style=\\\"margin-top:16px;\\\">\n",
    "      <a class=\\\"btn btn-danger\\\" href=\\\"my-first-day-delete.html\\\">Delete Post</a>\n",
    "    </div>\n",
    "  </div>\n",
    "  <div class=\\\"container footer\\\">© 2025 Nozolan</div>\n",
    "</body>\n",
    "</html>\"\"\"\n",
    "(root / 'posts' / 'my-first-day.html').write_text(post_detail, encoding='utf-8')\n",
    "print('Wrote', (root / 'posts' / 'my-first-day.html').resolve())"
   ]
  },
  {
   "cell_type": "markdown",
   "metadata": {},
   "source": [
    "## 5) Delete confirm — `posts/my-first-day-delete.html`"
   ]
  },
  {
   "cell_type": "code",
   "execution_count": null,
   "metadata": {},
   "outputs": [],
   "source": [
    "delete_confirm = \"\"\"<!doctype html>\n",
    "<html lang=\\\"en\\\">\n",
    "<head>\n",
    "  <meta charset=\\\"utf-8\\\">\n",
    "  <meta name=\\\"viewport\\\" content=\\\"width=device-width, initial-scale=1\\\" />\n",
    "  <title>Delete Post</title>\n",
    "  <link rel=\\\"stylesheet\\\" href=\\\"../static/style.css\\\" />\n",
    "</head>\n",
    "<body>\n",
    "  <div class=\\\"nav\\\">\n",
    "    <div class=\\\"container\\\">\n",
    "      <a href=\\\"my-first-day.html\\\" style=\\\"color:white;\\\">← Cancel</a>\n",
    "    </div>\n",
    "  </div>\n",
    "  <div class=\\\"container\\\">\n",
    "    <div class=\\\"card\\\">\n",
    "      <h2>Are you sure you want to delete this post?</h2>\n",
    "      <p><strong>My First Day Coding</strong> — Omar · 2025-10-10</p>\n",
    "      <div style=\\\"display:flex; gap:8px; margin-top:8px;\\\">\n",
    "        <a class=\\\"btn btn-danger\\\" href=\\\"../deleted.html\\\">Yes, delete</a>\n",
    "        <a class=\\\"btn\\\" href=\\\"my-first-day.html\\\">No, go back</a>\n",
    "      </div>\n",
    "    </div>\n",
    "  </div>\n",
    "  <div class=\\\"container footer\\\">© 2025 Nozolan</div>\n",
    "</body>\n",
    "</html>\"\"\"\n",
    "(root / 'posts' / 'my-first-day-delete.html').write_text(delete_confirm, encoding='utf-8')\n",
    "print('Wrote', (root / 'posts' / 'my-first-day-delete.html').resolve())"
   ]
  },
  {
   "cell_type": "markdown",
   "metadata": {},
   "source": [
    "## 6) Deleted result — `deleted.html`"
   ]
  },
  {
   "cell_type": "code",
   "execution_count": null,
   "metadata": {},
   "outputs": [],
   "source": [
    "deleted_page = \"\"\"<!doctype html>\n",
    "<html lang=\\\"en\\\">\n",
    "<head>\n",
    "  <meta charset=\\\"utf-8\\\">\n",
    "  <meta name=\\\"viewport\\\" content=\\\"width=device-width, initial-scale=1\\\" />\n",
    "  <title>Post Deleted</title>\n",
    "  <link rel=\\\"stylesheet\\\" href=\\\"static/style.css\\\" />\n",
    "</head>\n",
    "<body>\n",
    "  <div class=\\\"nav\\\">\n",
    "    <div class=\\\"container\\\">\n",
    "      <a href=\\\"index.html\\\" style=\\\"color:white;\\\">← Home</a>\n",
    "    </div>\n",
    "  </div>\n",
    "  <div class=\\\"container\\\">\n",
    "    <div class=\\\"card\\\">\n",
    "      <h2>Post deleted.</h2>\n",
    "      <p>This is a prototype. In Flask we will delete the real file and update the list.</p>\n",
    "      <a class=\\\"btn\\\" href=\\\"index.html\\\">Back to Home</a>\n",
    "    </div>\n",
    "  </div>\n",
    "  <div class=\\\"container footer\\\">© 2025 Nozolan</div>\n",
    "</body>\n",
    "</html>\"\"\"\n",
    "(root / 'deleted.html').write_text(deleted_page, encoding='utf-8')\n",
    "print('Wrote', (root / 'deleted.html').resolve())"
   ]
  },
  {
   "cell_type": "markdown",
   "metadata": {},
   "source": [
    "## 7) About page — `about.html`"
   ]
  },
  {
   "cell_type": "code",
   "execution_count": null,
   "metadata": {},
   "outputs": [],
   "source": [
    "about_html = \"\"\"<!doctype html>\n",
    "<html lang=\\\"en\\\">\n",
    "<head>\n",
    "  <meta charset=\\\"utf-8\\\">\n",
    "  <meta name=\\\"viewport\\\" content=\\\"width=device-width, initial-scale=1\\\" />\n",
    "  <title>About This Blog</title>\n",
    "  <link rel=\\\"stylesheet\\\" href=\\\"static/style.css\\\" />\n",
    "</head>\n",
    "<body>\n",
    "  <div class=\\\"nav\\\">\n",
    "    <div class=\\\"container\\\">\n",
    "      <a href=\\\"index.html\\\" style=\\\"color:white;\\\">← Home</a>\n",
    "    </div>\n",
    "  </div>\n",
    "  <div class=\\\"container\\\">\n",
    "    <h1>About</h1>\n",
    "    <p>This class blog is a safe place to share ideas and learn coding with Islamic values: honesty, kindness, and benefit to others.</p>\n",
    "  </div>\n",
    "  <div class=\\\"container footer\\\">© 2025 Nozolan</div>\n",
    "</body>\n",
    "</html>\"\"\"\n",
    "(root / 'about.html').write_text(about_html, encoding='utf-8')\n",
    "print('Wrote', (root / 'about.html').resolve())"
   ]
  },
  {
   "cell_type": "markdown",
   "metadata": {},
   "source": [
    "## 8) In-notebook preview helper"
   ]
  },
  {
   "cell_type": "code",
   "execution_count": null,
   "metadata": {},
   "outputs": [],
   "source": [
    "from IPython.display import HTML, display\n",
    "from pathlib import Path\n",
    "\n",
    "def preview(path):\n",
    "    html = Path(path).read_text(encoding='utf-8')\n",
    "    safe = html.replace(\"'\", \"&#39;\")\n",
    "    display(HTML(f\"<iframe srcdoc='{safe}' style='width:100%; height:520px; border:1px solid #ddd; border-radius:12px;'></iframe>\"))"
   ]
  },
  {
   "cell_type": "markdown",
   "metadata": {},
   "source": [
    "## 9) Preview each page"
   ]
  },
  {
   "cell_type": "code",
   "execution_count": null,
   "metadata": {},
   "outputs": [],
   "source": [
    "print(\"Home:\"); preview(root / 'index.html')\n",
    "print(\"Post detail:\"); preview(root / 'posts' / 'my-first-day.html')\n",
    "print(\"Delete confirm:\"); preview(root / 'posts' / 'my-first-day-delete.html')\n",
    "print(\"Deleted page:\"); preview(root / 'deleted.html')\n",
    "print(\"About:\"); preview(root / 'about.html')"
   ]
  },
  {
   "cell_type": "markdown",
   "metadata": {},
   "source": [
    "## 10) Student challenges\n",
    "\n",
    "1) Change titles and authors on Home.  \n",
    "2) Add a third card/post idea.  \n",
    "3) Add one image to the post detail.  \n",
    "4) Make the delete button smaller and move it under the post.  \n",
    "5) Edit the footer with a kind reminder."
   ]
  },
  {
   "cell_type": "markdown",
   "metadata": {},
   "source": [
    "## 11) Upload to PythonAnywhere (static hosting)\n",
    "\n",
    "1) Download the generated **blog_backbone** folder.  \n",
    "2) On PythonAnywhere → **Files**, upload the whole folder.  \n",
    "3) On the **Web** tab, add a **Static files** mapping: URL `/` → directory path for your `blog_backbone` folder.  \n",
    "4) Reload the web app → open your URL → it serves `index.html`."
   ]
  }
 ],
 "metadata": {
  "kernelspec": {
   "display_name": "Python 3",
   "language": "python",
   "name": "python3"
  },
  "language_info": {
   "name": "python",
   "version": "3.10"
  }
 },
 "nbformat": 4,
 "nbformat_minor": 5
}
