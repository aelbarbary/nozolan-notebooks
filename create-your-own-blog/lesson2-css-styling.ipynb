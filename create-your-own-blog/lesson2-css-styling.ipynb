{
 "cells": [
  {
   "cell_type": "markdown",
   "id": "23422bed",
   "metadata": {},
   "source": [
    "# Lesson 2 — Make It Pretty with CSS (External Stylesheet)\n",
    "\n",
    "**Goal:** Make our **Home page** and **Post page** look nice using **CSS in a separate file**.\n",
    "\n",
    "Audience: ages **9–14** | Values: **Excellence (Ihsan)**, **Balance**, **Clean code**"
   ]
  },
  {
   "cell_type": "markdown",
   "id": "045870a8",
   "metadata": {},
   "source": [
    "## What you'll learn\n",
    "- What is **CSS**?\n",
    "- How to keep CSS in a **separate file** (best practice).\n",
    "- How to **link** the CSS file to your HTML (or Flask templates).\n",
    "- Practice: style your **Home page** and **Post page**."
   ]
  },
  {
   "cell_type": "markdown",
   "id": "a177fe42",
   "metadata": {},
   "source": [
    "## 1) Project Setup (very short)\n",
    "We'll create a tiny project folder right from this notebook so you can run examples directly.\n",
    "\n",
    "**Folders we will create:**\n",
    "```\n",
    "mysite/\n",
    "  flask_app.py               (Flask app - optional to run)\n",
    "  templates/\n",
    "    index.html         (Home page)\n",
    "    post1.html          (Post page)\n",
    "  static/\n",
    "    style.css          (our external CSS file)\n",
    "```\n",
    "> If you're not using Flask, you can still open the HTML files in a browser; the CSS file stays separate."
   ]
  },
  {
   "cell_type": "markdown",
   "id": "335b760b",
   "metadata": {},
   "source": [
    "## 1) External CSS — the best practice\n",
    "We keep styles in **`static/style.css`** (a separate file).  \n",
    "In HTML (or Flask templates), we **link** it like this:\n",
    "\n",
    "```html\n",
    "<link rel=\"stylesheet\" href=\"{{ url_for('static', filename='style.css') }}\">\n",
    "```\n",
    "\n",
    "- In **plain HTML** (no Flask), you'd write:  \n",
    "  ```html\n",
    "  <link rel=\"stylesheet\" href=\"static/style.css\">\n",
    "  ```"
   ]
  },
  {
   "cell_type": "markdown",
   "id": "13100342",
   "metadata": {},
   "source": [
    "### Challenge A — Tweak the theme\n",
    "**Task:** Change the colors and button style. Keep the original code (below) and edit it.\n",
    "\n",
    "Tips for kids:\n",
    "- Try a different `--brand` color.\n",
    "- Make `border-radius` bigger.\n",
    "- Make the header text larger."
   ]
  },
  {
   "cell_type": "code",
   "execution_count": null,
   "id": "4ad0d137",
   "metadata": {},
   "outputs": [],
   "source": [
    ":root {\n",
    "  --bg: #0f172a;\n",
    "  --text: #e2e8f0;\n",
    "  --muted: #94a3b8;\n",
    "  --brand: #22c55e;\n",
    "  --card: #111827;\n",
    "  --link: #38bdf8;\n",
    "}\n",
    "\n",
    "/* Try changing these: --brand, --link, border-radius in .card and a.btn */\n",
    "body { margin: 0; font-family: system-ui, -apple-system, Segoe UI, Roboto, Arial, sans-serif; background: #0f172a; color: var(--text); }\n",
    "header, footer { text-align: center; padding: 24px 16px; }\n",
    "h1 { margin: 0; font-size: 2.2rem; }\n",
    ".tagline { color: var(--muted); margin-top: 6px; }\n",
    "main { max-width: 880px; margin: 24px auto; padding: 0 16px; }\n",
    "\n",
    ".card { background: #0b0f1a; border: 1px solid #1f2937; border-radius: 18px; padding: 20px; box-shadow: 0 10px 30px rgba(0,0,0,0.25); }\n",
    ".card h2 { margin-top: 0; }\n",
    "\n",
    "a.btn { display: inline-block; padding: 12px 18px; margin-top: 8px; border-radius: 14px; text-decoration: none; background: var(--brand); color: #041106; border: 1px solid rgba(0,0,0,0.3); }\n",
    "a { color: var(--link); }"
   ]
  },
  {
   "cell_type": "markdown",
   "id": "e351bc8b",
   "metadata": {},
   "source": [
    "## 3) Style the Home page (index.html)\n",
    "We already linked the stylesheet. Now we will add small class names to HTML to use our CSS."
   ]
  },
  {
   "cell_type": "code",
   "execution_count": null,
   "id": "2581a2bd",
   "metadata": {},
   "outputs": [],
   "source": [
    "<html lang=\"en\">\n",
    "<head>\n",
    "  <meta charset=\"UTF-8\" />\n",
    "  <meta name=\"viewport\" content=\"width=device-width, initial-scale=1.0\" />\n",
    "  <title>Nozolan Blog — Home</title>\n",
    "  <link rel=\"stylesheet\" href=\"{{ url_for('static', filename='style.css') }}\">\n",
    "</head>\n",
    "<body>\n",
    "  <header>\n",
    "    <h1>Nozolan Blog</h1>\n",
    "    <p class=\"tagline\">Strong Builder • Strong Believer</p>\n",
    "  </header>\n",
    "\n",
    "  <main>\n",
    "    <article class=\"card\">\n",
    "      <h2>Welcome!</h2>\n",
    "      <p>We keep our style in <code>static/style.css</code>. Clean and tidy!</p>\n",
    "      <a class=\"btn\" href=\"/post1\">Read a post</a>\n",
    "    </article>\n",
    "  </main>\n",
    "\n",
    "  <footer>\n",
    "    <small>© 2025 Nozolan.</small>\n",
    "  </footer>\n",
    "</body>\n",
    "</html>"
   ]
  },
  {
   "cell_type": "markdown",
   "id": "92c93b6b",
   "metadata": {},
   "source": [
    "### Challenge B — Add another card\n",
    "**Task:** Add a second `<article class=\"card\">` below the first one with your own title and a short message.\n",
    "\n",
    "- Keep the **original HTML** in the cell.\n",
    "- Edit and re-run to overwrite `index.html`."
   ]
  },
  {
   "cell_type": "code",
   "execution_count": null,
   "id": "aef86e7a",
   "metadata": {},
   "outputs": [],
   "source": [
    "<html lang=\"en\">\n",
    "<head>\n",
    "  <meta charset=\"UTF-8\" />\n",
    "  <meta name=\"viewport\" content=\"width=device-width, initial-scale=1.0\" />\n",
    "  <title>Nozolan Blog — Home</title>\n",
    "  <link rel=\"stylesheet\" href=\"{{ url_for('static', filename='style.css') }}\">\n",
    "</head>\n",
    "<body>\n",
    "  <header>\n",
    "    <h1>Nozolan Blog</h1>\n",
    "    <p class=\"tagline\">Strong Builder • Strong Believer</p>\n",
    "  </header>\n",
    "\n",
    "  <main>\n",
    "    <article class=\"card\">\n",
    "      <h2>Welcome!</h2>\n",
    "      <p>We keep our style in <code>static/style.css</code>. Clean and tidy!</p>\n",
    "      <a class=\"btn\" href=\"/post1\">Read a post</a>\n",
    "    </article>\n",
    "\n",
    "    <!-- TODO: Add another .card here -->\n",
    "  </main>\n",
    "\n",
    "  <footer>\n",
    "    <small>© 2025 Nozolan</small>\n",
    "  </footer>\n",
    "</body>\n",
    "</html>"
   ]
  },
  {
   "cell_type": "markdown",
   "id": "dcf11ca6",
   "metadata": {},
   "source": [
    "## 4) Style the Post1 page (post1.html)\n",
    "Let's improve the layout and add a bigger title."
   ]
  },
  {
   "cell_type": "code",
   "execution_count": null,
   "id": "c9f3d87c",
   "metadata": {},
   "outputs": [],
   "source": [
    "\n",
    "<html lang=\"en\">\n",
    "<head>\n",
    "  <meta charset=\"UTF-8\" />\n",
    "  <meta name=\"viewport\" content=\"width=device-width, initial-scale=1.0\" />\n",
    "  <title>Nozolan Blog — Post</title>\n",
    "  <link rel=\"stylesheet\" href=\"{{ url_for('static', filename='style.css') }}\">\n",
    "</head>\n",
    "<body>\n",
    "  <header>\n",
    "    <h1>My First Post</h1>\n",
    "    <p class=\"tagline\">Alhamdulillah for learning!</p>\n",
    "  </header>\n",
    "\n",
    "  <main>\n",
    "    <article class=\"card\">\n",
    "      <h2>Learning CSS in a Separate File</h2>\n",
    "      <p>Separate CSS makes sharing styles easy across pages.</p>\n",
    "      <p>Try to keep your HTML clean and your CSS organized—this is part of excellence (Ihsan)!</p>\n",
    "      <a class=\"btn\" href=\"/\">Back to Home</a>\n",
    "    </article>\n",
    "  </main>\n",
    "\n",
    "  <footer>\n",
    "    <small>© 2025 Nozolan</small>\n",
    "  </footer>\n",
    "</body>\n",
    "</html>"
   ]
  },
  {
   "cell_type": "markdown",
   "id": "fe6e2961",
   "metadata": {},
   "source": [
    "### Challenge C — Add an image\n",
    "**Task:** Add an image inside the `.card` (for example, a logo).  \n",
    "If you serve with Flask, place the image in `static/` and use `<img src=\"{{ url_for('static', filename='yourimage.png') }}\" alt=\"...\">`.\n",
    "\n",
    "- Keep the **original** in the cell below and edit it."
   ]
  },
  {
   "cell_type": "code",
   "execution_count": null,
   "id": "e8787a29",
   "metadata": {},
   "outputs": [],
   "source": [
    "<html lang=\"en\">\n",
    "<head>\n",
    "  <meta charset=\"UTF-8\" />\n",
    "  <meta name=\"viewport\" content=\"width=device-width, initial-scale=1.0\" />\n",
    "  <title>Nozolan Blog — Post</title>\n",
    "  <link rel=\"stylesheet\" href=\"{{ url_for('static', filename='style.css') }}\">\n",
    "</head>\n",
    "<body>\n",
    "  <header>\n",
    "    <h1>My First Post</h1>\n",
    "    <p class=\"tagline\">Alhamdulillah for learning!</p>\n",
    "  </header>\n",
    "\n",
    "  <main>\n",
    "    <article class=\"card\">\n",
    "      <h2>Learning CSS in a Separate File</h2>\n",
    "      <p>Separate CSS makes sharing styles easy across pages.</p>\n",
    "      <!-- TODO: Add an <img> here -->\n",
    "      <a class=\"btn\" href=\"/\">Back to Home</a>\n",
    "    </article>\n",
    "  </main>\n",
    "\n",
    "  <footer>\n",
    "    <small>© 2025 Nozolan</small>\n",
    "  </footer>\n",
    "</body>\n",
    "</html>"
   ]
  },
  {
   "cell_type": "markdown",
   "id": "82801c67",
   "metadata": {},
   "source": [
    "## 6) Quick Quiz — 10 short questions\n",
    "**Circle or answer quickly.**\n",
    "\n",
    "1. Where should your CSS live if you use an external file?  \n",
    "2. What HTML tag links a CSS file?  \n",
    "3. In Flask templates, how do you point to `style.css` inside `static/`?  \n",
    "4. True/False: It's okay to mix all CSS inside HTML with `style=\"\"` everywhere.  \n",
    "5. You wrote `class=\"btn\"` in HTML, but your CSS has `btn { ... }`. Why is your style not working?  \n",
    "6. Your link tag says `href=\"styles.css\"` but your file is actually in `static/style.css`. What's wrong?  \n",
    "7. You added a second `<article class=\"card\">` but it looks plain—no rounded corners. What might be missing?  \n",
    "8. You wrote `.button { ... }` in CSS but your HTML uses `<a class=\"btn\">`. How to fix?  \n",
    "9. What does **Ihsan** remind us about our code and design?  \n",
    "10. Bonus: Why is putting CSS in a separate file helpful when you have **many pages**?"
   ]
  }
 ],
 "metadata": {
  "language_info": {
   "name": "python"
  }
 },
 "nbformat": 4,
 "nbformat_minor": 5
}
