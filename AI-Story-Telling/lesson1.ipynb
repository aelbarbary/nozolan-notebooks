{
 "cells": [
  {
   "cell_type": "markdown",
   "metadata": {},
   "source": [
    "# 🐺 The Boy Who Cried Wolf – Create Your Own Character!\n",
    "# Fill in the blanks below to make your own version of the story character.\n",
    "# Be creative! Use your imagination!"
   ]
  },
  {
   "cell_type": "markdown",
   "metadata": {},
   "source": [
    "1. What is your character’s name?\n",
    "character_name = \"Type your character's name here\"\n",
    "\n",
    "2. Is your character a boy, girl, animal, or something else?\n",
    "character_type = \"Boy / Girl / Animal / Magical Creature / Other\"\n",
    "\n",
    "3. How old is your character?\n",
    "character_age = \"Type the age here\"\n",
    "\n",
    "4. What does your character look like? (Hair, clothes, eyes, anything cool!)\n",
    "character_look = \"Describe your character's look here\"\n",
    "\n",
    "5. What kind of sheep are they watching?\n",
    "sheep_type = \"Normal sheep / Rainbow sheep / Flying sheep / etc.\"\n",
    "\n",
    "6. Where is your character watching the sheep?\n",
    "location = \"Forest / Mountain / Near a city / Space / Other\"\n",
    "\n",
    "7. What does your character lie about? What do they shout?\n",
    "lie = \"Describe the lie here\"\n",
    "\n",
    "8. Why do they lie? (Are they bored, want attention, etc.)\n",
    "reason_for_lying = \"Type the reason here\"\n",
    "\n",
    "9. What happens at the end of the story?\n",
    "story_ending = \"Describe what happens at the end\"\n",
    "\n",
    "10. Choose 3 emojis for your character or story\n",
    "emoji_1 = \"🐺\"\n",
    "emoji_2 = \"😜\"\n",
    "emoji_3 = \"🌲\""
   ]
  },
  {
   "cell_type": "markdown",
   "metadata": {},
   "source": []
  }
 ],
 "metadata": {
  "language_info": {
   "name": "python"
  }
 },
 "nbformat": 4,
 "nbformat_minor": 2
}
