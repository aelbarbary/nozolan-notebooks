{
 "cells": [
  {
   "cell_type": "markdown",
   "metadata": {},
   "source": [
    "# 🐺 The Boy Who Cried Wolf – Create Your Own Character!\n",
    "# Fill in the blanks below to make your own version of the story character.\n",
    "# Be creative! Use your imagination!"
   ]
  },
  {
   "cell_type": "markdown",
   "metadata": {},
   "source": [
    "1. What is your character’s name?\n",
    "character_name = \"Type your character's name here\"\n",
    "\n",
    "2. Is your character a boy, girl, animal, or something else?\n",
    "character_type = \"Boy / Girl / Animal / Magical Creature / Other\"\n",
    "\n",
    "3. How old is your character?\n",
    "character_age = \"Type the age here\"\n",
    "\n",
    "4. What does your character look like? (Hair, clothes, eyes, anything cool!)\n",
    "character_look = \"Describe your character's look here\"\n",
    "\n",
    "5. What kind of sheep are they watching?\n",
    "sheep_type = \"Normal sheep / Flying sheep / etc.\"\n",
    "\n",
    "6. Where is your character watching the sheep?\n",
    "location = \"Forest / Mountain / Near a city / Space / Other\"\n"
   ]
  },
  {
   "cell_type": "markdown",
   "metadata": {},
   "source": []
  }
 ],
 "metadata": {
  "language_info": {
   "name": "python"
  }
 },
 "nbformat": 4,
 "nbformat_minor": 2
}
