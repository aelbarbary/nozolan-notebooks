{
  "cells": [
    {
      "cell_type": "markdown",
      "metadata": {},
      "source": [
        "# Level 2 - Lesson 1\n",
        "\n",
        "**Goal:** Learn classes with short examples, then try a mini‑challenge after each one.\n",
        "\n",
        "**How it works**\n",
        "1. **Run** the example.\n",
        "2. **Do the Challenge** right after.\n",
        "3. Ask: *What changed? What did I learn?*\n",
        "\n",
        "> Tip: Think of a **class** like a cookie cutter. It shapes cookies (objects) the same way every time."
      ]
    },
    {
      "cell_type": "markdown",
      "metadata": {},
      "source": [
        "## 1. Try This Example\n",
        "- **Run** the code below.\n",
        "- **Read** any `print(...)` messages.\n",
        "- **Notice**: What *names* and *actions* do you see?"
      ]
    },
    {
      "cell_type": "code",
      "execution_count": null,
      "metadata": {},
      "outputs": [],
      "source": [
        "class Bee:\n",
        "    def __init__(self, name, favorite_flower):\n",
        "        self.name = name          # Name of the bee\n",
        "        self.favorite_flower = favorite_flower  # Bee's favorite flower\n",
        "\n",
        "    def buzz(self):\n",
        "        print(f\"{self.name} buzzes around the {self.favorite_flower}!\")\n",
        "\n",
        "    def collect_nectar(self):\n",
        "        print(f\"{self.name} is collecting nectar from the {self.favorite_flower}.\")\n",
        "    \n",
        "\n",
        "bumble = Bee(\"Bumble\", \"sunflower\")\n",
        "buzz = Bee(\"Buzz\", \"lavender\")\n",
        "\n",
        "bumble.buzz()  # Output: Bumble buzzes around the sunflower!\n",
        "buzz.buzz()    # Output: Buzz buzzes around the lavender!\n",
        "\n",
        "bumble.collect_nectar()  # Output: Bumble is collecting nectar from the sunflower.\n",
        "buzz.collect_nectar()    # Output: Buzz is collecting nectar from the lavender.\n"
      ]
    },
    {
      "cell_type": "markdown",
      "metadata": {},
      "source": [
        "### 1.1 Challenge\n",
        "- Make **another object** from the same class.\n",
        "- Change at least **one value** (like a name or number).\n",
        "- Call a **method** to see different output."
      ]
    },
    {
      "cell_type": "code",
      "execution_count": null,
      "metadata": {},
      "outputs": [],
      "source": [
        "# 👇 Your turn: write your solution here\n"
      ]
    },
    {
      "cell_type": "markdown",
      "metadata": {},
      "source": [
        "## 2. Try This Example\n",
        "- **Run** the code below.\n",
        "- **Read** any `print(...)` messages.\n",
        "- **Notice**: What *names* and *actions* do you see?"
      ]
    },
    {
      "cell_type": "code",
      "execution_count": null,
      "metadata": {},
      "outputs": [],
      "source": [
        "class Bee:\n",
        "    def __init__(self, name, favorite_flower):\n",
        "        self.name = name\n",
        "        self.color = \"yellow and black\"\n",
        "        self.size = \"small\"\n",
        "        self.species = \"honey bee\"\n",
        "        self.favorite_flower = favorite_flower\n",
        "\n",
        "    def buzz(self):\n",
        "        print(f\"{self.name} goes buzz!\")\n",
        "\n",
        "    def collect_nectar(self):\n",
        "        print(f\"{self.name} is collecting nectar from the {self.favorite_flower}.\")\n",
        "\n",
        "\n",
        "buzz = Bee(\"Buzz\", \"sunflower\")\n",
        "bella = Bee(\"Bella\", \"lavender\")\n",
        "\n",
        "\n",
        "buzz.collect_nectar()   \n",
        "bella.collect_nectar()\n"
      ]
    },
    {
      "cell_type": "markdown",
      "metadata": {},
      "source": [
        "### 2.1 Challenge\n",
        "- Make **another object** from the same class.\n",
        "- Change at least **one value** (like a name or number).\n",
        "- Call a **method** to see different output."
      ]
    },
    {
      "cell_type": "code",
      "execution_count": null,
      "metadata": {},
      "outputs": [],
      "source": [
        "# 👇 Your turn: write your solution here\n"
      ]
    },
    {
      "cell_type": "markdown",
      "metadata": {},
      "source": [
        "---\n",
        "## Quick Recap\n",
        "- A **class** is a plan (like a cookie cutter).\n",
        "- An **object** is a thing made from the class (like a cookie).\n",
        "- `__init__` sets up the object's **starting values**.\n",
        "- **Methods** are actions the object can do."
      ]
    },
    {
      "cell_type": "markdown",
      "metadata": {},
      "source": [
        "---\n",
        "## End of Class — 5 Quick Quiz Questions\n",
        "\n",
        "**Q1. Predict the output**\n",
        "```python\n",
        "class Bee:\n",
        "    def __init__(self, name):\n",
        "        self.name = name\n",
        "\n",
        "b = Bee(\"Aisha\")\n",
        "print(b.name)\n",
        "```\n",
        "\n",
        "**Q2. Fix the bug (then run)**\n",
        "```python\n",
        "class Bee:\n",
        "    def __init__(self, name):\n",
        "        self.name = name\n",
        "\n",
        "def buzz(self):\n",
        "    print(self.name, \"buzzes\")\n",
        "```\n",
        "\n",
        "**Q3. What will this print?**\n",
        "```python\n",
        "class Box:\n",
        "    def __init__(self, color):\n",
        "        self.color = color\n",
        "\n",
        "b1 = Box(\"red\")\n",
        "b2 = Box(\"blue\")\n",
        "print(b1.color, b2.color)\n",
        "```\n",
        "\n",
        "**Q4. Add a method**\n",
        "```python\n",
        "class Student:\n",
        "    def __init__(self, name, grade):\n",
        "        self.name = name\n",
        "        self.grade = grade\n",
        "\n",
        "# Add a method called show() that prints: \"NAME is in GRADE\"\n",
        "# Then create a student and call show()\n",
        "```\n",
        "\n",
        "**Q5. Create two objects**\n",
        "```python\n",
        "class Pet:\n",
        "    def __init__(self, name, animal):\n",
        "        self.name = name\n",
        "        self.animal = animal\n",
        "\n",
        "# Make two pets with different names/animals\n",
        "# Print both names on one line\n",
        "```"
      ]
    },
    {
      "cell_type": "markdown",
      "metadata": {},
      "source": [
        "---\n",
        "**Great work!** Save your notebook.  \n",
        "_Last updated: 2025-09-27 04:38._"
      ]
    }
  ],
  "metadata": {
    "colab": {
      "provenance": [],
      "toc_visible": true
    },
    "kernelspec": {
      "display_name": "Python 3",
      "name": "python3"
    }
  },
  "nbformat": 4,
  "nbformat_minor": 0
}
