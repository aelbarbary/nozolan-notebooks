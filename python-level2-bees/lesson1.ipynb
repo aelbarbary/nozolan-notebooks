{
  "cells": [
    {
      "cell_type": "markdown",
      "metadata": {},
      "source": [
        "<div style=\"display: flex; align-items: center;\">\n",
        "  <img src=\"https://school-media.s3.amazonaws.com/school/logo.png\" width=\"50\" style=\"margin-right: 10px;\">\n",
        "  <h1 style=\"margin: 0;\">Lesson 1 - What is Object-Oriented Programming (OOP)?</h1>\n",
        "</div>\n",
        "\n",
        "Object-Oriented Programming, or OOP, is a way to organize code that makes it easier to manage and understand. Think of it as a way to group things that are similar together, just like how you might organize your toys by type—cars in one box, dolls in another, and so on.\n",
        "\n",
        "### Why Do We Use OOP?\n",
        "\n",
        "1. **Reusability**: \n",
        "   - Once we create a class, we can make many objects from it. It’s like having a bee blueprint—once we have it, we can create as many bees as we want without starting from scratch!\n",
        "\n",
        "2. **Organization**: \n",
        "   - OOP helps us keep our code neat and tidy. We can put related information and actions together, making it easier to find and use.\n",
        "\n",
        "3. **Real-World Representation**: \n",
        "   - OOP allows us to model real-world things. For example, if we want to represent a bee, we can create a class that has all the traits (like color and size) and actions (like buzzing and collecting nectar) of a bee.\n",
        "\n",
        "## What is a Class?\n",
        "\n",
        "A **class** is like a blueprint or recipe. It defines what an object is like and what it can do. \n",
        "\n",
        "### Example: The Bee Class\n",
        "\n",
        "Let's say we want to create a *Bee* class. This class will have some traits and actions that every bee shares.\n"
      ]
    },
    {
      "cell_type": "markdown",
      "metadata": {},
      "source": [
        "### What Does This Code Mean?\n",
        "- class Bee:: This line tells Python that we are creating a new class called Bee.\n",
        "- def __init__(self, name, favorite_flower):: This is a special function called the constructor. It sets up the bee's name and favorite flower when we create a new bee.\n",
        "- self.name and self.favorite_flower: These are attributes (or traits) that describe our bee.\n",
        "- def buzz(self): and def collect_nectar(self):: These are actions (or methods) that our bee can do.\n",
        "Creating Bee Objects\n",
        "\n",
        "Now that we have our Bee class, we can create individual bees using it, just like using a mold to make different cookies from the same dough!\n",
        "\n",
        "Example of Creating Bees:"
      ]
    },
    {
      "cell_type": "code",
      "execution_count": null,
      "metadata": {},
      "outputs": [],
      "source": [
        "class Bee:\n",
        "    def __init__(self, name, favorite_flower):\n",
        "        self.name = name          # Name of the bee\n",
        "        self.favorite_flower = favorite_flower  # Bee's favorite flower\n",
        "\n",
        "    def buzz(self):\n",
        "        print(f\"{self.name} buzzes around the {self.favorite_flower}!\")\n",
        "\n",
        "    def collect_nectar(self):\n",
        "        print(f\"{self.name} is collecting nectar from the {self.favorite_flower}.\")\n",
        "    \n",
        "\n",
        "bumble = Bee(\"Bumble\", \"sunflower\")\n",
        "buzz = Bee(\"Buzz\", \"lavender\")\n",
        "\n",
        "bumble.buzz()  # Output: Bumble buzzes around the sunflower!\n",
        "buzz.buzz()    # Output: Buzz buzzes around the lavender!\n",
        "\n",
        "bumble.collect_nectar()  # Output: Bumble is collecting nectar from the sunflower.\n",
        "buzz.collect_nectar()    # Output: Buzz is collecting nectar from the lavender."
      ]
    },
    {
      "cell_type": "markdown",
      "metadata": {},
      "source": [
        "### Here’s How We Create a Bee Class in Python:"
      ]
    },
    {
      "cell_type": "code",
      "execution_count": null,
      "metadata": {},
      "outputs": [],
      "source": [
        "class Bee:\n",
        "    def __init__(self, name, favorite_flower):\n",
        "        self.name = name\n",
        "        self.color = \"yellow and black\"\n",
        "        self.size = \"small\"\n",
        "        self.species = \"honey bee\"\n",
        "        self.favorite_flower = favorite_flower\n",
        "\n",
        "    def buzz(self):\n",
        "        print(f\"{self.name} goes buzz!\")\n",
        "\n",
        "    def collect_nectar(self):\n",
        "        print(f\"{self.name} is collecting nectar from the {self.favorite_flower}.\")\n",
        "\n",
        "\n",
        "buzz = Bee(\"Buzz\", \"sunflower\")\n",
        "bella = Bee(\"Bella\", \"lavender\")\n",
        "\n",
        "\n",
        "buzz.collect_nectar()   \n",
        "bella.collect_nectar()"
      ]
    }
  ],
  "metadata": {
    "colab": {
      "provenance": [],
      "toc_visible": true
    },
    "kernelspec": {
      "display_name": "Python 3",
      "name": "python3"
    }
  },
  "nbformat": 4,
  "nbformat_minor": 0
}
