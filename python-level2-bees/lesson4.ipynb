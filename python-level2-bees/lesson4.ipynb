{
 "cells": [
  {
   "cell_type": "markdown",
   "metadata": {},
   "source": [
    "# Lesson 4 - Encapsulation and Data Hiding in Python\n",
    "\n",
    "## 1- Refresher 🏆🎯💎\n",
    "\n",
    "Write a class that represent a Student and add properties to it for name and saving and methods to study and do homework."
   ]
  },
  {
   "cell_type": "code",
   "execution_count": null,
   "metadata": {},
   "outputs": [],
   "source": []
  },
  {
   "cell_type": "markdown",
   "metadata": {},
   "source": [
    "____"
   ]
  },
  {
   "cell_type": "markdown",
   "metadata": {
    "id": "RpKgwf3BEOqR"
   },
   "source": [
    "\n",
    "\n",
    "## 2- Private Properties\n",
    "\n",
    "In Python, we use encapsulation to control our data. Some data stays hidden (private), while other data is shared when needed (public).\n",
    "\n",
    "### Code Explanation:\n",
    "In Python, we use **underscores** to indicate if a variable or method is private:\n",
    "- A double underscore `__variable` suggests that it is **private**, meaning it is harder to access directly from outside the class.\n",
    "\n",
    "### Example: Muslim Class with Private Data\n",
    "\n",
    "We will start by defining a `Muslim` class where we keep certain attributes, like savings, private.\n"
   ]
  },
  {
   "cell_type": "code",
   "execution_count": null,
   "metadata": {},
   "outputs": [],
   "source": [
    "class Muslim:\n",
    "    def __init__(self, name, age):\n",
    "        self.name = name\n",
    "        self.age = age\n",
    "        self.__saving = 0  # Private attribute for savings\n",
    "    \n",
    "    def pray(self):\n",
    "        print(f\"{self.name} is praying to Allah.\")\n",
    "    \n",
    "    def fast(self):\n",
    "        print(f\"{self.name} is fasting during the month of Ramadan.\")\n",
    "    \n",
    "    def save(self, amount):\n",
    "        self.__saving += amount\n",
    "    \n",
    "    def get_savings(self):\n",
    "        # Getter method to access private savings\n",
    "        return self.__saving"
   ]
  },
  {
   "cell_type": "markdown",
   "metadata": {},
   "source": [
    "### Code Practice:\n",
    "Create an instance of the Muslim class.\n",
    "Use the save method to add money and access savings through the get_savings method."
   ]
  },
  {
   "cell_type": "code",
   "execution_count": null,
   "metadata": {},
   "outputs": [],
   "source": [
    "# Create an instance of the Muslim class\n",
    "ahmed = Muslim(\"Ahmed\", 30)\n",
    "\n",
    "# Ahmed prays and fasts\n",
    "ahmed.pray()\n",
    "ahmed.fast()\n",
    "\n",
    "# Ahmed saves some money\n",
    "ahmed.save(100)\n",
    "\n",
    "# Accessing Ahmed's savings using the getter method\n",
    "print(f\"Ahmed's total savings: {ahmed.get_savings()}\")  # This should work\n",
    "\n",
    "# Try to access the savings directly (this will give an error)\n",
    "# print(ahmed.__saving)  # Uncommenting this will result in an AttributeError\n"
   ]
  },
  {
   "cell_type": "markdown",
   "metadata": {},
   "source": [
    "### Discussion:\n",
    "In the example above, we kept the __saving attribute private by using double underscores. We created a getter method get_savings() to access the savings instead of directly accessing the private attribute. This ensures that only certain parts of the class can change or access sensitive data.\n",
    "\n",
    "## 3- Why Use Encapsulation?\n",
    "Encapsulation is important because it:\n",
    "\n",
    "- Helps protect the integrity of the data.\n",
    "- Prevents accidental changes to important values.\n",
    "- Provides controlled access to private data.\n",
    "\n",
    "Think of how we keep our personal life private. We don’t expose all our private actions or wealth to the public, but we share only some. Similarly, in coding, we hide sensitive data and only allow access through controlled means.\n",
    "\n",
    "### Code Practice:\n",
    "Try to modify the save method to prevent saving negative values."
   ]
  },
  {
   "cell_type": "code",
   "execution_count": null,
   "metadata": {},
   "outputs": [
    {
     "data": {
      "text/plain": [
       "40"
      ]
     },
     "execution_count": 29,
     "metadata": {},
     "output_type": "execute_result"
    }
   ],
   "source": [
    "class Muslim:\n",
    "    def __init__(self, name, age):\n",
    "        self.name = name\n",
    "        self.age = age\n",
    "        self.__saving = 0\n",
    "    \n",
    "    def pray(self):\n",
    "        print(f\"{self.name} is praying.\")\n",
    "    \n",
    "    def fast(self):\n",
    "        print(f\"{self.name} is fasting.\")\n",
    "    \n",
    "    def save(self, amount):\n",
    "        # change the code so that user cant save negative values\n",
    "        self.__saving += amount\n",
    "        print(f\"{self.name} has saved {amount}. Total saving: {self.__saving}\")\n",
    "        pass\n",
    "    \n",
    "    def get_savings(self):\n",
    "        return self.__saving\n",
    "    \n",
    "ahmed = Muslim(\"Ahmed\", 30)\n",
    "ahmed.save(50)\n",
    "ahmed.save(-10) \n",
    "ahmed.get_savings() \n",
    "\n"
   ]
  },
  {
   "cell_type": "markdown",
   "metadata": {},
   "source": [
    "____"
   ]
  },
  {
   "cell_type": "markdown",
   "metadata": {},
   "source": [
    "### Challenge 1:\n",
    "Create a new class MuslimFamily that contains a family’s details, such as the number of family members and their total wealth. Add methods to:\n",
    "\n",
    "- Add family members.\n",
    "- Add wealth.\n",
    "- Restrict access to the wealth and use a method to get it."
   ]
  },
  {
   "cell_type": "code",
   "execution_count": null,
   "metadata": {},
   "outputs": [
    {
     "name": "stdout",
     "output_type": "stream",
     "text": [
      "Family's total wealth: None\n"
     ]
    }
   ],
   "source": [
    "class MuslimFamily:\n",
    "    def __init__(self):\n",
    "        self.members = []\n",
    "        self.__wealth = 0\n",
    "\n",
    "    def add_member(self, name):\n",
    "        # your code here\n",
    "        pass\n",
    "\n",
    "    def add_wealth(self, amount):\n",
    "        # your code here\n",
    "        pass\n",
    "\n",
    "    def get_wealth(self):\n",
    "        # Your code here\n",
    "        pass\n",
    "\n",
    "# Code to test MuslimFamily class\n",
    "family = MuslimFamily()\n",
    "family.add_member(\"Ahmed\")\n",
    "family.add_member(\"Amina\")\n",
    "family.add_wealth(500)\n",
    "\n",
    "# Try to access the private total wealth directly (this should not work)\n",
    "# print(family.__wealth)  # This will result in an error\n",
    "\n",
    "# Use the getter method to access total wealth\n",
    "print(f\"Family's wealth: {family.get_wealth()}\")\n"
   ]
  },
  {
   "cell_type": "markdown",
   "metadata": {},
   "source": [
    "____"
   ]
  },
  {
   "cell_type": "markdown",
   "metadata": {},
   "source": [
    "### Challenge 2:\n",
    "Create a method calculate_zakat in the Muslim class that calculates and prints the amount of zakat (2.5% of total savings). The savings should be kept private."
   ]
  },
  {
   "cell_type": "code",
   "execution_count": null,
   "metadata": {},
   "outputs": [
    {
     "name": "stdout",
     "output_type": "stream",
     "text": [
      "Ahmed has saved 1000 units of wealth.\n"
     ]
    }
   ],
   "source": [
    "class Muslim:\n",
    "    def __init__(self, name, age):\n",
    "        self.name = name\n",
    "        self.age = age\n",
    "        self.__saving = 0\n",
    "\n",
    "    def save(self, amount):\n",
    "        if amount > 0:\n",
    "            self.__saving += amount\n",
    "            print(f\"{self.name} has saved {amount}$.\")\n",
    "\n",
    "    def calculate_zakat(self):\n",
    "        # Your code here\n",
    "        pass\n",
    "\n",
    "# Test the zakat calculation\n",
    "ahmed = Muslim(\"Ahmed\", 30)\n",
    "ahmed.save(1000)\n",
    "ahmed.calculate_zakat()\n"
   ]
  },
  {
   "cell_type": "markdown",
   "metadata": {},
   "source": [
    "_____"
   ]
  },
  {
   "cell_type": "markdown",
   "metadata": {},
   "source": [
    "## 4- Summary\n",
    "In this lesson, we've learned about Encapsulation and Data Hiding in Python. We protected important data by making attributes private, and we've learned to access them through getter methods. This approach is similar to how we protect sensitive information in our personal lives.\n",
    "\n",
    "____\n",
    "\n",
    "## 5- Homework:\n",
    "- Create a class IslamicOrganization that manages donations, members, and calculates the total funds. Use encapsulation for the funds, and provide a method to retrieve the total funds. Additionally, ensure that the donation amount is validated before it is added. A donation should only be accepted if the amount is a positive value.\n"
   ]
  },
  {
   "cell_type": "code",
   "execution_count": null,
   "metadata": {},
   "outputs": [],
   "source": [
    "class IslamicOrganization:\n",
    "    def __init__(self):\n",
    "        self.members = []\n",
    "        self.__funds = 0\n",
    "\n",
    "    def add_member(self, name):\n",
    "        self.members.append(name)\n",
    "\n",
    "    def donate(self, amount):\n",
    "        # Validate the amount is positive\n",
    "        self.__funds += amount\n",
    "\n",
    "    def get_funds(self):\n",
    "        # your code here\n",
    "        pass\n",
    "\n",
    "epic = IslamicOrganization()\n",
    "epic.add_member(\"Ahmed\")\n",
    "epic.donate(1000)\n",
    "epic.get_funds()\n"
   ]
  }
 ],
 "metadata": {
  "colab": {
   "provenance": [],
   "toc_visible": true
  },
  "kernelspec": {
   "display_name": "Python 3",
   "name": "python3"
  },
  "language_info": {
   "codemirror_mode": {
    "name": "ipython",
    "version": 3
   },
   "file_extension": ".py",
   "mimetype": "text/x-python",
   "name": "python",
   "nbconvert_exporter": "python",
   "pygments_lexer": "ipython3",
   "version": "3.12.5"
  }
 },
 "nbformat": 4,
 "nbformat_minor": 0
}
