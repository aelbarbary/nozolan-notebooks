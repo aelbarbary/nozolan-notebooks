{
  "cells": [
    {
      "cell_type": "markdown",
      "metadata": {},
      "source": [
        "# Lesson 3: Inheritance in Python\n",
        "\n",
        "## 1- Refresher 🏆🎯💎\n",
        "\n",
        "Write a class that represent a Student and add properties to it for name and saving and methods to study and do homework."
      ]
    },
    {
      "cell_type": "code",
      "execution_count": 5,
      "metadata": {},
      "outputs": [],
      "source": [
        "# Your code here"
      ]
    },
    {
      "cell_type": "markdown",
      "metadata": {},
      "source": [
        "___"
      ]
    },
    {
      "cell_type": "markdown",
      "metadata": {},
      "source": [
        "## 2. Creating Base Class\n",
        "Create an instance of `Muslim` and test methods like `pray` and `fast`"
      ]
    },
    {
      "cell_type": "code",
      "execution_count": null,
      "metadata": {},
      "outputs": [
        {
          "name": "stdout",
          "output_type": "stream",
          "text": [
            "Ahmed is praying.\n",
            "Ahmed is fasting.\n",
            "Ahmed has saved 100, total saved money is 100\n"
          ]
        }
      ],
      "source": [
        "class Muslim:\n",
        "    def __init__(self, name, age):\n",
        "        self.name = name\n",
        "        self.age = age\n",
        "        self.saving = 0\n",
        "\n",
        "    def pray(self):\n",
        "        print(f\"{self.name} is praying.\")\n",
        "\n",
        "    def fast(self):\n",
        "        print(f\"{self.name} is fasting.\")\n",
        "\n",
        "ahmed = Muslim(\"Ahmed\", 30)\n",
        "ahmed.pray()\n",
        "ahmed.fast()"
      ]
    },
    {
      "cell_type": "markdown",
      "metadata": {},
      "source": [
        "### 2.1 Coding Challenge 🏆🎯💎\n",
        "Update the MulsimClass by adding a save method to save money "
      ]
    },
    {
      "cell_type": "code",
      "execution_count": null,
      "metadata": {},
      "outputs": [
        {
          "name": "stdout",
          "output_type": "stream",
          "text": [
            "Ahmed is praying.\n",
            "Ahmed is fasting.\n"
          ]
        }
      ],
      "source": [
        "# Your code here"
      ]
    },
    {
      "cell_type": "markdown",
      "metadata": {},
      "source": [
        "____"
      ]
    },
    {
      "cell_type": "markdown",
      "metadata": {},
      "source": [
        "## 2- Creating a Derived Class: `MuslimScholar`\n",
        "\n",
        "We can create a derived class `MuslimScholar` that inherits from `Muslim` and adds extra attributes and methods.\n",
        "\n",
        "Here, `MuslimScholar` inherits all attributes and methods from `Muslim`, but adds a `field_of_study` attribute and a `teach()` method.\n",
        "\n"
      ]
    },
    {
      "cell_type": "code",
      "execution_count": null,
      "metadata": {},
      "outputs": [
        {
          "name": "stdout",
          "output_type": "stream",
          "text": [
            "Muhammad is teaching Quranic Studies.\n",
            "Muhammad is praying.\n",
            "Muhammad is fasting.\n"
          ]
        }
      ],
      "source": [
        "class MuslimScholar(Muslim):\n",
        "    def __init__(self, name, age, field_of_study):\n",
        "        super().__init__(name, age)\n",
        "        self.field_of_study = field_of_study\n",
        "\n",
        "    def teach(self):\n",
        "        print(f\"{self.name} is teaching {self.field_of_study}.\")\n",
        "\n",
        "\n",
        "# Create an instance of MuslimScholar\n",
        "muhammad = MuslimScholar(\"Muhammad\", 100, \"Quranic Studies\")\n",
        "muhammad.teach()\n"
      ]
    },
    {
      "cell_type": "markdown",
      "metadata": {},
      "source": [
        "___"
      ]
    },
    {
      "cell_type": "markdown",
      "metadata": {},
      "source": [
        "## 3- Overriding Methods\n",
        "\n",
        "Method overriding happens when a subclass (a smaller, more specific class) creates its own version of a method that it inherited from a larger, main class.\n",
        "\n",
        "For example, the MuslimScholar class overrides the pray method, meaning it changes how pray works just for itself.\n",
        "\n",
        "### 3.1 Coding Challenge 🏆🎯💎\n",
        "Override the fast method in MuslimScholar to print a unique message. Then create an instance (an example) of MuslimScholar and test both pray and fast to see the new, unique messages.\n"
      ]
    },
    {
      "cell_type": "code",
      "execution_count": 26,
      "metadata": {},
      "outputs": [],
      "source": [
        "class MuslimScholar(Muslim):\n",
        "    def __init__(self, name, age, field_of_study):\n",
        "        super().__init__(name, age)\n",
        "        self.field_of_study = field_of_study\n",
        "\n",
        "    def teach(self):\n",
        "        print(f\"{self.name} is teaching {self.field_of_study}.\")\n",
        "\n",
        "    def pray(self):\n",
        "        print(f\"{self.name}, a scholar, is praying.\")"
      ]
    },
    {
      "cell_type": "markdown",
      "metadata": {},
      "source": [
        "## 4- Method Overriding\n",
        "In programming, overriding is when a child class changes how a method works from its parent class.\n",
        "\n",
        "\n",
        "### 4.1 Coding Challenge 🏆🎯💎\n",
        "- Create instances (examples) of the Bug and Bee classes.\n",
        "- Call the make_sound method on both and see the difference between the sounds!"
      ]
    },
    {
      "cell_type": "code",
      "execution_count": 27,
      "metadata": {},
      "outputs": [],
      "source": [
        "# Parent class\n",
        "class Bug:\n",
        "    def __init__(self, name):\n",
        "        self.name = name\n",
        "\n",
        "    def move(self):\n",
        "        return f\"{self.name} is crawling.\"\n",
        "\n",
        "    def make_sound(self):\n",
        "        return f\"{self.name} makes a generic bug sound.\"\n",
        "\n",
        "# Subclass Bee that overrides make_sound\n",
        "class Bee(Bug):\n",
        "    def make_sound(self):\n",
        "        return f\"{self.name} buzzes around.\"\n",
        "\n",
        "    # Additional method specific to Bee only\n",
        "    def collect_nectar(self):\n",
        "        return f\"{self.name} is collecting nectar from flowers.\"\n",
        "\n",
        "# Creating an instance and testing methods\n",
        "\n"
      ]
    },
    {
      "cell_type": "markdown",
      "metadata": {},
      "source": [
        "____"
      ]
    },
    {
      "cell_type": "markdown",
      "metadata": {},
      "source": [
        "## 5- Super Function and Method Overriding\n",
        "\n",
        "Using `super()` allows a subclass to call a method from its parent class, which is helpful in method overriding.\n",
        "\n",
        "Here, `super().pray()` calls the `pray` method from `Muslim` before adding additional behavior.\n",
        "\n",
        "### Code Practice\n",
        "Create an instance of the MuslimScholar class and call the pray method.\n"
      ]
    },
    {
      "cell_type": "code",
      "execution_count": 28,
      "metadata": {},
      "outputs": [],
      "source": [
        "class MuslimScholar(Muslim):\n",
        "    def __init__(self, name, age, field_of_study):\n",
        "        super().__init__(name, age)\n",
        "        self.field_of_study = field_of_study\n",
        "\n",
        "    def teach(self):\n",
        "        print(f\"{self.name} is teaching {self.field_of_study}.\")\n",
        "\n",
        "    def pray(self):\n",
        "        super().pray()\n",
        "        print(f\"{self.name} also leads a prayer session.\")"
      ]
    },
    {
      "cell_type": "markdown",
      "metadata": {},
      "source": [
        "______"
      ]
    },
    {
      "cell_type": "markdown",
      "metadata": {},
      "source": [
        "## 6- Multiple Inheritance and `MuslimProfessional` Class\n",
        "\n",
        "Python supports multiple inheritance, where a class can inherit from more than one parent class. Be cautious as it can introduce complexity.\n",
        "\n",
        "### 6.1 Coding Challenge 🏆🎯💎\n",
        "Create an instance of `MuslimProfessional` and call `work` and `pray` to observe how multiple inheritance works."
      ]
    },
    {
      "cell_type": "code",
      "execution_count": 29,
      "metadata": {},
      "outputs": [],
      "source": [
        "class Professional:\n",
        "    def work(self):\n",
        "        print(\"Working hard!\")\n",
        "\n",
        "class MuslimProfessional(Muslim, Professional):\n",
        "    def pray(self):\n",
        "        print(f\"{self.name} prays during work breaks.\")"
      ]
    },
    {
      "cell_type": "markdown",
      "metadata": {},
      "source": [
        "_____"
      ]
    },
    {
      "cell_type": "markdown",
      "metadata": {},
      "source": [
        "## 7- Abstract Base Class for Shared Behavior\n",
        "An abstract base class is like a “template” for other classes, meaning it sets up rules about what other classes need to do but doesn’t fill in all the details.\n",
        "\n",
        "For example, imagine a class called Muslima that includes a rule: all classes that inherit from Muslima must have a pray method. The abstract base class Muslima says, “Any class based on me must define its own version of pray,\" but it doesn’t say how to pray.\n",
        "\n",
        "### 7.1 Coding Challenge 🏆🎯💎\n",
        "- Create a new method in the the Muslima class for fasting\n",
        "- Create a new instance of the Hijabi and NonHijabi classes and test the pray and fast methods\n",
        "\n",
        "Using abstract base classes like this helps us organize shared rules and behaviors for different classes without repeating code!"
      ]
    },
    {
      "cell_type": "code",
      "execution_count": 13,
      "metadata": {},
      "outputs": [
        {
          "name": "stdout",
          "output_type": "stream",
          "text": [
            "Amina, who wears a hijab, is praying with modesty and respect.\n",
            "Sara, who does not wear a hijab, is praying with sincerity and focus.\n"
          ]
        }
      ],
      "source": [
        "from abc import ABC, abstractmethod\n",
        "\n",
        "class Muslima(ABC):\n",
        "    def __init__(self, name, age):\n",
        "        self.name = name\n",
        "        self.age = age\n",
        "\n",
        "    @abstractmethod\n",
        "    def pray(self):\n",
        "        pass\n",
        "\n",
        "class Hijabi(Muslima):\n",
        "    def pray(self):\n",
        "        print(f\"{self.name}, who wears a hijab, is praying with modesty and respect.\")\n",
        "        \n",
        "class NonHijabi(Muslima):\n",
        "    def pray(self):\n",
        "        print(f\"{self.name}, who does not wear a hijab, is praying with sincerity and focus.\")\n",
        "        \n",
        "hijabi_woman = Hijabi(\"Amina\", 25)\n",
        "non_hijabi_woman = NonHijabi(\"Sara\", 28)\n",
        "\n",
        "hijabi_woman.pray()       # Output: Amina, who wears a hijab, is praying with modesty and respect.\n",
        "non_hijabi_woman.pray()    # Output: Sara, who does not wear a hijab, is praying with sincerity and focus.\n"
      ]
    },
    {
      "cell_type": "markdown",
      "metadata": {},
      "source": [
        "_____"
      ]
    },
    {
      "cell_type": "markdown",
      "metadata": {},
      "source": [
        "## 8- Check classes relationships using `isinstance` and `issubclass`\n",
        "\n",
        "We use `isinstance` to check if an object is an instance of a class and `issubclass` for class relationships.\n",
        "\n",
        "### 8.1 Coding Challenge 🏆🎯💎\n",
        "Create instances and use `isinstance` and `issubclass` to check relationships.\n"
      ]
    },
    {
      "cell_type": "code",
      "execution_count": 31,
      "metadata": {},
      "outputs": [
        {
          "name": "stdout",
          "output_type": "stream",
          "text": [
            "True\n",
            "True\n"
          ]
        }
      ],
      "source": [
        "person1 = MuslimScholar(\"Ahmed\", 30, 'Fiqh')\n",
        "print(isinstance(person1, Muslim))  \n",
        "print(issubclass(MuslimScholar, Muslim))"
      ]
    },
    {
      "cell_type": "markdown",
      "metadata": {},
      "source": [
        "____"
      ]
    },
    {
      "cell_type": "markdown",
      "metadata": {},
      "source": [
        "## 9- Homework\n",
        "\n",
        "Implement a `MuslimCommunity` class that holds various `Muslim` objects, including scholars and professionals.\n",
        "\n",
        "Add instances of `Muslim`, `MuslimScholar`, and `MuslimProfessional` to `MuslimCommunity` and call `community_prayers()`.\n"
      ]
    },
    {
      "cell_type": "code",
      "execution_count": 38,
      "metadata": {},
      "outputs": [],
      "source": [
        "class MuslimCommunity:\n",
        "    def __init__(self):\n",
        "        self.members = []\n",
        "\n",
        "    def add_member(self, member):\n",
        "        if isinstance(member, Muslim):\n",
        "            self.members.append(member)\n",
        "\n",
        "    def community_prayers(self):\n",
        "        for member in self.members:\n",
        "            member.pray()\n",
        "\n",
        "ahmed = Muslim(\"Ahmed\", 40)\n",
        "osama = MuslimScholar(\"Osama\", 30, \"Fiqh\")"
      ]
    }
  ],
  "metadata": {
    "colab": {
      "provenance": [],
      "toc_visible": true
    },
    "kernelspec": {
      "display_name": "Python 3",
      "name": "python3"
    },
    "language_info": {
      "codemirror_mode": {
        "name": "ipython",
        "version": 3
      },
      "file_extension": ".py",
      "mimetype": "text/x-python",
      "name": "python",
      "nbconvert_exporter": "python",
      "pygments_lexer": "ipython3",
      "version": "3.9.0"
    }
  },
  "nbformat": 4,
  "nbformat_minor": 0
}
