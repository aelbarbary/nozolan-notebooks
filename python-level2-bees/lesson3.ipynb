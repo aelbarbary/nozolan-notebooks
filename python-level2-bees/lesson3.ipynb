{
  "cells": [
    {
      "cell_type": "markdown",
      "metadata": {},
      "source": [
        "<div style=\"display: flex; align-items: center;\">\n",
        "  <img src=\"https://school-media.s3.amazonaws.com/school/logo.png\" width=\"50\" style=\"margin-right: 10px;\">\n",
        "  <h1 style=\"margin: 0;\">Lesson 3 - Inheritance in Python</h1>\n",
        "</div>\n"
      ]
    },
    {
      "cell_type": "markdown",
      "metadata": {},
      "source": [
        "## 1- Refresher 🏆🎯💎\n",
        "\n",
        "\n",
        "Write a class that represent a Student and add properties to it for name and saving and methods to study and do homework.\n"
      ]
    },
    {
      "cell_type": "code",
      "execution_count": null,
      "metadata": {},
      "outputs": [],
      "source": [
        "class Student:\n",
        "    # your code here"
      ]
    },
    {
      "cell_type": "markdown",
      "metadata": {},
      "source": [
        "## 2. Creating Base Class\n",
        "\n",
        "- Run the code.\n",
        "- Then do the challenge.\n"
      ]
    },
    {
      "cell_type": "code",
      "execution_count": null,
      "metadata": {},
      "outputs": [
        {
          "name": "stdout",
          "output_type": "stream",
          "text": [
            "Ahmed is praying.\n",
            "Ahmed is fasting.\n"
          ]
        }
      ],
      "source": [
        "class Muslim:\n",
        "    def __init__(self, name, age):\n",
        "        self.name = name\n",
        "        self.age = age\n",
        "        self.saving = 0\n",
        "\n",
        "    def pray(self):\n",
        "        print(f\"{self.name} is praying.\")\n",
        "\n",
        "    def fast(self):\n",
        "        print(f\"{self.name} is fasting.\")\n",
        "\n",
        "ahmed = Muslim(\"Ahmed\", 30)\n",
        "ahmed.pray()\n",
        "ahmed.fast()"
      ]
    },
    {
      "cell_type": "markdown",
      "metadata": {},
      "source": [
        "### 2.1 Coding Challenge 🏆🎯💎\n",
        "Update the MulsimClass by adding a save method to save money "
      ]
    },
    {
      "cell_type": "code",
      "execution_count": null,
      "metadata": {},
      "outputs": [],
      "source": [
        "class Muslim:\n",
        "    def __init__(self, name, age):\n",
        "        self.name = name\n",
        "        self.age = age\n",
        "        self.saving = 0\n",
        "\n",
        "    def pray(self):\n",
        "        print(f\"{self.name} is praying.\")\n",
        "\n",
        "    def fast(self):\n",
        "        print(f\"{self.name} is fasting.\")\n",
        "\n",
        "\n",
        "ahmed = Muslim(\"Ahmed\", 30)\n",
        "ahmed.pray()\n",
        "ahmed.fast()\n",
        "ahmed.save(100)\n"
      ]
    },
    {
      "cell_type": "markdown",
      "metadata": {},
      "source": [
        "___________"
      ]
    },
    {
      "cell_type": "markdown",
      "metadata": {},
      "source": [
        "## 3- Creating a Derived Class: `MuslimScholar`\n"
      ]
    },
    {
      "cell_type": "code",
      "execution_count": null,
      "metadata": {},
      "outputs": [
        {
          "name": "stdout",
          "output_type": "stream",
          "text": [
            "Muhammad is teaching Quranic Studies.\n",
            "Muhammad is praying.\n",
            "Muhammad is fasting.\n"
          ]
        }
      ],
      "source": [
        "class MuslimScholar(Muslim):\n",
        "    def __init__(self, name, age, field_of_study):\n",
        "        super().__init__(name, age)\n",
        "        self.field_of_study = field_of_study\n",
        "\n",
        "    def teach(self):\n",
        "        print(f\"{self.name} is teaching {self.field_of_study}.\")\n",
        "\n",
        "\n",
        "# Create an instance of MuslimScholar\n",
        "muhammad = MuslimScholar(\"Muhammad\", 100, \"Quranic Studies\")\n",
        "muhammad.teach()\n",
        "muhammad.pray()\n",
        "muhammad.fast()"
      ]
    },
    {
      "cell_type": "markdown",
      "metadata": {},
      "source": [
        "### 3.1 Coding Challenge 🏆🎯💎\n",
        "Update the MulsimScolar class by adding a new years of experience field."
      ]
    },
    {
      "cell_type": "code",
      "execution_count": null,
      "metadata": {},
      "outputs": [
        {
          "name": "stdout",
          "output_type": "stream",
          "text": [
            "Muhammad is teaching Quranic Studies.\n",
            "Muhammad is praying.\n",
            "Muhammad is fasting.\n"
          ]
        }
      ],
      "source": [
        "class MuslimScholar(Muslim):\n",
        "    def __init__(self, name, age, field_of_study):\n",
        "        super().__init__(name, age)\n",
        "        self.field_of_study = field_of_study\n",
        "\n",
        "    def teach(self):\n",
        "        print(f\"{self.name} is teaching {self.field_of_study}.\")\n",
        "\n",
        "\n",
        "# Create an instance of MuslimScholar\n",
        "muhammad = MuslimScholar(\"Muhammad\", 100, \"Quranic Studies\")\n",
        "muhammad.teach()\n",
        "muhammad.pray()\n",
        "muhammad.fast()\n"
      ]
    },
    {
      "cell_type": "markdown",
      "metadata": {},
      "source": [
        "________"
      ]
    },
    {
      "cell_type": "markdown",
      "metadata": {},
      "source": [
        "## 4- Overriding Methods"
      ]
    },
    {
      "cell_type": "code",
      "execution_count": null,
      "metadata": {},
      "outputs": [],
      "source": [
        "class MuslimScholar(Muslim):\n",
        "    def __init__(self, name, age, field_of_study):\n",
        "        super().__init__(name, age)\n",
        "        self.field_of_study = field_of_study\n",
        "\n",
        "    def teach(self):\n",
        "        print(f\"{self.name} is teaching {self.field_of_study}.\")\n",
        "\n",
        "    def pray(self):\n",
        "        print(f\"{self.name}, a scholar, is praying.\")"
      ]
    },
    {
      "cell_type": "markdown",
      "metadata": {},
      "source": [
        "### 4.1 Coding Challenge 🏆🎯💎\n",
        "Override the method fast in the MulsimScolar subclass"
      ]
    },
    {
      "cell_type": "code",
      "execution_count": null,
      "metadata": {},
      "outputs": [],
      "source": [
        "\n",
        "class MuslimScholar(Muslim):\n",
        "    def __init__(self, name, age, field_of_study):\n",
        "        super().__init__(name, age)\n",
        "        self.field_of_study = field_of_study\n",
        "\n",
        "    def teach(self):\n",
        "        print(f\"{self.name} is teaching {self.field_of_study}.\")\n",
        "\n",
        "    def pray(self):\n",
        "        print(f\"{self.name}, a scholar, is praying.\")\n"
      ]
    },
    {
      "cell_type": "markdown",
      "metadata": {},
      "source": [
        "_____"
      ]
    },
    {
      "cell_type": "markdown",
      "metadata": {},
      "source": [
        "## 5- Multiple Inheritance and `MuslimProfessional` Class"
      ]
    },
    {
      "cell_type": "code",
      "execution_count": null,
      "metadata": {},
      "outputs": [],
      "source": [
        "class Professional:\n",
        "    def work(self):\n",
        "        print(\"Working hard!\")\n",
        "\n",
        "class MuslimProfessional(Muslim, Professional):\n",
        "    def pray(self):\n",
        "        print(f\"{self.name} prays during work breaks.\")"
      ]
    },
    {
      "cell_type": "markdown",
      "metadata": {},
      "source": [
        "### 5.1 Coding Challenge 🏆🎯💎\n",
        "Create a new class called TaxPayer.\n",
        "Then make MuslimProfessional inherit from TaxPayer too.\n",
        "\n",
        "Hint:\n",
        "\n",
        "- Add the new class above the others.\n",
        "- Give it one simple method like pay_tax().\n",
        "- Then make sure MuslimProfessional inherits from Muslim, Professional, and TaxPayer together.\n",
        "- Try calling all three methods to see how inheritance works!"
      ]
    },
    {
      "cell_type": "code",
      "execution_count": null,
      "metadata": {},
      "outputs": [],
      "source": [
        "class Professional:\n",
        "    def work(self):\n",
        "        print(\"Working hard!\")\n",
        "\n",
        "class MuslimProfessional(Muslim, Professional):\n",
        "    def pray(self):\n",
        "        print(f\"{self.name} prays during work breaks.\")\n"
      ]
    },
    {
      "cell_type": "markdown",
      "metadata": {},
      "source": [
        "____"
      ]
    },
    {
      "cell_type": "markdown",
      "metadata": {},
      "source": [
        "🧩 Class & Inheritance – Output Questions\n",
        "\n",
        "Q1.\n",
        "```\n",
        "class Animal:\n",
        "    def sound(self):\n",
        "        print(\"Some sound\")\n",
        "\n",
        "class Cat(Animal):\n",
        "    def sound(self):\n",
        "        print(\"Meow\")\n",
        "\n",
        "pet = Cat()\n",
        "pet.sound()\n",
        "```\n",
        "\n",
        "Q2.\n",
        "```\n",
        "class Parent:\n",
        "    def greet(self):\n",
        "        print(\"Hello from Parent\")\n",
        "\n",
        "class Child(Parent):\n",
        "    pass\n",
        "\n",
        "c = Child()\n",
        "c.greet()\n",
        "\n",
        "```\n",
        "Q3.\n",
        "```\n",
        "class A:\n",
        "    def say(self):\n",
        "        print(\"A says hi\")\n",
        "\n",
        "class B(A):\n",
        "    def say(self):\n",
        "        print(\"B says hi\")\n",
        "\n",
        "obj = B()\n",
        "obj.say()\n",
        "```\n",
        "\n",
        "Q4.\n",
        "```\n",
        "class A:\n",
        "    def who(self):\n",
        "        print(\"I am A\")\n",
        "\n",
        "class B(A):\n",
        "    def who(self):\n",
        "        super().who()\n",
        "        print(\"I am B\")\n",
        "\n",
        "b = B()\n",
        "b.who()\n",
        "```\n",
        "\n",
        "Q5.\n",
        "```\n",
        "class Muslim:\n",
        "    def pray(self):\n",
        "        print(\"Praying...\")\n",
        "\n",
        "class MuslimStudent(Muslim):\n",
        "    def study(self):\n",
        "        print(\"Studying hard\")\n",
        "\n",
        "m = MuslimStudent()\n",
        "m.pray()\n",
        "m.study()\n"
      ]
    },
    {
      "cell_type": "markdown",
      "metadata": {},
      "source": []
    }
  ],
  "metadata": {
    "colab": {
      "provenance": [],
      "toc_visible": true
    },
    "kernelspec": {
      "display_name": "Python 3",
      "name": "python3"
    },
    "language_info": {
      "codemirror_mode": {
        "name": "ipython",
        "version": 3
      },
      "file_extension": ".py",
      "mimetype": "text/x-python",
      "name": "python",
      "nbconvert_exporter": "python",
      "pygments_lexer": "ipython3",
      "version": "3.9.0"
    }
  },
  "nbformat": 4,
  "nbformat_minor": 0
}
