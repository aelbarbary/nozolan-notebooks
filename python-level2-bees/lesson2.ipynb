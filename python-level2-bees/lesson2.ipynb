{
  "cells": [
    {
      "cell_type": "markdown",
      "metadata": {
        "id": "RpKgwf3BEOqR"
      },
      "source": [
        "<div style=\"display: flex; align-items: center;\">\n",
        "  <img src=\"https://school-media.s3.amazonaws.com/school/logo.png\" width=\"50\" style=\"margin-right: 10px;\">\n",
        "  <h1 style=\"margin: 0;\">Lesson 2 - Classes and Objects in Python</h1>\n",
        "</div>\n"
      ]
    },
    {
      "cell_type": "markdown",
      "metadata": {},
      "source": [
        "## 1. What is a class? (Blueprint)"
      ]
    },
    {
      "cell_type": "code",
      "execution_count": null,
      "metadata": {},
      "outputs": [],
      "source": [
        "# Example: an empty class (blueprint)\n",
        "class Muslim:\n",
        "    pass\n"
      ]
    },
    {
      "cell_type": "markdown",
      "metadata": {},
      "source": [
        "**1.a Mini Change:** Add two attributes to the blueprint: `name` and `age` using `__init__(self, name, age)` and store them on `self`.\n",
        "\n",
        "> Hint: self.name = name"
      ]
    },
    {
      "cell_type": "code",
      "execution_count": null,
      "metadata": {},
      "outputs": [],
      "source": [
        "# Write your code for the mini change here\n"
      ]
    },
    {
      "cell_type": "markdown",
      "metadata": {},
      "source": [
        "____________"
      ]
    },
    {
      "cell_type": "markdown",
      "metadata": {},
      "source": [
        "## 2. Create an object (instance)"
      ]
    },
    {
      "cell_type": "code",
      "execution_count": null,
      "metadata": {},
      "outputs": [],
      "source": [
        "# Example: make one object and read its data\n",
        "class Muslim:\n",
        "    def __init__(self, name, age):\n",
        "        self.name = name\n",
        "        self.age = age\n",
        "\n",
        "person1 = Muslim(\"Ali\", 12)\n",
        "print(person1.name)\n",
        "print(person1.age)\n"
      ]
    },
    {
      "cell_type": "markdown",
      "metadata": {},
      "source": [
        "**2.a Mini Change:** Create TWO more Muslims and print a sentence like: `Aisha is 11 years old.`"
      ]
    },
    {
      "cell_type": "code",
      "execution_count": null,
      "metadata": {},
      "outputs": [],
      "source": [
        "# Write your code for the mini change here\n"
      ]
    },
    {
      "cell_type": "markdown",
      "metadata": {},
      "source": [
        "_______"
      ]
    },
    {
      "cell_type": "markdown",
      "metadata": {},
      "source": [
        "## 3. Read and change attributes"
      ]
    },
    {
      "cell_type": "code",
      "execution_count": 1,
      "metadata": {},
      "outputs": [
        {
          "name": "stdout",
          "output_type": "stream",
          "text": [
            "Before: 10\n",
            "After: 11\n"
          ]
        }
      ],
      "source": [
        "# Example: update a value on an object\n",
        "class Muslim:\n",
        "    def __init__(self, name, age):\n",
        "        self.name = name\n",
        "        self.age = age\n",
        "\n",
        "zainab = Muslim(\"Zainab\", 10)\n",
        "print(\"Before:\", zainab.age)\n",
        "zainab.age = 11\n",
        "print(\"After:\", zainab.age)\n"
      ]
    },
    {
      "cell_type": "markdown",
      "metadata": {},
      "source": [
        "**3.a Mini Change:** Add a new attribute `favorite_sura` (default to \"Al-Fatiha\") and print it for one object."
      ]
    },
    {
      "cell_type": "code",
      "execution_count": null,
      "metadata": {},
      "outputs": [],
      "source": [
        "# Write your code for the mini change here\n"
      ]
    },
    {
      "cell_type": "markdown",
      "metadata": {},
      "source": [
        "_________"
      ]
    },
    {
      "cell_type": "markdown",
      "metadata": {},
      "source": [
        "## 4. Methods make objects DO things"
      ]
    },
    {
      "cell_type": "code",
      "execution_count": null,
      "metadata": {},
      "outputs": [],
      "source": [
        "# Example: methods\n",
        "class Muslim:\n",
        "    def __init__(self, name, age):\n",
        "        self.name = name\n",
        "        self.age = age\n",
        "\n",
        "    def pray(self):\n",
        "        print(f\"{self.name} is praying.\")\n",
        "\n",
        "    def fast(self):\n",
        "        print(f\"{self.name} is fasting.\")\n",
        "\n",
        "omar = Muslim(\"Omar\", 13)\n",
        "omar.pray()\n",
        "omar.fast()\n"
      ]
    },
    {
      "cell_type": "markdown",
      "metadata": {},
      "source": [
        "**4.a Mini Change:** Add a method `greet(self)` that prints: `Assalamu alaykum, I am <name>!` and call it."
      ]
    },
    {
      "cell_type": "code",
      "execution_count": null,
      "metadata": {},
      "outputs": [],
      "source": [
        "# Write your code for the mini change here\n"
      ]
    },
    {
      "cell_type": "markdown",
      "metadata": {},
      "source": [
        "__________"
      ]
    },
    {
      "cell_type": "markdown",
      "metadata": {},
      "source": [
        "## 5. Default values in __init__"
      ]
    },
    {
      "cell_type": "code",
      "execution_count": 2,
      "metadata": {},
      "outputs": [
        {
          "name": "stdout",
          "output_type": "stream",
          "text": [
            "Fatima 0\n"
          ]
        }
      ],
      "source": [
        "# Example: default age\n",
        "class Muslim:\n",
        "    def __init__(self, name, age=0):\n",
        "        self.name = name\n",
        "        self.age = age\n",
        "\n",
        "fatima = Muslim(\"Fatima\")\n",
        "print(fatima.name, fatima.age)\n"
      ]
    },
    {
      "cell_type": "markdown",
      "metadata": {},
      "source": [
        "**5.a Mini Change:** Change the default age to 7. Create two objects (one with age, one without) and print both."
      ]
    },
    {
      "cell_type": "code",
      "execution_count": null,
      "metadata": {},
      "outputs": [],
      "source": [
        "# Write your code for the mini change here\n"
      ]
    },
    {
      "cell_type": "markdown",
      "metadata": {},
      "source": [
        "____________"
      ]
    },
    {
      "cell_type": "markdown",
      "metadata": {},
      "source": [
        "## 6. Attributes that change (state)"
      ]
    },
    {
      "cell_type": "code",
      "execution_count": null,
      "metadata": {},
      "outputs": [],
      "source": [
        "# Example: savings that change\n",
        "class Muslim:\n",
        "    def __init__(self, name, age, savings=0):\n",
        "        self.name = name\n",
        "        self.age = age\n",
        "        self.savings = savings\n",
        "\n",
        "    def deposit(self, amount):\n",
        "        self.savings += amount\n",
        "        print(f\"{self.name} saved {amount}. Total = {self.savings}\")\n",
        "\n",
        "ali = Muslim(\"Ali\", 12)\n",
        "ali.deposit(10)\n",
        "ali.deposit(5)\n"
      ]
    },
    {
      "cell_type": "markdown",
      "metadata": {},
      "source": [
        "**6.a Mini Change:** Add `spend(self, amount)` that subtracts only if there is enough money, else print `Not enough savings!`. Try it."
      ]
    },
    {
      "cell_type": "code",
      "execution_count": null,
      "metadata": {},
      "outputs": [],
      "source": [
        "# Write your code for the mini change here\n"
      ]
    },
    {
      "cell_type": "markdown",
      "metadata": {},
      "source": [
        "____________"
      ]
    },
    {
      "cell_type": "markdown",
      "metadata": {},
      "source": [
        "## 7. Add logic in a method"
      ]
    },
    {
      "cell_type": "code",
      "execution_count": null,
      "metadata": {},
      "outputs": [],
      "source": [
        "# Example: return True/False from a method\n",
        "class Muslim:\n",
        "    def __init__(self, name, age):\n",
        "        self.name = name\n",
        "        self.age = age\n",
        "\n",
        "    def is_adult(self):\n",
        "        return self.age >= 18\n",
        "\n",
        "mariam = Muslim(\"Mariam\", 14)\n",
        "print(\"Is Mariam an adult?\", mariam.is_adult())\n"
      ]
    },
    {
      "cell_type": "markdown",
      "metadata": {},
      "source": [
        "**7.a Mini Change:** Add `is_child(self)` that returns True if age < 13. Test it."
      ]
    },
    {
      "cell_type": "code",
      "execution_count": null,
      "metadata": {},
      "outputs": [],
      "source": [
        "# Write your code for the mini change here\n"
      ]
    },
    {
      "cell_type": "markdown",
      "metadata": {},
      "source": [
        "____________"
      ]
    },
    {
      "cell_type": "markdown",
      "metadata": {},
      "source": [
        "## 8. Work with many objects (list)"
      ]
    },
    {
      "cell_type": "code",
      "execution_count": null,
      "metadata": {},
      "outputs": [],
      "source": [
        "# Example: loop over a list of objects\n",
        "class Muslim:\n",
        "    def __init__(self, name, age):\n",
        "        self.name = name\n",
        "        self.age = age\n",
        "\n",
        "    def greet(self):\n",
        "        print(f\"Assalamu alaykum, I am {self.name}.\")\n",
        "\n",
        "students = [\n",
        "    Muslim(\"Ali\", 12),\n",
        "    Muslim(\"Aisha\", 11),\n",
        "    Muslim(\"Yusuf\", 9),\n",
        "]\n",
        "\n",
        "for s in students:\n",
        "    s.greet()\n"
      ]
    },
    {
      "cell_type": "markdown",
      "metadata": {},
      "source": [
        "**8.a Mini Change:** Add all students' ages together using a loop and print the total age."
      ]
    },
    {
      "cell_type": "code",
      "execution_count": null,
      "metadata": {},
      "outputs": [],
      "source": [
        "# Write your code for the mini change here\n"
      ]
    },
    {
      "cell_type": "markdown",
      "metadata": {},
      "source": [
        "____________"
      ]
    },
    {
      "cell_type": "markdown",
      "metadata": {},
      "source": [
        "## 9. Mini Project — Masjid Register"
      ]
    },
    {
      "cell_type": "code",
      "execution_count": null,
      "metadata": {},
      "outputs": [],
      "source": [
        "# Example: count visits\n",
        "class Attendee:\n",
        "    def __init__(self, name):\n",
        "        self.name = name\n",
        "        self.visits = 0\n",
        "\n",
        "    def attend(self):\n",
        "        self.visits += 1\n",
        "\n",
        "r1 = Attendee(\"Bilal\")\n",
        "r2 = Attendee(\"Salma\")\n",
        "\n",
        "r1.attend(); \n",
        "r1.attend(); \n",
        "r2.attend()\n",
        "print(r1.name, r1.visits)  # Bilal 2\n",
        "print(r2.name, r2.visits)  # Salma 1\n"
      ]
    },
    {
      "cell_type": "markdown",
      "metadata": {},
      "source": [
        "**9.a Mini Change:** Add a method `reset(self)` that sets `visits` back to 0. Call it and print again."
      ]
    },
    {
      "cell_type": "code",
      "execution_count": null,
      "metadata": {},
      "outputs": [],
      "source": [
        "# Write your code for the mini change here\n"
      ]
    },
    {
      "cell_type": "markdown",
      "metadata": {},
      "source": [
        "___________"
      ]
    },
    {
      "cell_type": "markdown",
      "metadata": {},
      "source": [
        "## 10. Use one class inside another (composition)"
      ]
    },
    {
      "cell_type": "code",
      "execution_count": null,
      "metadata": {},
      "outputs": [],
      "source": [
        "# Example: Wallet used by Muslim\n",
        "class Wallet:\n",
        "    def __init__(self):\n",
        "        self.amount = 0\n",
        "    def put(self, x):\n",
        "        self.amount += x\n",
        "    def take(self, x):\n",
        "        if x <= self.amount:\n",
        "            self.amount -= x\n",
        "            return True\n",
        "        return False\n",
        "\n",
        "class Muslim:\n",
        "    def __init__(self, name):\n",
        "        self.name = name\n",
        "        self.wallet = Wallet()\n",
        "\n",
        "hassan = Muslim(\"Hassan\")\n",
        "hassan.wallet.put(20)\n",
        "print(hassan.name, hassan.wallet.amount)\n"
      ]
    },
    {
      "cell_type": "markdown",
      "metadata": {},
      "source": [
        "**10.a Mini Change:** Add `buy_snack(self, cost)` on Muslim that uses `self.wallet.take(cost)` and prints if the buy worked."
      ]
    },
    {
      "cell_type": "code",
      "execution_count": null,
      "metadata": {},
      "outputs": [],
      "source": [
        "# Write your code for the mini change here\n"
      ]
    },
    {
      "cell_type": "markdown",
      "metadata": {},
      "source": [
        "___________"
      ]
    },
    {
      "cell_type": "markdown",
      "metadata": {},
      "source": [
        "# End of Class — 10 Quizzes (No answers shown)\n",
        "Write your answers in the code cells below each quiz.\n",
        "\n",
        "**1) Predict the output**\n",
        "```python\n",
        "class Muslim:\n",
        "    def __init__(self, name, age=0):\n",
        "        self.name = name\n",
        "        self.age = age\n",
        "m = Muslim(\"Omar\")\n",
        "print(m.name, m.age)\n",
        "```\n",
        "\n",
        "----------\n",
        "\n",
        "**2) Fix the bug**\n",
        "```python\n",
        "class Muslim:\n",
        "    def __init__(self, name, age):\n",
        "        self.name = name\n",
        "        self.age = age\n",
        "    def greet():\n",
        "        print(\"Assalamu alaykum!\")\n",
        "m = Muslim(\"Aisha\", 10)\n",
        "m.greet()\n",
        "```\n",
        "----------\n",
        "\n",
        "**3) Fill in the blank**\n",
        "```python\n",
        "class Muslim:\n",
        "    def __init__(self, name):\n",
        "        self.name = name\n",
        "    def pray(self):\n",
        "        print(___)\n",
        "m = Muslim(\"Ali\")\n",
        "m.pray()\n",
        "```\n",
        "----------\n",
        "\n",
        "**4) Predict the output**\n",
        "```python\n",
        "class A:\n",
        "    def __init__(self):\n",
        "        self.x = 3\n",
        "a = A()\n",
        "a.x = a.x + 2\n",
        "print(a.x)\n",
        "```\n",
        "----------\n",
        "\n",
        "**5) What does it print?**\n",
        "```python\n",
        "class Student:\n",
        "    def __init__(self, name, points=0):\n",
        "        self.name = name\n",
        "        self.points = points\n",
        "    def add(self, p):\n",
        "        self.points += p\n",
        "s = Student(\"Fatima\", 1)\n",
        "s.add(4)\n",
        "print(s.points)\n",
        "```\n",
        "----------\n",
        "**6) Fix the bug**\n",
        "```python\n",
        "class Kid:\n",
        "    def __init__(self, age):\n",
        "        self.age = age\n",
        "    def is_child(self):\n",
        "        if self.age < 13\n",
        "            return True\n",
        "        else:\n",
        "            return False\n",
        "```\n",
        "----------\n",
        "**7) Add a default**\n",
        "```python\n",
        "class Wallet:\n",
        "    def __init__(self, savings):\n",
        "        self.savings = savings\n",
        "w = Wallet()\n",
        "print(w.savings)\n",
        "```\n",
        "----------\n",
        "**8) Predict the output**\n",
        "```python\n",
        "class C:\n",
        "    def __init__(self, n):\n",
        "        self.n = n\n",
        "    def double(self):\n",
        "        self.n = self.n * 2\n",
        "c = C(4)\n",
        "c.double()\n",
        "c.double()\n",
        "print(c.n)\n",
        "```\n",
        "----------\n",
        "**9) Find the mistake**\n",
        "```python\n",
        "class Person:\n",
        "    def __init__(self, name):\n",
        "        name = name\n",
        "p = Person(\"Zaid\")\n",
        "# print the name\n",
        "```\n",
        "----------\n",
        "**10) Write a method**\n",
        "```python\n",
        "class Name:\n",
        "    def __init__(self, first, last):\n",
        "        self.first = first\n",
        "        self.last = last\n",
        "# your method here\n",
        "n = Name(\"Aisha\", \"Khan\")\n",
        "# print full name\n",
        "```\n"
      ]
    },
    {
      "cell_type": "code",
      "execution_count": null,
      "metadata": {},
      "outputs": [],
      "source": [
        "# Try Code here\n"
      ]
    },
    {
      "cell_type": "markdown",
      "metadata": {},
      "source": []
    }
  ],
  "metadata": {
    "colab": {
      "provenance": [],
      "toc_visible": true
    },
    "kernelspec": {
      "display_name": "Python 3",
      "name": "python3"
    },
    "language_info": {
      "codemirror_mode": {
        "name": "ipython",
        "version": 3
      },
      "file_extension": ".py",
      "mimetype": "text/x-python",
      "name": "python",
      "nbconvert_exporter": "python",
      "pygments_lexer": "ipython3",
      "version": "3.9.0"
    }
  },
  "nbformat": 4,
  "nbformat_minor": 0
}
