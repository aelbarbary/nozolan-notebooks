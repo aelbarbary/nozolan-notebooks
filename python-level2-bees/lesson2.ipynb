{
  "cells": [
    {
      "cell_type": "markdown",
      "metadata": {
        "id": "RpKgwf3BEOqR"
      },
      "source": [
        "<div style=\"display: flex; align-items: center;\">\n",
        "  <img src=\"https://school-media.s3.amazonaws.com/school/logo.png\" width=\"50\" style=\"margin-right: 10px;\">\n",
        "  <h1 style=\"margin: 0;\">Lesson 2 - Classes and Objects in Python</h1>\n",
        "</div>\n",
        "\n",
        "## 1- What we have learned So far.\n",
        "In python, **an object** is like a thing that exists in the real world. It has **characteristics** (what it has) and **behaviors** (what it can do).\n",
        "\n",
        "For example, imagine a **Bee** object. It can have characteristics like:\n",
        "- **Wings**: How many wings does it have ?\n",
        "- **Color**: What color is the bee ?\n",
        "- **Name**: What name is the bee ?\n",
        "\n",
        "And the object can do things, such as:\n",
        "- **Buzz**\n",
        "- **Fly**\n",
        "\n",
        "---\n",
        "\n",
        "## 2- Meet the Muslim class\n",
        "\n",
        "Before you can create objects in Python, you first need to create a blueprint. This blueprint is called a class. It defines what the object will look like and what it can do. \"What it looks like\" means the attributes (things like the name or age), and \"what it can do\" means the behaviors or actions.\n",
        "\n",
        "Let's start by creating a simple class for a Muslim. In this class, we will define only two attributes: the name and the age."
      ]
    },
    {
      "cell_type": "code",
      "execution_count": null,
      "metadata": {
        "id": "wNi1p_gQFjfo"
      },
      "outputs": [],
      "source": [
        "class Muslim:\n",
        "    def __init__(self, name, age):\n",
        "        self.name = name\n",
        "        self.age = age"
      ]
    },
    {
      "cell_type": "markdown",
      "metadata": {
        "id": "43PhGafaFmqv"
      },
      "source": [
        "## 3- Creating a Muslim object and accessing its properties\n"
      ]
    },
    {
      "cell_type": "code",
      "execution_count": null,
      "metadata": {
        "colab": {
          "base_uri": "https://localhost:8080/"
        },
        "id": "yjZ6zTJoFwfC",
        "outputId": "4c5042f5-385f-4436-ce0a-504a7fcf546d"
      },
      "outputs": [
        {
          "name": "stdout",
          "output_type": "stream",
          "text": [
            "Ali\n",
            "25\n"
          ]
        }
      ],
      "source": [
        "class Muslim:\n",
        "    def __init__(self, name, age):\n",
        "        self.name = name\n",
        "        self.age = age\n",
        "\n",
        "person1 = Muslim(\"Ali\", 25)\n",
        "\n",
        "print(person1.name)  # Output: Ali\n",
        "print(person1.age)   # Output: 25\n"
      ]
    },
    {
      "cell_type": "markdown",
      "metadata": {
        "id": "ixmIA9vVFz4c"
      },
      "source": [
        "## 4- Coding Challenge\n",
        "\n",
        "Update the Muslim class by adding a new attribute called savings, which will represent the total amount of money saved so far."
      ]
    },
    {
      "cell_type": "markdown",
      "metadata": {
        "id": "HPoIZu4IGMMZ"
      },
      "source": [
        "## 5- The Muslim's Behaviors (Methods)\n",
        "\n",
        "An object can also **do things**. These actions are called **behaviors** or **methods**. A method is like a function that makes the object perform an action.\n",
        "\n",
        "For example, a **Muslim** object can:\n",
        "- **Pray**: A method to represent the action of praying.\n",
        "- **Fast**: A method to represent fasting during Ramadan."
      ]
    },
    {
      "cell_type": "code",
      "execution_count": null,
      "metadata": {
        "colab": {
          "base_uri": "https://localhost:8080/"
        },
        "id": "KOE1_ENgGOXG",
        "outputId": "801d5aa8-e9f4-47cc-dcf4-b00afc2c032a"
      },
      "outputs": [
        {
          "name": "stdout",
          "output_type": "stream",
          "text": [
            "Ali is praying.\n"
          ]
        }
      ],
      "source": [
        "class Muslim:\n",
        "    def __init__(self, name, age):\n",
        "        self.name = name\n",
        "        self.age = age\n",
        "\n",
        "    def pray(self):\n",
        "        print(f\"{self.name} is praying.\")\n",
        "\n",
        "person1 = Muslim(\"Ali\", 25)\n",
        "\n",
        "person1.pray()"
      ]
    },
    {
      "cell_type": "markdown",
      "metadata": {
        "id": "nPHifP3UGQRR"
      },
      "source": [
        "## 6- Coding Challenge\n",
        "\n",
        "\n",
        "Update the Muslim class by adding a new method for fasting during Ramadan. The new method should print a message stating that the person's name is fasting when the method is called.\n"
      ]
    },
    {
      "cell_type": "markdown",
      "metadata": {
        "id": "BS97dHvPGR1v"
      },
      "source": [
        "## 7- Adding a New Attribute for Saving\n",
        "\n",
        "Alright, let's add a new attribute called saving, which will store the total amount of money a Muslim has saved so far. Additionally, we'll create a method called save_money that will allow us to add money to the savings. Note that in the save_money method, every time we add money, we'll update the saving attribute by increasing it with the new amount being saved.\n",
        "\n"
      ]
    },
    {
      "cell_type": "code",
      "execution_count": null,
      "metadata": {
        "colab": {
          "base_uri": "https://localhost:8080/"
        },
        "id": "ZHtfn60qGT4B",
        "outputId": "45ad7517-9ac0-4bf5-f646-6a399b8aa033"
      },
      "outputs": [
        {
          "name": "stdout",
          "output_type": "stream",
          "text": [
            "Ali has saved 100, total saved money is 100\n"
          ]
        }
      ],
      "source": [
        "class Muslim:\n",
        "    def __init__(self, name, age):\n",
        "        self.name = name\n",
        "        self.age = age\n",
        "        self.saving = 0\n",
        "\n",
        "    def pray(self):\n",
        "        print(f\"{self.name} is praying.\")\n",
        "\n",
        "    def fast(self):\n",
        "        print(f\"{self.name} is fasting.\")\n",
        "\n",
        "    def save(self, money):\n",
        "        self.saving = self.saving + money\n",
        "        print(f\"{self.name} has saved {money}, total saved money is {self.saving}\")\n",
        "\n",
        "\n",
        "person1 = Muslim(\"Ali\", 25)\n",
        "person1.save(100)"
      ]
    },
    {
      "cell_type": "markdown",
      "metadata": {
        "id": "vtdBsC2YGVjQ"
      },
      "source": [
        "## 8- Coding challenge: Calculating Zakat\n",
        "\n",
        "Try adding a new method to calculate the amount of money a Muslim needs to pay as Zakat. Zakat is calculated by multiplying 2.5% by the total amount saved over the course of a year. For example, if a Muslim has saved $100 in a year, the Zakat to be paid would be 2.5% of $100, which equals $2.5.\n"
      ]
    },
    {
      "cell_type": "markdown",
      "metadata": {
        "id": "rR20pBWjGXdp"
      },
      "source": [
        "## 9- Calculating Zakat"
      ]
    },
    {
      "cell_type": "code",
      "execution_count": null,
      "metadata": {
        "colab": {
          "base_uri": "https://localhost:8080/"
        },
        "id": "vOIS2nspGZ1R",
        "outputId": "8b69d43d-d585-4519-9984-6d9f857c2cf8"
      },
      "outputs": [
        {
          "name": "stdout",
          "output_type": "stream",
          "text": [
            "Ali has saved 100, total saved money is 100\n",
            "Ali needs to pay $2.5 as Zakat.\n"
          ]
        }
      ],
      "source": [
        "class Muslim:\n",
        "    def __init__(self, name, age):\n",
        "        self.name = name\n",
        "        self.age = age\n",
        "        self.saving = 0\n",
        "\n",
        "    def pray(self):\n",
        "        print(f\"{self.name} is praying.\")\n",
        "\n",
        "    def fast(self):\n",
        "        print(f\"{self.name} is fasting.\")\n",
        "\n",
        "    def save(self, money):\n",
        "        self.saving += money  # Add the money to the savings\n",
        "        print(f\"{self.name} has saved {money}, total saved money is {self.saving}\")\n",
        "\n",
        "    def calculate_zakat(self):\n",
        "        zakat = self.saving * 0.025  # Zakat is 2.5% of the total savings\n",
        "        print(f\"{self.name} needs to pay ${zakat} as Zakat.\")\n",
        "\n",
        "person1 = Muslim(\"Ali\", 25)\n",
        "\n",
        "\n",
        "person1.save(100)  # Ali saves 100\n",
        "person1.calculate_zakat()"
      ]
    },
    {
      "cell_type": "markdown",
      "metadata": {
        "id": "niV-Z5jdGcRp"
      },
      "source": [
        "## 10- Input Validation for the Saved Money Attribute\n",
        "\n",
        "Try calling the save_money function and pass a negative number. Observe the behavior of your application. In this case, the savings amount will become negative, which is not the desired behavior. To fix this, we need to add data validation to check if the amount of money is negative. If it is, the program should print an error message, stating that only positive numbers are allowed for savings.\n"
      ]
    },
    {
      "cell_type": "code",
      "execution_count": null,
      "metadata": {
        "colab": {
          "base_uri": "https://localhost:8080/"
        },
        "id": "l1IpimGLGb_U",
        "outputId": "0ef1a190-0d95-4679-8ba3-277fb00ea9e8"
      },
      "outputs": [
        {
          "name": "stdout",
          "output_type": "stream",
          "text": [
            "Ali has saved 100, total saved money is 100\n",
            "Error: Money must be a positive number only!\n"
          ]
        }
      ],
      "source": [
        "class Muslim:\n",
        "    def __init__(self, name, age):\n",
        "        self.name = name\n",
        "        self.age = age\n",
        "        self.saving = 0\n",
        "\n",
        "    def pray(self):\n",
        "        print(f\"{self.name} is praying.\")\n",
        "\n",
        "    def fast(self):\n",
        "        print(f\"{self.name} is fasting.\")\n",
        "\n",
        "    def save(self, money):\n",
        "        if money < 0:\n",
        "            print(\"Error: Money must be a positive number only!\")\n",
        "        else:\n",
        "            self.saving += money\n",
        "            print(f\"{self.name} has saved {money}, total saved money is {self.saving}\")\n",
        "\n",
        "    def calculate_zakat(self):\n",
        "        zakat = self.saving * 0.025  # Zakat is 2.5% of the total savings\n",
        "        print(f\"{self.name} needs to pay ${zakat} as Zakat.\")\n",
        "\n",
        "person1 = Muslim(\"Ali\", 25)\n",
        "\n",
        "person1.save(100)\n",
        "person1.save(-50)"
      ]
    },
    {
      "cell_type": "code",
      "execution_count": null,
      "metadata": {
        "id": "j9aW6SnbKsfr"
      },
      "outputs": [],
      "source": []
    }
  ],
  "metadata": {
    "colab": {
      "provenance": [],
      "toc_visible": true
    },
    "kernelspec": {
      "display_name": "Python 3",
      "name": "python3"
    }
  },
  "nbformat": 4,
  "nbformat_minor": 0
}
