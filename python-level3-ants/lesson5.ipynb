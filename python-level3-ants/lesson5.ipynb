{
 "cells": [
  {
   "cell_type": "markdown",
   "id": "33631b8a",
   "metadata": {},
   "source": [
    "\n",
    "# Lesson 5 — *My First Mini API & Profile Page*\n",
    "\n",
    "**Goal :** Build a tiny Flask API that returns **your profile** as JSON, then show it on a **simple HTML page**.\n",
    "\n",
    "**What you'll do (small steps):**\n",
    "1. Make your profile in Python (it *looks like* JSON).\n",
    "2. Create a Flask endpoint: `/profile` → sends your profile data.\n",
    "3. Make a tiny web page that shows your profile by calling `/profile`.\n",
    "4. (Bonus) Add a friendly greeting endpoint!\n",
    "\n",
    "> Tip: JSON is just a way to write data. In Python it looks like a **dictionary** (with `{}`).\n"
   ]
  },
  {
   "cell_type": "markdown",
   "id": "6593b668",
   "metadata": {},
   "source": [
    "## 0) Quick Setup"
   ]
  },
  {
   "cell_type": "code",
   "execution_count": null,
   "id": "049fa407",
   "metadata": {},
   "outputs": [],
   "source": [
    "# If Flask is missing, try installing it. (Run once)\n",
    "try:\n",
    "    import flask  # noqa: F401\n",
    "    print(\"✅ Flask is already installed!\")\n",
    "except Exception:\n",
    "    # In some school laptops this might take a minute.\n",
    "    import sys, subprocess\n",
    "    print(\"Installing Flask...\")\n",
    "    subprocess.check_call([sys.executable, \"-m\", \"pip\", \"install\", \"flask\"])\n",
    "    print(\"✅ Flask installed!\")"
   ]
  },
  {
   "cell_type": "markdown",
   "id": "8c8d193d",
   "metadata": {},
   "source": [
    "\n",
    "## 1) Your Profile as Python (looks like JSON)\n",
    "Run this, then change it to be **about you**.\n"
   ]
  },
  {
   "cell_type": "code",
   "execution_count": 1,
   "id": "687593bb",
   "metadata": {},
   "outputs": [
    {
     "name": "stdout",
     "output_type": "stream",
     "text": [
      "My profile data:\n",
      "{'name': 'Fatimah', 'age': 12, 'city': 'Dallas', 'favorite_color': 'blue', 'hobbies': ['drawing', 'coding', 'football']}\n"
     ]
    }
   ],
   "source": [
    "# 👉 EDIT these values to be about YOU\n",
    "my_profile = {\n",
    "    \"name\": \"Fatimah\",          # put your name\n",
    "    \"age\": 12,                  # number (no quotes)\n",
    "    \"city\": \"Dallas\",\n",
    "    \"favorite_color\": \"blue\",\n",
    "    \"hobbies\": [\"drawing\", \"coding\", \"football\"]  # list of words\n",
    "}\n",
    "\n",
    "print(\"My profile data:\")\n",
    "print(my_profile)  # Looks like JSON, right?"
   ]
  },
  {
   "cell_type": "markdown",
   "id": "57e4fbec",
   "metadata": {},
   "source": [
    "\n",
    "### 1.1 Challenge\n",
    "- Change **name**, **age**, and **city** to your info.\n",
    "- Add **one more hobby** to the list.\n",
    "- Add a new key: **\"school\"** with your school name.\n"
   ]
  },
  {
   "cell_type": "markdown",
   "id": "313a02ea",
   "metadata": {},
   "source": [
    "\n",
    "## 2) Make a Flask API that sends your profile\n",
    "We'll create a file called **`app.py`** with one endpoint: **`/profile`**.\n"
   ]
  },
  {
   "cell_type": "code",
   "execution_count": null,
   "id": "12b7a236",
   "metadata": {},
   "outputs": [],
   "source": [
    "from flask import Flask, jsonify, make_response\n",
    "\n",
    "app = Flask(__name__)\n",
    "\n",
    "\n",
    "# === Your profile data (Python dict) ===\n",
    "my_profile = {\n",
    "    \"name\": \"Ziyad\",          # put your name\n",
    "    \"age\": 10,                  # number (no quotes)\n",
    "    \"city\": \"London ontario\",\n",
    "    \"favorite_color\": \"red\",\n",
    "    \"hobbies\": [\"Being anoying\", \"coding\", \"Gameing\"],\n",
    "    \"school\" :\"Stoneybrook\",\n",
    "    \"image\": \"https://www.rd.com/wp-content/uploads/2019/09/GettyImages-621924830-scaled.jpg?fit=700%2C500\"\n",
    "}\n",
    "\n",
    "@app.route(\"/\")\n",
    "def home():\n",
    "    return \"<h2>✅ Server is running! Visit <code>/profile</code> or <code>/customer</code></h2>\"\n",
    "\n",
    "@app.route(\"/profile\")\n",
    "def get_profile():\n",
    "    response = make_response(jsonify(my_profile))\n",
    "    response.headers[\"Access-Control-Allow-Origin\"] = \"*\"\n",
    "    return response\n"
   ]
  },
  {
   "cell_type": "markdown",
   "id": "fb0ae6b7",
   "metadata": {},
   "source": [
    "\n",
    "### 2.1 Challenge\n",
    "- In `app.py`, change **favorite_color** and **hobbies** to match your updated `my_profile`.\n",
    "- Run the server using https://www.pythonanywhere.com/  \n"
   ]
  },
  {
   "cell_type": "markdown",
   "id": "d6b09baf",
   "metadata": {},
   "source": [
    "\n",
    "## 3) Simple HTML page that shows your data\n",
    "This page will **fetch** your profile from `/profile` and display it nicely.\n"
   ]
  },
  {
   "cell_type": "code",
   "execution_count": 21,
   "id": "399cb129",
   "metadata": {},
   "outputs": [
    {
     "data": {
      "text/html": [
       "<!DOCTYPE html>\n",
       "<html lang=\"en\">\n",
       "<head>\n",
       "  <meta charset=\"UTF-8\" />\n",
       "  <meta name=\"viewport\" content=\"width=device-width, initial-scale=1.0\"/>\n",
       "  <title>My Customer Profile</title>\n",
       "  <style>\n",
       "    body { font-family: system-ui, Arial, sans-serif; ; margin: 0; padding: 24px; }\n",
       "    .card {\n",
       "      max-width: 420px; margin: 24px auto; background: white; border: 1px solid #e5e7eb;\n",
       "      border-radius: 16px; padding: 20px; box-shadow: 0 6px 18px rgba(0,0,0,0.06);\n",
       "    }\n",
       "    h1 { font-size: 24px; margin: 0 0 8px; color: black }\n",
       "    h3 {color: #e10098}\n",
       "    .muted { color: #6b7280; margin: 0 0 16px; }\n",
       "    .tag { display: inline-block; padding: 4px 10px; border-radius: 999px; background: #eef2ff; color: #e10098; margin-right: 8px; margin-bottom: 8px; }\n",
       "    .color-dot { display:inline-block; width: 10px; height: 10px; border-radius: 50%; margin-right: 6px; vertical-align: middle; border: 1px solid #ccc; }\n",
       "    .row { display: flex; gap: 12px; align-items: center; }\n",
       "    \n",
       "  </style>\n",
       "</head>\n",
       "<body>\n",
       "  <div class=\"card\">\n",
       "    <div class=\"row\">\n",
       "      <div id=\"colorDot\" class=\"color-dot\"></div>\n",
       "      <h1 id=\"name\">Loading...</h1>\n",
       "    </div>\n",
       "    <p class=\"muted\" id=\"city\">City: ...</p>\n",
       "    <p class=\"muted\" id=\"school\">School: ...</p>\n",
       "    <h3>Hobbies</h3>\n",
       "    <div id=\"hobbyTags\"></div>\n",
       "  </div>\n",
       "\n",
       "  <script>\n",
       "    // Get the profile JSON from our Flask API\n",
       "    fetch('https://aelbarbary.pythonanywhere.com/profile')\n",
       "      .then(r => r.json())\n",
       "      .then(data => {\n",
       "        document.getElementById('name').textContent = data.name || 'Unknown';\n",
       "        document.getElementById('city').textContent = 'City: ' + (data.city || '—');\n",
       "        document.getElementById('school').textContent = 'School: ' + (data.school || '—');\n",
       "\n",
       "        // Show hobbies as cute tags\n",
       "        const tags = document.getElementById('hobbyTags');\n",
       "        tags.innerHTML = '';\n",
       "        (data.hobbies || []).forEach(h => {\n",
       "          const span = document.createElement('span');\n",
       "          span.className = 'tag';\n",
       "          span.textContent = h;\n",
       "          tags.appendChild(span);\n",
       "        });\n",
       "\n",
       "        // Show favorite color as a dot\n",
       "        const dot = document.getElementById('colorDot');\n",
       "        if (data.favorite_color) dot.style.background = data.favorite_color;\n",
       "      })\n",
       "      .catch(err => {\n",
       "        document.getElementById('name').textContent = err;\n",
       "        console.error(err);\n",
       "      });\n",
       "  </script>\n",
       "</body>\n",
       "</html>\n"
      ],
      "text/plain": [
       "<IPython.core.display.HTML object>"
      ]
     },
     "metadata": {},
     "output_type": "display_data"
    }
   ],
   "source": [
    "%%html\n",
    "<!DOCTYPE html>\n",
    "<html lang=\"en\">\n",
    "<head>\n",
    "  <meta charset=\"UTF-8\" />\n",
    "  <meta name=\"viewport\" content=\"width=device-width, initial-scale=1.0\"/>\n",
    "  <title>My Customer Profile</title>\n",
    "  <style>\n",
    "    body { font-family: system-ui, Arial, sans-serif; ; margin: 0; padding: 24px; }\n",
    "    .card {\n",
    "      max-width: 420px; margin: 24px auto; background: white; border: 1px solid #e5e7eb;\n",
    "      border-radius: 16px; padding: 20px; box-shadow: 0 6px 18px rgba(0,0,0,0.06);\n",
    "    }\n",
    "    h1 { font-size: 24px; margin: 0 0 8px; color: black }\n",
    "    h3 {color: #e10098}\n",
    "    .muted { color: #6b7280; margin: 0 0 16px; }\n",
    "    .tag { display: inline-block; padding: 4px 10px; border-radius: 999px; background: #eef2ff; color: #e10098; margin-right: 8px; margin-bottom: 8px; }\n",
    "    .color-dot { display:inline-block; width: 10px; height: 10px; border-radius: 50%; margin-right: 6px; vertical-align: middle; border: 1px solid #ccc; }\n",
    "    .row { display: flex; gap: 12px; align-items: center; }\n",
    "    \n",
    "  </style>\n",
    "</head>\n",
    "<body>\n",
    "  <div class=\"card\">\n",
    "    <div class=\"row\">\n",
    "      <div id=\"colorDot\" class=\"color-dot\"></div>\n",
    "      <h1 id=\"name\">Loading...</h1>\n",
    "    </div>\n",
    "    <p class=\"muted\" id=\"city\">City: ...</p>\n",
    "    <p class=\"muted\" id=\"school\">School: ...</p>\n",
    "    <h3>Hobbies</h3>\n",
    "    <div id=\"hobbyTags\"></div>\n",
    "  </div>\n",
    "\n",
    "  <script>\n",
    "    // Get the profile JSON from our Flask API\n",
    "    fetch('https://aelbarbary.pythonanywhere.com/profile')\n",
    "      .then(r => r.json())\n",
    "      .then(data => {\n",
    "        document.getElementById('name').textContent = data.name || 'Unknown';\n",
    "        document.getElementById('city').textContent = 'City: ' + (data.city || '—');\n",
    "        document.getElementById('school').textContent = 'School: ' + (data.school || '—');\n",
    "\n",
    "        // Show hobbies as cute tags\n",
    "        const tags = document.getElementById('hobbyTags');\n",
    "        tags.innerHTML = '';\n",
    "        (data.hobbies || []).forEach(h => {\n",
    "          const span = document.createElement('span');\n",
    "          span.className = 'tag';\n",
    "          span.textContent = h;\n",
    "          tags.appendChild(span);\n",
    "        });\n",
    "\n",
    "        // Show favorite color as a dot\n",
    "        const dot = document.getElementById('colorDot');\n",
    "        if (data.favorite_color) dot.style.background = data.favorite_color;\n",
    "      })\n",
    "      .catch(err => {\n",
    "        document.getElementById('name').textContent = err;\n",
    "        console.error(err);\n",
    "      });\n",
    "  </script>\n",
    "</body>\n",
    "</html>"
   ]
  },
  {
   "cell_type": "markdown",
   "id": "93f5628a",
   "metadata": {},
   "source": [
    "\n",
    "### 3.1 Challenge\n",
    "- Show **favorite_color** as text under the name (e.g., \"Favorite color: green\").\n",
    "- Add **one more field** to your page (like `school` or `age`). Style it a little!\n"
   ]
  },
  {
   "cell_type": "markdown",
   "id": "140c7481",
   "metadata": {},
   "source": [
    "\n",
    "## 📝 End-of-Class Quiz (5 quick questions)\n",
    "1. **Predict**: What does the `/profile` endpoint send back: HTML, JSON, or a picture?\n",
    "2. **Find & fix**: In a Python dict, is this okay? `{\"name\": \"Omar\" \"age\": 11}` (If not, fix it!)\n",
    "3. **Fill the blank**: To send JSON in Flask we return `_____(my_data)`.\n",
    "4. **True/False**: JSON and Python dicts look very similar.\n",
    "5. **Mini code**: Add a new key `\"school\": \"BHA\"` to the `profile` dict in `app.py`. Where should it go?\n"
   ]
  },
  {
   "cell_type": "code",
   "execution_count": null,
   "id": "92c3628b",
   "metadata": {},
   "outputs": [],
   "source": []
  }
 ],
 "metadata": {
  "kernelspec": {
   "display_name": "Python 3",
   "language": "python",
   "name": "python3"
  },
  "language_info": {
   "codemirror_mode": {
    "name": "ipython",
    "version": 3
   },
   "file_extension": ".py",
   "mimetype": "text/x-python",
   "name": "python",
   "nbconvert_exporter": "python",
   "pygments_lexer": "ipython3",
   "version": "3.9.0"
  }
 },
 "nbformat": 4,
 "nbformat_minor": 5
}
