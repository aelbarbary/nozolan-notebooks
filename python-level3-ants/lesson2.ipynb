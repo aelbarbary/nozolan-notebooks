{
 "cells": [
  {
   "cell_type": "markdown",
   "id": "bd03f8c3-a4e3-4050-b502-2f43d0c74d2a",
   "metadata": {},
   "source": [
    "# Ants — Lesson 2: CSS (Part 1)"
   ]
  },
  {
   "cell_type": "markdown",
   "id": "4c2d8bc4-c0be-43e6-8612-acd2753a8f7a",
   "metadata": {},
   "source": [
    "**Format**\n",
    "- **1. Learn** a tiny concept.\n",
    "- **1.1 Challenge**: tweak/add something to it.\n",
    "- Repeat for a few concepts, then **Quiz** and **Homework**."
   ]
  },
  {
   "cell_type": "markdown",
   "id": "30278238-a16c-489e-8db1-623046a2e9b6",
   "metadata": {},
   "source": [
    "## 1. Learn: Inline CSS (change an `<h1>` color)"
   ]
  },
  {
   "cell_type": "code",
   "execution_count": null,
   "id": "2d857655-85d8-4d37-a74f-9adc5fa73082",
   "metadata": {},
   "outputs": [],
   "source": [
    "%%html\n",
    "<!-- Inline CSS edits the element right in the tag -->\n",
    "<h1 style=\"color:red;\">Welcome!</h1>\n"
   ]
  },
  {
   "cell_type": "markdown",
   "id": "205434a1-3c01-4f26-bbd6-274fed1c2d2e",
   "metadata": {},
   "source": [
    "### 1.1 Challenge\n",
    "Change the `<h1>` **color to green** and **font-size to 36px**."
   ]
  },
  {
   "cell_type": "code",
   "execution_count": null,
   "id": "7a96d4e9-e5f1-4cff-bf6d-ece445412354",
   "metadata": {},
   "outputs": [],
   "source": [
    "%%html\n",
    "<h1 style=\"color: red; font-size: 24px;\">Edit me 👇</h1>\n",
    "<!-- Make it green and 36px -->\n"
   ]
  },
  {
   "cell_type": "markdown",
   "id": "fa179c5d-ccca-4fa9-ab71-6d19f49b27b8",
   "metadata": {},
   "source": [
    "## 2. Learn: Internal CSS (`<style>` in the same page)"
   ]
  },
  {
   "cell_type": "code",
   "execution_count": null,
   "id": "ff4739d2-d730-410e-83d5-93fc1d535afb",
   "metadata": {},
   "outputs": [],
   "source": [
    "%%html\n",
    "<html>\n",
    "<head>\n",
    "  <style>\n",
    "    p { background-color: lightyellow; }\n",
    "  </style>\n",
    "</head>\n",
    "<body>\n",
    "  <h1>Our Site</h1>\n",
    "  <p>Sharing blessings with the world.</p>\n",
    "</body>\n",
    "</html>\n"
   ]
  },
  {
   "cell_type": "markdown",
   "id": "3072b42b-8f48-4a4b-bc5d-c9528ce94317",
   "metadata": {},
   "source": [
    "### 2.1 Challenge\n",
    "Add a rule that gives `<h1>` a **lightblue** background and a **2px solid blue** border."
   ]
  },
  {
   "cell_type": "code",
   "execution_count": null,
   "id": "7c3bcf75-b633-42c8-92d7-9c31d1811154",
   "metadata": {},
   "outputs": [],
   "source": [
    "%%html\n",
    "<html>\n",
    "<head>\n",
    "  <style>\n",
    "    /* Add your h1 rule here */\n",
    "  </style>\n",
    "</head>\n",
    "<body>\n",
    "  <h1>Style me</h1>\n",
    "  <p>Keep the paragraph readable.</p>\n",
    "</body>\n",
    "</html>\n"
   ]
  },
  {
   "cell_type": "markdown",
   "id": "7525cd00-6f69-46c7-a110-da516f3dce08",
   "metadata": {},
   "source": [
    "## 3. Learn: Selectors (tag, `.class`, `#id`)"
   ]
  },
  {
   "cell_type": "code",
   "execution_count": null,
   "id": "30f6db50-c74e-406a-ab19-01a36f49f685",
   "metadata": {},
   "outputs": [],
   "source": [
    "%%html\n",
    "<html>\n",
    "<head>\n",
    "  <style>\n",
    "    h4 { color: green; }          /* tag selector */\n",
    "    .highlight { color: blue; }   /* class selector */\n",
    "    #unique { font-weight: bold; background: violet; } /* id selector */\n",
    "  </style>\n",
    "</head>\n",
    "<body>\n",
    "  <h4>Tag selector example</h4>\n",
    "  <p class=\"highlight\">Class selector example</p>\n",
    "  <p id=\"unique\">ID selector example</p>\n",
    "</body>\n",
    "</html>\n"
   ]
  },
  {
   "cell_type": "markdown",
   "id": "db19b51c-95f8-4001-b936-935ec620b1fb",
   "metadata": {},
   "source": [
    "### 3.1 Challenge\n",
    "Create **three** `<p>` tags: one plain, one with `class=\"note\"`, one with `id=\"vip\"`.\n",
    "- Make `.note` **darkorange**.\n",
    "- Make `#vip` **bold** with **lightgray** background."
   ]
  },
  {
   "cell_type": "code",
   "execution_count": null,
   "id": "56be2226-b900-47dc-83a8-a7a85a71d9f3",
   "metadata": {},
   "outputs": [],
   "source": [
    "%%html\n",
    "<html>\n",
    "<head>\n",
    "  <style>\n",
    "    /* Write .note and #vip styles */\n",
    "  </style>\n",
    "</head>\n",
    "<body>\n",
    "  <!-- Add your three paragraphs here -->\n",
    "</body>\n",
    "</html>\n"
   ]
  },
  {
   "cell_type": "markdown",
   "id": "bc0c7673-7d26-4fab-912c-376954987943",
   "metadata": {},
   "source": [
    "## 4. Learn: Text styling (size, align, weight, transform)"
   ]
  },
  {
   "cell_type": "code",
   "execution_count": null,
   "id": "ac0bbe19-bda3-4cb8-962d-839f225b41c9",
   "metadata": {},
   "outputs": [],
   "source": [
    "%%html\n",
    "<html>\n",
    "<head>\n",
    "  <style>\n",
    "    h3 {\n",
    "      color: darkblue;\n",
    "      font-size: 28px;\n",
    "      text-align: center;\n",
    "      font-weight: bold;\n",
    "      text-transform: uppercase;\n",
    "    }\n",
    "  </style>\n",
    "</head>\n",
    "<body>\n",
    "  <h3>Good words are charity</h3>\n",
    "</body>\n",
    "</html>\n"
   ]
  },
  {
   "cell_type": "markdown",
   "id": "3a1b0c40-e3da-4fa3-aa17-0910d37f8c00",
   "metadata": {},
   "source": [
    "### 4.1 Challenge\n",
    "Style the `<h3>` below to be **purple**, **24px**, and **left-aligned**."
   ]
  },
  {
   "cell_type": "code",
   "execution_count": null,
   "id": "f7cf39e3-a29a-4b41-9879-5ac15a4b1c20",
   "metadata": {},
   "outputs": [],
   "source": [
    "%%html\n",
    "<html>\n",
    "<head>\n",
    "  <style>\n",
    "    /* Style h3 here */\n",
    "  </style>\n",
    "</head>\n",
    "<body>\n",
    "  <h3>Make me pretty</h3>\n",
    "</body>\n",
    "</html>\n"
   ]
  },
  {
   "cell_type": "markdown",
   "id": "8923a170-584a-426a-aae3-4a760000b9b6",
   "metadata": {},
   "source": [
    "## 5. Learn: Box model (padding, margin, border, radius)"
   ]
  },
  {
   "cell_type": "code",
   "execution_count": null,
   "id": "20a30778-6007-4623-a49a-e41b98bfb737",
   "metadata": {},
   "outputs": [],
   "source": [
    "%%html\n",
    "<html>\n",
    "<head>\n",
    "  <style>\n",
    "    .card {\n",
    "      width: 300px;\n",
    "      padding: 16px;\n",
    "      margin: 16px auto;\n",
    "      border: 2px solid steelblue;\n",
    "      border-radius: 12px;\n",
    "      text-align: center;\n",
    "      background: #eef6ff;\n",
    "    }\n",
    "  </style>\n",
    "</head>\n",
    "<body>\n",
    "  <div class=\"card\">\n",
    "    <h2>The Strong One</h2>\n",
    "    <p>The strong one controls himself while angry.</p>\n",
    "  </div>\n",
    "</body>\n",
    "</html>\n"
   ]
  },
  {
   "cell_type": "markdown",
   "id": "28b546fa-9e71-429d-8ab5-66688d935f15",
   "metadata": {},
   "source": [
    "### 5.1 Challenge\n",
    "Create a `<div class=\"box\">...</div>` and give it **20px padding**, **centered** with margin, and **rounded corners**."
   ]
  },
  {
   "cell_type": "code",
   "execution_count": null,
   "id": "d6d7c541-d15f-4b78-bd8d-096d195ccff1",
   "metadata": {},
   "outputs": [],
   "source": [
    "%%html\n",
    "<html>\n",
    "<head>\n",
    "  <style>\n",
    "    /* Write .box styles */\n",
    "  </style>\n",
    "</head>\n",
    "<body>\n",
    "  <div class=\"box\">\n",
    "    <h2>Your Title</h2>\n",
    "    <p>Your message here.</p>\n",
    "  </div>\n",
    "</body>\n",
    "</html>\n"
   ]
  },
  {
   "cell_type": "markdown",
   "id": "152be6a9-c41e-4993-af72-ca780d8debd3",
   "metadata": {},
   "source": [
    "## Quiz\n",
    "Fix or predict. Write your answer in a comment at the top of each cell."
   ]
  },
  {
   "cell_type": "code",
   "execution_count": 3,
   "id": "883e6a88-2d77-432f-9f49-469a521973a3",
   "metadata": {},
   "outputs": [
    {
     "data": {
      "text/html": [
       "<!-- Q1: FIX the property name so the text becomes red -->\n",
       "<h2 style=\"colour:red\">Hello</h2>\n"
      ],
      "text/plain": [
       "<IPython.core.display.HTML object>"
      ]
     },
     "metadata": {},
     "output_type": "display_data"
    }
   ],
   "source": [
    "%%html\n",
    "<!-- Q1: FIX the property name so the text becomes red -->\n",
    "<h2 style=\"colour:red\">Hello</h2>\n"
   ]
  },
  {
   "cell_type": "code",
   "execution_count": 5,
   "id": "28b5f05f-e573-45c7-96c1-95993733618e",
   "metadata": {},
   "outputs": [
    {
     "data": {
      "text/html": [
       "<!-- Q2: What color will this paragraph be? (blue, green, or purple) -->\n",
       "<!-- Answer first, then run to check. -->\n",
       "<html>\n",
       "<head>\n",
       "  <style>\n",
       "    p { color: green; }\n",
       "    .note { color: blue; }\n",
       "\n",
       "  </style>\n",
       "</head>\n",
       "<body>\n",
       "  <p id=\"p1\" class=\"note\">Color me?</p>\n",
       "</body>\n",
       "</html>\n"
      ],
      "text/plain": [
       "<IPython.core.display.HTML object>"
      ]
     },
     "metadata": {},
     "output_type": "display_data"
    }
   ],
   "source": [
    "%%html\n",
    "<!-- Q2: What color will this paragraph be? (blue, green, or purple) -->\n",
    "<!-- Answer first, then run to check. -->\n",
    "<html>\n",
    "<head>\n",
    "  <style>\n",
    "    p { color: green; }\n",
    "    .note { color: blue; }\n",
    "    #p1 { color: purple; }\n",
    "  </style>\n",
    "</head>\n",
    "<body>\n",
    "  <p id=\"p1\" class=\"note\">Color me?</p>\n",
    "</body>\n",
    "</html>\n"
   ]
  },
  {
   "cell_type": "code",
   "execution_count": 7,
   "id": "f923427f-49dd-4ab5-b484-3f2d7bdc32e9",
   "metadata": {},
   "outputs": [
    {
     "data": {
      "text/html": [
       "<!-- Q3: Add the missing semicolon so both rules work -->\n",
       "<h3 style=\"color:orange font-weight:bold\">Semicolons matter</h3>\n"
      ],
      "text/plain": [
       "<IPython.core.display.HTML object>"
      ]
     },
     "metadata": {},
     "output_type": "display_data"
    }
   ],
   "source": [
    "%%html\n",
    "<!-- Q3: Add the missing semicolon so both rules work -->\n",
    "<h3 style=\"color:orange font-weight:bold\">Semicolons matter</h3>\n"
   ]
  },
  {
   "cell_type": "code",
   "execution_count": 8,
   "id": "28cb89c2-b2ca-4944-b779-81c41b4837e7",
   "metadata": {},
   "outputs": [
    {
     "data": {
      "text/html": [
       "<!-- Q4: This box has width:200px and padding:20px. Is the content box 200px or total box 200px? Explain. -->\n",
       "<html><head><style>\n",
       ".card { width:200px; padding:20px; border:0; background:#eee; }\n",
       "</style></head>\n",
       "<body><div class=\"card\">Box model question</div></body></html>\n"
      ],
      "text/plain": [
       "<IPython.core.display.HTML object>"
      ]
     },
     "metadata": {},
     "output_type": "display_data"
    }
   ],
   "source": [
    "%%html\n",
    "<!-- Q4: This box has width:200px and padding:20px. Is the content box 200px or total box 200px? Explain. -->\n",
    "<html><head><style>\n",
    ".card { width:200px; padding:20px; border:0; background:#eee; }\n",
    "</style></head>\n",
    "<body><div class=\"card\">Box model question</div></body></html>\n"
   ]
  },
  {
   "cell_type": "code",
   "execution_count": null,
   "id": "338e70e3-e8ce-4b6b-8dcd-9aa88ae1b228",
   "metadata": {},
   "outputs": [],
   "source": [
    "%%html\n",
    "<!-- Q5: Make only the paragraph inside the div blue. Fix the selector. -->\n",
    "<html><head><style>\n",
    "div, p { color: blue; }  /* wrong */\n",
    "</style></head>\n",
    "<body>\n",
    "  <div><p>Only this should be blue</p></div>\n",
    "  <p>This should NOT be blue</p>\n",
    "</body></html>\n"
   ]
  },
  {
   "cell_type": "code",
   "execution_count": 10,
   "id": "a5d1ee89-27db-472d-ad3a-91f3fdc59802",
   "metadata": {},
   "outputs": [
    {
     "data": {
      "text/html": [
       "<!-- Q6: What happens when you hover the mouse over the paragraph? Describe. -->\n",
       "<html><head><style>\n",
       "p:hover { border: 1px solid black; background: lightgray; }\n",
       "</style></head>\n",
       "<body><p>Hover me</p></body></html>\n"
      ],
      "text/plain": [
       "<IPython.core.display.HTML object>"
      ]
     },
     "metadata": {},
     "output_type": "display_data"
    }
   ],
   "source": [
    "%%html\n",
    "<!-- Q6: What happens when you hover the mouse over the paragraph? Describe. -->\n",
    "<html><head><style>\n",
    "p:hover { border: 1px solid black; background: lightgray; }\n",
    "</style></head>\n",
    "<body><p>Hover me</p></body></html>\n"
   ]
  },
  {
   "cell_type": "code",
   "execution_count": null,
   "id": "1223e554-7f30-49c4-9ecb-ded6da7e122e",
   "metadata": {},
   "outputs": [],
   "source": [
    "%%html\n",
    "<!-- Q7: Fix this CSS. You cannot nest like this in plain CSS. -->\n",
    "<html><head><style>\n",
    "div {\n",
    "  p { color: red; }  /* invalid in plain CSS */\n",
    "}\n",
    "</style></head>\n",
    "<body>\n",
    "  <div><p>Make me red</p></div>\n",
    "</body></html>"
   ]
  },
  {
   "cell_type": "code",
   "execution_count": null,
   "id": "96f2a6ed-e8f5-4430-bbc8-735c548d3009",
   "metadata": {},
   "outputs": [],
   "source": [
    "%%html\n",
    "<!-- Q8: What color is the h1? Explain (specificity/order). -->\n",
    "<html><head><style>\n",
    "h1 { color: green; }\n",
    "#title { color: orange; }\n",
    "</style></head>\n",
    "<body><h1 id=\"title\">Title</h1></body></html>\n"
   ]
  },
  {
   "cell_type": "markdown",
   "id": "d9e0c545-7c9b-47d3-807b-eb8345858650",
   "metadata": {},
   "source": [
    "## Homework\n",
    "\n",
    "You have been given a list of five famous sayings about Allah from the Qur’an:\n",
    "- Theme it: Use internal CSS to pick a color palette and font that matches the meaning (peaceful, calm, elegant).\n",
    "- Highlight: Make each verse stand out differently — try different background colors, borders, or fonts for each `<li>`.\n",
    "- Decorate heading: Style the `<h2>` with a border, padding, and text-shadow.\n",
    "- Add a card effect: Put the whole list inside a .card with rounded corners, shadow, and padding.\n",
    "- Hover magic: When you hover over a verse, change its background or add a glow effect.\n",
    "- Bonus: Add an Arabic calligraphy image or pattern in the background (faint) for beauty."
   ]
  },
  {
   "cell_type": "code",
   "execution_count": 12,
   "id": "0509d325",
   "metadata": {},
   "outputs": [
    {
     "data": {
      "text/html": [
       "<h2>Five Famous Sayings about Allah in the Qur'an</h2>\n",
       "<ul>\n",
       "  <li>Indeed, Allah is with the patient. (2:153)</li>\n",
       "  <li>Indeed, Allah loves those who rely upon Him. (3:159)</li>\n",
       "  <li>Indeed, Allah forgives all sins. (39:53)</li>\n",
       "  <li>Indeed, Allah is Knowing of all things. (2:282)</li>\n",
       "  <li>Indeed, Allah is the best of planners. (8:30)</li>\n",
       "</ul>\n"
      ],
      "text/plain": [
       "<IPython.core.display.HTML object>"
      ]
     },
     "metadata": {},
     "output_type": "display_data"
    }
   ],
   "source": [
    "%%html\n",
    "<h2>Five Famous Sayings about Allah in the Qur'an</h2>\n",
    "<ul>\n",
    "  <li>Indeed, Allah is with the patient. (2:153)</li>\n",
    "  <li>Indeed, Allah loves those who rely upon Him. (3:159)</li>\n",
    "  <li>Indeed, Allah forgives all sins. (39:53)</li>\n",
    "  <li>Indeed, Allah is Knowing of all things. (2:282)</li>\n",
    "  <li>Indeed, Allah is the best of planners. (8:30)</li>\n",
    "</ul>"
   ]
  }
 ],
 "metadata": {
  "kernelspec": {
   "display_name": "Python 3",
   "language": "python",
   "name": "python3"
  },
  "language_info": {
   "codemirror_mode": {
    "name": "ipython",
    "version": 3
   },
   "file_extension": ".py",
   "mimetype": "text/x-python",
   "name": "python",
   "nbconvert_exporter": "python",
   "pygments_lexer": "ipython3",
   "version": "3.9.0"
  }
 },
 "nbformat": 4,
 "nbformat_minor": 5
}
