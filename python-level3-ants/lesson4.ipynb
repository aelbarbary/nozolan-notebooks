{
 "cells": [
  {
   "cell_type": "markdown",
   "id": "20c3c239",
   "metadata": {},
   "source": [
    "\n",
    "# Ants — Lesson4: Flask Only\n",
    "\n",
    "\n",
    "Goal: Create a tiny API using Flask on PythonAnywhere.  \n",
    "We will add endpoints in small steps and later use Python's `random` to return fun random results.\n"
   ]
  },
  {
   "cell_type": "markdown",
   "id": "f27acb94",
   "metadata": {},
   "source": [
    "\n",
    "## 1 — Create a Flask web app on PythonAnywhere\n",
    "\n",
    "1) Sign in to pythonanywhere.com  \n",
    "2) Go to the Web tab → Add a new web app  \n",
    "3) Choose Flask → pick the latest Python version  \n",
    "4) PythonAnywhere creates and hosts a sample app at:  \n",
    "   `https://YOUR_USERNAME.pythonanywhere.com`  \n",
    "5) Go to the Files tab. In the `mysite` folder you will see `flask_app.py` (or similar). We will edit it.\n",
    "_______\n"
   ]
  },
  {
   "cell_type": "markdown",
   "id": "40718347",
   "metadata": {},
   "source": [
    "\n",
    "## 2 — Replace the sample with a simple app\n",
    "\n",
    "Open `flask_app.py` in the Files tab and replace its content with this code:\n"
   ]
  },
  {
   "cell_type": "code",
   "execution_count": null,
   "id": "cb6e65db",
   "metadata": {},
   "outputs": [],
   "source": [
    "\n",
    "from flask import Flask, jsonify, request\n",
    "\n",
    "app = Flask(__name__)\n",
    "\n",
    "@app.route(\"/\")\n",
    "def home():\n",
    "    return \"Nozolan Flask app is running\"\n"
   ]
  },
  {
   "cell_type": "markdown",
   "id": "b12fb460",
   "metadata": {},
   "source": [
    "\n",
    "Reload your site on the Web tab, then visit your URL.  \n",
    "You should see: `Nozolan Flask app is running`.\n",
    "______"
   ]
  },
  {
   "cell_type": "markdown",
   "id": "299f79bf",
   "metadata": {},
   "source": [
    "\n",
    "## 3. Add a salam endpoint with an optional name\n",
    "\n",
    "Edit `flask_app.py` and add this below the `/salam` route:\n"
   ]
  },
  {
   "cell_type": "code",
   "execution_count": 4,
   "id": "4900bdad",
   "metadata": {},
   "outputs": [],
   "source": [
    "from flask import Flask, request\n",
    "\n",
    "app = Flask(__name__)\n",
    "\n",
    "@app.route(\"/salam\")\n",
    "def salam():\n",
    "    # Example: /salam or /salam?name=Fatima \n",
    "    name = request.args.get(\"name\", \"\").strip()\n",
    "    if name:\n",
    "        return f\"Assalamu alaykum, {name}!\"\n",
    "    return \"Assalamu alaykum!\"\n"
   ]
  },
  {
   "cell_type": "markdown",
   "id": "311ff5fc",
   "metadata": {},
   "source": [
    "\n",
    "Reload and test:  \n",
    "- `https://YOUR_USERNAME.pythonanywhere.com/salam` \n",
    "- `https://YOUR_USERNAME.pythonanywhere.com/salam?name=Fatima`\n"
   ]
  },
  {
   "cell_type": "markdown",
   "id": "8d51b494",
   "metadata": {},
   "source": [
    "\n",
    "### 3.1 Coding Challenge\n",
    "Change the default hello to **\"Peace be upon you!\"** when no name is given.\n",
    "\n",
    "______"
   ]
  },
  {
   "cell_type": "markdown",
   "id": "d3d37421",
   "metadata": {},
   "source": [
    "\n",
    "## 4. Add a simple colors endpoint\n",
    "\n",
    "Add this below your hello route:\n"
   ]
  },
  {
   "cell_type": "code",
   "execution_count": null,
   "id": "33c77559",
   "metadata": {},
   "outputs": [],
   "source": [
    "from flask import Flask, request\n",
    "\n",
    "app = Flask(__name__)\n",
    "\n",
    "@app.route(\"/color\")\n",
    "def color():\n",
    "    # Fixed color for now\n",
    "    return \"blue\"\n"
   ]
  },
  {
   "cell_type": "markdown",
   "id": "0de08776",
   "metadata": {},
   "source": [
    "\n",
    "Reload and test:  \n",
    "- `https://YOUR_USERNAME.pythonanywhere.com/color`\n"
   ]
  },
  {
   "cell_type": "markdown",
   "id": "227b6b36",
   "metadata": {},
   "source": [
    "\n",
    "### 4.1 Mini‑Challenge\n",
    "Change the color to your favorite color. \n"
   ]
  },
  {
   "cell_type": "markdown",
   "id": "c50a93cd",
   "metadata": {},
   "source": [
    "______\n",
    "## 5. Introduce randomness\n",
    "\n",
    "Now let's use Python's `random` to return a random color each time.\n"
   ]
  },
  {
   "cell_type": "code",
   "execution_count": null,
   "id": "5e3c820e",
   "metadata": {},
   "outputs": [],
   "source": [
    "from flask import Flask, request\n",
    "import random\n",
    "\n",
    "app = Flask(__name__)\n",
    "@app.route(\"/color\")\n",
    "def color():\n",
    "    colors = [\"red\", \"green\", \"blue\", \"yellow\", \"purple\", \"orange\"]\n",
    "    return random.choice(colors)\n"
   ]
  },
  {
   "cell_type": "markdown",
   "id": "e402240c",
   "metadata": {},
   "source": [
    "\n",
    "Reload and try:  \n",
    "- `https://YOUR_USERNAME.pythonanywhere.com/color` (refresh a few times!)\n"
   ]
  },
  {
   "cell_type": "markdown",
   "id": "845bdd8c",
   "metadata": {},
   "source": [
    "\n",
    "### 5.1 Mini‑Challenge D\n",
    "- Add two more colors to the list.  \n",
    "- Create a new endpoint `/number-random` that returns a random number from 1 to 10.\n",
    "______"
   ]
  },
  {
   "cell_type": "markdown",
   "id": "c0c2a526",
   "metadata": {},
   "source": [
    "\n",
    "## 6. (Optional) Add one more custom endpoint\n",
    "\n",
    "Example: `/square?n=5` → returns `25`\n"
   ]
  },
  {
   "cell_type": "code",
   "execution_count": null,
   "id": "55883854",
   "metadata": {},
   "outputs": [],
   "source": [
    "\n",
    "@app.route(\"/square\")\n",
    "def square():\n",
    "    n = int(request.args.get(\"n\", \"0\"))\n",
    "    return str(n*n)\n"
   ]
  },
  {
   "cell_type": "markdown",
   "id": "bfc931dd",
   "metadata": {},
   "source": [
    "\n",
    "### 6.1 Mini‑Challenge\n",
    "- Change it to also return `\"cube\": n**3`.  \n",
    "- Add a new endpoint `/even-or-odd?n=7` that returns whether the number is even or odd.\n",
    "\n",
    "_______"
   ]
  }
 ],
 "metadata": {
  "kernelspec": {
   "display_name": "Python 3",
   "language": "python",
   "name": "python3"
  },
  "language_info": {
   "codemirror_mode": {
    "name": "ipython",
    "version": 3
   },
   "file_extension": ".py",
   "mimetype": "text/x-python",
   "name": "python",
   "nbconvert_exporter": "python",
   "pygments_lexer": "ipython3",
   "version": "3.9.0"
  }
 },
 "nbformat": 4,
 "nbformat_minor": 5
}
