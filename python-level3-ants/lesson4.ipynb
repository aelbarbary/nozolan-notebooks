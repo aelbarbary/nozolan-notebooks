{
 "cells": [
  {
   "cell_type": "markdown",
   "id": "20c3c239",
   "metadata": {},
   "source": [
    "\n",
    "# Ants — Lesson4: Flask Only\n",
    "\n",
    "Age: 9–14  \n",
    "Goal: Create a tiny API using Flask on PythonAnywhere.  \n",
    "We will add endpoints in small steps and later use Python's `random` to return fun random results.\n"
   ]
  },
  {
   "cell_type": "markdown",
   "id": "f27acb94",
   "metadata": {},
   "source": [
    "\n",
    "## Step 0 — Create a Flask web app on PythonAnywhere\n",
    "\n",
    "1) Sign in to pythonanywhere.com  \n",
    "2) Go to the Web tab → Add a new web app  \n",
    "3) Choose Flask → pick the latest Python version  \n",
    "4) PythonAnywhere creates and hosts a sample app at:  \n",
    "   `https://YOUR_USERNAME.pythonanywhere.com`  \n",
    "5) Go to the Files tab. In the `mysite` folder you will see `flask_app.py` (or similar). We will edit it.\n"
   ]
  },
  {
   "cell_type": "markdown",
   "id": "40718347",
   "metadata": {},
   "source": [
    "\n",
    "## Step 1 — Replace the sample with a simple app\n",
    "\n",
    "Open `flask_app.py` in the Files tab and replace its content with this code:\n"
   ]
  },
  {
   "cell_type": "code",
   "execution_count": null,
   "id": "cb6e65db",
   "metadata": {},
   "outputs": [
    {
     "ename": "ModuleNotFoundError",
     "evalue": "No module named 'flask'",
     "output_type": "error",
     "traceback": [
      "\u001b[0;31m---------------------------------------------------------------------------\u001b[0m",
      "\u001b[0;31mModuleNotFoundError\u001b[0m                       Traceback (most recent call last)",
      "Cell \u001b[0;32mIn[1], line 1\u001b[0m\n\u001b[0;32m----> 1\u001b[0m \u001b[38;5;28;01mfrom\u001b[39;00m\u001b[38;5;250m \u001b[39m\u001b[38;5;21;01mflask\u001b[39;00m\u001b[38;5;250m \u001b[39m\u001b[38;5;28;01mimport\u001b[39;00m Flask, jsonify, request\n\u001b[1;32m      3\u001b[0m app \u001b[38;5;241m=\u001b[39m Flask(\u001b[38;5;18m__name__\u001b[39m)\n\u001b[1;32m      5\u001b[0m \u001b[38;5;129m@app\u001b[39m\u001b[38;5;241m.\u001b[39mroute(\u001b[38;5;124m\"\u001b[39m\u001b[38;5;124m/\u001b[39m\u001b[38;5;124m\"\u001b[39m)\n\u001b[1;32m      6\u001b[0m \u001b[38;5;28;01mdef\u001b[39;00m\u001b[38;5;250m \u001b[39m\u001b[38;5;21mhome\u001b[39m():\n",
      "\u001b[0;31mModuleNotFoundError\u001b[0m: No module named 'flask'"
     ]
    }
   ],
   "source": [
    "\n",
    "from flask import Flask, jsonify, request\n",
    "\n",
    "app = Flask(__name__)\n",
    "\n",
    "@app.route(\"/\")\n",
    "def home():\n",
    "    return \"Nozolan Flask app is running\"\n"
   ]
  },
  {
   "cell_type": "markdown",
   "id": "b12fb460",
   "metadata": {},
   "source": [
    "\n",
    "Reload your site on the Web tab, then visit your URL.  \n",
    "You should see: `Nozolan Flask app is running`.\n"
   ]
  },
  {
   "cell_type": "markdown",
   "id": "8e8f64be",
   "metadata": {},
   "source": [
    "\n",
    "### Mini‑Challenge A\n",
    "Change the message returned from `/` to: **\"Assalamu alaykum, {your name>}!\"**  \n",
    "Reload and check your page again.\n"
   ]
  },
  {
   "cell_type": "markdown",
   "id": "299f79bf",
   "metadata": {},
   "source": [
    "\n",
    "## Step 2 — Add a hello endpoint with an optional name\n",
    "\n",
    "Edit `flask_app.py` and add this below the `/` route:\n"
   ]
  },
  {
   "cell_type": "code",
   "execution_count": null,
   "id": "4900bdad",
   "metadata": {},
   "outputs": [],
   "source": [
    "\n",
    "@app.route(\"/hello\")\n",
    "def hello():\n",
    "    # Example: /hello or /hello?name=Fatima\n",
    "    name = request.args.get(\"name\", \"\").strip()\n",
    "    if name:\n",
    "        return jsonify(message=f\"Assalamu alaykum, {name}!\")\n",
    "    return jsonify(message=\"Assalamu alaykum!\")\n"
   ]
  },
  {
   "cell_type": "markdown",
   "id": "311ff5fc",
   "metadata": {},
   "source": [
    "\n",
    "Reload and test:  \n",
    "- `https://YOUR_USERNAME.pythonanywhere.com/hello`  \n",
    "- `https://YOUR_USERNAME.pythonanywhere.com/hello?name=Fatima`\n"
   ]
  },
  {
   "cell_type": "markdown",
   "id": "8d51b494",
   "metadata": {},
   "source": [
    "\n",
    "### Mini‑Challenge B\n",
    "Change the default hello to **\"Peace be upon you!\"** when no name is given.\n"
   ]
  },
  {
   "cell_type": "markdown",
   "id": "d3d37421",
   "metadata": {},
   "source": [
    "\n",
    "## Step 3 — Add a simple colors endpoint\n",
    "\n",
    "Add this below your hello route:\n"
   ]
  },
  {
   "cell_type": "code",
   "execution_count": null,
   "id": "33c77559",
   "metadata": {},
   "outputs": [],
   "source": [
    "\n",
    "@app.route(\"/color\")\n",
    "def color():\n",
    "    # Fixed color for now\n",
    "    return jsonify(color=\"blue\")\n"
   ]
  },
  {
   "cell_type": "markdown",
   "id": "0de08776",
   "metadata": {},
   "source": [
    "\n",
    "Reload and test:  \n",
    "- `https://YOUR_USERNAME.pythonanywhere.com/color`\n"
   ]
  },
  {
   "cell_type": "markdown",
   "id": "227b6b36",
   "metadata": {},
   "source": [
    "\n",
    "### Mini‑Challenge C\n",
    "Change the color to your favorite color. Add a new field too, like: `\"shade\": \"light\"`.\n"
   ]
  },
  {
   "cell_type": "markdown",
   "id": "c50a93cd",
   "metadata": {},
   "source": [
    "\n",
    "## Step 4 — Introduce randomness\n",
    "\n",
    "Now let's use Python's `random` to return a random color each time.\n"
   ]
  },
  {
   "cell_type": "code",
   "execution_count": null,
   "id": "5e3c820e",
   "metadata": {},
   "outputs": [],
   "source": [
    "\n",
    "import random\n",
    "\n",
    "@app.route(\"/color-random\")\n",
    "def color_random():\n",
    "    colors = [\"red\", \"green\", \"blue\", \"yellow\", \"purple\", \"orange\"]\n",
    "    return jsonify(color=random.choice(colors))\n"
   ]
  },
  {
   "cell_type": "markdown",
   "id": "e402240c",
   "metadata": {},
   "source": [
    "\n",
    "Reload and try:  \n",
    "- `https://YOUR_USERNAME.pythonanywhere.com/color-random` (refresh a few times!)\n"
   ]
  },
  {
   "cell_type": "markdown",
   "id": "845bdd8c",
   "metadata": {},
   "source": [
    "\n",
    "### Mini‑Challenge D\n",
    "- Add two more colors to the list.  \n",
    "- Create a new endpoint `/number-random` that returns a random number from 1 to 10.\n"
   ]
  },
  {
   "cell_type": "markdown",
   "id": "c0c2a526",
   "metadata": {},
   "source": [
    "\n",
    "## Step 5 — (Optional) Add one more custom endpoint\n",
    "\n",
    "Example: `/square?n=5` → returns `{\"n\": 5, \"square\": 25}`\n"
   ]
  },
  {
   "cell_type": "code",
   "execution_count": null,
   "id": "55883854",
   "metadata": {},
   "outputs": [],
   "source": [
    "\n",
    "@app.route(\"/square\")\n",
    "def square():\n",
    "    try:\n",
    "        n = int(request.args.get(\"n\", \"0\"))\n",
    "    except ValueError:\n",
    "        n = 0\n",
    "    return jsonify(n=n, square=n*n)\n"
   ]
  },
  {
   "cell_type": "markdown",
   "id": "bfc931dd",
   "metadata": {},
   "source": [
    "\n",
    "### Mini‑Challenge E\n",
    "- Change it to also return `\"cube\": n**3`.  \n",
    "- Add a new endpoint `/even-or-odd?n=7` that returns whether the number is even or odd.\n"
   ]
  },
  {
   "cell_type": "markdown",
   "id": "64560b2a",
   "metadata": {},
   "source": [
    "\n",
    "## Step 6 — Install a dependency\n",
    "\n",
    "Sometimes your API needs extra libraries. On PythonAnywhere, you should install them.\n",
    "\n",
    "1) Go to the console and run the following command\n",
    "```\n",
    "pip install emoji\n",
    "```\n",
    "2) Click Reload.\n",
    "\n",
    "Now you can use the package in your Flask code:\n"
   ]
  },
  {
   "cell_type": "code",
   "execution_count": null,
   "id": "1d8641ed",
   "metadata": {},
   "outputs": [],
   "source": [
    "\n",
    "# Example endpoint that uses the 'emoji' package (installed in your venv)\n",
    "try:\n",
    "    import emoji\n",
    "except Exception:\n",
    "    emoji = None\n",
    "\n",
    "@app.route(\"/sparkle\")\n",
    "def sparkle():\n",
    "    if emoji:\n",
    "        return jsonify(text=emoji.emojize(\"Coding is fun :sparkles:\", language=\"alias\"))\n",
    "    # Fallback if package is missing\n",
    "    return jsonify(text=\"Coding is fun *sparkles*\")\n"
   ]
  },
  {
   "cell_type": "markdown",
   "id": "fde7a0e9",
   "metadata": {},
   "source": [
    "\n",
    "Reload and test:  \n",
    "- `https://YOUR_USERNAME.pythonanywhere.com/sparkle`\n",
    "\n",
    "If it shows plain text without the sparkle emoji, check that:\n",
    "- The `emoji` package is installed **inside the same virtualenv** your web app is using\n",
    "- You reloaded the web app after installing\n"
   ]
  },
  {
   "cell_type": "markdown",
   "id": "8051b59d",
   "metadata": {},
   "source": [
    "\n",
    "## Wrap Up\n",
    "\n",
    "You built a small Flask API with multiple endpoints and learned how to add a dependency via a virtualenv.  \n",
    "Ideas to extend:\n",
    "- Add `/ayah` that returns your favorite Quran verse and a short meaning  \n",
    "- Add `/countdown` that returns the seconds left to a prayer time (fixed value)\n"
   ]
  }
 ],
 "metadata": {
  "kernelspec": {
   "display_name": "Python 3",
   "language": "python",
   "name": "python3"
  },
  "language_info": {
   "codemirror_mode": {
    "name": "ipython",
    "version": 3
   },
   "file_extension": ".py",
   "mimetype": "text/x-python",
   "name": "python",
   "nbconvert_exporter": "python",
   "pygments_lexer": "ipython3",
   "version": "3.9.0"
  }
 },
 "nbformat": 4,
 "nbformat_minor": 5
}
