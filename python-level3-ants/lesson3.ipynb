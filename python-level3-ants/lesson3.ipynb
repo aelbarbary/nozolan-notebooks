{
 "cells": [
  {
   "cell_type": "markdown",
   "id": "dab46f74",
   "metadata": {},
   "source": [
    "# Ants — Lesson 3: CSS (Part 2: Position & Layout)\n",
    "\n",
    "*Simple format: Concept → Example → Coding Challenge*"
   ]
  },
  {
   "cell_type": "markdown",
   "id": "db3b3741",
   "metadata": {},
   "source": [
    "## 1. Block vs Inline\n",
    "**Block** starts on a new line (takes full width). **Inline** stays in the same line (like words)."
   ]
  },
  {
   "cell_type": "code",
   "execution_count": 2,
   "id": "f578807b",
   "metadata": {},
   "outputs": [
    {
     "data": {
      "text/html": [
       "<div style=\"background:lightblue;color:black;\">I am a DIV (block)</div>\n",
       "<span style=\"background:lightgreen;color:black;\">I am a SPAN (inline)</span>\n",
       "<span style=\"background:lightpink;color:black;\">Me too!</span>\n"
      ],
      "text/plain": [
       "<IPython.core.display.HTML object>"
      ]
     },
     "metadata": {},
     "output_type": "display_data"
    }
   ],
   "source": [
    "%%html\n",
    "<div style=\"background:lightblue;color:black;\">I am a DIV (block)</div>\n",
    "<span style=\"background:lightgreen;color:black;\">I am a SPAN (inline)</span>\n",
    "<span style=\"background:lightpink;color:black;\">Me too!</span>"
   ]
  },
  {
   "cell_type": "markdown",
   "id": "52e0c004",
   "metadata": {},
   "source": [
    "### 1.1 Coding Challenge\n",
    "- Make the DIV background **yellow**.\n",
    "- Make the SPANs background **red**."
   ]
  },
  {
   "cell_type": "code",
   "execution_count": null,
   "id": "3d752d9a",
   "metadata": {},
   "outputs": [],
   "source": [
    "%%html\n",
    "<div style=\"background:lightblue;color:black;\">I am a DIV (block)</div>\n",
    "<span style=\"background:lightgreen;color:black;\">I am a SPAN (inline)</span>\n",
    "<span style=\"background:lightpink;color:black;\">Me too!</span>"
   ]
  },
  {
   "cell_type": "markdown",
   "id": "513c081b",
   "metadata": {},
   "source": [
    "## 2. `display`\n",
    "`display` controls how things show: `block`, `inline`, `inline-block`, `none` (hides it)."
   ]
  },
  {
   "cell_type": "code",
   "execution_count": 3,
   "id": "7fb1a3f8",
   "metadata": {},
   "outputs": [
    {
     "data": {
      "text/html": [
       "<p style=\"display:inline; background:lightblue;\">I am inline</p>\n",
       "<p style=\"display:block; background:lightgreen;\">I am block</p>\n"
      ],
      "text/plain": [
       "<IPython.core.display.HTML object>"
      ]
     },
     "metadata": {},
     "output_type": "display_data"
    }
   ],
   "source": [
    "%%html\n",
    "<p style=\"display:inline; background:lightblue;\">I am inline</p>\n",
    "<p style=\"display:block; background:lightgreen;\">I am block</p>"
   ]
  },
  {
   "cell_type": "markdown",
   "id": "b07d9348",
   "metadata": {},
   "source": [
    "### 2.1 Coding Challenge\n",
    "- Change the **first** `<p>` to `display:block` and see what happens.\n",
    "- Change the **second** `<p>` to `display:inline-block` and give it `width:200px`."
   ]
  },
  {
   "cell_type": "markdown",
   "id": "cd71e354",
   "metadata": {},
   "source": [
    "## 3. `position`\n",
    "- **relative**: move a little from its normal spot.\n",
    "- **absolute**: placed using top/left inside the nearest positioned parent."
   ]
  },
  {
   "cell_type": "code",
   "execution_count": 9,
   "id": "b94fdb65",
   "metadata": {},
   "outputs": [
    {
     "data": {
      "text/html": [
       "<div style=\"position:relative; border:2px dashed #ccc; padding:20px; height:120px;\">\n",
       "  <div style=\"position:relative; top:10px; left:20px; background:lightcoral; width:150px;\">Relative Box</div>\n",
       "  <div style=\"position:absolute; top:10px; right:10px; background:lightyellow; padding:6px;\">Absolute Box</div>\n",
       "</div>\n"
      ],
      "text/plain": [
       "<IPython.core.display.HTML object>"
      ]
     },
     "metadata": {},
     "output_type": "display_data"
    }
   ],
   "source": [
    "%%html\n",
    "<div style=\"position:relative; border:2px dashed #ccc; padding:20px; height:120px;\">\n",
    "  <div style=\"position:relative; top:10px; left:20px; background:lightcoral; width:150px;\">Relative Box</div>\n",
    "  <div style=\"position:absolute; top:10px; right:10px; background:lightyellow; padding:6px;\">Absolute Box</div>\n",
    "</div>"
   ]
  },
  {
   "cell_type": "markdown",
   "id": "74069c3e",
   "metadata": {},
   "source": [
    "### 3.1 Coding Challenge\n",
    "- Move the **Relative Box** to `top:30px; left:60px;`.\n",
    "- Move the **Absolute Box** to the **bottom-left** (`bottom:10px; left:10px;`)."
   ]
  },
  {
   "cell_type": "markdown",
   "id": "ebcedd2a",
   "metadata": {},
   "source": [
    "## 4. Flexbox\n",
    "Flexbox arranges items in a row or column."
   ]
  },
  {
   "cell_type": "code",
   "execution_count": 11,
   "id": "526016ae",
   "metadata": {},
   "outputs": [
    {
     "data": {
      "text/html": [
       "<div style=\"display:flex; gap:100px;\">\n",
       "  <div style=\"background:lightblue; padding:10px;\">One</div>\n",
       "  <div style=\"background:lightgreen; padding:10px;\">Two</div>\n",
       "  <div style=\"background:lightpink; padding:10px;\">Three</div>\n",
       "</div>\n"
      ],
      "text/plain": [
       "<IPython.core.display.HTML object>"
      ]
     },
     "metadata": {},
     "output_type": "display_data"
    }
   ],
   "source": [
    "%%html\n",
    "<div style=\"display:flex; gap:100px;\">\n",
    "  <div style=\"background:lightblue; padding:10px;\">One</div>\n",
    "  <div style=\"background:lightgreen; padding:10px;\">Two</div>\n",
    "  <div style=\"background:lightpink; padding:10px;\">Three</div>\n",
    "</div>"
   ]
  },
  {
   "cell_type": "markdown",
   "id": "fedc0a98",
   "metadata": {},
   "source": [
    "### 4.1 Coding Challenge\n",
    "- Add a **fourth box** that says `Four`.\n",
    "- Center all boxes using `justify-content:center`."
   ]
  },
  {
   "cell_type": "markdown",
   "id": "d3b9a41c",
   "metadata": {},
   "source": [
    "## 5. Grid\n",
    "Grid arranges items in rows and columns."
   ]
  },
  {
   "cell_type": "code",
   "execution_count": 12,
   "id": "a4e714cd",
   "metadata": {},
   "outputs": [
    {
     "data": {
      "text/html": [
       "<div style=\"display:grid; grid-template-columns: 1fr 1fr; gap:10px;\">\n",
       "  <div style=\"background:lightblue; padding:10px; text-align:center;\">A</div>\n",
       "  <div style=\"background:lightgreen; padding:10px; text-align:center;\">B</div>\n",
       "  <div style=\"background:lightpink; padding:10px; text-align:center;\">C</div>\n",
       "  <div style=\"background:lightyellow; padding:10px; text-align:center;\">D</div>\n",
       "</div>\n"
      ],
      "text/plain": [
       "<IPython.core.display.HTML object>"
      ]
     },
     "metadata": {},
     "output_type": "display_data"
    }
   ],
   "source": [
    "%%html\n",
    "<div style=\"display:grid; grid-template-columns: 1fr 1fr; gap:10px;\">\n",
    "  <div style=\"background:lightblue; padding:10px; text-align:center;\">A</div>\n",
    "  <div style=\"background:lightgreen; padding:10px; text-align:center;\">B</div>\n",
    "  <div style=\"background:lightpink; padding:10px; text-align:center;\">C</div>\n",
    "  <div style=\"background:lightyellow; padding:10px; text-align:center;\">D</div>\n",
    "</div>"
   ]
  },
  {
   "cell_type": "markdown",
   "id": "53ece1d4",
   "metadata": {},
   "source": [
    "### 5.1 Coding Challenge\n",
    "- Change the grid to **3 columns** (`grid-template-columns: 1fr 1fr 1fr`).\n",
    "- Add one more box `E`."
   ]
  }
 ],
 "metadata": {
  "kernelspec": {
   "display_name": "Python 3",
   "language": "python",
   "name": "python3"
  },
  "language_info": {
   "codemirror_mode": {
    "name": "ipython",
    "version": 3
   },
   "file_extension": ".py",
   "mimetype": "text/x-python",
   "name": "python",
   "nbconvert_exporter": "python",
   "pygments_lexer": "ipython3",
   "version": "3.9.0"
  }
 },
 "nbformat": 4,
 "nbformat_minor": 5
}
