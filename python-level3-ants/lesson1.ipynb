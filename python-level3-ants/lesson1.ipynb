{
 "cells": [
  {
   "cell_type": "markdown",
   "id": "8d93bbf6-43a7-4a32-aaa9-bf22f0475af4",
   "metadata": {
    "id": "8d93bbf6-43a7-4a32-aaa9-bf22f0475af4"
   },
   "source": [
    "# Python: Level 3 - Ants: Web Development\n",
    "\n",
    "-------\n",
    "\n",
    "## Session 1: Introduction to HTML\n",
    "\n",
    "Welcome to our first session on web development! In this session, we learned the basics of HTML and how to structure a webpage.\n",
    "\n",
    "\n",
    "#### 1. What is a Website?\n",
    "\n",
    "A website is like a house on the internet. It’s a place to share information, pictures, and messages for visitors to see! It is made of:\n",
    "<img src=\"images/img-1.png\" alt=\"Website parts image\" width=\"500\" />\n",
    "\n",
    "* **Frontend** (HTML, CSS, JavaScript): is the part of our site that visitors see and interact with.\n",
    "* **Backend**: is how we make it work behind the scenes (we’ll learn this in later sessions).\n",
    "\n",
    "\n",
    "\n",
    "#### 2. What is HTML?\n",
    "\n",
    "**HTML** (HyperText Markup Language) is the Language used to build our website frontend. It consists of:\n",
    "\n",
    "* **Elements:** The building blocks of HTML.\n",
    "* **Tags:** Keywords enclosed in `< >` to define elements.Like: `<h1>` and `</h1>`\n",
    "* **Attributes:** adds Extra information about elements like `src` in the image tag (e.g., `<img src=\"link\">`).\n",
    "\n",
    "**Example:**"
   ]
  },
  {
   "cell_type": "code",
   "execution_count": null,
   "id": "51f389fb-bf52-4a69-a4fd-35886d1bdfae",
   "metadata": {
    "id": "51f389fb-bf52-4a69-a4fd-35886d1bdfae",
    "outputId": "60ca0e5f-b6ce-45ba-f4a2-711a41f43c85",
    "scrolled": true
   },
   "outputs": [
    {
     "data": {
      "text/html": [
       "<h1> Free Palestine <h1>\n",
       "<img src=\"https://apidiakoniase.cdn.triggerfish.cloud/uploads/sites/2/2021/12/palestine-flag-protest.jpeg\" alt=\"Palestine Fls\" width=\"300\" />\n"
      ],
      "text/plain": [
       "<IPython.core.display.HTML object>"
      ]
     },
     "metadata": {},
     "output_type": "display_data"
    }
   ],
   "source": [
    "%%html\n",
    "<h1> Free Palestine <h1>\n",
    "<img src=\"https://apidiakoniase.cdn.triggerfish.cloud/uploads/sites/2/2021/12/palestine-flag-protest.jpeg\" \n",
    "alt=\"Palestine Fls\" width=\"300\" />"
   ]
  },
  {
   "cell_type": "markdown",
   "id": "d4fde42f-c1c2-491f-8836-5a5107be05de",
   "metadata": {
    "id": "d4fde42f-c1c2-491f-8836-5a5107be05de"
   },
   "source": [
    "\n",
    "------\n",
    "\n",
    "### 3. How do we Write HTML?\n",
    "\n",
    "Every HTML document starts with this basic structure:\n"
   ]
  },
  {
   "cell_type": "markdown",
   "id": "cecf4aa7-438e-4940-ac23-5af9bf053245",
   "metadata": {
    "id": "cecf4aa7-438e-4940-ac23-5af9bf053245"
   },
   "source": [
    "```html\n",
    "<html>\n",
    "    <head>\n",
    "        <!-- Here we add information about our website, like: -->\n",
    "        <title>Website title</title>\n",
    "    </head>\n",
    "    \n",
    "    <body>\n",
    "        <!-- Here we add the elements we want to show in our website  -->\n",
    "    </body>\n",
    "</html>\n",
    "```"
   ]
  },
  {
   "cell_type": "markdown",
   "id": "274bb3f2-95bb-4349-b753-f973ead8cf18",
   "metadata": {
    "id": "274bb3f2-95bb-4349-b753-f973ead8cf18"
   },
   "source": [
    "* **`<html></html>`**: is the root element that holds all the codes of our website in it. It has **two parts**:\n",
    "\n",
    "* **`<head></head>`**: is where we put important information, like the title of the page. It’s like the signboard outside a house, but like thoughts in our head is not visible, most of what's inside the `<head>` tag **is not really visible** on our website page.\n",
    "\n",
    "* **`<body></body>`**: where we put **all the visible content**, like headings, paragraphs, and pictures. It’s like the inside of the house.\n",
    "\n",
    "-------\n",
    "\n",
    "### Headers\n",
    "\n",
    "To add text headers to our site we use `<h1>` to `<h6>`.\n",
    "\n",
    "Example:\n",
    "```html\n",
    "<h1>Welcome to Our Website!</h1>\n",
    "<h2>HTML is easy!</h2>\n",
    "```\n",
    "\n",
    "<strong style=\"color:#c920d5;\">Challenge 1</strong>\n",
    "\n",
    "Add the head and body to the `<html>` element in the code below, and inside the body add:\n",
    "\n",
    "* `h2` with a welcome message and your name\n",
    "* `h4` with your favorite food. \n",
    "\n",
    "Optional:\n",
    "\n",
    "* Add a title of the website in the head\n",
    "\n",
    "<strong style=\"color:#07ab0f;\">Write your code down here</strong>"
   ]
  },
  {
   "cell_type": "code",
   "execution_count": null,
   "id": "7f3d44d6-fdb9-4ff4-bd20-d00a87c397bb",
   "metadata": {
    "id": "7f3d44d6-fdb9-4ff4-bd20-d00a87c397bb",
    "outputId": "db3fa89c-8323-45bf-8be4-060012131cb9"
   },
   "outputs": [
    {
     "data": {
      "text/html": [
       "\n",
       "<html>\n",
       "\n",
       "<h1>Welcome to Our Website!</h1>\n",
       "\n",
       "</html>\n"
      ],
      "text/plain": [
       "<IPython.core.display.HTML object>"
      ]
     },
     "metadata": {},
     "output_type": "display_data"
    }
   ],
   "source": [
    "%%html\n",
    "\n",
    "<html>\n",
    "<body>  \n",
    "    <h1>Welcome to Our Website!</h1>\n",
    "</body>\n",
    "</html>"
   ]
  },
  {
   "cell_type": "markdown",
   "id": "525c21dd-a52f-4ef8-96ca-c94de6cb77bd",
   "metadata": {
    "id": "525c21dd-a52f-4ef8-96ca-c94de6cb77bd"
   },
   "source": [
    "### Paragraph\n",
    "\n",
    "To add a text paragraph we use `<p>`.\n",
    "\n",
    "Example:\n",
    "```html\n",
    "<p> This is a paragraph </p>\n",
    "```\n",
    "\n",
    "<strong style=\"color:#c920d5;\">Challenge 2</strong>\n",
    "\n",
    "Add a paragraph to the previous ***challenge 1*** code sharing why you like the food you choose."
   ]
  },
  {
   "cell_type": "markdown",
   "id": "54de9440-abbc-4509-8ce6-48cdcfc6e1a3",
   "metadata": {
    "id": "54de9440-abbc-4509-8ce6-48cdcfc6e1a3"
   },
   "source": [
    "-------\n",
    "### Lists\n",
    "\n",
    "To organize information, HTML provides two types of lists:\n",
    "\n",
    "* Ordered List (`<ol>`): For numbered items.\n",
    "* Unordered List (`<ul>`): For bulleted items.\n",
    "\n",
    "in which we add our list items using the `<li>` tag.\n",
    "\n",
    "Example:\n",
    "```html\n",
    "<!-- Unordered List -->\n",
    "<ul>\n",
    "    <li>Item 1</li>\n",
    "    <li>Item 2</li>\n",
    "    <li>Item 3</li>\n",
    "</ul>\n",
    "\n",
    "<!-- Ordered List -->\n",
    "<ol>\n",
    "    <li>Step 1</li>\n",
    "    <li>Step 2</li>\n",
    "    <li>Step 3</li>\n",
    "</ol>\n",
    "```\n",
    "\n",
    "<strong style=\"color:#c920d5;\">Challenge 3</strong>\n",
    "\n",
    "* Add an unordered list to the following code sharing the blessings of Allah in our daily life.\n",
    "* Add an ordered list with the five pillars of Islam.\n",
    "\n",
    "<strong style=\"color:#07ab0f;\">Write your code down here</strong>\n"
   ]
  },
  {
   "cell_type": "code",
   "execution_count": null,
   "id": "5acf3e93-df3c-40af-953b-c1fb5f5baf74",
   "metadata": {
    "id": "5acf3e93-df3c-40af-953b-c1fb5f5baf74"
   },
   "outputs": [
    {
     "data": {
      "text/html": [
       "<!DOCTYPE html>\n",
       "<html>\n",
       "    <head>\n",
       "    </head>\n",
       "    <body>\n",
       "        <!-- Add your lists code here -->\n",
       "    </body>\n",
       "</html>\n"
      ],
      "text/plain": [
       "<IPython.core.display.HTML object>"
      ]
     },
     "metadata": {},
     "output_type": "display_data"
    }
   ],
   "source": [
    "%%html\n",
    "<!DOCTYPE html>\n",
    "<html>\n",
    "    <head>\n",
    "    </head>\n",
    "    <body>\n",
    "        <!-- Add your lists code here -->\n",
    "    </body>\n",
    "</html>\n"
   ]
  },
  {
   "cell_type": "markdown",
   "id": "ba54bd86-4947-4b2c-b76e-e39d24eb336b",
   "metadata": {
    "id": "ba54bd86-4947-4b2c-b76e-e39d24eb336b"
   },
   "source": [
    "----\n",
    "### Images\n",
    "\n",
    "To make your webpage visually appealing, you can add images using the `<img>` tag.\n",
    "\n",
    "Example:\n",
    "```html\n",
    "<img src=\"image_url_or_path\" alt=\"description of image\">\n",
    "```\n",
    "It's very important to add the **src** and **alt** attributes for the `<img>`\n",
    "* **src:** is for the location of the image to be shown (URL or file path).\n",
    "* **alt:** is a description that helps users if the image doesn’t load.\n",
    "\n",
    "we can add other attributes like:\n",
    "* **width** defines a specific width to the image.\n",
    "* **height** defines a specific height to the image.\n",
    "\n",
    "Example:"
   ]
  },
  {
   "cell_type": "code",
   "execution_count": 2,
   "id": "674265a5-57b0-4afa-a635-dfa981a8630a",
   "metadata": {
    "id": "674265a5-57b0-4afa-a635-dfa981a8630a",
    "outputId": "08e95dde-8b1d-4789-fa8d-cbe562868832"
   },
   "outputs": [
    {
     "data": {
      "text/html": [
       "<img\n",
       "src=\"https://upload.wikimedia.org/wikipedia/commons/4/40/Temple_Mount_%28Aerial_view%2C_2007%29_05.jpg\"\n",
       "alt=\"Al-Aqsa Mosque\"\n",
       "width= \"800\"\n",
       ">\n"
      ],
      "text/plain": [
       "<IPython.core.display.HTML object>"
      ]
     },
     "metadata": {},
     "output_type": "display_data"
    }
   ],
   "source": [
    "%%html\n",
    "<img\n",
    "src=\"https://upload.wikimedia.org/wikipedia/commons/4/40/Temple_Mount_%28Aerial_view%2C_2007%29_05.jpg\"\n",
    "alt=\"Al-Aqsa Mosque\"\n",
    "width= \"800\"\n",
    ">"
   ]
  },
  {
   "cell_type": "markdown",
   "id": "5618765a-a3ab-4fc5-b0e1-7b78d71ddfa4",
   "metadata": {
    "id": "5618765a-a3ab-4fc5-b0e1-7b78d71ddfa4"
   },
   "source": [
    "<strong style=\"color:#c920d5;\">Challenge 4</strong>\n",
    "\n",
    "Add an image that represents some of the blessings you wrote in the list.\n",
    "\n",
    "<strong style=\"color:#07ab0f;\">Write your code down here</strong>"
   ]
  },
  {
   "cell_type": "code",
   "execution_count": 4,
   "id": "9b4a8bae-e02b-4541-8423-69e05313d4f7",
   "metadata": {
    "id": "9b4a8bae-e02b-4541-8423-69e05313d4f7",
    "outputId": "10c38995-4f7d-4ff6-84f4-abaa17e03e3a"
   },
   "outputs": [
    {
     "data": {
      "text/html": [
       "<!DOCTYPE html>\n",
       "<html>\n",
       "    <head>\n",
       "    </head>\n",
       "    <body>\n",
       "        <!-- Your image code down here -->\n",
       "    </body>\n",
       "</html>\n"
      ],
      "text/plain": [
       "<IPython.core.display.HTML object>"
      ]
     },
     "metadata": {},
     "output_type": "display_data"
    }
   ],
   "source": [
    "%%html\n",
    "<!DOCTYPE html>\n",
    "<html>\n",
    "    <head>\n",
    "    </head>\n",
    "    <body>\n",
    "        <!-- Your image code down here -->\n",
    "    </body>\n",
    "</html>\n"
   ]
  },
  {
   "cell_type": "markdown",
   "id": "f74a58e3-1bc8-4915-934a-b85a04745041",
   "metadata": {
    "id": "f74a58e3-1bc8-4915-934a-b85a04745041"
   },
   "source": [
    "------\n",
    "### Links\n",
    "\n",
    "To make your webpage connected to other pages, use hyperlinks with the `<a>` tag.\n",
    "\n",
    "Syntax:\n",
    "```html\n",
    "<a href=\"URL\">Link Text</a>\n",
    "```\n",
    "The **href** attribute Specifies the link’s destination.\n",
    "\n",
    "Tip: Use *\"https://example.com\"* for external links or just \"page.html\" for internal links.\n",
    "Example:\n",
    "```html\n",
    "<a href=\"https://www.google.com\">Go to Google</a>\n",
    "<a href=\"lesson2.html\">Next Lesson</a>\n",
    "```\n",
    "<strong style=\"color:#c920d5;\">Challenge 5</strong>\n",
    "\n",
    "Add two links to your webpage:\n",
    "1. One to an external website (like `https://nozolan.com/nozolan` ).\n",
    "2. One to another page in our project (e.g., `page2.html`). *Note:* this might not work now but we will need it later\n",
    "\n",
    "<strong style=\"color:#07ab0f;\">Write your code down here</strong>\n"
   ]
  },
  {
   "cell_type": "code",
   "execution_count": 6,
   "id": "c604d0ea-fe62-47cc-b72b-cef847b033b7",
   "metadata": {
    "id": "c604d0ea-fe62-47cc-b72b-cef847b033b7",
    "outputId": "1175f6bf-593e-4300-d77c-adc3453a5d7a"
   },
   "outputs": [
    {
     "data": {
      "text/html": [
       "<!DOCTYPE html>\n",
       "<html>\n",
       "    <head>\n",
       "    </head>\n",
       "    <body>\n",
       "        <!-- Your Links code down here -->\n",
       "    </body>\n",
       "</html>\n"
      ],
      "text/plain": [
       "<IPython.core.display.HTML object>"
      ]
     },
     "metadata": {},
     "output_type": "display_data"
    }
   ],
   "source": [
    "%%html\n",
    "<!DOCTYPE html>\n",
    "<html>\n",
    "    <head>\n",
    "    </head>\n",
    "    <body>\n",
    "        <!-- Your Links code down here -->\n",
    "    </body>\n",
    "</html>"
   ]
  },
  {
   "cell_type": "markdown",
   "id": "add348d7-5a62-4928-a7e2-b405cbbd2812",
   "metadata": {
    "id": "add348d7-5a62-4928-a7e2-b405cbbd2812"
   },
   "source": [
    "------\n",
    "## **Homework**\n",
    "\n",
    "#### 1. Find and fix the mistakes in the following HTML codes:"
   ]
  },
  {
   "cell_type": "code",
   "execution_count": null,
   "id": "dbb922e3-7ac4-438b-a6d5-7936f9235d56",
   "metadata": {
    "id": "dbb922e3-7ac4-438b-a6d5-7936f9235d56",
    "outputId": "96762bf9-6a5f-47fc-ee0d-4726285f80e6"
   },
   "outputs": [
    {
     "data": {
      "text/html": [
       "\n",
       "<h3> Hello </h6>\n"
      ],
      "text/plain": [
       "<IPython.core.display.HTML object>"
      ]
     },
     "metadata": {},
     "output_type": "display_data"
    }
   ],
   "source": [
    "%%html\n",
    "\n",
    "<h3> Hello <h6>"
   ]
  },
  {
   "cell_type": "code",
   "execution_count": null,
   "id": "065d30dc-9ecc-4bb6-9fec-708090e19264",
   "metadata": {
    "id": "065d30dc-9ecc-4bb6-9fec-708090e19264",
    "outputId": "1a4868f6-301f-46ed-90e6-38d90752f3c7"
   },
   "outputs": [
    {
     "data": {
      "text/html": [
       "\n",
       "<li> item 1 </li>\n",
       "<li> item 2 </li>\n",
       "<li> item 3 </li>\n"
      ],
      "text/plain": [
       "<IPython.core.display.HTML object>"
      ]
     },
     "metadata": {},
     "output_type": "display_data"
    }
   ],
   "source": [
    "%%html\n",
    "\n",
    "<li> item 1 </li>\n",
    "<li> item 2 </li>\n",
    "<li> item 3 </li>"
   ]
  },
  {
   "cell_type": "code",
   "execution_count": 9,
   "id": "6a4258fb-6845-47be-b2bd-61b9f50841c4",
   "metadata": {
    "id": "6a4258fb-6845-47be-b2bd-61b9f50841c4",
    "outputId": "cedab5ea-ae15-446a-e269-3f7c51c67abc"
   },
   "outputs": [
    {
     "data": {
      "text/html": [
       "\n",
       "<img alt=\"Image of Al Kaaba\"/>\n"
      ],
      "text/plain": [
       "<IPython.core.display.HTML object>"
      ]
     },
     "metadata": {},
     "output_type": "display_data"
    }
   ],
   "source": [
    "%%html\n",
    "\n",
    "<img alt=\"Image of Al Kaaba\"/>"
   ]
  },
  {
   "cell_type": "markdown",
   "id": "5df7749e-6ce7-4341-afa6-f63acc0adf87",
   "metadata": {
    "id": "5df7749e-6ce7-4341-afa6-f63acc0adf87"
   },
   "source": [
    "#### 2. Choose one of the following topics and create a webpage about it **using all the elements that we covered in this lesson**:\n",
    "\n",
    "* **Ramadan and fasting**\n",
    "* **Palestine**\n",
    "* **The 5 pillars of Islam**"
   ]
  },
  {
   "cell_type": "code",
   "execution_count": 10,
   "id": "021669c9-802f-4610-9639-928e75efdec1",
   "metadata": {
    "id": "021669c9-802f-4610-9639-928e75efdec1",
    "outputId": "b1b4fd9a-c487-428e-fe33-4cba37c0ccc5"
   },
   "outputs": [
    {
     "data": {
      "text/html": [
       "<!-- Add your code here -->\n"
      ],
      "text/plain": [
       "<IPython.core.display.HTML object>"
      ]
     },
     "metadata": {},
     "output_type": "display_data"
    }
   ],
   "source": [
    "%%html\n",
    "<!-- Add your code here -->\n"
   ]
  }
 ],
 "metadata": {
  "colab": {
   "provenance": []
  },
  "kernelspec": {
   "display_name": "Python 3",
   "language": "python",
   "name": "python3"
  },
  "language_info": {
   "codemirror_mode": {
    "name": "ipython",
    "version": 3
   },
   "file_extension": ".py",
   "mimetype": "text/x-python",
   "name": "python",
   "nbconvert_exporter": "python",
   "pygments_lexer": "ipython3",
   "version": "3.9.0"
  }
 },
 "nbformat": 4,
 "nbformat_minor": 5
}
