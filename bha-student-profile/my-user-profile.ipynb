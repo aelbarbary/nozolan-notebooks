{
 "cells": [
  {
   "cell_type": "markdown",
   "id": "4e702067",
   "metadata": {},
   "source": [
    "\n",
    "# HTML & CSS Quick Start\n",
    "**Goal:** build a **personal profile webpage**\n",
    "\n"
   ]
  },
  {
   "cell_type": "markdown",
   "id": "ce7ab912",
   "metadata": {},
   "source": [
    "\n",
    "## Part 1 — HTML\n",
    "HTML is **markup** made of **tags**. Tags usually come in pairs:\n",
    "\n",
    "```html\n",
    "<tagname> content here </tagname>\n",
    "```\n",
    "\n",
    "### Super common tags\n",
    "- `<h1>...</h1>` — big heading\n",
    "- `<p>...</p>` — paragraph (normal text)\n",
    "- `<a href=\"...\">...</a>` — link\n",
    "- `<img src=\"...\">` — image (note: this one doesn't need a closing tag)\n",
    "- `<ul>...</ul>` and `<li>...</li>` — list and list items\n"
   ]
  },
  {
   "cell_type": "code",
   "execution_count": null,
   "id": "926f51ed",
   "metadata": {},
   "outputs": [
    {
     "data": {
      "text/html": [
       "<h1>My First Web Page</h1>\n",
       "<p>Assalamu alaykum! This is my very first web page.</p>\n",
       "<p>Here is a link to a fun site: <a href=\"https://www.wikipedia.org\" target=\"_blank\">Wikipedia</a></p>\n",
       "<p>My favorite hobby is reading books about history and science.</p>\n"
      ],
      "text/plain": [
       "<IPython.core.display.HTML object>"
      ]
     },
     "metadata": {},
     "output_type": "display_data"
    }
   ],
   "source": [
    "%%html\n",
    "<h1>My First Web Page</h1>\n",
    "<p>Assalamu alaykum! This is my very first web page.</p>\n",
    "<p>Here is a link to a fun site: <a href=\"https://www.wikipedia.org\" target=\"_blank\">Wikipedia</a></p>"
   ]
  },
  {
   "cell_type": "markdown",
   "id": "976e6476",
   "metadata": {},
   "source": [
    "\n",
    "### Try it ✏️\n",
    "1) Change the `<h1>` text to your **name**.  \n",
    "2) Change the link text to your **favorite site** and update the URL.\n",
    "3) Add another paragraph `<p>` with your favorite hobby.\n",
    "______\n"
   ]
  },
  {
   "cell_type": "markdown",
   "id": "16bbbbf6",
   "metadata": {},
   "source": [
    "\n",
    "## Part 2 — A few more tags we’ll use\n",
    "Below we add a list, an image, and another link.\n"
   ]
  },
  {
   "cell_type": "code",
   "execution_count": 16,
   "id": "54eb8a83",
   "metadata": {},
   "outputs": [
    {
     "data": {
      "text/html": [
       "<h2>Things I Like</h2>\n",
       "<ul>\n",
       "  <li>Soccer</li>\n",
       "  <li>Drawing</li>\n",
       "  <li>Science experiments</li>\n",
       "</ul>\n",
       "\n",
       "<p>My favorite quote:</p>\n",
       "<blockquote>\"learning is a continuous process\"</blockquote>\n",
       "\n",
       "<p>Here is a picture (you can replace the link with your own):</p>\n",
       "<img src=\"https://upload.wikimedia.org/wikipedia/commons/thumb/6/6e/Golde33443.jpg/320px-Golde33443.jpg\" alt=\"Sample image\">\n",
       "<p>Visit <a href=\"https://www.nozolan.com\" target=\"_blank\">Nozolan</a></p>\n"
      ],
      "text/plain": [
       "<IPython.core.display.HTML object>"
      ]
     },
     "metadata": {},
     "output_type": "display_data"
    }
   ],
   "source": [
    "\n",
    "%%html\n",
    "<h2>Things I Like</h2>\n",
    "<ul>\n",
    "  <li>Soccer</li>\n",
    "  <li>Drawing</li>\n",
    "  <li>Science experiments</li>\n",
    "</ul>\n",
    "\n",
    "<p>My favorite quote:</p>\n",
    "<blockquote>\"learning is a continuous process\"</blockquote>\n",
    "\n",
    "<p>Here is a picture (you can replace the link with your own):</p>\n",
    "<img src=\"https://upload.wikimedia.org/wikipedia/commons/thumb/6/6e/Golde33443.jpg/320px-Golde33443.jpg\" alt=\"Sample image\">\n",
    "<p>Visit <a href=\"https://www.nozolan.com\" target=\"_blank\">Nozolan</a></p>\n"
   ]
  },
  {
   "cell_type": "markdown",
   "id": "ca93ee9b",
   "metadata": {},
   "source": [
    "\n",
    "### Try it ✏️\n",
    "- Replace the image link with a picture you like (right‑click → \"Copy image address\").  \n",
    "- Add **one more list item** with something you like.\n"
   ]
  },
  {
   "cell_type": "markdown",
   "id": "73029321",
   "metadata": {},
   "source": [
    "\n",
    "## Part 3 — CSS (Make it look nice)\n",
    "CSS changes **how** things look (colors, fonts, sizes). We can put CSS inside a `<style>` tag.\n"
   ]
  },
  {
   "cell_type": "code",
   "execution_count": null,
   "id": "37a17359",
   "metadata": {},
   "outputs": [
    {
     "data": {
      "text/html": [
       "<!DOCTYPE html>\n",
       "<html>\n",
       "<head>\n",
       "  <meta charset=\"utf-8\">\n",
       "  <title>CSS Basics</title>\n",
       "  <style>\n",
       "    .h1 { color: #2b6cb0; }           /* Blue heading */\n",
       "    .p { font-size: 12px; }\n",
       "    .highlight { color: #b83280; }   /* Magenta/pink text */\n",
       "  </style>\n",
       "</head>\n",
       "<body class=\"body\">\n",
       "  <h1 class=\"h1\">Colors & Fonts Demo</h1>\n",
       "  <p class=\"p\">This text uses a friendly font. <span class=\"highlight\">And this part is highlighted!</span></p>\n",
       "</body>\n",
       "</html>\n"
      ],
      "text/plain": [
       "<IPython.core.display.HTML object>"
      ]
     },
     "metadata": {},
     "output_type": "display_data"
    }
   ],
   "source": [
    "%%html\n",
    "<!DOCTYPE html>\n",
    "<html>\n",
    "<head>\n",
    "  <meta charset=\"utf-8\">\n",
    "  <title>CSS Basics</title>\n",
    "  <style>\n",
    "    .blue-header { color: #2b6cb0; }           /* Blue heading */\n",
    "    .normal-text { font-size: 12px; }\n",
    "    .highlight { color: #b83280; }   /* Magenta/pink text */\n",
    "  </style>\n",
    "</head>\n",
    "<body class=\"body\">\n",
    "  <h1 class=\"blue-header\">Colors & Fonts Demo</h1>\n",
    "  <p class=\"normal-text\">This text uses a friendly font. <span class=\"highlight\">And this part is highlighted!</span></p>\n",
    "</body>\n",
    "</html>\n"
   ]
  },
  {
   "cell_type": "markdown",
   "id": "8e24e6d6",
   "metadata": {},
   "source": [
    "\n",
    "### Try it ✏️\n",
    "- Change `font-size` to: `30px`\n"
   ]
  },
  {
   "cell_type": "markdown",
   "id": "5d65fe51",
   "metadata": {},
   "source": [
    "\n",
    "## Part 4 — Profile Starter Template (copy me!)\n",
    "- We’ll personalize the placeholders like `{{NAME}}`, `{{ABOUT}}`, and `{{PHOTO_URL}}`.  \n",
    "- Copy the below code and run it in  https://onecompiler.com/html\n",
    "- Then we’ll ask ChatGPT to make it prettier (optional)."
   ]
  },
  {
   "cell_type": "code",
   "execution_count": 13,
   "id": "703bb510",
   "metadata": {},
   "outputs": [
    {
     "data": {
      "text/html": [
       "<html>\n",
       "<head>\n",
       "  <meta charset=\"utf-8\">\n",
       "  <title>{{NAME}} — My Profile</title>\n",
       "  <style>\n",
       "    :root {\n",
       "      --accent: #38bdf8;    /* sky blue */\n",
       "    }\n",
       "    * { box-sizing: border-box; }\n",
       "    .body {\n",
       "      margin: 0;\n",
       "      min-height: 100vh;\n",
       "      display: flex;\n",
       "      align-items: center;\n",
       "      justify-content: center;\n",
       "      color: var(--text);\n",
       "      font-family: system-ui, -apple-system, Segoe UI, Roboto, Arial, sans-serif;\n",
       "      padding: 24px;\n",
       "      background-color: gray;\n",
       "      color: white;\n",
       "    }\n",
       "    .card {\n",
       "      width: 100%;\n",
       "      max-width: 720px;\n",
       "      background: var(--card);\n",
       "      border: 1px solid #1f2937;\n",
       "      border-radius: 24px;\n",
       "      padding: 24px;\n",
       "      box-shadow: 0 20px 60px rgba(0,0,0,0.35);\n",
       "    }\n",
       "    .top {\n",
       "      display: grid;\n",
       "      grid-template-columns: 120px 1fr;\n",
       "      gap: 16px;\n",
       "      align-items: center;\n",
       "    }\n",
       "    .avatar {\n",
       "      width: 120px;\n",
       "      height: 120px;\n",
       "      border-radius: 16px;\n",
       "      object-fit: cover;\n",
       "      border: 2px solid var(--accent);\n",
       "    }\n",
       "    .name {\n",
       "      font-size: 28px;\n",
       "      margin: 0 0 6px 0;\n",
       "    }\n",
       "    .tagline {\n",
       "      margin: 0;\n",
       "      opacity: 0.85;\n",
       "    }\n",
       "    .section {\n",
       "      margin-top: 20px;\n",
       "    }\n",
       "    .badge {\n",
       "      display: inline-block;\n",
       "      padding: 6px 10px;\n",
       "      border: 1px solid #374151;\n",
       "      border-radius: 999px;\n",
       "      margin: 4px 6px 0 0;\n",
       "      font-size: 14px;\n",
       "    }\n",
       "    a {\n",
       "      color: var(--accent);\n",
       "      text-decoration: none;\n",
       "    }\n",
       "    a:hover { text-decoration: underline; }\n",
       "  </style>\n",
       "</head>\n",
       "<body class=\"body\">\n",
       "  <div class=\"card\">\n",
       "    <div class=\"top\">\n",
       "      <img class=\"avatar\" src=\"{{PHOTO_URL}}\" alt=\"Profile photo\">\n",
       "      <div>\n",
       "        <h1 class=\"name\">{{NAME}}</h1>\n",
       "        <p class=\"tagline\">{{TAGLINE}}</p>\n",
       "      </div>\n",
       "    </div>\n",
       "\n",
       "    <div class=\"section\">\n",
       "      <h2>About Me</h2>\n",
       "      <p>{{ABOUT}}</p>\n",
       "    </div>\n",
       "\n",
       "    <div class=\"section\">\n",
       "      <h2>Things I Love</h2>\n",
       "      <div>\n",
       "        <span class=\"badge\">{{HOBBY_1}}</span>\n",
       "        <span class=\"badge\">{{HOBBY_2}}</span>\n",
       "        <span class=\"badge\">{{HOBBY_3}}</span>\n",
       "      </div>\n",
       "    </div>\n",
       "\n",
       "    <div class=\"section\">\n",
       "      <h2>My Favorite Link</h2>\n",
       "      <p><a href=\"{{FAV_LINK_URL}}\" target=\"_blank\">{{FAV_LINK_TEXT}}</a></p>\n",
       "    </div>\n",
       "\n",
       "    <div class=\"section\">\n",
       "      <h2>Favorite Quote</h2>\n",
       "      <blockquote>{{FAV_QUOTE}}</blockquote>\n",
       "    </div>\n",
       "  </div>\n",
       "</body>\n",
       "</html>\n"
      ],
      "text/plain": [
       "<IPython.core.display.HTML object>"
      ]
     },
     "metadata": {},
     "output_type": "display_data"
    }
   ],
   "source": [
    "\n",
    "%%html\n",
    "<html>\n",
    "<head>\n",
    "  <meta charset=\"utf-8\">\n",
    "  <title>{{NAME}} — My Profile</title>\n",
    "  <style>\n",
    "    :root {\n",
    "      --accent: #38bdf8;    /* sky blue */\n",
    "    }\n",
    "    * { box-sizing: border-box; }\n",
    "    .body {\n",
    "      margin: 0;\n",
    "      min-height: 100vh;\n",
    "      display: flex;\n",
    "      align-items: center;\n",
    "      justify-content: center;\n",
    "      color: var(--text);\n",
    "      font-family: system-ui, -apple-system, Segoe UI, Roboto, Arial, sans-serif;\n",
    "      padding: 24px;\n",
    "      background-color: gray;\n",
    "      color: white;\n",
    "    }\n",
    "    .card {\n",
    "      width: 100%;\n",
    "      max-width: 720px;\n",
    "      background: var(--card);\n",
    "      border: 1px solid #1f2937;\n",
    "      border-radius: 24px;\n",
    "      padding: 24px;\n",
    "      box-shadow: 0 20px 60px rgba(0,0,0,0.35);\n",
    "    }\n",
    "    .top {\n",
    "      display: grid;\n",
    "      grid-template-columns: 120px 1fr;\n",
    "      gap: 16px;\n",
    "      align-items: center;\n",
    "    }\n",
    "    .avatar {\n",
    "      width: 120px;\n",
    "      height: 120px;\n",
    "      border-radius: 16px;\n",
    "      object-fit: cover;\n",
    "      border: 2px solid var(--accent);\n",
    "    }\n",
    "    .name {\n",
    "      font-size: 28px;\n",
    "      margin: 0 0 6px 0;\n",
    "    }\n",
    "    .tagline {\n",
    "      margin: 0;\n",
    "      opacity: 0.85;\n",
    "    }\n",
    "    .section {\n",
    "      margin-top: 20px;\n",
    "    }\n",
    "    .badge {\n",
    "      display: inline-block;\n",
    "      padding: 6px 10px;\n",
    "      border: 1px solid #374151;\n",
    "      border-radius: 999px;\n",
    "      margin: 4px 6px 0 0;\n",
    "      font-size: 14px;\n",
    "    }\n",
    "    a {\n",
    "      color: var(--accent);\n",
    "      text-decoration: none;\n",
    "    }\n",
    "    a:hover { text-decoration: underline; }\n",
    "  </style>\n",
    "</head>\n",
    "<body class=\"body\">\n",
    "  <div class=\"card\">\n",
    "    <div class=\"top\">\n",
    "      <img class=\"avatar\" src=\"{{PHOTO_URL}}\" alt=\"Profile photo\">\n",
    "      <div>\n",
    "        <h1 class=\"name\">{{NAME}}</h1>\n",
    "        <p class=\"tagline\">{{TAGLINE}}</p>\n",
    "      </div>\n",
    "    </div>\n",
    "\n",
    "    <div class=\"section\">\n",
    "      <h2>About Me</h2>\n",
    "      <p>{{ABOUT}}</p>\n",
    "    </div>\n",
    "\n",
    "    <div class=\"section\">\n",
    "      <h2>Things I Love</h2>\n",
    "      <div>\n",
    "        <span class=\"badge\">{{HOBBY_1}}</span>\n",
    "        <span class=\"badge\">{{HOBBY_2}}</span>\n",
    "        <span class=\"badge\">{{HOBBY_3}}</span>\n",
    "      </div>\n",
    "    </div>\n",
    "\n",
    "    <div class=\"section\">\n",
    "      <h2>My Favorite Link</h2>\n",
    "      <p><a href=\"{{FAV_LINK_URL}}\" target=\"_blank\">{{FAV_LINK_TEXT}}</a></p>\n",
    "    </div>\n",
    "\n",
    "    <div class=\"section\">\n",
    "      <h2>Favorite Quote</h2>\n",
    "      <blockquote>{{FAV_QUOTE}}</blockquote>\n",
    "    </div>\n",
    "  </div>\n",
    "</body>\n",
    "</html>\n"
   ]
  },
  {
   "cell_type": "markdown",
   "id": "fa196167",
   "metadata": {},
   "source": [
    "\n",
    "### Fill these placeholders\n",
    "- `{{NAME}}` — your full name  \n",
    "- `{{TAGLINE}}` — one line about you (e.g., \"Soccer fan • Future engineer\")  \n",
    "- `{{ABOUT}}` — 2–3 sentences about you  \n",
    "- `{{PHOTO_URL}}` — a link to your picture (optional)  \n",
    "- `{{HOBBY_1}}` `{{HOBBY_2}}` `{{HOBBY_3}}` — short words (e.g., \"Soccer\", \"Reading\", \"Minecraft\")  \n",
    "- `{{FAV_LINK_TEXT}}` and `{{FAV_LINK_URL}}` — your favorite site  \n",
    "- `{{FAV_QUOTE}}` — a quote you like\n"
   ]
  },
  {
   "cell_type": "markdown",
   "id": "75941981",
   "metadata": {},
   "source": [
    "\n",
    "## Part 5 — Ask ChatGPT to improve your page\n",
    "If ChatGPT is available to you, copy this prompt and paste it into ChatGPT **with your filled template**:\n",
    "\n",
    "**Prompt to copy:**  \n",
    "> Keep my HTML content the same but please improve the design for a kid-friendly personal profile page. Add responsive spacing, a pleasing color palette, and clean typography. Keep the card layout. Make sure the code is valid HTML/CSS in one file. Add comments to explain any new CSS. Do not remove my text. Then show me a single final HTML file to paste into OneCompiler.\n"
   ]
  },
  {
   "cell_type": "markdown",
   "id": "5a59d488",
   "metadata": {},
   "source": [
    "\n",
    "## Part 6 — Run it on OneCompiler (no install needed)\n",
    "1. Open **https://onecompiler.com/html**  \n",
    "2. In the **index.html** panel, paste your final HTML file (from above).  \n",
    "3. Press **Run ▶** to see your page.  \n",
    "4. If the image doesn't load, double‑check your `PHOTO_URL`.\n"
   ]
  },
  {
   "cell_type": "markdown",
   "id": "9539fc3e",
   "metadata": {},
   "source": [
    "\n",
    "## Part 7 — Turn it in ✅\n",
    "Submit your profile to the instructor in the homework section\n"
   ]
  },
  {
   "cell_type": "markdown",
   "id": "f0d808a2",
   "metadata": {},
   "source": [
    "\n",
    "## Bonus ⭐\n",
    "- Add one more section called **\"My Goals\"** with 3 list items.  \n",
    "- Add another link to a project or game you like.\n"
   ]
  },
  {
   "cell_type": "markdown",
   "id": "f2f51bac",
   "metadata": {},
   "source": []
  }
 ],
 "metadata": {
  "kernelspec": {
   "display_name": "Python 3",
   "language": "python",
   "name": "python3"
  },
  "language_info": {
   "codemirror_mode": {
    "name": "ipython",
    "version": 3
   },
   "file_extension": ".py",
   "mimetype": "text/x-python",
   "name": "python",
   "nbconvert_exporter": "python",
   "pygments_lexer": "ipython3",
   "version": "3.9.0"
  }
 },
 "nbformat": 4,
 "nbformat_minor": 5
}
