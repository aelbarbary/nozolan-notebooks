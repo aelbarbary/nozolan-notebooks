{
 "cells": [
  {
   "cell_type": "markdown",
   "id": "a2e9c9c6",
   "metadata": {},
   "source": [
    "# Lesson 6 — Functions (Standard Format)\n",
    "\n",
    "*Less text, more code. Each section: example → challenge.*"
   ]
  },
  {
   "cell_type": "markdown",
   "id": "c7600fe5",
   "metadata": {},
   "source": [
    "## 1) Defining a Function\n",
    "**Example**\n",
    "\n",
    "Create a simple function and call it multiple times."
   ]
  },
  {
   "cell_type": "code",
   "execution_count": null,
   "id": "37f75c67",
   "metadata": {},
   "outputs": [],
   "source": [
    "# Example: say Salam 3 times\n",
    "def salam():\n",
    "    print(\"Salam\")\n",
    "\n",
    "salam()\n",
    "salam()\n",
    "salam()"
   ]
  },
  {
   "cell_type": "markdown",
   "id": "7b5e0b5e",
   "metadata": {},
   "source": [
    "**1.1 Coding Challenge**\n",
    "\n",
    "Write a function `greet(name)` that prints: `Salam, <name>!`.\n",
    "\n",
    "*Example:* `greet(\"Fatima\")` → `Salam, Fatima!`"
   ]
  },
  {
   "cell_type": "code",
   "execution_count": null,
   "id": "bcc4fb29",
   "metadata": {},
   "outputs": [],
   "source": [
    "# Your turn: define greet(name)\n"
   ]
  },
  {
   "cell_type": "markdown",
   "id": "01e696b5",
   "metadata": {},
   "source": [
    "## 2) Parameters\n",
    "**Example**\n",
    "\n",
    "A function that takes a number and returns its square."
   ]
  },
  {
   "cell_type": "code",
   "execution_count": null,
   "id": "7d7c24c6",
   "metadata": {},
   "outputs": [],
   "source": [
    "# Example: square function\n",
    "def square(x):\n",
    "    return x * x\n",
    "\n",
    "print(square(3))   # 9\n",
    "print(square(10))  # 100"
   ]
  },
  {
   "cell_type": "markdown",
   "id": "282cf672",
   "metadata": {},
   "source": [
    "**2.1 Coding Challenge**\n",
    "\n",
    "Create a function `cube(x)` that returns `x * x * x`. Then test it with 2 numbers."
   ]
  },
  {
   "cell_type": "code",
   "execution_count": null,
   "id": "c23201a6",
   "metadata": {},
   "outputs": [],
   "source": [
    "# Your turn: define cube(x) and test it\n"
   ]
  },
  {
   "cell_type": "markdown",
   "id": "ff5c36ac",
   "metadata": {},
   "source": [
    "## 3) Return Values\n",
    "**Example**\n",
    "\n",
    "A function can give back (return) a result."
   ]
  },
  {
   "cell_type": "code",
   "execution_count": null,
   "id": "de82a6d7",
   "metadata": {},
   "outputs": [],
   "source": [
    "# Example: add two numbers and return the result\n",
    "def add(a, b):\n",
    "    return a + b\n",
    "\n",
    "total = add(7, 5)\n",
    "print(total)  # 12"
   ]
  },
  {
   "cell_type": "markdown",
   "id": "07f93d06",
   "metadata": {},
   "source": [
    "**3.1 Coding Challenge**\n",
    "\n",
    "Create a function `subtract(a, b)` that returns `a - b`. Print the result of `subtract(100, 35)`."
   ]
  },
  {
   "cell_type": "code",
   "execution_count": null,
   "id": "5cfc3cb7",
   "metadata": {},
   "outputs": [],
   "source": [
    "# Your turn: define subtract(a, b)\n"
   ]
  },
  {
   "cell_type": "markdown",
   "id": "f201e9a4",
   "metadata": {},
   "source": [
    "## 4) Functions + Loops\n",
    "**Example**\n",
    "\n",
    "A function that prints the multiplication table row for a number."
   ]
  },
  {
   "cell_type": "code",
   "execution_count": null,
   "id": "8255c65f",
   "metadata": {},
   "outputs": [
    {
     "name": "stdout",
     "output_type": "stream",
     "text": [
      "5 x 1 = 5\n",
      "5 x 2 = 10\n",
      "5 x 3 = 15\n",
      "5 x 4 = 20\n",
      "5 x 5 = 25\n",
      "5 x 6 = 30\n",
      "5 x 7 = 35\n",
      "5 x 8 = 40\n",
      "5 x 9 = 45\n",
      "5 x 10 = 50\n"
     ]
    }
   ],
   "source": [
    "# Example: print a multiplication row for n\n",
    "def times_row(n):\n",
    "    for i in range(1, 11):\n",
    "        print(f\"{n} x {i} = {n*i}\")\n",
    "        \n",
    "times_row(5)  # try changing the number"
   ]
  },
  {
   "cell_type": "markdown",
   "id": "39d6c207",
   "metadata": {},
   "source": [
    "**4.1 Coding Challenge**\n",
    "\n",
    "Write a function `even_up_to(n)` that prints only the even numbers from 1 to `n`."
   ]
  },
  {
   "cell_type": "code",
   "execution_count": null,
   "id": "f8020d0d",
   "metadata": {},
   "outputs": [],
   "source": [
    "# Your turn: define even_up_to(n)\n"
   ]
  },
  {
   "cell_type": "markdown",
   "id": "7804ced2",
   "metadata": {},
   "source": [
    "## 5) Functions + Conditionals\n",
    "**Example**\n",
    "\n",
    "Check if a number is even."
   ]
  },
  {
   "cell_type": "code",
   "execution_count": null,
   "id": "76719560",
   "metadata": {},
   "outputs": [],
   "source": [
    "# Example: check if a number is even\n",
    "def is_even(n):\n",
    "    if n % 2 == 0:\n",
    "        return True\n",
    "    return False\n",
    "\n",
    "print(is_even(10))  # True\n",
    "print(is_even(7))   # False"
   ]
  },
  {
   "cell_type": "markdown",
   "id": "40c928a6",
   "metadata": {},
   "source": [
    "**5.1 Coding Challenge**\n",
    "\n",
    "Create a function `is_divisible(n, d)` that returns `True` if `n` is divisible by `d`, otherwise `False`. Test it."
   ]
  },
  {
   "cell_type": "code",
   "execution_count": null,
   "id": "f1a3eabc",
   "metadata": {},
   "outputs": [],
   "source": [
    "# Your turn: define is_divisible(n, d)\n"
   ]
  },
  {
   "cell_type": "markdown",
   "id": "35fa6ad4",
   "metadata": {},
   "source": [
    "## 6) Bonus (Optional)\n",
    "**Example**\n",
    "\n",
    "Pick a random greeting from a list."
   ]
  },
  {
   "cell_type": "code",
   "execution_count": null,
   "id": "86058739",
   "metadata": {},
   "outputs": [],
   "source": [
    "# Example: random greeting\n",
    "import random\n",
    "\n",
    "def random_salam():\n",
    "    greetings = [\"Salam\", \"Assalamu Alaikum\", \"Marhaban\", \"Ahlan!\"]\n",
    "    return random.choice(greetings)\n",
    "\n",
    "print(random_salam())"
   ]
  },
  {
   "cell_type": "markdown",
   "id": "1bfc6796",
   "metadata": {},
   "source": [
    "**6.1 Coding Challenge**\n",
    "\n",
    "Create a function `random_color()` that returns a random color from a list like `['red', 'green', 'blue', 'yellow']`. Print the result 3 times."
   ]
  },
  {
   "cell_type": "code",
   "execution_count": null,
   "id": "b671314b",
   "metadata": {},
   "outputs": [],
   "source": [
    "# Your turn: define random_color()\n"
   ]
  },
  {
   "cell_type": "markdown",
   "id": "5d85695b",
   "metadata": {},
   "source": [
    "## End of Class — Quiz (5 Questions)\n",
    "Answer in the code cells below.\n",
    "\n",
    "1) **Predict the output**:\n",
    "```python\n",
    "def f(x):\n",
    "    return x + 2\n",
    "print(f(3))\n",
    "```\n",
    "___________\n",
    "2) **Fix the bug** — this should return the area of a rectangle:\n",
    "```python\n",
    "def area(w, h):\n",
    "    return w + h \n",
    "```\n",
    "___________\n",
    "3) **Write a function** `double(n)` that returns `n * 2` and test it with 11.\n",
    "___________\n",
    "4) **Predict the output**:\n",
    "```python\n",
    "def say(name):\n",
    "    print(\"Salam,\", name)\n",
    "\n",
    "x = say(\"Omar\")\n",
    "print(x)\n",
    "```\n",
    "___________\n",
    "5) **Write a function** `max_of_two(a, b)` that returns the bigger number."
   ]
  },
  {
   "cell_type": "code",
   "execution_count": null,
   "id": "28bca6b2",
   "metadata": {},
   "outputs": [],
   "source": [
    "# Quiz 1: Predict the output\n"
   ]
  },
  {
   "cell_type": "markdown",
   "id": "087d33dc",
   "metadata": {},
   "source": [
    "# Ants — Lesson 3: CSS (Part 2: Position & Layout)\n",
    "\n",
    "*Simple format: Concept → Example → Coding Challenge*"
   ]
  },
  {
   "cell_type": "markdown",
   "id": "b6092ce0",
   "metadata": {},
   "source": [
    "## 1. Block vs Inline\n",
    "**Block** starts on a new line (takes full width). **Inline** stays in the same line (like words)."
   ]
  },
  {
   "cell_type": "code",
   "execution_count": null,
   "id": "239ece6a",
   "metadata": {},
   "outputs": [
    {
     "data": {
      "text/html": [
       "<div style=\"background:lightblue;color:black;\">I am a DIV (block)</div>\n",
       "<span style=\"background:lightgreen;color:black;\">I am a SPAN (inline)</span>\n",
       "<span style=\"background:lightpink;color:black;\">Me too!</span>\n"
      ],
      "text/plain": [
       "<IPython.core.display.HTML object>"
      ]
     },
     "metadata": {},
     "output_type": "display_data"
    }
   ],
   "source": [
    "%%html\n",
    "<div style=\"background:lightblue;color:black;\">I am a DIV (block)</div>\n",
    "<span style=\"background:lightgreen;color:black;\">I am a SPAN (inline)</span>\n",
    "<span style=\"background:lightpink;color:black;\">Me too!</span>"
   ]
  },
  {
   "cell_type": "markdown",
   "id": "4f690359",
   "metadata": {},
   "source": [
    "### 1.1 Coding Challenge\n",
    "- Make the DIV background **yellow**.\n",
    "- Make the SPANs background **red**."
   ]
  },
  {
   "cell_type": "code",
   "execution_count": null,
   "id": "bbf61f51",
   "metadata": {},
   "outputs": [
    {
     "data": {
      "text/html": [
       "<div style=\"background:lightblue;color:black;\">I am a DIV (block)</div>\n",
       "<span style=\"background:lightgreen;color:black;\">I am a SPAN (inline)</span>\n",
       "<span style=\"background:lightpink;color:black;\">Me too!</span>\n"
      ],
      "text/plain": [
       "<IPython.core.display.HTML object>"
      ]
     },
     "metadata": {},
     "output_type": "display_data"
    }
   ],
   "source": [
    "%%html\n",
    "<div style=\"background:lightblue;color:black;\">I am a DIV (block)</div>\n",
    "<span style=\"background:lightgreen;color:black;\">I am a SPAN (inline)</span>\n",
    "<span style=\"background:lightpink;color:black;\">Me too!</span>"
   ]
  },
  {
   "cell_type": "markdown",
   "id": "67c9c0fc",
   "metadata": {},
   "source": [
    "## 2. `display`\n",
    "`display` controls how things show: `block`, `inline`, `inline-block`, `none` (hides it)."
   ]
  },
  {
   "cell_type": "code",
   "execution_count": null,
   "id": "de6ce3e5",
   "metadata": {},
   "outputs": [
    {
     "data": {
      "text/html": [
       "<p style=\"display:inline; background:lightblue;\">I am inline</p>\n",
       "<p style=\"display:block; background:lightgreen;\">I am block</p>\n"
      ],
      "text/plain": [
       "<IPython.core.display.HTML object>"
      ]
     },
     "metadata": {},
     "output_type": "display_data"
    }
   ],
   "source": [
    "%%html\n",
    "<p style=\"display:inline; background:lightblue;\">I am inline</p>\n",
    "<p style=\"display:block; background:lightgreen;\">I am block</p>"
   ]
  },
  {
   "cell_type": "markdown",
   "id": "a30edd80",
   "metadata": {},
   "source": [
    "### 2.1 Coding Challenge\n",
    "- Change the **first** `<p>` to `display:block` and see what happens.\n",
    "- Change the **second** `<p>` to `display:inline-block` and give it `width:200px`."
   ]
  },
  {
   "cell_type": "markdown",
   "id": "42db3e2b",
   "metadata": {},
   "source": [
    "## 3. `position`\n",
    "- **relative**: move a little from its normal spot.\n",
    "- **absolute**: placed using top/left inside the nearest positioned parent."
   ]
  },
  {
   "cell_type": "code",
   "execution_count": null,
   "id": "31bec43d",
   "metadata": {},
   "outputs": [
    {
     "data": {
      "text/html": [
       "<div style=\"position:relative; border:2px dashed #ccc; padding:20px; height:120px;\">\n",
       "  <div style=\"position:relative; top:10px; left:20px; background:lightcoral; width:150px;\">Relative Box</div>\n",
       "  <div style=\"position:absolute; top:10px; right:10px; background:lightyellow; padding:6px;\">Absolute Box</div>\n",
       "</div>\n"
      ],
      "text/plain": [
       "<IPython.core.display.HTML object>"
      ]
     },
     "metadata": {},
     "output_type": "display_data"
    }
   ],
   "source": [
    "%%html\n",
    "<div style=\"position:relative; border:2px dashed #ccc; padding:20px; height:120px;\">\n",
    "  <div style=\"position:relative; top:10px; left:20px; background:lightcoral; width:150px;\">Relative Box</div>\n",
    "  <div style=\"position:absolute; top:10px; right:10px; background:lightyellow; padding:6px;\">Absolute Box</div>\n",
    "</div>"
   ]
  },
  {
   "cell_type": "markdown",
   "id": "7e4fb6bf",
   "metadata": {},
   "source": [
    "### 3.1 Coding Challenge\n",
    "- Move the **Relative Box** to `top:30px; left:60px;`.\n",
    "- Move the **Absolute Box** to the **bottom-left** (`bottom:10px; left:10px;`)."
   ]
  },
  {
   "cell_type": "markdown",
   "id": "bd5a00e0",
   "metadata": {},
   "source": [
    "## 4. Flexbox\n",
    "Flexbox arranges items in a row or column."
   ]
  },
  {
   "cell_type": "code",
   "execution_count": null,
   "id": "3cc19607",
   "metadata": {},
   "outputs": [
    {
     "data": {
      "text/html": [
       "<div style=\"display:flex; gap:100px;\">\n",
       "  <div style=\"background:lightblue; padding:10px; width:100px; color:black\">One</div>\n",
       "  <div style=\"background:lightgreen; padding:10px; width:100px; color:black\">Two</div>\n",
       "  <div style=\"background:lightpink; padding:10px; width:100px; color:black\">Three</div>\n",
       "</div>\n"
      ],
      "text/plain": [
       "<IPython.core.display.HTML object>"
      ]
     },
     "metadata": {},
     "output_type": "display_data"
    }
   ],
   "source": [
    "%%html\n",
    "<div style=\"display:flex; gap:100px;\">\n",
    "  <div style=\"background:lightblue; padding:10px; width:100px; color:black\">One</div>\n",
    "  <div style=\"background:lightgreen; padding:10px; width:100px; color:black\">Two</div>\n",
    "  <div style=\"background:lightpink; padding:10px; width:100px; color:black\">Three</div>\n",
    "</div>"
   ]
  },
  {
   "cell_type": "markdown",
   "id": "929f70a7",
   "metadata": {},
   "source": [
    "### 4.1 Coding Challenge\n",
    "- Add a **fourth box** that says `Four`.\n",
    "- Center all boxes using `justify-content:center`."
   ]
  },
  {
   "cell_type": "markdown",
   "id": "b1d1a974",
   "metadata": {},
   "source": [
    "## 5. Grid\n",
    "Grid arranges items in rows and columns."
   ]
  },
  {
   "cell_type": "code",
   "execution_count": null,
   "id": "f117d790",
   "metadata": {},
   "outputs": [
    {
     "data": {
      "text/html": [
       "<div style=\"display:grid; grid-template-columns: 1fr 1fr; gap:10px;\">\n",
       "  <div style=\"background:lightblue; padding:10px; text-align:center; color:black\">A</div>\n",
       "  <div style=\"background:lightgreen; padding:10px; text-align:center; color:black\">B</div>\n",
       "  <div style=\"background:lightpink; padding:10px; text-align:center; color:black\">C</div>\n",
       "  <div style=\"background:lightyellow; padding:10px; text-align:center; color:black\">D</div>\n",
       "</div>\n"
      ],
      "text/plain": [
       "<IPython.core.display.HTML object>"
      ]
     },
     "metadata": {},
     "output_type": "display_data"
    }
   ],
   "source": [
    "%%html\n",
    "<div style=\"display:grid; grid-template-columns: 1fr 1fr; gap:10px;\">\n",
    "  <div style=\"background:lightblue; padding:10px; text-align:center; color:black\">A</div>\n",
    "  <div style=\"background:lightgreen; padding:10px; text-align:center; color:black\">B</div>\n",
    "  <div style=\"background:lightpink; padding:10px; text-align:center; color:black\">C</div>\n",
    "  <div style=\"background:lightyellow; padding:10px; text-align:center; color:black\">D</div>\n",
    "</div>"
   ]
  },
  {
   "cell_type": "markdown",
   "id": "3655cad2",
   "metadata": {},
   "source": [
    "### 5.1 Coding Challenge\n",
    "- Change the grid to **3 columns** (`grid-template-columns: 1fr 1fr 1fr`).\n",
    "- Add one more box `E`."
   ]
  },
  {
   "cell_type": "markdown",
   "id": "95a61c20",
   "metadata": {},
   "source": [
    "# 6. Homework\n",
    "\n",
    "Build a web page about your favorite animal and style it to look like the example.\n",
    "\n",
    "# make the image smaller\n",
    "\n",
    "<img src=\"images/panda.png\" width=\"200\" />\n",
    "\n",
    "### Step 1 – Skeleton HTML\n",
    "\n",
    "Copy this into your file:\n",
    "\n",
    "```\n",
    "<html lang=\"en\">\n",
    "<body>\n",
    "\n",
    "  <h1>Panda</h1>\n",
    "\n",
    "  <img src=\"https://via.placeholder.com/250\" alt=\"Animal picture\">\n",
    "\n",
    "  <p>This animal is very special because ...</p>\n",
    "\n",
    "  <div class=\"facts\">\n",
    "    <div class=\"box\">Habitat: Forest</div>\n",
    "    <div class=\"box\">Diet: Bamboo</div>\n",
    "    <div class=\"box\">Fun Fact: Loves to climb</div>\n",
    "  </div>\n",
    "\n",
    "</body>\n",
    "</html>\n",
    "```\n",
    "\n",
    "### Step 2 – Add CSS\n",
    "\n",
    "- Set light gray background and center text.\n",
    "- Make the heading green.\n",
    "- Make the image round with border-radius.\n",
    "- Use Flexbox to place the 3 fact boxes in one row.\n",
    "- Give each box a light yellow background, border, and some padding."
   ]
  },
  {
   "cell_type": "code",
   "execution_count": null,
   "id": "6a0c13bf",
   "metadata": {},
   "outputs": [
    {
     "data": {
      "text/html": [
       "<html lang=\"en\">\n",
       "<body>\n",
       "\n",
       "  <h1>Panda</h1>\n",
       "\n",
       "  <img src=\"https://via.placeholder.com/250\" alt=\"Animal picture\">\n",
       "\n",
       "  <p>This animal is very special because ...</p>\n",
       "\n",
       "  <div class=\"facts\">\n",
       "    <div class=\"box\">Habitat: Forest</div>\n",
       "    <div class=\"box\">Diet: Bamboo</div>\n",
       "    <div class=\"box\">Fun Fact: Loves to climb</div>\n",
       "  </div>\n",
       "\n",
       "</body>\n",
       "</html>\n"
      ],
      "text/plain": [
       "<IPython.core.display.HTML object>"
      ]
     },
     "metadata": {},
     "output_type": "display_data"
    }
   ],
   "source": [
    "%%html\n",
    "<html lang=\"en\">\n",
    "<body>\n",
    "\n",
    "  <h1>Panda</h1>\n",
    "\n",
    "  <img src=\"https://via.placeholder.com/250\" alt=\"Animal picture\">\n",
    "\n",
    "  <p>This animal is very special because ...</p>\n",
    "\n",
    "  <div class=\"facts\">\n",
    "    <div class=\"box\">Habitat: Forest</div>\n",
    "    <div class=\"box\">Diet: Bamboo</div>\n",
    "    <div class=\"box\">Fun Fact: Loves to climb</div>\n",
    "  </div>\n",
    "\n",
    "</body>\n",
    "</html>"
   ]
  },
  {
   "cell_type": "markdown",
   "id": "335bb29a",
   "metadata": {},
   "source": []
  },
  {
   "cell_type": "code",
   "execution_count": null,
   "id": "b3eb8873",
   "metadata": {},
   "outputs": [],
   "source": [
    "# Quiz 2: Fix the bug (already shown in prompt). Re-type the correct function here and test it.\n"
   ]
  },
  {
   "cell_type": "code",
   "execution_count": null,
   "id": "98a5a6c3",
   "metadata": {},
   "outputs": [],
   "source": [
    "# Quiz 3: Write double(n) and test with 11\n"
   ]
  },
  {
   "cell_type": "code",
   "execution_count": null,
   "id": "b581e08a",
   "metadata": {},
   "outputs": [],
   "source": [
    "# Quiz 4: Predict the output explanation here (as a comment) and re-run the code to check\n"
   ]
  },
  {
   "cell_type": "code",
   "execution_count": null,
   "id": "deb1953b",
   "metadata": {},
   "outputs": [],
   "source": [
    "# Quiz 5: Write max_of_two(a, b)\n"
   ]
  }
 ],
 "metadata": {
  "language_info": {
   "name": "python"
  }
 },
 "nbformat": 4,
 "nbformat_minor": 5
}
